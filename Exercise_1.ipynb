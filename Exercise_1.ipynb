{
 "cells": [
  {
   "cell_type": "markdown",
   "metadata": {},
   "source": [
    "# Artificial Intelligence (winter 2024/2025)\n",
    "\n",
    "## Teachers:\n",
    "\n",
    "* Dr Kamil Smolak; email: <kamil.smolak@upwr.edu.pl> (Lectures)\n",
    "* Dr Saeid Haji-Aghajany; email: <saeid.haji-aghajany@upwr.edu.pl> (Exercises) "
   ]
  },
  {
   "cell_type": "markdown",
   "metadata": {},
   "source": [
    "# Classes:\n",
    "\n",
    "All class materials, lectures and exercises are available online in the form of a Jupyter Book (smolakk.github.io/ArtificialIntelligence2025)\n",
    "\n",
    "The materials are interactive Python notebooks for demonstration and practice of machine learning skills.\n",
    "\n",
    "The materials will be available online *before* the exercises, allowing the class to be delivered in a _reverse format_, in which students read the materials *before* the exercises. This will allow us to place more emphasis on practice in the classroom.\n"
   ]
  },
  {
   "cell_type": "markdown",
   "metadata": {},
   "source": [
    "# Subjects:\n",
    "<span style=\"color: yellow; font-size: 20px;\">Three parts:</span>  \n",
    "\n",
    "\n"
   ]
  },
  {
   "cell_type": "markdown",
   "metadata": {},
   "source": [
    "<img src='img/Subjects.jpg' width=1300/>\n"
   ]
  },
  {
   "cell_type": "markdown",
   "metadata": {},
   "source": [
    "# Why We Use Python for Machine Learning Programming:\n",
    "<span style=\"color: yellow; font-size: 20px;\"> Simplicity and Readability</span>  \n",
    "\n",
    "<span style=\"color: white; font-size: 15px;\"> - Python's clean syntax makes code easy to read and write, enhancing productivity and collaboration among developers</span>  \n",
    "\n",
    "<span style=\"color: yellow; font-size: 20px;\"> Extensive libraries and frameworks</span>\n",
    "\n",
    "<span style=\"color: white; font-size: 15px;\"> - With libraries like TensorFlow, Scikit-learn, and Pandas, Python provides powerful tools for machine learning and data analysis, simplifying complex tasks<span>  \n",
    "\n",
    "<span style=\"color: yellow; font-size: 20px;\"> Cross-platform compatibility</span>  \n",
    "\n",
    "<span style=\"color: white; font-size: 15px;\"> - Python runs seamlessly on Windows, macOS, and Linux, allowing developers to work across different operating systems without issues.  \n",
    "\n",
    "<span style=\"color: yellow; font-size: 20px;\"> Scaling and Performance</span> \n",
    "\n",
    "<span style=\"color: white; font-size: 15px;\"> - Python supports efficient scaling through frameworks like Dask and TensorFlow, enabling the handling of large datasets and complex computations effectively. </span>  \n",
    "\n",
    "\n",
    "\n",
    "\n"
   ]
  },
  {
   "cell_type": "markdown",
   "metadata": {},
   "source": [
    "# Starting point:\n",
    "<span style=\"color: cyan; font-size: 20px;\"> Download and installation:</span>  \n",
    "- https://www.python.org/\n",
    "- Run installer (For Windows, make sure to check the box that says \"Add Python to PATH\")\n",
    "- Verify installation in cmd (python --version)\n",
    "\n",
    "<span style=\"color: cyan; font-size: 20px;\"> Selecting a Platform:</span> \n",
    "- PyCharm \n",
    "- VS Code\n",
    "- Spyder\n",
    "- Atom\n",
    "- Thonny\n",
    "- Google Colab\n",
    "- ...\n",
    "\n",
    "<span style=\"color: cyan; font-size: 20px;\"> Download VS Code and installation:</span>  \n",
    "- https://code.visualstudio.com/download\n",
    "- Install the Python extension in VS Code.\n",
    "- Install the Jupyter extension in VS Code.\n",
    "- Create a new Jupyter notebook through the command palette.\n",
    "- Select the Python interpreter."
   ]
  },
  {
   "cell_type": "markdown",
   "metadata": {},
   "source": [
    "<span style=\"color: yellow; font-size: 20px;\"> Basic Syntax</span>"
   ]
  },
  {
   "cell_type": "code",
   "execution_count": null,
   "metadata": {},
   "outputs": [],
   "source": [
    "\n",
    "print('Hello Artificial Intelligence !')  # This will be executed first\n",
    "print(5 + 10)\n",
    "y = 20 * 5\n",
    "z = 20 / 5\n",
    "\n",
    "# Printing the result\n",
    "print(y)\n",
    "print(z)\n",
    "print(\"Total:\", y+z)\n",
    "\n",
    "# Asking for user input\n",
    "user_name = input(\"Please enter your name: \")\n",
    "print(\"Hello, \" + user_name + \"!\")\n",
    "\n",
    "# Asking for numeric input\n",
    "user_age = input(\"Please enter your age: \")\n",
    "user_age = int(user_age)  # Convert string input to an integer\n",
    "print(\"You are \" + str(user_age) + \" years old!\")\n",
    "\n",
    "# Asking for multiple inputs\n",
    "user_name = input(\"Please enter your name: \")\n",
    "favorite_color = input(\"What is your favorite color? \")\n",
    "user_age = input(\"Please enter your age: \")\n",
    "user_age = int(user_age)  # Convert string input to an integer\n",
    "\n",
    "print(f\"Your name is {user_name}, Your favorite color is {favorite_color}, and you are {user_age} years old!\")\n"
   ]
  },
  {
   "cell_type": "markdown",
   "metadata": {},
   "source": [
    "<span style=\"color: yellow; font-size: 20px;\"> Variables</span>"
   ]
  },
  {
   "cell_type": "code",
   "execution_count": null,
   "metadata": {},
   "outputs": [],
   "source": [
    "# Integer variable (whole number)\n",
    "age = 25\n",
    "print(\"Age:\", age)  \n",
    "\n",
    "# Float variable (decimal number)\n",
    "height = 5.9\n",
    "print(\"Height:\", height)  \n",
    "\n",
    "# String variable (text)\n",
    "name = \"Alice\"\n",
    "print(\"Name:\", name) \n",
    "\n",
    "# Boolean variable (True or False)\n",
    "is_student = True\n",
    "print(\"Is Student:\", is_student)  \n",
    "\n",
    "# List variable (ordered, mutable collection)\n",
    "fruits = [\"apple\", \"banana\", \"cherry\"]\n",
    "print(\"Fruits:\", fruits)  \n",
    "\n",
    "# Tuple variable (ordered, immutable collection)\n",
    "coordinates = (10.0, 20.0)\n",
    "print(\"Coordinates:\", coordinates)  \n",
    "\n",
    "# Dictionary variable (key-value pairs)\n",
    "person = {\"name\": \"Alice\", \"age\": 25, \"is_student\": False}\n",
    "print(\"Person Info:\", person)  \n",
    "\n",
    "# Modifying variables\n",
    "age += 1  \n",
    "fruits.append(\"orange\")  \n",
    "\n",
    "print(\"Updated Age:\", age)  # Output: 26\n",
    "print(\"Updated Fruits:\", fruits) \n",
    "\n",
    "# Accessing dictionary values\n",
    "print(\"\\nPerson's Name:\", person[\"name\"])  \n",
    "\n",
    "# Combining different types of variables in a string\n",
    "greeting = f\"Hello, my name is {name}. I am {age} years old and I am {height} feet tall.\"\n",
    "print(\"\\nGreeting:\", greeting)\n"
   ]
  },
  {
   "cell_type": "markdown",
   "metadata": {},
   "source": [
    "<span style=\"color: yellow; font-size: 20px;\"> Conditions</span>"
   ]
  },
  {
   "cell_type": "code",
   "execution_count": 16,
   "metadata": {},
   "outputs": [
    {
     "name": "stdout",
     "output_type": "stream",
     "text": [
      "x is equal to 7\n",
      "x is not equal to 10\n",
      "x is greater than 5 and less than 10\n",
      "x is between 6 and 7\n",
      "x is not equal to 10\n"
     ]
    }
   ],
   "source": [
    "x = 7\n",
    "\n",
    "# Check if x is equal to 7\n",
    "if x == 7:\n",
    "    print(\"x is equal to 7\")\n",
    "else:\n",
    "    # This block executes if the above condition (x == 7) is false\n",
    "    print(\"x is not equal to 7\")\n",
    "\n",
    "# Check if x is not equal to 10\n",
    "if x != 10:\n",
    "    print(\"x is not equal to 10\")\n",
    "else:\n",
    "    # This block executes if the above condition (x != 10) is false\n",
    "    print(\"x is equal to 10\")\n",
    "\n",
    "# Check if x is between 5 and 10\n",
    "if 5 < x < 10:  # Simplified condition\n",
    "    print(\"x is greater than 5 and less than 10\")\n",
    "else:\n",
    "    # This block executes if the above condition (5 < x < 10) is false\n",
    "    print(\"x is not between 5 and 10\")\n",
    "\n",
    "# Logical OR with elif\n",
    "if x <= 5:\n",
    "    # This block executes if x is less than or equal to 5\n",
    "    print(\"x is less than or equal to 5\")\n",
    "elif x >= 8:\n",
    "    # This block executes if the first condition (x <= 5) is false\n",
    "    # and this condition (x >= 8) is true\n",
    "    print(\"x is greater than or equal to 8\")\n",
    "else:\n",
    "    # This block executes if both the previous conditions are false\n",
    "    print(\"x is between 6 and 7\")\n",
    "\n",
    "# Check if x is not equal to 10\n",
    "if not x == 10:\n",
    "    print(\"x is not equal to 10\")\n",
    "else:\n",
    "    print(\"x is equal to 10\")\n",
    "\n"
   ]
  },
  {
   "cell_type": "markdown",
   "metadata": {},
   "source": [
    "<span style=\"color: yellow; font-size: 20px;\"> Loop -> for</span>"
   ]
  },
  {
   "cell_type": "code",
   "execution_count": null,
   "metadata": {},
   "outputs": [],
   "source": [
    "# Basic for loop\n",
    "numbers = [1, 2, 3, 4, 5]\n",
    "for num in numbers:\n",
    "    print(num)"
   ]
  },
  {
   "cell_type": "code",
   "execution_count": null,
   "metadata": {},
   "outputs": [],
   "source": [
    "# Using range()\n",
    "for i in range(5):  # Iterates from 0 to 4\n",
    "    print(\"Iteration:\", i)"
   ]
  },
  {
   "cell_type": "code",
   "execution_count": null,
   "metadata": {},
   "outputs": [],
   "source": [
    "# Multiplication table\n",
    "for i in range(1, 6):  # Outer loop for rows\n",
    "    for j in range(1, 6):  # Inner loop for columns\n",
    "        print(i * j, end=\"\\t\")  # Print product with a tab space\n",
    "    print()  # New line after each row"
   ]
  },
  {
   "cell_type": "code",
   "execution_count": null,
   "metadata": {},
   "outputs": [],
   "source": [
    "# For loop with break and continue\n",
    "for i in range(10):\n",
    "    if i == 5:\n",
    "        continue  # Skip 5\n",
    "    if i == 8:\n",
    "        break  # Exit the loop\n",
    "    print(i)"
   ]
  },
  {
   "cell_type": "markdown",
   "metadata": {},
   "source": [
    "<span style=\"color: yellow; font-size: 20px;\"> Loop -> while</span>"
   ]
  },
  {
   "cell_type": "code",
   "execution_count": null,
   "metadata": {},
   "outputs": [],
   "source": [
    "# Basic while loop\n",
    "count = 5\n",
    "while count > 0:\n",
    "    print(count)\n",
    "    count -= 1  # Decrement count by 1\n",
    "print(\"Blast off!\")"
   ]
  },
  {
   "cell_type": "code",
   "execution_count": null,
   "metadata": {},
   "outputs": [],
   "source": [
    "# User input until valid input\n",
    "user_input = \"\"\n",
    "while user_input.lower() != \"exit\":\n",
    "    user_input = input(\"Type 'exit' to quit: \")\n",
    "    print(\"You entered:\", user_input)"
   ]
  },
  {
   "cell_type": "code",
   "execution_count": null,
   "metadata": {},
   "outputs": [],
   "source": [
    "import random\n",
    "\n",
    "# Number guessing game\n",
    "number_to_guess = random.randint(1, 10)\n",
    "guess = 0\n",
    "\n",
    "while guess != number_to_guess:\n",
    "    guess = int(input(\"Guess a number between 1 and 10: \"))\n",
    "    if guess < number_to_guess:\n",
    "        print(\"Too low! Try again.\")\n",
    "    elif guess > number_to_guess:\n",
    "        print(\"Too high! Try again.\")\n",
    "    else:\n",
    "        print(\"Congratulations! You've guessed the number!\")\n"
   ]
  },
  {
   "cell_type": "markdown",
   "metadata": {},
   "source": [
    "<span style=\"color: yellow; font-size: 20px;\"> Libraries</span>\n",
    "\n",
    "<span style=\"color: cyan; font-size: 20px;\"> Environment</span>  \n",
    "- Create a folder as your environment\n",
    "- Open cmd and go to your environment:   <span style=\"color: yellow; font-size: 15px;\"> cd C:\\path\\to\\your\\directory</span>\n",
    "- Confirm the python version <span style=\"color: yellow; font-size: 15px;\">  python --version   </span>  \n",
    "- Create the environment: <span style=\"color: yellow; font-size: 15px;\"> python -m venv \"name of your environment\" </span>    \n",
    "- Active your environment: <span style=\"color: yellow; font-size: 15px;\">  myenv\\Scripts\\activate   </span>      \n",
    "- Confirm python version\n",
    "\n",
    "<span style=\"color: cyan; font-size: 20px;\"> Installing libraries</span>  \n",
    "- Installing intended libraries: <span style=\"color: yellow; font-size: 15px;\">  pip install \"library_name\"   </span> \n",
    "\n"
   ]
  },
  {
   "cell_type": "code",
   "execution_count": null,
   "metadata": {},
   "outputs": [],
   "source": [
    "\n",
    "import math\n",
    "\n",
    "# Calculate the square root of 16\n",
    "result = math.sqrt(16)\n",
    "print(\"The square root of 16 is:\", result)\n",
    "\n",
    "import random\n",
    "\n",
    "# Generate a random integer between 1 and 10\n",
    "random_number = random.randint(1, 10)\n",
    "print(\"Random number between 1 and 10:\", random_number)\n",
    "\n",
    "import numpy as np\n",
    "\n",
    "# Create a NumPy array\n",
    "array = np.array([1, 2, 3, 4, 5])\n",
    "\n",
    "# Calculate the mean\n",
    "mean_value = np.mean(array)\n",
    "print(\"Mean value of the array:\", mean_value)\n"
   ]
  }
 ],
 "metadata": {
  "kernelspec": {
   "display_name": "base",
   "language": "python",
   "name": "python3"
  },
  "language_info": {
   "codemirror_mode": {
    "name": "ipython",
    "version": 3
   },
   "file_extension": ".py",
   "mimetype": "text/x-python",
   "name": "python",
   "nbconvert_exporter": "python",
   "pygments_lexer": "ipython3",
   "version": "3.11.7"
  }
 },
 "nbformat": 4,
 "nbformat_minor": 2
}
