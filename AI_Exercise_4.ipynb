{
 "cells": [
  {
   "cell_type": "markdown",
   "metadata": {},
   "source": [
    "# Exercise 4: Python Knowledge Repetition "
   ]
  },
  {
   "cell_type": "markdown",
   "metadata": {},
   "source": [
    "## Data structure\n",
    "\n",
    "<img src='img/data_str.png' width=500/>"
   ]
  },
  {
   "cell_type": "markdown",
   "metadata": {},
   "source": [
    "### Key Concepts of Data Structures in Python\n",
    "\n",
    "<span style=\"color: orange; font-size: 18px;\">Efficiency:</span> \n",
    "Data structures are optimized for different tasks, allowing you to efficiently access, insert, delete, or modify elements.\n",
    "\n",
    "<span style=\"color: orange; font-size: 18px;\">Organization:</span> \n",
    "They help to organize data logically for processing and analysis.\n",
    "\n",
    "\n",
    "<span style=\"color: orange; font-size: 18px;\">Manipulation:</span> \n",
    "Data structures allow manipulation of data using various operations (e.g., sorting, indexing).\n",
    "\n",
    "### Primitive Data Structures\n",
    "Primitive data structures are the basic building blocks for data manipulation and are typically provided by the programming language itself (int, float, str, and bool).\n",
    "\n",
    "### Non-Primitive Data Structures\n",
    "Non-primitive data structures are more complex and are built using primitive data types. They can store collections of data and allow for more sophisticated operations. \n",
    "\n",
    "#### Built-in Data Structures\n",
    "##### Lists\n",
    "<span style=\"color: orange; font-size: 18px;\">A list is an ordered, mutable collection of items. Lists can contain elements of different data types and can be modified (i.e., elements can be added, removed, or changed).</span> \n"
   ]
  },
  {
   "cell_type": "code",
   "execution_count": null,
   "metadata": {},
   "outputs": [],
   "source": [
    "# Creating a list\n",
    "fruits = [\"apple\", \"banana\", \"cherry\"]\n",
    "\n",
    "# Accessing elements\n",
    "print(fruits[0])  # Output: \"apple\"\n",
    "\n",
    "# Modifying a list\n",
    "fruits.append(\"orange\")\n",
    "print(fruits)  # Output: [\"apple\", \"banana\", \"cherry\", \"orange\"]\n",
    "\n",
    "# Removing an item\n",
    "fruits.remove(\"banana\")\n",
    "print(fruits)  # Output: [\"apple\", \"cherry\", \"orange\"]"
   ]
  },
  {
   "cell_type": "markdown",
   "metadata": {},
   "source": [
    "##### Tuples\n",
    "<span style=\"color: orange; font-size: 18px;\">Tuples are immutable, ordered collections. Once created, elements cannot be modified, making tuples useful for fixed data collections.</span> "
   ]
  },
  {
   "cell_type": "code",
   "execution_count": null,
   "metadata": {},
   "outputs": [],
   "source": [
    "# Creating a tuple\n",
    "person = (\"John\", 25, \"Engineer\")\n",
    "\n",
    "# Accessing elements\n",
    "print(person[0])  # Output: \"John\"\n",
    "\n",
    "# Tuples are immutable\n",
    "#person[1] = 30  # This would raise an error"
   ]
  },
  {
   "cell_type": "markdown",
   "metadata": {},
   "source": [
    "##### Dictionaries\n",
    "<span style=\"color: orange; font-size: 18px;\">Dictionaries are mutable, unordered collections of key-value pairs. Each key must be unique, and it maps to a corresponding value.</span> "
   ]
  },
  {
   "cell_type": "code",
   "execution_count": null,
   "metadata": {},
   "outputs": [],
   "source": [
    "# Creating a dictionary\n",
    "student = {\"name\": \"Alice\", \"age\": 22, \"major\": \"Physics\"}\n",
    "\n",
    "# Accessing values\n",
    "print(student[\"name\"])  # Output: \"Alice\"\n",
    "\n",
    "# Adding or modifying a value\n",
    "student[\"age\"] = 23\n",
    "print(student)  # Output: {\"name\": \"Alice\", \"age\": 23, \"major\": \"Physics\"}\n",
    "\n",
    "# Removing an item\n",
    "student.pop(\"major\")\n",
    "print(student)  # Output: {\"name\": \"Alice\", \"age\": 23}"
   ]
  },
  {
   "cell_type": "markdown",
   "metadata": {},
   "source": [
    "##### Sets\n",
    "<span style=\"color: orange; font-size: 18px;\">Sets are unordered collections of unique elements. Sets are useful for membership testing and eliminating duplicate values.</span> "
   ]
  },
  {
   "cell_type": "code",
   "execution_count": null,
   "metadata": {},
   "outputs": [],
   "source": [
    "# Creating a set\n",
    "numbers = {1, 2, 3, 3, 4}\n",
    "print(numbers)  # Output: {1, 2, 3, 4}\n",
    "\n",
    "# Adding an element\n",
    "numbers.add(5)\n",
    "print(numbers)  # Output: {1, 2, 3, 4, 5}\n",
    "\n",
    "# Set operations: union, intersection\n",
    "odd = {1, 3, 5, 7}\n",
    "even = {2, 4, 6, 8}\n",
    "print(odd | even)  # Output: {1, 2, 3, 4, 5, 6, 7, 8}  # Union\n",
    "print(odd & even)  # Output: set()  # Intersection"
   ]
  },
  {
   "cell_type": "markdown",
   "metadata": {},
   "source": [
    "#### User Defined Data Structures\n",
    "##### Stacks\n",
    "<span style=\"color: orange; font-size: 18px;\">A stack is a LIFO (Last In First Out) data structure. Elements are added and removed from the top.</span> "
   ]
  },
  {
   "cell_type": "code",
   "execution_count": null,
   "metadata": {},
   "outputs": [],
   "source": [
    "stack = []\n",
    "\n",
    "# Push operation\n",
    "stack.append(10)\n",
    "stack.append(20)\n",
    "stack.append(30)\n",
    "print(stack)  # Output: [10, 20, 30]\n",
    "\n",
    "# Pop operation\n",
    "stack.pop()\n",
    "print(stack)  # Output: [10, 20]"
   ]
  },
  {
   "cell_type": "markdown",
   "metadata": {},
   "source": [
    "##### Queues\n",
    "<span style=\"color: orange; font-size: 18px;\">A queue is a FIFO (First In First Out) data structure. Elements are added at the rear and removed from the front.</span> "
   ]
  },
  {
   "cell_type": "code",
   "execution_count": null,
   "metadata": {},
   "outputs": [],
   "source": [
    "from collections import deque\n",
    "\n",
    "queue = deque()\n",
    "\n",
    "# Enqueue operation\n",
    "queue.append(\"Alice\")\n",
    "queue.append(\"Bob\")\n",
    "print(queue)  # Output: deque(['Alice', 'Bob'])\n",
    "\n",
    "# Dequeue operation\n",
    "queue.popleft()\n",
    "print(queue)  # Output: deque(['Bob'])\n"
   ]
  },
  {
   "cell_type": "markdown",
   "metadata": {},
   "source": [
    "##### Trees\n",
    "<span style=\"color: orange; font-size: 18px;\">A tree is a hierarchical data structure with a root node and child nodes. A binary tree is a common type where each node has at most two children.</span> "
   ]
  },
  {
   "cell_type": "code",
   "execution_count": null,
   "metadata": {},
   "outputs": [],
   "source": [
    "# Tree representation as a nested dictionary\n",
    "tree = {\n",
    "    'A': {\n",
    "        'B': {\n",
    "            'D': {},\n",
    "            'E': {}\n",
    "        },\n",
    "        'C': {\n",
    "            'F': {},\n",
    "            'G': {}\n",
    "        }\n",
    "    }\n",
    "}\n",
    "\n",
    "# Function to traverse the tree (Preorder traversal)\n",
    "def traverse_tree(node):\n",
    "    if not node:\n",
    "        return\n",
    "    print(node)  # Print the current node\n",
    "    for child in tree.get(node, {}):\n",
    "        traverse_tree(child)\n",
    "\n",
    "# Start traversal from root node 'A'\n",
    "traverse_tree('A')"
   ]
  },
  {
   "cell_type": "markdown",
   "metadata": {},
   "source": [
    "##### Graphs\n",
    "<span style=\"color: orange; font-size: 18px;\">A graph consists of nodes (vertices) and edges. It can be used to model relationships, such as social networks, paths, etc.</span> "
   ]
  },
  {
   "cell_type": "code",
   "execution_count": null,
   "metadata": {},
   "outputs": [],
   "source": [
    "# Graph representation as an adjacency list\n",
    "graph = {\n",
    "    'A': ['B', 'C'],\n",
    "    'B': ['A', 'D', 'E'],\n",
    "    'C': ['A', 'F'],\n",
    "    'D': ['B'],\n",
    "    'E': ['B', 'F'],\n",
    "    'F': ['C', 'E']\n",
    "}\n",
    "\n",
    "# Depth First Search (DFS) function\n",
    "def dfs(graph, node, visited=None):\n",
    "    if visited is None:\n",
    "        visited = set()\n",
    "    if node not in visited:\n",
    "        print(node, end=\" \")\n",
    "        visited.add(node)\n",
    "        for neighbor in graph[node]:\n",
    "            dfs(graph, neighbor, visited)\n",
    "\n",
    "# Perform DFS starting from node 'A'\n",
    "dfs(graph, 'A')\n",
    "\n",
    "# Output: A B D E F C"
   ]
  },
  {
   "cell_type": "markdown",
   "metadata": {},
   "source": [
    "## What is Object-Oriented Programming (OOP)?\n",
    "Object-oriented programming is a programming paradigm based on the concept of \"objects,\" which can contain data and code. OOP helps organize software design in a way that is more manageable and understandable. \n",
    "\n",
    "## The main principles of OOP\n",
    "<span style=\"color: orange; font-size: 18px;\">Encapsulation:</span> Bundling the data (attributes) and methods (functions) that operate on the data into a single unit called a class.\n",
    "\n",
    "<span style=\"color: orange; font-size: 18px;\">Abstraction:</span> Hiding the complex implementation details and showing only the necessary features of an object.\n",
    "\n",
    "<span style=\"color: orange; font-size: 18px;\">Inheritance:</span> Creating a new class based on an existing class, allowing code reuse and the creation of a hierarchical relationship.\n",
    "\n",
    "<span style=\"color: orange; font-size: 18px;\">Polymorphism:</span> Allowing different classes to be treated as instances of the same class through a common interface, enabling methods to be used interchangeably.\n",
    "\n",
    "\n",
    "## Class\n",
    "A class is a user-defined blueprint or prototype from which objects are created. It allows grouping data (attributes) and methods (functions) into one logical unit."
   ]
  },
  {
   "cell_type": "code",
   "execution_count": null,
   "metadata": {},
   "outputs": [],
   "source": [
    "class Dog:\n",
    "    # Constructor method to initialize the object's attributes\n",
    "    def __init__(self, name, age):\n",
    "        self.name = name  # Attribute for the dog's name\n",
    "        self.age = age    # Attribute for the dog's age\n",
    "\n",
    "    # Method to make the dog bark\n",
    "    def bark(self):\n",
    "        return f\"{self.name} says Woof!\"\n",
    "\n",
    "    # Method to get the dog's age in human years\n",
    "    def age_in_human_years(self):\n",
    "        return self.age * 7"
   ]
  },
  {
   "cell_type": "markdown",
   "metadata": {},
   "source": [
    "## Creating Objects\n",
    "An object is an instance of a class. You create an object by calling the class as if it were a function."
   ]
  },
  {
   "cell_type": "code",
   "execution_count": null,
   "metadata": {},
   "outputs": [],
   "source": [
    "# Create instances of the Dog class\n",
    "dog1 = Dog(\"Buddy\", 3)\n",
    "dog2 = Dog(\"Max\", 5)\n",
    "\n",
    "# Accessing attributes and methods\n",
    "print(dog1.bark())  # Output: Buddy says Woof!\n",
    "print(dog2.age_in_human_years())  # Output: 35"
   ]
  },
  {
   "cell_type": "markdown",
   "metadata": {},
   "source": [
    "<img src='img/classandobj.png' width=600/>"
   ]
  },
  {
   "cell_type": "markdown",
   "metadata": {},
   "source": [
    "## Specifications of OOP\n",
    "\n",
    "### Encapsulation\n",
    "Encapsulation is one of the core principles of object-oriented programming, which involves restricting access to certain details of an object and exposing only the necessary parts through methods. This allows for better data protection and helps to keep the internal workings of a class hidden from the outside."
   ]
  },
  {
   "cell_type": "code",
   "execution_count": null,
   "metadata": {},
   "outputs": [],
   "source": [
    "class BankAccount:\n",
    "    def __init__(self, account_holder, initial_balance=0):\n",
    "        self.account_holder = account_holder  # Public attribute\n",
    "        self.__balance = initial_balance       # Private attribute (encapsulated)\n",
    "\n",
    "    def deposit(self, amount):\n",
    "        if amount > 0:\n",
    "            self.__balance += amount\n",
    "            print(f\"Deposited: ${amount}. New balance: ${self.__balance}.\")\n",
    "        else:\n",
    "            print(\"Deposit amount must be positive.\")\n",
    "\n",
    "    def withdraw(self, amount):\n",
    "        if 0 < amount <= self.__balance:\n",
    "            self.__balance -= amount\n",
    "            print(f\"Withdrew: ${amount}. Remaining balance: ${self.__balance}.\")\n",
    "        else:\n",
    "            print(\"Insufficient balance or invalid withdrawal amount.\")\n",
    "\n",
    "    def get_balance(self):\n",
    "        return self.__balance  # Method to access the private balance attribute\n",
    "\n",
    "# Creating an instance of BankAccount\n",
    "account = BankAccount(\"Alice\", 1000)\n",
    "\n",
    "# Accessing public attribute\n",
    "print(f\"Account Holder: {account.account_holder}\")  # Output: Account Holder: Alice\n",
    "\n",
    "# Using methods to manipulate balance\n",
    "account.deposit(500)   # Output: Deposited: $500. New balance: $1500.\n",
    "account.withdraw(200)  # Output: Withdrew: $200. Remaining balance: $1300.\n",
    "\n",
    "# Using the method to get the balance\n",
    "print(f\"Current Balance: ${account.get_balance()}\")  # Output: Current Balance: $1300."
   ]
  },
  {
   "cell_type": "markdown",
   "metadata": {},
   "source": [
    "### Abstraction \n",
    "Abstraction involves hiding the complex implementation details of a class while exposing only the essential features that are relevant to the user. This allows programmers to interact with objects at a higher level, simplifying the interface and improving code readability and maintainability."
   ]
  },
  {
   "cell_type": "code",
   "execution_count": null,
   "metadata": {},
   "outputs": [],
   "source": [
    "from abc import ABC, abstractmethod\n",
    "\n",
    "# Abstract class\n",
    "class Vehicle(ABC):\n",
    "    @abstractmethod\n",
    "    def start_engine(self):\n",
    "        pass\n",
    "\n",
    "    @abstractmethod\n",
    "    def stop_engine(self):\n",
    "        pass\n",
    "\n",
    "# Concrete class inheriting from the abstract class\n",
    "class Car(Vehicle):\n",
    "    def start_engine(self):\n",
    "        return \"Car engine started.\"\n",
    "\n",
    "    def stop_engine(self):\n",
    "        return \"Car engine stopped.\"\n",
    "\n",
    "# Another concrete class\n",
    "class Motorcycle(Vehicle):\n",
    "    def start_engine(self):\n",
    "        return \"Motorcycle engine started.\"\n",
    "\n",
    "    def stop_engine(self):\n",
    "        return \"Motorcycle engine stopped.\"\n",
    "\n",
    "# Client code\n",
    "def vehicle_operations(vehicle: Vehicle):\n",
    "    print(vehicle.start_engine())\n",
    "    print(vehicle.stop_engine())\n",
    "\n",
    "# Creating instances\n",
    "car = Car()\n",
    "motorcycle = Motorcycle()\n",
    "\n",
    "# Performing operations\n",
    "vehicle_operations(car)\n",
    "vehicle_operations(motorcycle)"
   ]
  },
  {
   "cell_type": "markdown",
   "metadata": {},
   "source": [
    "### Inheritance\n",
    "Inheritance allows one class (the child class) to inherit the attributes and methods of another class (the parent class)."
   ]
  },
  {
   "cell_type": "code",
   "execution_count": null,
   "metadata": {},
   "outputs": [],
   "source": [
    "# Parent class\n",
    "class Animal:\n",
    "    def __init__(self, species):\n",
    "        self.species = species\n",
    "\n",
    "    def make_sound(self):\n",
    "        return \"Some sound\"\n",
    "\n",
    "# Child class that inherits from Animal\n",
    "class Cat(Animal):\n",
    "    def __init__(self, name, age):\n",
    "        super().__init__(\"Cat\")  # Call the parent constructor\n",
    "        self.name = name\n",
    "        self.age = age\n",
    "\n",
    "    def make_sound(self):\n",
    "        return f\"{self.name} says Meow!\"\n",
    "\n",
    "# Creating an object of the Cat class\n",
    "cat1 = Cat(\"Whiskers\", 2)\n",
    "print(cat1.make_sound())  # Output: Whiskers says Meow!\n",
    "print(cat1.species)       # Output: Cat"
   ]
  },
  {
   "cell_type": "markdown",
   "metadata": {},
   "source": [
    "### Polymorphism\n",
    "Polymorphism allows methods to be used interchangeably, even if they belong to different classes. This is typically achieved through method overriding."
   ]
  },
  {
   "cell_type": "code",
   "execution_count": null,
   "metadata": {},
   "outputs": [],
   "source": [
    "# Another child class\n",
    "class Bird(Animal):\n",
    "    def __init__(self, name, age):\n",
    "        super().__init__(\"Bird\")\n",
    "        self.name = name\n",
    "        self.age = age\n",
    "\n",
    "    def make_sound(self):\n",
    "        return f\"{self.name} says Chirp!\"\n",
    "\n",
    "# Creating objects of both classes\n",
    "animals = [cat1, Bird(\"Tweety\", 1)]\n",
    "\n",
    "for animal in animals:\n",
    "    print(animal.make_sound())  # Output: Whiskers says Meow! and Tweety says Chirp!"
   ]
  },
  {
   "cell_type": "code",
   "execution_count": null,
   "metadata": {},
   "outputs": [],
   "source": [
    "# Class definition for a Student\n",
    "class Student:\n",
    "    def __init__(self, name, age, major):\n",
    "        self.name = name\n",
    "        self.age = age\n",
    "        self.major = major\n",
    "\n",
    "    def describe(self):\n",
    "        return f\"Name: {self.name}, Age: {self.age}, Major: {self.major}\"\n",
    "\n",
    "# List to store multiple students\n",
    "students = [\n",
    "    Student(\"Alice\", 20, \"Biology\"),\n",
    "    Student(\"Bob\", 22, \"Physics\"),\n",
    "    Student(\"Charlie\", 21, \"Mathematics\"),\n",
    "]\n",
    "\n",
    "# Print the details of each student\n",
    "for student in students:\n",
    "    print(student.describe())"
   ]
  },
  {
   "cell_type": "code",
   "execution_count": null,
   "metadata": {},
   "outputs": [],
   "source": [
    "# Class definition for a Product\n",
    "class Product:\n",
    "    def __init__(self, name, price, quantity):\n",
    "        self.name = name\n",
    "        self.price = price\n",
    "        self.quantity = quantity\n",
    "\n",
    "    def total_value(self):\n",
    "        return self.price * self.quantity\n",
    "\n",
    "# Dictionary to store products\n",
    "inventory = {\n",
    "    \"apple\": Product(\"Apple\", 0.5, 100),\n",
    "    \"banana\": Product(\"Banana\", 0.3, 150),\n",
    "    \"orange\": Product(\"Orange\", 0.4, 200),\n",
    "}\n",
    "\n",
    "# Print the total value of each product in the inventory\n",
    "for key, product in inventory.items():\n",
    "    print(f\"{key.capitalize()}: Total Value = ${product.total_value():.2f}\")"
   ]
  },
  {
   "cell_type": "code",
   "execution_count": null,
   "metadata": {},
   "outputs": [],
   "source": [
    "# Class definition for a Book\n",
    "class Book:\n",
    "    def __init__(self, title, author):\n",
    "        self.title = title\n",
    "        self.author = author\n",
    "\n",
    "    def describe(self):\n",
    "        return f\"{self.title} by {self.author}\"\n",
    "\n",
    "# Class definition for a Library\n",
    "class Library:\n",
    "    def __init__(self):\n",
    "        self.books = set()  # Using a set to store unique books\n",
    "\n",
    "    def add_book(self, book):\n",
    "        self.books.add(book.describe())\n",
    "\n",
    "    def show_books(self):\n",
    "        for book in self.books:\n",
    "            print(book)\n",
    "\n",
    "# Create a library and add books\n",
    "my_library = Library()\n",
    "my_library.add_book(Book(\"1984\", \"George Orwell\"))\n",
    "my_library.add_book(Book(\"To Kill a Mockingbird\", \"Harper Lee\"))\n",
    "my_library.add_book(Book(\"1984\", \"George Orwell\"))  # Duplicate, won't be added\n",
    "\n",
    "# Show all unique books in the library\n",
    "print(\"Books in the Library:\")\n",
    "my_library.show_books()"
   ]
  }
 ],
 "metadata": {
  "kernelspec": {
   "display_name": "base",
   "language": "python",
   "name": "python3"
  },
  "language_info": {
   "codemirror_mode": {
    "name": "ipython",
    "version": 3
   },
   "file_extension": ".py",
   "mimetype": "text/x-python",
   "name": "python",
   "nbconvert_exporter": "python",
   "pygments_lexer": "ipython3",
   "version": "3.11.7"
  }
 },
 "nbformat": 4,
 "nbformat_minor": 2
}
