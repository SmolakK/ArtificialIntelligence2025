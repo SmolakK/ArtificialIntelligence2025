{
 "cells": [
  {
   "cell_type": "markdown",
   "id": "172388a1",
   "metadata": {},
   "source": [
    "# Lecture 9: Neural Networks\n",
    "\n",
    "**Introduction to Neural Networks**\n",
    "\n",
    "<img src='img/brain.png'/>\n",
    "\n",
    "### What Are Neural Networks?\n",
    "Neural networks are a type of machine learning model inspired by the structure and function of the human brain. Just as our brain processes information through interconnected neurons, neural networks process data through layers of interconnected nodes, called artificial neurons.\n",
    "\n",
    "### Why Are Neural Networks Important?\n",
    "Neural networks are powerful tools for solving complex problems. They are behind many modern technologies we use daily, such as:\n",
    "- **Image Recognition**: Identifying objects, faces, or text in images.\n",
    "- **Language Translation**: Converting text from one language to another (e.g., Google Translate).\n",
    "- **Autonomous Vehicles**: Helping cars understand and react to their surroundings.\n",
    "\n",
    "### How Do They Work? (High-Level Overview)\n",
    "1. **Inputs**: Data enters the network through input neurons.\n",
    "2. **Processing**: Data moves through layers of neurons, which apply mathematical operations and transformations.\n",
    "3. **Outputs**: The final layer produces predictions or decisions based on the input data.\n",
    "\n",
    "For example, imagine teaching a neural network to recognize handwritten numbers. You show it images of digits, and over time, it learns patterns to correctly identify them, much like a child learns to read numbers.\n",
    "\n",
    "### Key Features\n",
    "- **Learning from Data**: Neural networks improve their performance as they are exposed to more examples.\n",
    "- **Adaptability**: They can solve diverse problems, from diagnosing diseases to generating realistic images.\n",
    "\n",
    "### Where are Neural Network used?\n",
    "\n",
    "Medical Imaging: Neural networks are used for diagnosing diseases by analyzing medical images, such as detection of brain tumor on MRIs.\n",
    "\n",
    "Drug Discovery: DeepMind’s AlphaFold predicts protein folding with high accuracy, aiding drug development.\n",
    "\n",
    "\n",
    "Driving Systems: Tesla’s Autopilot uses neural networks to detect lanes, recognize traffic signs, and avoid obstacles.\n",
    "\n",
    "Language Translation: Google Translate uses transformer-based neural networks like BERT for highly accurate translations.\n",
    "\n",
    "Chatbots and Virtual Assistants: OpenAI’s GPT models, including ChatGPT, are based on neural networks.\n",
    "\n",
    "Finance: PayPal uses neural networks to detect anomalous behaviors in financial transactions.\n",
    "\n",
    "Credit scoring: Neural networks analyze credit history and financial data for personalized lending.\n",
    "\n",
    "Wildlife conservation: Conservation organizations use neural networks to identify species and track movements."
   ]
  },
  {
   "cell_type": "code",
   "execution_count": 1,
   "id": "d4934cf2",
   "metadata": {},
   "outputs": [
    {
     "data": {
      "application/javascript": [
       "/* Put everything inside the global mpl namespace */\n",
       "/* global mpl */\n",
       "window.mpl = {};\n",
       "\n",
       "mpl.get_websocket_type = function () {\n",
       "    if (typeof WebSocket !== 'undefined') {\n",
       "        return WebSocket;\n",
       "    } else if (typeof MozWebSocket !== 'undefined') {\n",
       "        return MozWebSocket;\n",
       "    } else {\n",
       "        alert(\n",
       "            'Your browser does not have WebSocket support. ' +\n",
       "                'Please try Chrome, Safari or Firefox ≥ 6. ' +\n",
       "                'Firefox 4 and 5 are also supported but you ' +\n",
       "                'have to enable WebSockets in about:config.'\n",
       "        );\n",
       "    }\n",
       "};\n",
       "\n",
       "mpl.figure = function (figure_id, websocket, ondownload, parent_element) {\n",
       "    this.id = figure_id;\n",
       "\n",
       "    this.ws = websocket;\n",
       "\n",
       "    this.supports_binary = this.ws.binaryType !== undefined;\n",
       "\n",
       "    if (!this.supports_binary) {\n",
       "        var warnings = document.getElementById('mpl-warnings');\n",
       "        if (warnings) {\n",
       "            warnings.style.display = 'block';\n",
       "            warnings.textContent =\n",
       "                'This browser does not support binary websocket messages. ' +\n",
       "                'Performance may be slow.';\n",
       "        }\n",
       "    }\n",
       "\n",
       "    this.imageObj = new Image();\n",
       "\n",
       "    this.context = undefined;\n",
       "    this.message = undefined;\n",
       "    this.canvas = undefined;\n",
       "    this.rubberband_canvas = undefined;\n",
       "    this.rubberband_context = undefined;\n",
       "    this.format_dropdown = undefined;\n",
       "\n",
       "    this.image_mode = 'full';\n",
       "\n",
       "    this.root = document.createElement('div');\n",
       "    this.root.setAttribute('style', 'display: inline-block');\n",
       "    this._root_extra_style(this.root);\n",
       "\n",
       "    parent_element.appendChild(this.root);\n",
       "\n",
       "    this._init_header(this);\n",
       "    this._init_canvas(this);\n",
       "    this._init_toolbar(this);\n",
       "\n",
       "    var fig = this;\n",
       "\n",
       "    this.waiting = false;\n",
       "\n",
       "    this.ws.onopen = function () {\n",
       "        fig.send_message('supports_binary', { value: fig.supports_binary });\n",
       "        fig.send_message('send_image_mode', {});\n",
       "        if (fig.ratio !== 1) {\n",
       "            fig.send_message('set_device_pixel_ratio', {\n",
       "                device_pixel_ratio: fig.ratio,\n",
       "            });\n",
       "        }\n",
       "        fig.send_message('refresh', {});\n",
       "    };\n",
       "\n",
       "    this.imageObj.onload = function () {\n",
       "        if (fig.image_mode === 'full') {\n",
       "            // Full images could contain transparency (where diff images\n",
       "            // almost always do), so we need to clear the canvas so that\n",
       "            // there is no ghosting.\n",
       "            fig.context.clearRect(0, 0, fig.canvas.width, fig.canvas.height);\n",
       "        }\n",
       "        fig.context.drawImage(fig.imageObj, 0, 0);\n",
       "    };\n",
       "\n",
       "    this.imageObj.onunload = function () {\n",
       "        fig.ws.close();\n",
       "    };\n",
       "\n",
       "    this.ws.onmessage = this._make_on_message_function(this);\n",
       "\n",
       "    this.ondownload = ondownload;\n",
       "};\n",
       "\n",
       "mpl.figure.prototype._init_header = function () {\n",
       "    var titlebar = document.createElement('div');\n",
       "    titlebar.classList =\n",
       "        'ui-dialog-titlebar ui-widget-header ui-corner-all ui-helper-clearfix';\n",
       "    var titletext = document.createElement('div');\n",
       "    titletext.classList = 'ui-dialog-title';\n",
       "    titletext.setAttribute(\n",
       "        'style',\n",
       "        'width: 100%; text-align: center; padding: 3px;'\n",
       "    );\n",
       "    titlebar.appendChild(titletext);\n",
       "    this.root.appendChild(titlebar);\n",
       "    this.header = titletext;\n",
       "};\n",
       "\n",
       "mpl.figure.prototype._canvas_extra_style = function (_canvas_div) {};\n",
       "\n",
       "mpl.figure.prototype._root_extra_style = function (_canvas_div) {};\n",
       "\n",
       "mpl.figure.prototype._init_canvas = function () {\n",
       "    var fig = this;\n",
       "\n",
       "    var canvas_div = (this.canvas_div = document.createElement('div'));\n",
       "    canvas_div.setAttribute('tabindex', '0');\n",
       "    canvas_div.setAttribute(\n",
       "        'style',\n",
       "        'border: 1px solid #ddd;' +\n",
       "            'box-sizing: content-box;' +\n",
       "            'clear: both;' +\n",
       "            'min-height: 1px;' +\n",
       "            'min-width: 1px;' +\n",
       "            'outline: 0;' +\n",
       "            'overflow: hidden;' +\n",
       "            'position: relative;' +\n",
       "            'resize: both;' +\n",
       "            'z-index: 2;'\n",
       "    );\n",
       "\n",
       "    function on_keyboard_event_closure(name) {\n",
       "        return function (event) {\n",
       "            return fig.key_event(event, name);\n",
       "        };\n",
       "    }\n",
       "\n",
       "    canvas_div.addEventListener(\n",
       "        'keydown',\n",
       "        on_keyboard_event_closure('key_press')\n",
       "    );\n",
       "    canvas_div.addEventListener(\n",
       "        'keyup',\n",
       "        on_keyboard_event_closure('key_release')\n",
       "    );\n",
       "\n",
       "    this._canvas_extra_style(canvas_div);\n",
       "    this.root.appendChild(canvas_div);\n",
       "\n",
       "    var canvas = (this.canvas = document.createElement('canvas'));\n",
       "    canvas.classList.add('mpl-canvas');\n",
       "    canvas.setAttribute(\n",
       "        'style',\n",
       "        'box-sizing: content-box;' +\n",
       "            'pointer-events: none;' +\n",
       "            'position: relative;' +\n",
       "            'z-index: 0;'\n",
       "    );\n",
       "\n",
       "    this.context = canvas.getContext('2d');\n",
       "\n",
       "    var backingStore =\n",
       "        this.context.backingStorePixelRatio ||\n",
       "        this.context.webkitBackingStorePixelRatio ||\n",
       "        this.context.mozBackingStorePixelRatio ||\n",
       "        this.context.msBackingStorePixelRatio ||\n",
       "        this.context.oBackingStorePixelRatio ||\n",
       "        this.context.backingStorePixelRatio ||\n",
       "        1;\n",
       "\n",
       "    this.ratio = (window.devicePixelRatio || 1) / backingStore;\n",
       "\n",
       "    var rubberband_canvas = (this.rubberband_canvas = document.createElement(\n",
       "        'canvas'\n",
       "    ));\n",
       "    rubberband_canvas.setAttribute(\n",
       "        'style',\n",
       "        'box-sizing: content-box;' +\n",
       "            'left: 0;' +\n",
       "            'pointer-events: none;' +\n",
       "            'position: absolute;' +\n",
       "            'top: 0;' +\n",
       "            'z-index: 1;'\n",
       "    );\n",
       "\n",
       "    // Apply a ponyfill if ResizeObserver is not implemented by browser.\n",
       "    if (this.ResizeObserver === undefined) {\n",
       "        if (window.ResizeObserver !== undefined) {\n",
       "            this.ResizeObserver = window.ResizeObserver;\n",
       "        } else {\n",
       "            var obs = _JSXTOOLS_RESIZE_OBSERVER({});\n",
       "            this.ResizeObserver = obs.ResizeObserver;\n",
       "        }\n",
       "    }\n",
       "\n",
       "    this.resizeObserverInstance = new this.ResizeObserver(function (entries) {\n",
       "        var nentries = entries.length;\n",
       "        for (var i = 0; i < nentries; i++) {\n",
       "            var entry = entries[i];\n",
       "            var width, height;\n",
       "            if (entry.contentBoxSize) {\n",
       "                if (entry.contentBoxSize instanceof Array) {\n",
       "                    // Chrome 84 implements new version of spec.\n",
       "                    width = entry.contentBoxSize[0].inlineSize;\n",
       "                    height = entry.contentBoxSize[0].blockSize;\n",
       "                } else {\n",
       "                    // Firefox implements old version of spec.\n",
       "                    width = entry.contentBoxSize.inlineSize;\n",
       "                    height = entry.contentBoxSize.blockSize;\n",
       "                }\n",
       "            } else {\n",
       "                // Chrome <84 implements even older version of spec.\n",
       "                width = entry.contentRect.width;\n",
       "                height = entry.contentRect.height;\n",
       "            }\n",
       "\n",
       "            // Keep the size of the canvas and rubber band canvas in sync with\n",
       "            // the canvas container.\n",
       "            if (entry.devicePixelContentBoxSize) {\n",
       "                // Chrome 84 implements new version of spec.\n",
       "                canvas.setAttribute(\n",
       "                    'width',\n",
       "                    entry.devicePixelContentBoxSize[0].inlineSize\n",
       "                );\n",
       "                canvas.setAttribute(\n",
       "                    'height',\n",
       "                    entry.devicePixelContentBoxSize[0].blockSize\n",
       "                );\n",
       "            } else {\n",
       "                canvas.setAttribute('width', width * fig.ratio);\n",
       "                canvas.setAttribute('height', height * fig.ratio);\n",
       "            }\n",
       "            /* This rescales the canvas back to display pixels, so that it\n",
       "             * appears correct on HiDPI screens. */\n",
       "            canvas.style.width = width + 'px';\n",
       "            canvas.style.height = height + 'px';\n",
       "\n",
       "            rubberband_canvas.setAttribute('width', width);\n",
       "            rubberband_canvas.setAttribute('height', height);\n",
       "\n",
       "            // And update the size in Python. We ignore the initial 0/0 size\n",
       "            // that occurs as the element is placed into the DOM, which should\n",
       "            // otherwise not happen due to the minimum size styling.\n",
       "            if (fig.ws.readyState == 1 && width != 0 && height != 0) {\n",
       "                fig.request_resize(width, height);\n",
       "            }\n",
       "        }\n",
       "    });\n",
       "    this.resizeObserverInstance.observe(canvas_div);\n",
       "\n",
       "    function on_mouse_event_closure(name) {\n",
       "        /* User Agent sniffing is bad, but WebKit is busted:\n",
       "         * https://bugs.webkit.org/show_bug.cgi?id=144526\n",
       "         * https://bugs.webkit.org/show_bug.cgi?id=181818\n",
       "         * The worst that happens here is that they get an extra browser\n",
       "         * selection when dragging, if this check fails to catch them.\n",
       "         */\n",
       "        var UA = navigator.userAgent;\n",
       "        var isWebKit = /AppleWebKit/.test(UA) && !/Chrome/.test(UA);\n",
       "        if(isWebKit) {\n",
       "            return function (event) {\n",
       "                /* This prevents the web browser from automatically changing to\n",
       "                 * the text insertion cursor when the button is pressed. We\n",
       "                 * want to control all of the cursor setting manually through\n",
       "                 * the 'cursor' event from matplotlib */\n",
       "                event.preventDefault()\n",
       "                return fig.mouse_event(event, name);\n",
       "            };\n",
       "        } else {\n",
       "            return function (event) {\n",
       "                return fig.mouse_event(event, name);\n",
       "            };\n",
       "        }\n",
       "    }\n",
       "\n",
       "    canvas_div.addEventListener(\n",
       "        'mousedown',\n",
       "        on_mouse_event_closure('button_press')\n",
       "    );\n",
       "    canvas_div.addEventListener(\n",
       "        'mouseup',\n",
       "        on_mouse_event_closure('button_release')\n",
       "    );\n",
       "    canvas_div.addEventListener(\n",
       "        'dblclick',\n",
       "        on_mouse_event_closure('dblclick')\n",
       "    );\n",
       "    // Throttle sequential mouse events to 1 every 20ms.\n",
       "    canvas_div.addEventListener(\n",
       "        'mousemove',\n",
       "        on_mouse_event_closure('motion_notify')\n",
       "    );\n",
       "\n",
       "    canvas_div.addEventListener(\n",
       "        'mouseenter',\n",
       "        on_mouse_event_closure('figure_enter')\n",
       "    );\n",
       "    canvas_div.addEventListener(\n",
       "        'mouseleave',\n",
       "        on_mouse_event_closure('figure_leave')\n",
       "    );\n",
       "\n",
       "    canvas_div.addEventListener('wheel', function (event) {\n",
       "        if (event.deltaY < 0) {\n",
       "            event.step = 1;\n",
       "        } else {\n",
       "            event.step = -1;\n",
       "        }\n",
       "        on_mouse_event_closure('scroll')(event);\n",
       "    });\n",
       "\n",
       "    canvas_div.appendChild(canvas);\n",
       "    canvas_div.appendChild(rubberband_canvas);\n",
       "\n",
       "    this.rubberband_context = rubberband_canvas.getContext('2d');\n",
       "    this.rubberband_context.strokeStyle = '#000000';\n",
       "\n",
       "    this._resize_canvas = function (width, height, forward) {\n",
       "        if (forward) {\n",
       "            canvas_div.style.width = width + 'px';\n",
       "            canvas_div.style.height = height + 'px';\n",
       "        }\n",
       "    };\n",
       "\n",
       "    // Disable right mouse context menu.\n",
       "    canvas_div.addEventListener('contextmenu', function (_e) {\n",
       "        event.preventDefault();\n",
       "        return false;\n",
       "    });\n",
       "\n",
       "    function set_focus() {\n",
       "        canvas.focus();\n",
       "        canvas_div.focus();\n",
       "    }\n",
       "\n",
       "    window.setTimeout(set_focus, 100);\n",
       "};\n",
       "\n",
       "mpl.figure.prototype._init_toolbar = function () {\n",
       "    var fig = this;\n",
       "\n",
       "    var toolbar = document.createElement('div');\n",
       "    toolbar.classList = 'mpl-toolbar';\n",
       "    this.root.appendChild(toolbar);\n",
       "\n",
       "    function on_click_closure(name) {\n",
       "        return function (_event) {\n",
       "            return fig.toolbar_button_onclick(name);\n",
       "        };\n",
       "    }\n",
       "\n",
       "    function on_mouseover_closure(tooltip) {\n",
       "        return function (event) {\n",
       "            if (!event.currentTarget.disabled) {\n",
       "                return fig.toolbar_button_onmouseover(tooltip);\n",
       "            }\n",
       "        };\n",
       "    }\n",
       "\n",
       "    fig.buttons = {};\n",
       "    var buttonGroup = document.createElement('div');\n",
       "    buttonGroup.classList = 'mpl-button-group';\n",
       "    for (var toolbar_ind in mpl.toolbar_items) {\n",
       "        var name = mpl.toolbar_items[toolbar_ind][0];\n",
       "        var tooltip = mpl.toolbar_items[toolbar_ind][1];\n",
       "        var image = mpl.toolbar_items[toolbar_ind][2];\n",
       "        var method_name = mpl.toolbar_items[toolbar_ind][3];\n",
       "\n",
       "        if (!name) {\n",
       "            /* Instead of a spacer, we start a new button group. */\n",
       "            if (buttonGroup.hasChildNodes()) {\n",
       "                toolbar.appendChild(buttonGroup);\n",
       "            }\n",
       "            buttonGroup = document.createElement('div');\n",
       "            buttonGroup.classList = 'mpl-button-group';\n",
       "            continue;\n",
       "        }\n",
       "\n",
       "        var button = (fig.buttons[name] = document.createElement('button'));\n",
       "        button.classList = 'mpl-widget';\n",
       "        button.setAttribute('role', 'button');\n",
       "        button.setAttribute('aria-disabled', 'false');\n",
       "        button.addEventListener('click', on_click_closure(method_name));\n",
       "        button.addEventListener('mouseover', on_mouseover_closure(tooltip));\n",
       "\n",
       "        var icon_img = document.createElement('img');\n",
       "        icon_img.src = '_images/' + image + '.png';\n",
       "        icon_img.srcset = '_images/' + image + '_large.png 2x';\n",
       "        icon_img.alt = tooltip;\n",
       "        button.appendChild(icon_img);\n",
       "\n",
       "        buttonGroup.appendChild(button);\n",
       "    }\n",
       "\n",
       "    if (buttonGroup.hasChildNodes()) {\n",
       "        toolbar.appendChild(buttonGroup);\n",
       "    }\n",
       "\n",
       "    var fmt_picker = document.createElement('select');\n",
       "    fmt_picker.classList = 'mpl-widget';\n",
       "    toolbar.appendChild(fmt_picker);\n",
       "    this.format_dropdown = fmt_picker;\n",
       "\n",
       "    for (var ind in mpl.extensions) {\n",
       "        var fmt = mpl.extensions[ind];\n",
       "        var option = document.createElement('option');\n",
       "        option.selected = fmt === mpl.default_extension;\n",
       "        option.innerHTML = fmt;\n",
       "        fmt_picker.appendChild(option);\n",
       "    }\n",
       "\n",
       "    var status_bar = document.createElement('span');\n",
       "    status_bar.classList = 'mpl-message';\n",
       "    toolbar.appendChild(status_bar);\n",
       "    this.message = status_bar;\n",
       "};\n",
       "\n",
       "mpl.figure.prototype.request_resize = function (x_pixels, y_pixels) {\n",
       "    // Request matplotlib to resize the figure. Matplotlib will then trigger a resize in the client,\n",
       "    // which will in turn request a refresh of the image.\n",
       "    this.send_message('resize', { width: x_pixels, height: y_pixels });\n",
       "};\n",
       "\n",
       "mpl.figure.prototype.send_message = function (type, properties) {\n",
       "    properties['type'] = type;\n",
       "    properties['figure_id'] = this.id;\n",
       "    this.ws.send(JSON.stringify(properties));\n",
       "};\n",
       "\n",
       "mpl.figure.prototype.send_draw_message = function () {\n",
       "    if (!this.waiting) {\n",
       "        this.waiting = true;\n",
       "        this.ws.send(JSON.stringify({ type: 'draw', figure_id: this.id }));\n",
       "    }\n",
       "};\n",
       "\n",
       "mpl.figure.prototype.handle_save = function (fig, _msg) {\n",
       "    var format_dropdown = fig.format_dropdown;\n",
       "    var format = format_dropdown.options[format_dropdown.selectedIndex].value;\n",
       "    fig.ondownload(fig, format);\n",
       "};\n",
       "\n",
       "mpl.figure.prototype.handle_resize = function (fig, msg) {\n",
       "    var size = msg['size'];\n",
       "    if (size[0] !== fig.canvas.width || size[1] !== fig.canvas.height) {\n",
       "        fig._resize_canvas(size[0], size[1], msg['forward']);\n",
       "        fig.send_message('refresh', {});\n",
       "    }\n",
       "};\n",
       "\n",
       "mpl.figure.prototype.handle_rubberband = function (fig, msg) {\n",
       "    var x0 = msg['x0'] / fig.ratio;\n",
       "    var y0 = (fig.canvas.height - msg['y0']) / fig.ratio;\n",
       "    var x1 = msg['x1'] / fig.ratio;\n",
       "    var y1 = (fig.canvas.height - msg['y1']) / fig.ratio;\n",
       "    x0 = Math.floor(x0) + 0.5;\n",
       "    y0 = Math.floor(y0) + 0.5;\n",
       "    x1 = Math.floor(x1) + 0.5;\n",
       "    y1 = Math.floor(y1) + 0.5;\n",
       "    var min_x = Math.min(x0, x1);\n",
       "    var min_y = Math.min(y0, y1);\n",
       "    var width = Math.abs(x1 - x0);\n",
       "    var height = Math.abs(y1 - y0);\n",
       "\n",
       "    fig.rubberband_context.clearRect(\n",
       "        0,\n",
       "        0,\n",
       "        fig.canvas.width / fig.ratio,\n",
       "        fig.canvas.height / fig.ratio\n",
       "    );\n",
       "\n",
       "    fig.rubberband_context.strokeRect(min_x, min_y, width, height);\n",
       "};\n",
       "\n",
       "mpl.figure.prototype.handle_figure_label = function (fig, msg) {\n",
       "    // Updates the figure title.\n",
       "    fig.header.textContent = msg['label'];\n",
       "};\n",
       "\n",
       "mpl.figure.prototype.handle_cursor = function (fig, msg) {\n",
       "    fig.canvas_div.style.cursor = msg['cursor'];\n",
       "};\n",
       "\n",
       "mpl.figure.prototype.handle_message = function (fig, msg) {\n",
       "    fig.message.textContent = msg['message'];\n",
       "};\n",
       "\n",
       "mpl.figure.prototype.handle_draw = function (fig, _msg) {\n",
       "    // Request the server to send over a new figure.\n",
       "    fig.send_draw_message();\n",
       "};\n",
       "\n",
       "mpl.figure.prototype.handle_image_mode = function (fig, msg) {\n",
       "    fig.image_mode = msg['mode'];\n",
       "};\n",
       "\n",
       "mpl.figure.prototype.handle_history_buttons = function (fig, msg) {\n",
       "    for (var key in msg) {\n",
       "        if (!(key in fig.buttons)) {\n",
       "            continue;\n",
       "        }\n",
       "        fig.buttons[key].disabled = !msg[key];\n",
       "        fig.buttons[key].setAttribute('aria-disabled', !msg[key]);\n",
       "    }\n",
       "};\n",
       "\n",
       "mpl.figure.prototype.handle_navigate_mode = function (fig, msg) {\n",
       "    if (msg['mode'] === 'PAN') {\n",
       "        fig.buttons['Pan'].classList.add('active');\n",
       "        fig.buttons['Zoom'].classList.remove('active');\n",
       "    } else if (msg['mode'] === 'ZOOM') {\n",
       "        fig.buttons['Pan'].classList.remove('active');\n",
       "        fig.buttons['Zoom'].classList.add('active');\n",
       "    } else {\n",
       "        fig.buttons['Pan'].classList.remove('active');\n",
       "        fig.buttons['Zoom'].classList.remove('active');\n",
       "    }\n",
       "};\n",
       "\n",
       "mpl.figure.prototype.updated_canvas_event = function () {\n",
       "    // Called whenever the canvas gets updated.\n",
       "    this.send_message('ack', {});\n",
       "};\n",
       "\n",
       "// A function to construct a web socket function for onmessage handling.\n",
       "// Called in the figure constructor.\n",
       "mpl.figure.prototype._make_on_message_function = function (fig) {\n",
       "    return function socket_on_message(evt) {\n",
       "        if (evt.data instanceof Blob) {\n",
       "            var img = evt.data;\n",
       "            if (img.type !== 'image/png') {\n",
       "                /* FIXME: We get \"Resource interpreted as Image but\n",
       "                 * transferred with MIME type text/plain:\" errors on\n",
       "                 * Chrome.  But how to set the MIME type?  It doesn't seem\n",
       "                 * to be part of the websocket stream */\n",
       "                img.type = 'image/png';\n",
       "            }\n",
       "\n",
       "            /* Free the memory for the previous frames */\n",
       "            if (fig.imageObj.src) {\n",
       "                (window.URL || window.webkitURL).revokeObjectURL(\n",
       "                    fig.imageObj.src\n",
       "                );\n",
       "            }\n",
       "\n",
       "            fig.imageObj.src = (window.URL || window.webkitURL).createObjectURL(\n",
       "                img\n",
       "            );\n",
       "            fig.updated_canvas_event();\n",
       "            fig.waiting = false;\n",
       "            return;\n",
       "        } else if (\n",
       "            typeof evt.data === 'string' &&\n",
       "            evt.data.slice(0, 21) === 'data:image/png;base64'\n",
       "        ) {\n",
       "            fig.imageObj.src = evt.data;\n",
       "            fig.updated_canvas_event();\n",
       "            fig.waiting = false;\n",
       "            return;\n",
       "        }\n",
       "\n",
       "        var msg = JSON.parse(evt.data);\n",
       "        var msg_type = msg['type'];\n",
       "\n",
       "        // Call the  \"handle_{type}\" callback, which takes\n",
       "        // the figure and JSON message as its only arguments.\n",
       "        try {\n",
       "            var callback = fig['handle_' + msg_type];\n",
       "        } catch (e) {\n",
       "            console.log(\n",
       "                \"No handler for the '\" + msg_type + \"' message type: \",\n",
       "                msg\n",
       "            );\n",
       "            return;\n",
       "        }\n",
       "\n",
       "        if (callback) {\n",
       "            try {\n",
       "                // console.log(\"Handling '\" + msg_type + \"' message: \", msg);\n",
       "                callback(fig, msg);\n",
       "            } catch (e) {\n",
       "                console.log(\n",
       "                    \"Exception inside the 'handler_\" + msg_type + \"' callback:\",\n",
       "                    e,\n",
       "                    e.stack,\n",
       "                    msg\n",
       "                );\n",
       "            }\n",
       "        }\n",
       "    };\n",
       "};\n",
       "\n",
       "function getModifiers(event) {\n",
       "    var mods = [];\n",
       "    if (event.ctrlKey) {\n",
       "        mods.push('ctrl');\n",
       "    }\n",
       "    if (event.altKey) {\n",
       "        mods.push('alt');\n",
       "    }\n",
       "    if (event.shiftKey) {\n",
       "        mods.push('shift');\n",
       "    }\n",
       "    if (event.metaKey) {\n",
       "        mods.push('meta');\n",
       "    }\n",
       "    return mods;\n",
       "}\n",
       "\n",
       "/*\n",
       " * return a copy of an object with only non-object keys\n",
       " * we need this to avoid circular references\n",
       " * https://stackoverflow.com/a/24161582/3208463\n",
       " */\n",
       "function simpleKeys(original) {\n",
       "    return Object.keys(original).reduce(function (obj, key) {\n",
       "        if (typeof original[key] !== 'object') {\n",
       "            obj[key] = original[key];\n",
       "        }\n",
       "        return obj;\n",
       "    }, {});\n",
       "}\n",
       "\n",
       "mpl.figure.prototype.mouse_event = function (event, name) {\n",
       "    if (name === 'button_press') {\n",
       "        this.canvas.focus();\n",
       "        this.canvas_div.focus();\n",
       "    }\n",
       "\n",
       "    // from https://stackoverflow.com/q/1114465\n",
       "    var boundingRect = this.canvas.getBoundingClientRect();\n",
       "    var x = (event.clientX - boundingRect.left) * this.ratio;\n",
       "    var y = (event.clientY - boundingRect.top) * this.ratio;\n",
       "\n",
       "    this.send_message(name, {\n",
       "        x: x,\n",
       "        y: y,\n",
       "        button: event.button,\n",
       "        step: event.step,\n",
       "        modifiers: getModifiers(event),\n",
       "        guiEvent: simpleKeys(event),\n",
       "    });\n",
       "\n",
       "    return false;\n",
       "};\n",
       "\n",
       "mpl.figure.prototype._key_event_extra = function (_event, _name) {\n",
       "    // Handle any extra behaviour associated with a key event\n",
       "};\n",
       "\n",
       "mpl.figure.prototype.key_event = function (event, name) {\n",
       "    // Prevent repeat events\n",
       "    if (name === 'key_press') {\n",
       "        if (event.key === this._key) {\n",
       "            return;\n",
       "        } else {\n",
       "            this._key = event.key;\n",
       "        }\n",
       "    }\n",
       "    if (name === 'key_release') {\n",
       "        this._key = null;\n",
       "    }\n",
       "\n",
       "    var value = '';\n",
       "    if (event.ctrlKey && event.key !== 'Control') {\n",
       "        value += 'ctrl+';\n",
       "    }\n",
       "    else if (event.altKey && event.key !== 'Alt') {\n",
       "        value += 'alt+';\n",
       "    }\n",
       "    else if (event.shiftKey && event.key !== 'Shift') {\n",
       "        value += 'shift+';\n",
       "    }\n",
       "\n",
       "    value += 'k' + event.key;\n",
       "\n",
       "    this._key_event_extra(event, name);\n",
       "\n",
       "    this.send_message(name, { key: value, guiEvent: simpleKeys(event) });\n",
       "    return false;\n",
       "};\n",
       "\n",
       "mpl.figure.prototype.toolbar_button_onclick = function (name) {\n",
       "    if (name === 'download') {\n",
       "        this.handle_save(this, null);\n",
       "    } else {\n",
       "        this.send_message('toolbar_button', { name: name });\n",
       "    }\n",
       "};\n",
       "\n",
       "mpl.figure.prototype.toolbar_button_onmouseover = function (tooltip) {\n",
       "    this.message.textContent = tooltip;\n",
       "};\n",
       "\n",
       "///////////////// REMAINING CONTENT GENERATED BY embed_js.py /////////////////\n",
       "// prettier-ignore\n",
       "var _JSXTOOLS_RESIZE_OBSERVER=function(A){var t,i=new WeakMap,n=new WeakMap,a=new WeakMap,r=new WeakMap,o=new Set;function s(e){if(!(this instanceof s))throw new TypeError(\"Constructor requires 'new' operator\");i.set(this,e)}function h(){throw new TypeError(\"Function is not a constructor\")}function c(e,t,i,n){e=0 in arguments?Number(arguments[0]):0,t=1 in arguments?Number(arguments[1]):0,i=2 in arguments?Number(arguments[2]):0,n=3 in arguments?Number(arguments[3]):0,this.right=(this.x=this.left=e)+(this.width=i),this.bottom=(this.y=this.top=t)+(this.height=n),Object.freeze(this)}function d(){t=requestAnimationFrame(d);var s=new WeakMap,p=new Set;o.forEach((function(t){r.get(t).forEach((function(i){var r=t instanceof window.SVGElement,o=a.get(t),d=r?0:parseFloat(o.paddingTop),f=r?0:parseFloat(o.paddingRight),l=r?0:parseFloat(o.paddingBottom),u=r?0:parseFloat(o.paddingLeft),g=r?0:parseFloat(o.borderTopWidth),m=r?0:parseFloat(o.borderRightWidth),w=r?0:parseFloat(o.borderBottomWidth),b=u+f,F=d+l,v=(r?0:parseFloat(o.borderLeftWidth))+m,W=g+w,y=r?0:t.offsetHeight-W-t.clientHeight,E=r?0:t.offsetWidth-v-t.clientWidth,R=b+v,z=F+W,M=r?t.width:parseFloat(o.width)-R-E,O=r?t.height:parseFloat(o.height)-z-y;if(n.has(t)){var k=n.get(t);if(k[0]===M&&k[1]===O)return}n.set(t,[M,O]);var S=Object.create(h.prototype);S.target=t,S.contentRect=new c(u,d,M,O),s.has(i)||(s.set(i,[]),p.add(i)),s.get(i).push(S)}))})),p.forEach((function(e){i.get(e).call(e,s.get(e),e)}))}return s.prototype.observe=function(i){if(i instanceof window.Element){r.has(i)||(r.set(i,new Set),o.add(i),a.set(i,window.getComputedStyle(i)));var n=r.get(i);n.has(this)||n.add(this),cancelAnimationFrame(t),t=requestAnimationFrame(d)}},s.prototype.unobserve=function(i){if(i instanceof window.Element&&r.has(i)){var n=r.get(i);n.has(this)&&(n.delete(this),n.size||(r.delete(i),o.delete(i))),n.size||r.delete(i),o.size||cancelAnimationFrame(t)}},A.DOMRectReadOnly=c,A.ResizeObserver=s,A.ResizeObserverEntry=h,A}; // eslint-disable-line\n",
       "mpl.toolbar_items = [[\"Home\", \"Reset original view\", \"fa fa-home\", \"home\"], [\"Back\", \"Back to previous view\", \"fa fa-arrow-left\", \"back\"], [\"Forward\", \"Forward to next view\", \"fa fa-arrow-right\", \"forward\"], [\"\", \"\", \"\", \"\"], [\"Pan\", \"Left button pans, Right button zooms\\nx/y fixes axis, CTRL fixes aspect\", \"fa fa-arrows\", \"pan\"], [\"Zoom\", \"Zoom to rectangle\\nx/y fixes axis\", \"fa fa-square-o\", \"zoom\"], [\"\", \"\", \"\", \"\"], [\"Download\", \"Download plot\", \"fa fa-floppy-o\", \"download\"]];\n",
       "\n",
       "mpl.extensions = [\"eps\", \"jpeg\", \"pgf\", \"pdf\", \"png\", \"ps\", \"raw\", \"svg\", \"tif\", \"webp\"];\n",
       "\n",
       "mpl.default_extension = \"png\";/* global mpl */\n",
       "\n",
       "var comm_websocket_adapter = function (comm) {\n",
       "    // Create a \"websocket\"-like object which calls the given IPython comm\n",
       "    // object with the appropriate methods. Currently this is a non binary\n",
       "    // socket, so there is still some room for performance tuning.\n",
       "    var ws = {};\n",
       "\n",
       "    ws.binaryType = comm.kernel.ws.binaryType;\n",
       "    ws.readyState = comm.kernel.ws.readyState;\n",
       "    function updateReadyState(_event) {\n",
       "        if (comm.kernel.ws) {\n",
       "            ws.readyState = comm.kernel.ws.readyState;\n",
       "        } else {\n",
       "            ws.readyState = 3; // Closed state.\n",
       "        }\n",
       "    }\n",
       "    comm.kernel.ws.addEventListener('open', updateReadyState);\n",
       "    comm.kernel.ws.addEventListener('close', updateReadyState);\n",
       "    comm.kernel.ws.addEventListener('error', updateReadyState);\n",
       "\n",
       "    ws.close = function () {\n",
       "        comm.close();\n",
       "    };\n",
       "    ws.send = function (m) {\n",
       "        //console.log('sending', m);\n",
       "        comm.send(m);\n",
       "    };\n",
       "    // Register the callback with on_msg.\n",
       "    comm.on_msg(function (msg) {\n",
       "        //console.log('receiving', msg['content']['data'], msg);\n",
       "        var data = msg['content']['data'];\n",
       "        if (data['blob'] !== undefined) {\n",
       "            data = {\n",
       "                data: new Blob(msg['buffers'], { type: data['blob'] }),\n",
       "            };\n",
       "        }\n",
       "        // Pass the mpl event to the overridden (by mpl) onmessage function.\n",
       "        ws.onmessage(data);\n",
       "    });\n",
       "    return ws;\n",
       "};\n",
       "\n",
       "mpl.mpl_figure_comm = function (comm, msg) {\n",
       "    // This is the function which gets called when the mpl process\n",
       "    // starts-up an IPython Comm through the \"matplotlib\" channel.\n",
       "\n",
       "    var id = msg.content.data.id;\n",
       "    // Get hold of the div created by the display call when the Comm\n",
       "    // socket was opened in Python.\n",
       "    var element = document.getElementById(id);\n",
       "    var ws_proxy = comm_websocket_adapter(comm);\n",
       "\n",
       "    function ondownload(figure, _format) {\n",
       "        window.open(figure.canvas.toDataURL());\n",
       "    }\n",
       "\n",
       "    var fig = new mpl.figure(id, ws_proxy, ondownload, element);\n",
       "\n",
       "    // Call onopen now - mpl needs it, as it is assuming we've passed it a real\n",
       "    // web socket which is closed, not our websocket->open comm proxy.\n",
       "    ws_proxy.onopen();\n",
       "\n",
       "    fig.parent_element = element;\n",
       "    fig.cell_info = mpl.find_output_cell(\"<div id='\" + id + \"'></div>\");\n",
       "    if (!fig.cell_info) {\n",
       "        console.error('Failed to find cell for figure', id, fig);\n",
       "        return;\n",
       "    }\n",
       "    fig.cell_info[0].output_area.element.on(\n",
       "        'cleared',\n",
       "        { fig: fig },\n",
       "        fig._remove_fig_handler\n",
       "    );\n",
       "};\n",
       "\n",
       "mpl.figure.prototype.handle_close = function (fig, msg) {\n",
       "    var width = fig.canvas.width / fig.ratio;\n",
       "    fig.cell_info[0].output_area.element.off(\n",
       "        'cleared',\n",
       "        fig._remove_fig_handler\n",
       "    );\n",
       "    fig.resizeObserverInstance.unobserve(fig.canvas_div);\n",
       "\n",
       "    // Update the output cell to use the data from the current canvas.\n",
       "    fig.push_to_output();\n",
       "    var dataURL = fig.canvas.toDataURL();\n",
       "    // Re-enable the keyboard manager in IPython - without this line, in FF,\n",
       "    // the notebook keyboard shortcuts fail.\n",
       "    IPython.keyboard_manager.enable();\n",
       "    fig.parent_element.innerHTML =\n",
       "        '<img src=\"' + dataURL + '\" width=\"' + width + '\">';\n",
       "    fig.close_ws(fig, msg);\n",
       "};\n",
       "\n",
       "mpl.figure.prototype.close_ws = function (fig, msg) {\n",
       "    fig.send_message('closing', msg);\n",
       "    // fig.ws.close()\n",
       "};\n",
       "\n",
       "mpl.figure.prototype.push_to_output = function (_remove_interactive) {\n",
       "    // Turn the data on the canvas into data in the output cell.\n",
       "    var width = this.canvas.width / this.ratio;\n",
       "    var dataURL = this.canvas.toDataURL();\n",
       "    this.cell_info[1]['text/html'] =\n",
       "        '<img src=\"' + dataURL + '\" width=\"' + width + '\">';\n",
       "};\n",
       "\n",
       "mpl.figure.prototype.updated_canvas_event = function () {\n",
       "    // Tell IPython that the notebook contents must change.\n",
       "    IPython.notebook.set_dirty(true);\n",
       "    this.send_message('ack', {});\n",
       "    var fig = this;\n",
       "    // Wait a second, then push the new image to the DOM so\n",
       "    // that it is saved nicely (might be nice to debounce this).\n",
       "    setTimeout(function () {\n",
       "        fig.push_to_output();\n",
       "    }, 1000);\n",
       "};\n",
       "\n",
       "mpl.figure.prototype._init_toolbar = function () {\n",
       "    var fig = this;\n",
       "\n",
       "    var toolbar = document.createElement('div');\n",
       "    toolbar.classList = 'btn-toolbar';\n",
       "    this.root.appendChild(toolbar);\n",
       "\n",
       "    function on_click_closure(name) {\n",
       "        return function (_event) {\n",
       "            return fig.toolbar_button_onclick(name);\n",
       "        };\n",
       "    }\n",
       "\n",
       "    function on_mouseover_closure(tooltip) {\n",
       "        return function (event) {\n",
       "            if (!event.currentTarget.disabled) {\n",
       "                return fig.toolbar_button_onmouseover(tooltip);\n",
       "            }\n",
       "        };\n",
       "    }\n",
       "\n",
       "    fig.buttons = {};\n",
       "    var buttonGroup = document.createElement('div');\n",
       "    buttonGroup.classList = 'btn-group';\n",
       "    var button;\n",
       "    for (var toolbar_ind in mpl.toolbar_items) {\n",
       "        var name = mpl.toolbar_items[toolbar_ind][0];\n",
       "        var tooltip = mpl.toolbar_items[toolbar_ind][1];\n",
       "        var image = mpl.toolbar_items[toolbar_ind][2];\n",
       "        var method_name = mpl.toolbar_items[toolbar_ind][3];\n",
       "\n",
       "        if (!name) {\n",
       "            /* Instead of a spacer, we start a new button group. */\n",
       "            if (buttonGroup.hasChildNodes()) {\n",
       "                toolbar.appendChild(buttonGroup);\n",
       "            }\n",
       "            buttonGroup = document.createElement('div');\n",
       "            buttonGroup.classList = 'btn-group';\n",
       "            continue;\n",
       "        }\n",
       "\n",
       "        button = fig.buttons[name] = document.createElement('button');\n",
       "        button.classList = 'btn btn-default';\n",
       "        button.href = '#';\n",
       "        button.title = name;\n",
       "        button.innerHTML = '<i class=\"fa ' + image + ' fa-lg\"></i>';\n",
       "        button.addEventListener('click', on_click_closure(method_name));\n",
       "        button.addEventListener('mouseover', on_mouseover_closure(tooltip));\n",
       "        buttonGroup.appendChild(button);\n",
       "    }\n",
       "\n",
       "    if (buttonGroup.hasChildNodes()) {\n",
       "        toolbar.appendChild(buttonGroup);\n",
       "    }\n",
       "\n",
       "    // Add the status bar.\n",
       "    var status_bar = document.createElement('span');\n",
       "    status_bar.classList = 'mpl-message pull-right';\n",
       "    toolbar.appendChild(status_bar);\n",
       "    this.message = status_bar;\n",
       "\n",
       "    // Add the close button to the window.\n",
       "    var buttongrp = document.createElement('div');\n",
       "    buttongrp.classList = 'btn-group inline pull-right';\n",
       "    button = document.createElement('button');\n",
       "    button.classList = 'btn btn-mini btn-primary';\n",
       "    button.href = '#';\n",
       "    button.title = 'Stop Interaction';\n",
       "    button.innerHTML = '<i class=\"fa fa-power-off icon-remove icon-large\"></i>';\n",
       "    button.addEventListener('click', function (_evt) {\n",
       "        fig.handle_close(fig, {});\n",
       "    });\n",
       "    button.addEventListener(\n",
       "        'mouseover',\n",
       "        on_mouseover_closure('Stop Interaction')\n",
       "    );\n",
       "    buttongrp.appendChild(button);\n",
       "    var titlebar = this.root.querySelector('.ui-dialog-titlebar');\n",
       "    titlebar.insertBefore(buttongrp, titlebar.firstChild);\n",
       "};\n",
       "\n",
       "mpl.figure.prototype._remove_fig_handler = function (event) {\n",
       "    var fig = event.data.fig;\n",
       "    if (event.target !== this) {\n",
       "        // Ignore bubbled events from children.\n",
       "        return;\n",
       "    }\n",
       "    fig.close_ws(fig, {});\n",
       "};\n",
       "\n",
       "mpl.figure.prototype._root_extra_style = function (el) {\n",
       "    el.style.boxSizing = 'content-box'; // override notebook setting of border-box.\n",
       "};\n",
       "\n",
       "mpl.figure.prototype._canvas_extra_style = function (el) {\n",
       "    // this is important to make the div 'focusable\n",
       "    el.setAttribute('tabindex', 0);\n",
       "    // reach out to IPython and tell the keyboard manager to turn it's self\n",
       "    // off when our div gets focus\n",
       "\n",
       "    // location in version 3\n",
       "    if (IPython.notebook.keyboard_manager) {\n",
       "        IPython.notebook.keyboard_manager.register_events(el);\n",
       "    } else {\n",
       "        // location in version 2\n",
       "        IPython.keyboard_manager.register_events(el);\n",
       "    }\n",
       "};\n",
       "\n",
       "mpl.figure.prototype._key_event_extra = function (event, _name) {\n",
       "    // Check for shift+enter\n",
       "    if (event.shiftKey && event.which === 13) {\n",
       "        this.canvas_div.blur();\n",
       "        // select the cell after this one\n",
       "        var index = IPython.notebook.find_cell_index(this.cell_info[0]);\n",
       "        IPython.notebook.select(index + 1);\n",
       "    }\n",
       "};\n",
       "\n",
       "mpl.figure.prototype.handle_save = function (fig, _msg) {\n",
       "    fig.ondownload(fig, null);\n",
       "};\n",
       "\n",
       "mpl.find_output_cell = function (html_output) {\n",
       "    // Return the cell and output element which can be found *uniquely* in the notebook.\n",
       "    // Note - this is a bit hacky, but it is done because the \"notebook_saving.Notebook\"\n",
       "    // IPython event is triggered only after the cells have been serialised, which for\n",
       "    // our purposes (turning an active figure into a static one), is too late.\n",
       "    var cells = IPython.notebook.get_cells();\n",
       "    var ncells = cells.length;\n",
       "    for (var i = 0; i < ncells; i++) {\n",
       "        var cell = cells[i];\n",
       "        if (cell.cell_type === 'code') {\n",
       "            for (var j = 0; j < cell.output_area.outputs.length; j++) {\n",
       "                var data = cell.output_area.outputs[j];\n",
       "                if (data.data) {\n",
       "                    // IPython >= 3 moved mimebundle to data attribute of output\n",
       "                    data = data.data;\n",
       "                }\n",
       "                if (data['text/html'] === html_output) {\n",
       "                    return [cell, data, j];\n",
       "                }\n",
       "            }\n",
       "        }\n",
       "    }\n",
       "};\n",
       "\n",
       "// Register the function which deals with the matplotlib target/channel.\n",
       "// The kernel may be null if the page has been refreshed.\n",
       "if (IPython.notebook.kernel !== null) {\n",
       "    IPython.notebook.kernel.comm_manager.register_target(\n",
       "        'matplotlib',\n",
       "        mpl.mpl_figure_comm\n",
       "    );\n",
       "}\n"
      ],
      "text/plain": [
       "<IPython.core.display.Javascript object>"
      ]
     },
     "metadata": {},
     "output_type": "display_data"
    },
    {
     "data": {
      "text/html": [
       "<div id='d6c79e04-bd39-4020-8466-b5e4a2c25ceb'></div>"
      ],
      "text/plain": [
       "<IPython.core.display.HTML object>"
      ]
     },
     "metadata": {},
     "output_type": "display_data"
    }
   ],
   "source": [
    "import matplotlib.pyplot as plt\n",
    "from matplotlib.widgets import Slider\n",
    "%matplotlib notebook\n",
    "def draw_neural_net(ax, layer_sizes):\n",
    "    \"\"\"\n",
    "    Draws a neural network diagram.\n",
    "    Args:\n",
    "        ax: matplotlib axis to draw on.\n",
    "        layer_sizes: List with the number of neurons in each layer.\n",
    "    \"\"\"\n",
    "    ax.clear()\n",
    "    ax.axis(\"off\")\n",
    "\n",
    "    # Define spacing for layers and neurons\n",
    "    v_spacing = 0.8 / float(max(layer_sizes))  # Vertical spacing\n",
    "    h_spacing = 0.9 / float(len(layer_sizes) - 1)  # Horizontal spacing\n",
    "\n",
    "    # Draw nodes\n",
    "    for i, layer_size in enumerate(layer_sizes):\n",
    "        for j in range(layer_size):\n",
    "            x = i * h_spacing + 0.05  # Horizontal position\n",
    "            y = 1 - (j * v_spacing + v_spacing / 2)  # Vertical position\n",
    "            circle = plt.Circle((x, y), v_spacing / 4.5, color='blue', ec='black', lw=1)\n",
    "            ax.add_artist(circle)\n",
    "\n",
    "    # Draw edges\n",
    "    for i, (layer_size_a, layer_size_b) in enumerate(zip(layer_sizes[:-1], layer_sizes[1:])):\n",
    "        for j in range(layer_size_a):\n",
    "            for k in range(layer_size_b):\n",
    "                x_start = i * h_spacing + 0.05\n",
    "                y_start = 1 - (j * v_spacing + v_spacing / 2)\n",
    "                x_end = (i + 1) * h_spacing + 0.05\n",
    "                y_end = 1 - (k * v_spacing + v_spacing / 2)\n",
    "                line = plt.Line2D([x_start, x_end], [y_start, y_end], color='black', lw=0.5)\n",
    "                ax.add_artist(line)\n",
    "\n",
    "# Initial configuration\n",
    "layer_sizes = [3, 5, 4, 2]\n",
    "\n",
    "fig, ax = plt.subplots(figsize=(6, 6))\n",
    "plt.subplots_adjust(bottom=0.25)\n",
    "draw_neural_net(ax, layer_sizes)\n",
    "\n",
    "# Slider for adjusting the number of hidden layers\n",
    "ax_slider = plt.axes([0.25, 0.1, 0.5, 0.03], facecolor=\"lightgoldenrodyellow\")\n",
    "slider = Slider(ax_slider, \"Hidden Layers\", 1, 10, valinit=2, valstep=1)\n",
    "\n",
    "def update(val):\n",
    "    num_hidden_layers = int(slider.val)\n",
    "    layer_sizes_new = [2] + [5] * num_hidden_layers + [2]  # Input, hidden, output\n",
    "    draw_neural_net(ax, layer_sizes_new)\n",
    "    fig.canvas.draw_idle()\n",
    "\n",
    "slider.on_changed(update)\n",
    "\n",
    "plt.show()\n"
   ]
  },
  {
   "cell_type": "markdown",
   "id": "603bb0a1",
   "metadata": {},
   "source": [
    "**The Anatomy of a Neural Network**\n",
    "\n",
    "### Building Blocks of a Neural Network\n",
    "1. **Neurons (Nodes)**:\n",
    "   - Each neuron takes one or more inputs, processes them using a mathematical function, and produces an output.\n",
    "   - Example: A neuron can calculate a weighted sum of inputs and apply an activation function to introduce non-linearity.\n",
    "\n",
    "2. **Layers**:\n",
    "   - **Input Layer**: Receives raw data (e.g., pixel values of an image).\n",
    "   - **Hidden Layers**: Perform intermediate computations to detect patterns and features.\n",
    "   - **Output Layer**: Produces the final prediction or classification.\n",
    "\n",
    "3. **Weights and Biases**:\n",
    "   - **Weights**: Represent the importance of each input to a neuron.\n",
    "   - **Bias**: Helps adjust the output along with the weighted sum, ensuring flexibility.\n",
    "\n",
    "\n",
    "### How Data Flows\n",
    "1. **Forward Propagation**:\n",
    "   - Data flows from the input layer to the output layer through the hidden layers.\n",
    "   - Each neuron processes data using its weights, biases, and activation function.\n",
    "\n",
    "2. **Activation Functions**:\n",
    "   - Add non-linearity to help the network learn complex patterns.\n",
    "   - Common examples: Sigmoid, ReLU, and Tanh.\n"
   ]
  },
  {
   "cell_type": "code",
   "execution_count": 2,
   "id": "91ce98bb",
   "metadata": {
    "scrolled": false
   },
   "outputs": [
    {
     "name": "stderr",
     "output_type": "stream",
     "text": [
      "C:\\Users\\kamil\\AppData\\Roaming\\Python\\Python39\\site-packages\\tensorflow\\python\\keras\\engine\\training_arrays_v1.py:37: UserWarning: A NumPy version >=1.22.4 and <2.3.0 is required for this version of SciPy (detected version 1.21.5)\n",
      "  from scipy.sparse import issparse  # pylint: disable=g-import-not-at-top\n"
     ]
    },
    {
     "name": "stdout",
     "output_type": "stream",
     "text": [
      "Epoch 1/100\n"
     ]
    },
    {
     "name": "stdout",
     "output_type": "stream",
     "text": [
      "\r",
      "  1/750 [..............................] - ETA: 6:41 - loss: 2.3884 - accuracy: 0.1094"
     ]
    },
    {
     "name": "stdout",
     "output_type": "stream",
     "text": [
      "\b\b\b\b\b\b\b\b\b\b\b\b\b\b\b\b\b\b\b\b\b\b\b\b\b\b\b\b\b\b\b\b\b\b\b\b\b\b\b\b\b\b\b\b\b\b\b\b\b\b\b\b\b\b\b\b\b\b\b\b\b\b\b\b\b\b\b\b\b\b\b\b\b\b\b\b\b\b\b\b\b\b\b\b\b\b\r",
      " 40/750 [>.............................] - ETA: 0s - loss: 1.2297 - accuracy: 0.6680  "
     ]
    },
    {
     "name": "stdout",
     "output_type": "stream",
     "text": [
      "\b\b\b\b\b\b\b\b\b\b\b\b\b\b\b\b\b\b\b\b\b\b\b\b\b\b\b\b\b\b\b\b\b\b\b\b\b\b\b\b\b\b\b\b\b\b\b\b\b\b\b\b\b\b\b\b\b\b\b\b\b\b\b\b\b\b\b\b\b\b\b\b\b\b\b\b\b\b\b\b\b\b\b\b\r",
      " 82/750 [==>...........................] - ETA: 0s - loss: 0.8636 - accuracy: 0.7706"
     ]
    },
    {
     "name": "stdout",
     "output_type": "stream",
     "text": [
      "\b\b\b\b\b\b\b\b\b\b\b\b\b\b\b\b\b\b\b\b\b\b\b\b\b\b\b\b\b\b\b\b\b\b\b\b\b\b\b\b\b\b\b\b\b\b\b\b\b\b\b\b\b\b\b\b\b\b\b\b\b\b\b\b\b\b\b\b\b\b\b\b\b\b\b\b\b\b\b\b\b\b\b\b\r",
      "123/750 [===>..........................] - ETA: 0s - loss: 0.7175 - accuracy: 0.8042"
     ]
    },
    {
     "name": "stdout",
     "output_type": "stream",
     "text": [
      "\b\b\b\b\b\b\b\b\b\b\b\b\b\b\b\b\b\b\b\b\b\b\b\b\b\b\b\b\b\b\b\b\b\b\b\b\b\b\b\b\b\b\b\b\b\b\b\b\b\b\b\b\b\b\b\b\b\b\b\b\b\b\b\b\b\b\b\b\b\b\b\b\b\b\b\b\b\b\b\b\b\b\b\b\r",
      "162/750 [=====>........................] - ETA: 0s - loss: 0.6300 - accuracy: 0.8288"
     ]
    },
    {
     "name": "stdout",
     "output_type": "stream",
     "text": [
      "\b\b\b\b\b\b\b\b\b\b\b\b\b\b\b\b\b\b\b\b\b\b\b\b\b\b\b\b\b\b\b\b\b\b\b\b\b\b\b\b\b\b\b\b\b\b\b\b\b\b\b\b\b\b\b\b\b\b\b\b\b\b\b\b\b\b\b\b\b\b\b\b\b\b\b\b\b\b\b\b\b\b\b\b\r",
      "199/750 [======>.......................] - ETA: 0s - loss: 0.5741 - accuracy: 0.8436"
     ]
    },
    {
     "name": "stdout",
     "output_type": "stream",
     "text": [
      "\b\b\b\b\b\b\b\b\b\b\b\b\b\b\b\b\b\b\b\b\b\b\b\b\b\b\b\b\b\b\b\b\b\b\b\b\b\b\b\b\b\b\b\b\b\b\b\b\b\b\b\b\b\b\b\b\b\b\b\b\b\b\b\b\b\b\b\b\b\b\b\b\b\b\b\b\b\b\b\b\b\b\b\b\r",
      "237/750 [========>.....................] - ETA: 0s - loss: 0.5321 - accuracy: 0.8551"
     ]
    },
    {
     "name": "stdout",
     "output_type": "stream",
     "text": [
      "\b\b\b\b\b\b\b\b\b\b\b\b\b\b\b\b\b\b\b\b\b\b\b\b\b\b\b\b\b\b\b\b\b\b\b\b\b\b\b\b\b\b\b\b\b\b\b\b\b\b\b\b\b\b\b\b\b\b\b\b\b\b\b\b\b\b\b\b\b\b\b\b\b\b\b\b\b\b\b\b\b\b\b\b\r",
      "277/750 [==========>...................] - ETA: 0s - loss: 0.5001 - accuracy: 0.8636"
     ]
    },
    {
     "name": "stdout",
     "output_type": "stream",
     "text": [
      "\b\b\b\b\b\b\b\b\b\b\b\b\b\b\b\b\b\b\b\b\b\b\b\b\b\b\b\b\b\b\b\b\b\b\b\b\b\b\b\b\b\b\b\b\b\b\b\b\b\b\b\b\b\b\b\b\b\b\b\b\b\b\b\b\b\b\b\b\b\b\b\b\b\b\b\b\b\b\b\b\b\b\b\b\r",
      "316/750 [===========>..................] - ETA: 0s - loss: 0.4703 - accuracy: 0.8720"
     ]
    },
    {
     "name": "stdout",
     "output_type": "stream",
     "text": [
      "\b\b\b\b\b\b\b\b\b\b\b\b\b\b\b\b\b\b\b\b\b\b\b\b\b\b\b\b\b\b\b\b\b\b\b\b\b\b\b\b\b\b\b\b\b\b\b\b\b\b\b\b\b\b\b\b\b\b\b\b\b\b\b\b\b\b\b\b\b\b\b\b\b\b\b\b\b\b\b\b\b\b\b\b\r",
      "354/750 [=============>................] - ETA: 0s - loss: 0.4483 - accuracy: 0.8773"
     ]
    },
    {
     "name": "stdout",
     "output_type": "stream",
     "text": [
      "\b\b\b\b\b\b\b\b\b\b\b\b\b\b\b\b\b\b\b\b\b\b\b\b\b\b\b\b\b\b\b\b\b\b\b\b\b\b\b\b\b\b\b\b\b\b\b\b\b\b\b\b\b\b\b\b\b\b\b\b\b\b\b\b\b\b\b\b\b\b\b\b\b\b\b\b\b\b\b\b\b\b\b\b\r",
      "391/750 [==============>...............] - ETA: 0s - loss: 0.4297 - accuracy: 0.8823"
     ]
    },
    {
     "name": "stdout",
     "output_type": "stream",
     "text": [
      "\b\b\b\b\b\b\b\b\b\b\b\b\b\b\b\b\b\b\b\b\b\b\b\b\b\b\b\b\b\b\b\b\b\b\b\b\b\b\b\b\b\b\b\b\b\b\b\b\b\b\b\b\b\b\b\b\b\b\b\b\b\b\b\b\b\b\b\b\b\b\b\b\b\b\b\b\b\b\b\b\b\b\b\b\r",
      "430/750 [================>.............] - ETA: 0s - loss: 0.4147 - accuracy: 0.8857"
     ]
    },
    {
     "name": "stdout",
     "output_type": "stream",
     "text": [
      "\b\b\b\b\b\b\b\b\b\b\b\b\b\b\b\b\b\b\b\b\b\b\b\b\b\b\b\b\b\b\b\b\b\b\b\b\b\b\b\b\b\b\b\b\b\b\b\b\b\b\b\b\b\b\b\b\b\b\b\b\b\b\b\b\b\b\b\b\b\b\b\b\b\b\b\b\b\b\b\b\b\b\b\b\r",
      "468/750 [=================>............] - ETA: 0s - loss: 0.3996 - accuracy: 0.8893"
     ]
    },
    {
     "name": "stdout",
     "output_type": "stream",
     "text": [
      "\b\b\b\b\b\b\b\b\b\b\b\b\b\b\b\b\b\b\b\b\b\b\b\b\b\b\b\b\b\b\b\b\b\b\b\b\b\b\b\b\b\b\b\b\b\b\b\b\b\b\b\b\b\b\b\b\b\b\b\b\b\b\b\b\b\b\b\b\b\b\b\b\b\b\b\b\b\b\b\b\b\b\b\b\r",
      "508/750 [===================>..........] - ETA: 0s - loss: 0.3877 - accuracy: 0.8922"
     ]
    },
    {
     "name": "stdout",
     "output_type": "stream",
     "text": [
      "\b\b\b\b\b\b\b\b\b\b\b\b\b\b\b\b\b\b\b\b\b\b\b\b\b\b\b\b\b\b\b\b\b\b\b\b\b\b\b\b\b\b\b\b\b\b\b\b\b\b\b\b\b\b\b\b\b\b\b\b\b\b\b\b\b\b\b\b\b\b\b\b\b\b\b\b\b\b\b\b\b\b\b\b\r",
      "541/750 [====================>.........] - ETA: 0s - loss: 0.3768 - accuracy: 0.8948"
     ]
    },
    {
     "name": "stdout",
     "output_type": "stream",
     "text": [
      "\b\b\b\b\b\b\b\b\b\b\b\b\b\b\b\b\b\b\b\b\b\b\b\b\b\b\b\b\b\b\b\b\b\b\b\b\b\b\b\b\b\b\b\b\b\b\b\b\b\b\b\b\b\b\b\b\b\b\b\b\b\b\b\b\b\b\b\b\b\b\b\b\b\b\b\b\b\b\b\b\b\b\b\b\r",
      "577/750 [======================>.......] - ETA: 0s - loss: 0.3673 - accuracy: 0.8974"
     ]
    },
    {
     "name": "stdout",
     "output_type": "stream",
     "text": [
      "\b\b\b\b\b\b\b\b\b\b\b\b\b\b\b\b\b\b\b\b\b\b\b\b\b\b\b\b\b\b\b\b\b\b\b\b\b\b\b\b\b\b\b\b\b\b\b\b\b\b\b\b\b\b\b\b\b\b\b\b\b\b\b\b\b\b\b\b\b\b\b\b\b\b\b\b\b\b\b\b\b\b\b\b\r",
      "610/750 [=======================>......] - ETA: 0s - loss: 0.3573 - accuracy: 0.9001"
     ]
    },
    {
     "name": "stdout",
     "output_type": "stream",
     "text": [
      "\b\b\b\b\b\b\b\b\b\b\b\b\b\b\b\b\b\b\b\b\b\b\b\b\b\b\b\b\b\b\b\b\b\b\b\b\b\b\b\b\b\b\b\b\b\b\b\b\b\b\b\b\b\b\b\b\b\b\b\b\b\b\b\b\b\b\b\b\b\b\b\b\b\b\b\b\b\b\b\b\b\b\b\b\r",
      "645/750 [========================>.....] - ETA: 0s - loss: 0.3494 - accuracy: 0.9021"
     ]
    },
    {
     "name": "stdout",
     "output_type": "stream",
     "text": [
      "\b\b\b\b\b\b\b\b\b\b\b\b\b\b\b\b\b\b\b\b\b\b\b\b\b\b\b\b\b\b\b\b\b\b\b\b\b\b\b\b\b\b\b\b\b\b\b\b\b\b\b\b\b\b\b\b\b\b\b\b\b\b\b\b\b\b\b\b\b\b\b\b\b\b\b\b\b\b\b\b\b\b\b\b\r",
      "684/750 [==========================>...] - ETA: 0s - loss: 0.3412 - accuracy: 0.9043"
     ]
    },
    {
     "name": "stdout",
     "output_type": "stream",
     "text": [
      "\b\b\b\b\b\b\b\b\b\b\b\b\b\b\b\b\b\b\b\b\b\b\b\b\b\b\b\b\b\b\b\b\b\b\b\b\b\b\b\b\b\b\b\b\b\b\b\b\b\b\b\b\b\b\b\b\b\b\b\b\b\b\b\b\b\b\b\b\b\b\b\b\b\b\b\b\b\b\b\b\b\b\b\b\r",
      "726/750 [============================>.] - ETA: 0s - loss: 0.3326 - accuracy: 0.9068"
     ]
    },
    {
     "name": "stdout",
     "output_type": "stream",
     "text": [
      "\b\b\b\b\b\b\b\b\b\b\b\b\b\b\b\b\b\b\b\b\b\b\b\b\b\b\b\b\b\b\b\b\b\b\b\b\b\b\b\b\b\b\b\b\b\b\b\b\b\b\b\b\b\b\b\b\b\b\b\b\b\b\b\b\b\b\b\b\b\b\b\b\b\b\b\b\b\b\b\b\b\b\b\b\r",
      "750/750 [==============================] - 2s 2ms/step - loss: 0.3282 - accuracy: 0.9079 - val_loss: 0.1777 - val_accuracy: 0.9503\n"
     ]
    },
    {
     "name": "stdout",
     "output_type": "stream",
     "text": [
      "Epoch 2/100\n"
     ]
    },
    {
     "name": "stdout",
     "output_type": "stream",
     "text": [
      "\r",
      "  1/750 [..............................] - ETA: 1s - loss: 0.1618 - accuracy: 0.9219"
     ]
    },
    {
     "name": "stdout",
     "output_type": "stream",
     "text": [
      "\b\b\b\b\b\b\b\b\b\b\b\b\b\b\b\b\b\b\b\b\b\b\b\b\b\b\b\b\b\b\b\b\b\b\b\b\b\b\b\b\b\b\b\b\b\b\b\b\b\b\b\b\b\b\b\b\b\b\b\b\b\b\b\b\b\b\b\b\b\b\b\b\b\b\b\b\b\b\b\b\b\b\b\b\r",
      " 42/750 [>.............................] - ETA: 0s - loss: 0.1858 - accuracy: 0.9457"
     ]
    },
    {
     "name": "stdout",
     "output_type": "stream",
     "text": [
      "\b\b\b\b\b\b\b\b\b\b\b\b\b\b\b\b\b\b\b\b\b\b\b\b\b\b\b\b\b\b\b\b\b\b\b\b\b\b\b\b\b\b\b\b\b\b\b\b\b\b\b\b\b\b\b\b\b\b\b\b\b\b\b\b\b\b\b\b\b\b\b\b\b\b\b\b\b\b\b\b\b\b\b\b\r",
      " 82/750 [==>...........................] - ETA: 0s - loss: 0.1805 - accuracy: 0.9474"
     ]
    },
    {
     "name": "stdout",
     "output_type": "stream",
     "text": [
      "\b\b\b\b\b\b\b\b\b\b\b\b\b\b\b\b\b\b\b\b\b\b\b\b\b\b\b\b\b\b\b\b\b\b\b\b\b\b\b\b\b\b\b\b\b\b\b\b\b\b\b\b\b\b\b\b\b\b\b\b\b\b\b\b\b\b\b\b\b\b\b\b\b\b\b\b\b\b\b\b\b\b\b\b\r",
      "121/750 [===>..........................] - ETA: 0s - loss: 0.1774 - accuracy: 0.9496"
     ]
    },
    {
     "name": "stdout",
     "output_type": "stream",
     "text": [
      "\b\b\b\b\b\b\b\b\b\b\b\b\b\b\b\b\b\b\b\b\b\b\b\b\b\b\b\b\b\b\b\b\b\b\b\b\b\b\b\b\b\b\b\b\b\b\b\b\b\b\b\b\b\b\b\b\b\b\b\b\b\b\b\b\b\b\b\b\b\b\b\b\b\b\b\b\b\b\b\b\b\b\b\b\r",
      "159/750 [=====>........................] - ETA: 0s - loss: 0.1741 - accuracy: 0.9507"
     ]
    },
    {
     "name": "stdout",
     "output_type": "stream",
     "text": [
      "\b\b\b\b\b\b\b\b\b\b\b\b\b\b\b\b\b\b\b\b\b\b\b\b\b\b\b\b\b\b\b\b\b\b\b\b\b\b\b\b\b\b\b\b\b\b\b\b\b\b\b\b\b\b\b\b\b\b\b\b\b\b\b\b\b\b\b\b\b\b\b\b\b\b\b\b\b\b\b\b\b\b\b\b\r",
      "198/750 [======>.......................] - ETA: 0s - loss: 0.1711 - accuracy: 0.9511"
     ]
    },
    {
     "name": "stdout",
     "output_type": "stream",
     "text": [
      "\b\b\b\b\b\b\b\b\b\b\b\b\b\b\b\b\b\b\b\b\b\b\b\b\b\b\b\b\b\b\b\b\b\b\b\b\b\b\b\b\b\b\b\b\b\b\b\b\b\b\b\b\b\b\b\b\b\b\b\b\b\b\b\b\b\b\b\b\b\b\b\b\b\b\b\b\b\b\b\b\b\b\b\b\r",
      "238/750 [========>.....................] - ETA: 0s - loss: 0.1729 - accuracy: 0.9506"
     ]
    },
    {
     "name": "stdout",
     "output_type": "stream",
     "text": [
      "\b\b\b\b\b\b\b\b\b\b\b\b\b\b\b\b\b\b\b\b\b\b\b\b\b\b\b\b\b\b\b\b\b\b\b\b\b\b\b\b\b\b\b\b\b\b\b\b\b\b\b\b\b\b\b\b\b\b\b\b\b\b\b\b\b\b\b\b\b\b\b\b\b\b\b\b\b\b\b\b\b\b\b\b\r",
      "278/750 [==========>...................] - ETA: 0s - loss: 0.1689 - accuracy: 0.9516"
     ]
    },
    {
     "name": "stdout",
     "output_type": "stream",
     "text": [
      "\b\b\b\b\b\b\b\b\b\b\b\b\b\b\b\b\b\b\b\b\b\b\b\b\b\b\b\b\b\b\b\b\b\b\b\b\b\b\b\b\b\b\b\b\b\b\b\b\b\b\b\b\b\b\b\b\b\b\b\b\b\b\b\b\b\b\b\b\b\b\b\b\b\b\b\b\b\b\b\b\b\b\b\b\r",
      "318/750 [===========>..................] - ETA: 0s - loss: 0.1668 - accuracy: 0.9522"
     ]
    },
    {
     "name": "stdout",
     "output_type": "stream",
     "text": [
      "\b\b\b\b\b\b\b\b\b\b\b\b\b\b\b\b\b\b\b\b\b\b\b\b\b\b\b\b\b\b\b\b\b\b\b\b\b\b\b\b\b\b\b\b\b\b\b\b\b\b\b\b\b\b\b\b\b\b\b\b\b\b\b\b\b\b\b\b\b\b\b\b\b\b\b\b\b\b\b\b\b\b\b\b\r",
      "357/750 [=============>................] - ETA: 0s - loss: 0.1642 - accuracy: 0.9531"
     ]
    },
    {
     "name": "stdout",
     "output_type": "stream",
     "text": [
      "\b\b\b\b\b\b\b\b\b\b\b\b\b\b\b\b\b\b\b\b\b\b\b\b\b\b\b\b\b\b\b\b\b\b\b\b\b\b\b\b\b\b\b\b\b\b\b\b\b\b\b\b\b\b\b\b\b\b\b\b\b\b\b\b\b\b\b\b\b\b\b\b\b\b\b\b\b\b\b\b\b\b\b\b\r",
      "396/750 [==============>...............] - ETA: 0s - loss: 0.1622 - accuracy: 0.9535"
     ]
    },
    {
     "name": "stdout",
     "output_type": "stream",
     "text": [
      "\b\b\b\b\b\b\b\b\b\b\b\b\b\b\b\b\b\b\b\b\b\b\b\b\b\b\b\b\b\b\b\b\b\b\b\b\b\b\b\b\b\b\b\b\b\b\b\b\b\b\b\b\b\b\b\b\b\b\b\b\b\b\b\b\b\b\b\b\b\b\b\b\b\b\b\b\b\b\b\b\b\b\b\b\r",
      "436/750 [================>.............] - ETA: 0s - loss: 0.1607 - accuracy: 0.9539"
     ]
    },
    {
     "name": "stdout",
     "output_type": "stream",
     "text": [
      "\b\b\b\b\b\b\b\b\b\b\b\b\b\b\b\b\b\b\b\b\b\b\b\b\b\b\b\b\b\b\b\b\b\b\b\b\b\b\b\b\b\b\b\b\b\b\b\b\b\b\b\b\b\b\b\b\b\b\b\b\b\b\b\b\b\b\b\b\b\b\b\b\b\b\b\b\b\b\b\b\b\b\b\b\r",
      "475/750 [==================>...........] - ETA: 0s - loss: 0.1610 - accuracy: 0.9538"
     ]
    },
    {
     "name": "stdout",
     "output_type": "stream",
     "text": [
      "\b\b\b\b\b\b\b\b\b\b\b\b\b\b\b\b\b\b\b\b\b\b\b\b\b\b\b\b\b\b\b\b\b\b\b\b\b\b\b\b\b\b\b\b\b\b\b\b\b\b\b\b\b\b\b\b\b\b\b\b\b\b\b\b\b\b\b\b\b\b\b\b\b\b\b\b\b\b\b\b\b\b\b\b\r",
      "514/750 [===================>..........] - ETA: 0s - loss: 0.1600 - accuracy: 0.9541"
     ]
    },
    {
     "name": "stdout",
     "output_type": "stream",
     "text": [
      "\b\b\b\b\b\b\b\b\b\b\b\b\b\b\b\b\b\b\b\b\b\b\b\b\b\b\b\b\b\b\b\b\b\b\b\b\b\b\b\b\b\b\b\b\b\b\b\b\b\b\b\b\b\b\b\b\b\b\b\b\b\b\b\b\b\b\b\b\b\b\b\b\b\b\b\b\b\b\b\b\b\b\b\b\r",
      "552/750 [=====================>........] - ETA: 0s - loss: 0.1588 - accuracy: 0.9544"
     ]
    },
    {
     "name": "stdout",
     "output_type": "stream",
     "text": [
      "\b\b\b\b\b\b\b\b\b\b\b\b\b\b\b\b\b\b\b\b\b\b\b\b\b\b\b\b\b\b\b\b\b\b\b\b\b\b\b\b\b\b\b\b\b\b\b\b\b\b\b\b\b\b\b\b\b\b\b\b\b\b\b\b\b\b\b\b\b\b\b\b\b\b\b\b\b\b\b\b\b\b\b\b\r",
      "592/750 [======================>.......] - ETA: 0s - loss: 0.1577 - accuracy: 0.9548"
     ]
    },
    {
     "name": "stdout",
     "output_type": "stream",
     "text": [
      "\b\b\b\b\b\b\b\b\b\b\b\b\b\b\b\b\b\b\b\b\b\b\b\b\b\b\b\b\b\b\b\b\b\b\b\b\b\b\b\b\b\b\b\b\b\b\b\b\b\b\b\b\b\b\b\b\b\b\b\b\b\b\b\b\b\b\b\b\b\b\b\b\b\b\b\b\b\b\b\b\b\b\b\b\r",
      "630/750 [========================>.....] - ETA: 0s - loss: 0.1560 - accuracy: 0.9553"
     ]
    },
    {
     "name": "stdout",
     "output_type": "stream",
     "text": [
      "\b\b\b\b\b\b\b\b\b\b\b\b\b\b\b\b\b\b\b\b\b\b\b\b\b\b\b\b\b\b\b\b\b\b\b\b\b\b\b\b\b\b\b\b\b\b\b\b\b\b\b\b\b\b\b\b\b\b\b\b\b\b\b\b\b\b\b\b\b\b\b\b\b\b\b\b\b\b\b\b\b\b\b\b\r",
      "666/750 [=========================>....] - ETA: 0s - loss: 0.1548 - accuracy: 0.9558"
     ]
    },
    {
     "name": "stdout",
     "output_type": "stream",
     "text": [
      "\b\b\b\b\b\b\b\b\b\b\b\b\b\b\b\b\b\b\b\b\b\b\b\b\b\b\b\b\b\b\b\b\b\b\b\b\b\b\b\b\b\b\b\b\b\b\b\b\b\b\b\b\b\b\b\b\b\b\b\b\b\b\b\b\b\b\b\b\b\b\b\b\b\b\b\b\b\b\b\b\b\b\b\b\r",
      "705/750 [===========================>..] - ETA: 0s - loss: 0.1537 - accuracy: 0.9560"
     ]
    },
    {
     "name": "stdout",
     "output_type": "stream",
     "text": [
      "\b\b\b\b\b\b\b\b\b\b\b\b\b\b\b\b\b\b\b\b\b\b\b\b\b\b\b\b\b\b\b\b\b\b\b\b\b\b\b\b\b\b\b\b\b\b\b\b\b\b\b\b\b\b\b\b\b\b\b\b\b\b\b\b\b\b\b\b\b\b\b\b\b\b\b\b\b\b\b\b\b\b\b\b\r",
      "744/750 [============================>.] - ETA: 0s - loss: 0.1523 - accuracy: 0.9564"
     ]
    },
    {
     "name": "stdout",
     "output_type": "stream",
     "text": [
      "\b\b\b\b\b\b\b\b\b\b\b\b\b\b\b\b\b\b\b\b\b\b\b\b\b\b\b\b\b\b\b\b\b\b\b\b\b\b\b\b\b\b\b\b\b\b\b\b\b\b\b\b\b\b\b\b\b\b\b\b\b\b\b\b\b\b\b\b\b\b\b\b\b\b\b\b\b\b\b\b\b\b\b\b\r",
      "750/750 [==============================] - 1s 2ms/step - loss: 0.1523 - accuracy: 0.9564 - val_loss: 0.1317 - val_accuracy: 0.9638\n"
     ]
    },
    {
     "name": "stdout",
     "output_type": "stream",
     "text": [
      "Epoch 3/100\n"
     ]
    },
    {
     "name": "stdout",
     "output_type": "stream",
     "text": [
      "\r",
      "  1/750 [..............................] - ETA: 1s - loss: 0.1104 - accuracy: 0.9688"
     ]
    },
    {
     "name": "stdout",
     "output_type": "stream",
     "text": [
      "\b\b\b\b\b\b\b\b\b\b\b\b\b\b\b\b\b\b\b\b\b\b\b\b\b\b\b\b\b\b\b\b\b\b\b\b\b\b\b\b\b\b\b\b\b\b\b\b\b\b\b\b\b\b\b\b\b\b\b\b\b\b\b\b\b\b\b\b\b\b\b\b\b\b\b\b\b\b\b\b\b\b\b\b\r",
      " 40/750 [>.............................] - ETA: 0s - loss: 0.1023 - accuracy: 0.9695"
     ]
    },
    {
     "name": "stdout",
     "output_type": "stream",
     "text": [
      "\b\b\b\b\b\b\b\b\b\b\b\b\b\b\b\b\b\b\b\b\b\b\b\b\b\b\b\b\b\b\b\b\b\b\b\b\b\b\b\b\b\b\b\b\b\b\b\b\b\b\b\b\b\b\b\b\b\b\b\b\b\b\b\b\b\b\b\b\b\b\b\b\b\b\b\b\b\b\b\b\b\b\b\b\r",
      " 79/750 [==>...........................] - ETA: 0s - loss: 0.1039 - accuracy: 0.9711"
     ]
    },
    {
     "name": "stdout",
     "output_type": "stream",
     "text": [
      "\b\b\b\b\b\b\b\b\b\b\b\b\b\b\b\b\b\b\b\b\b\b\b\b\b\b\b\b\b\b\b\b\b\b\b\b\b\b\b\b\b\b\b\b\b\b\b\b\b\b\b\b\b\b\b\b\b\b\b\b\b\b\b\b\b\b\b\b\b\b\b\b\b\b\b\b\b\b\b\b\b\b\b\b\r",
      "118/750 [===>..........................] - ETA: 0s - loss: 0.1086 - accuracy: 0.9709"
     ]
    },
    {
     "name": "stdout",
     "output_type": "stream",
     "text": [
      "\b\b\b\b\b\b\b\b\b\b\b\b\b\b\b\b\b\b\b\b\b\b\b\b\b\b\b\b\b\b\b\b\b\b\b\b\b\b\b\b\b\b\b\b\b\b\b\b\b\b\b\b\b\b\b\b\b\b\b\b\b\b\b\b\b\b\b\b\b\b\b\b\b\b\b\b\b\b\b\b\b\b\b\b\r",
      "158/750 [=====>........................] - ETA: 0s - loss: 0.1090 - accuracy: 0.9697"
     ]
    },
    {
     "name": "stdout",
     "output_type": "stream",
     "text": [
      "\b\b\b\b\b\b\b\b\b\b\b\b\b\b\b\b\b\b\b\b\b\b\b\b\b\b\b\b\b\b\b\b\b\b\b\b\b\b\b\b\b\b\b\b\b\b\b\b\b\b\b\b\b\b\b\b\b\b\b\b\b\b\b\b\b\b\b\b\b\b\b\b\b\b\b\b\b\b\b\b\b\b\b\b\r",
      "198/750 [======>.......................] - ETA: 0s - loss: 0.1104 - accuracy: 0.9691"
     ]
    },
    {
     "name": "stdout",
     "output_type": "stream",
     "text": [
      "\b\b\b\b\b\b\b\b\b\b\b\b\b\b\b\b\b\b\b\b\b\b\b\b\b\b\b\b\b\b\b\b\b\b\b\b\b\b\b\b\b\b\b\b\b\b\b\b\b\b\b\b\b\b\b\b\b\b\b\b\b\b\b\b\b\b\b\b\b\b\b\b\b\b\b\b\b\b\b\b\b\b\b\b\r",
      "237/750 [========>.....................] - ETA: 0s - loss: 0.1083 - accuracy: 0.9697"
     ]
    },
    {
     "name": "stdout",
     "output_type": "stream",
     "text": [
      "\b\b\b\b\b\b\b\b\b\b\b\b\b\b\b\b\b\b\b\b\b\b\b\b\b\b\b\b\b\b\b\b\b\b\b\b\b\b\b\b\b\b\b\b\b\b\b\b\b\b\b\b\b\b\b\b\b\b\b\b\b\b\b\b\b\b\b\b\b\b\b\b\b\b\b\b\b\b\b\b\b\b\b\b\r",
      "277/750 [==========>...................] - ETA: 0s - loss: 0.1072 - accuracy: 0.9697"
     ]
    },
    {
     "name": "stdout",
     "output_type": "stream",
     "text": [
      "\b\b\b\b\b\b\b\b\b\b\b\b\b\b\b\b\b\b\b\b\b\b\b\b\b\b\b\b\b\b\b\b\b\b\b\b\b\b\b\b\b\b\b\b\b\b\b\b\b\b\b\b\b\b\b\b\b\b\b\b\b\b\b\b\b\b\b\b\b\b\b\b\b\b\b\b\b\b\b\b\b\b\b\b\r",
      "318/750 [===========>..................] - ETA: 0s - loss: 0.1073 - accuracy: 0.9693"
     ]
    },
    {
     "name": "stdout",
     "output_type": "stream",
     "text": [
      "\b\b\b\b\b\b\b\b\b\b\b\b\b\b\b\b\b\b\b\b\b\b\b\b\b\b\b\b\b\b\b\b\b\b\b\b\b\b\b\b\b\b\b\b\b\b\b\b\b\b\b\b\b\b\b\b\b\b\b\b\b\b\b\b\b\b\b\b\b\b\b\b\b\b\b\b\b\b\b\b\b\b\b\b\r",
      "359/750 [=============>................] - ETA: 0s - loss: 0.1077 - accuracy: 0.9688"
     ]
    },
    {
     "name": "stdout",
     "output_type": "stream",
     "text": [
      "\b\b\b\b\b\b\b\b\b\b\b\b\b\b\b\b\b\b\b\b\b\b\b\b\b\b\b\b\b\b\b\b\b\b\b\b\b\b\b\b\b\b\b\b\b\b\b\b\b\b\b\b\b\b\b\b\b\b\b\b\b\b\b\b\b\b\b\b\b\b\b\b\b\b\b\b\b\b\b\b\b\b\b\b\r",
      "399/750 [==============>...............] - ETA: 0s - loss: 0.1066 - accuracy: 0.9691"
     ]
    },
    {
     "name": "stdout",
     "output_type": "stream",
     "text": [
      "\b\b\b\b\b\b\b\b\b\b\b\b\b\b\b\b\b\b\b\b\b\b\b\b\b\b\b\b\b\b\b\b\b\b\b\b\b\b\b\b\b\b\b\b\b\b\b\b\b\b\b\b\b\b\b\b\b\b\b\b\b\b\b\b\b\b\b\b\b\b\b\b\b\b\b\b\b\b\b\b\b\b\b\b\r",
      "439/750 [================>.............] - ETA: 0s - loss: 0.1067 - accuracy: 0.9690"
     ]
    },
    {
     "name": "stdout",
     "output_type": "stream",
     "text": [
      "\b\b\b\b\b\b\b\b\b\b\b\b\b\b\b\b\b\b\b\b\b\b\b\b\b\b\b\b\b\b\b\b\b\b\b\b\b\b\b\b\b\b\b\b\b\b\b\b\b\b\b\b\b\b\b\b\b\b\b\b\b\b\b\b\b\b\b\b\b\b\b\b\b\b\b\b\b\b\b\b\b\b\b\b\r",
      "479/750 [==================>...........] - ETA: 0s - loss: 0.1077 - accuracy: 0.9689"
     ]
    },
    {
     "name": "stdout",
     "output_type": "stream",
     "text": [
      "\b\b\b\b\b\b\b\b\b\b\b\b\b\b\b\b\b\b\b\b\b\b\b\b\b\b\b\b\b\b\b\b\b\b\b\b\b\b\b\b\b\b\b\b\b\b\b\b\b\b\b\b\b\b\b\b\b\b\b\b\b\b\b\b\b\b\b\b\b\b\b\b\b\b\b\b\b\b\b\b\b\b\b\b\r",
      "517/750 [===================>..........] - ETA: 0s - loss: 0.1082 - accuracy: 0.9685"
     ]
    },
    {
     "name": "stdout",
     "output_type": "stream",
     "text": [
      "\b\b\b\b\b\b\b\b\b\b\b\b\b\b\b\b\b\b\b\b\b\b\b\b\b\b\b\b\b\b\b\b\b\b\b\b\b\b\b\b\b\b\b\b\b\b\b\b\b\b\b\b\b\b\b\b\b\b\b\b\b\b\b\b\b\b\b\b\b\b\b\b\b\b\b\b\b\b\b\b\b\b\b\b\r",
      "555/750 [=====================>........] - ETA: 0s - loss: 0.1092 - accuracy: 0.9684"
     ]
    },
    {
     "name": "stdout",
     "output_type": "stream",
     "text": [
      "\b\b\b\b\b\b\b\b\b\b\b\b\b\b\b\b\b\b\b\b\b\b\b\b\b\b\b\b\b\b\b\b\b\b\b\b\b\b\b\b\b\b\b\b\b\b\b\b\b\b\b\b\b\b\b\b\b\b\b\b\b\b\b\b\b\b\b\b\b\b\b\b\b\b\b\b\b\b\b\b\b\b\b\b\r",
      "595/750 [======================>.......] - ETA: 0s - loss: 0.1091 - accuracy: 0.9683"
     ]
    },
    {
     "name": "stdout",
     "output_type": "stream",
     "text": [
      "\b\b\b\b\b\b\b\b\b\b\b\b\b\b\b\b\b\b\b\b\b\b\b\b\b\b\b\b\b\b\b\b\b\b\b\b\b\b\b\b\b\b\b\b\b\b\b\b\b\b\b\b\b\b\b\b\b\b\b\b\b\b\b\b\b\b\b\b\b\b\b\b\b\b\b\b\b\b\b\b\b\b\b\b\r",
      "635/750 [========================>.....] - ETA: 0s - loss: 0.1088 - accuracy: 0.9684"
     ]
    },
    {
     "name": "stdout",
     "output_type": "stream",
     "text": [
      "\b\b\b\b\b\b\b\b\b\b\b\b\b\b\b\b\b\b\b\b\b\b\b\b\b\b\b\b\b\b\b\b\b\b\b\b\b\b\b\b\b\b\b\b\b\b\b\b\b\b\b\b\b\b\b\b\b\b\b\b\b\b\b\b\b\b\b\b\b\b\b\b\b\b\b\b\b\b\b\b\b\b\b\b\r",
      "674/750 [=========================>....] - ETA: 0s - loss: 0.1083 - accuracy: 0.9686"
     ]
    },
    {
     "name": "stdout",
     "output_type": "stream",
     "text": [
      "\b\b\b\b\b\b\b\b\b\b\b\b\b\b\b\b\b\b\b\b\b\b\b\b\b\b\b\b\b\b\b\b\b\b\b\b\b\b\b\b\b\b\b\b\b\b\b\b\b\b\b\b\b\b\b\b\b\b\b\b\b\b\b\b\b\b\b\b\b\b\b\b\b\b\b\b\b\b\b\b\b\b\b\b\r",
      "712/750 [===========================>..] - ETA: 0s - loss: 0.1080 - accuracy: 0.9687"
     ]
    },
    {
     "name": "stdout",
     "output_type": "stream",
     "text": [
      "\b\b\b\b\b\b\b\b\b\b\b\b\b\b\b\b\b\b\b\b\b\b\b\b\b\b\b\b\b\b\b\b\b\b\b\b\b\b\b\b\b\b\b\b\b\b\b\b\b\b\b\b\b\b\b\b\b\b\b\b\b\b\b\b\b\b\b\b\b\b\b\b\b\b\b\b\b\b\b\b\b\b\b\b\r",
      "750/750 [==============================] - 1s 1ms/step - loss: 0.1070 - accuracy: 0.9689 - val_loss: 0.1179 - val_accuracy: 0.9660\n"
     ]
    },
    {
     "name": "stdout",
     "output_type": "stream",
     "text": [
      "Epoch 4/100\n"
     ]
    },
    {
     "name": "stdout",
     "output_type": "stream",
     "text": [
      "\r",
      "  1/750 [..............................] - ETA: 1s - loss: 0.1461 - accuracy: 0.9688"
     ]
    },
    {
     "name": "stdout",
     "output_type": "stream",
     "text": [
      "\b\b\b\b\b\b\b\b\b\b\b\b\b\b\b\b\b\b\b\b\b\b\b\b\b\b\b\b\b\b\b\b\b\b\b\b\b\b\b\b\b\b\b\b\b\b\b\b\b\b\b\b\b\b\b\b\b\b\b\b\b\b\b\b\b\b\b\b\b\b\b\b\b\b\b\b\b\b\b\b\b\b\b\b\r",
      " 40/750 [>.............................] - ETA: 0s - loss: 0.0801 - accuracy: 0.9762"
     ]
    },
    {
     "name": "stdout",
     "output_type": "stream",
     "text": [
      "\b\b\b\b\b\b\b\b\b\b\b\b\b\b\b\b\b\b\b\b\b\b\b\b\b\b\b\b\b\b\b\b\b\b\b\b\b\b\b\b\b\b\b\b\b\b\b\b\b\b\b\b\b\b\b\b\b\b\b\b\b\b\b\b\b\b\b\b\b\b\b\b\b\b\b\b\b\b\b\b\b\b\b\b\r",
      " 79/750 [==>...........................] - ETA: 0s - loss: 0.0826 - accuracy: 0.9759"
     ]
    },
    {
     "name": "stdout",
     "output_type": "stream",
     "text": [
      "\b\b\b\b\b\b\b\b\b\b\b\b\b\b\b\b\b\b\b\b\b\b\b\b\b\b\b\b\b\b\b\b\b\b\b\b\b\b\b\b\b\b\b\b\b\b\b\b\b\b\b\b\b\b\b\b\b\b\b\b\b\b\b\b\b\b\b\b\b\b\b\b\b\b\b\b\b\b\b\b\b\b\b\b\r",
      "117/750 [===>..........................] - ETA: 0s - loss: 0.0812 - accuracy: 0.9762"
     ]
    },
    {
     "name": "stdout",
     "output_type": "stream",
     "text": [
      "\b\b\b\b\b\b\b\b\b\b\b\b\b\b\b\b\b\b\b\b\b\b\b\b\b\b\b\b\b\b\b\b\b\b\b\b\b\b\b\b\b\b\b\b\b\b\b\b\b\b\b\b\b\b\b\b\b\b\b\b\b\b\b\b\b\b\b\b\b\b\b\b\b\b\b\b\b\b\b\b\b\b\b\b\r",
      "156/750 [=====>........................] - ETA: 0s - loss: 0.0794 - accuracy: 0.9770"
     ]
    },
    {
     "name": "stdout",
     "output_type": "stream",
     "text": [
      "\b\b\b\b\b\b\b\b\b\b\b\b\b\b\b\b\b\b\b\b\b\b\b\b\b\b\b\b\b\b\b\b\b\b\b\b\b\b\b\b\b\b\b\b\b\b\b\b\b\b\b\b\b\b\b\b\b\b\b\b\b\b\b\b\b\b\b\b\b\b\b\b\b\b\b\b\b\b\b\b\b\b\b\b\r",
      "195/750 [======>.......................] - ETA: 0s - loss: 0.0791 - accuracy: 0.9767"
     ]
    },
    {
     "name": "stdout",
     "output_type": "stream",
     "text": [
      "\b\b\b\b\b\b\b\b\b\b\b\b\b\b\b\b\b\b\b\b\b\b\b\b\b\b\b\b\b\b\b\b\b\b\b\b\b\b\b\b\b\b\b\b\b\b\b\b\b\b\b\b\b\b\b\b\b\b\b\b\b\b\b\b\b\b\b\b\b\b\b\b\b\b\b\b\b\b\b\b\b\b\b\b\r",
      "233/750 [========>.....................] - ETA: 0s - loss: 0.0794 - accuracy: 0.9766"
     ]
    },
    {
     "name": "stdout",
     "output_type": "stream",
     "text": [
      "\b\b\b\b\b\b\b\b\b\b\b\b\b\b\b\b\b\b\b\b\b\b\b\b\b\b\b\b\b\b\b\b\b\b\b\b\b\b\b\b\b\b\b\b\b\b\b\b\b\b\b\b\b\b\b\b\b\b\b\b\b\b\b\b\b\b\b\b\b\b\b\b\b\b\b\b\b\b\b\b\b\b\b\b\r",
      "272/750 [=========>....................] - ETA: 0s - loss: 0.0788 - accuracy: 0.9770"
     ]
    },
    {
     "name": "stdout",
     "output_type": "stream",
     "text": [
      "\b\b\b\b\b\b\b\b\b\b\b\b\b\b\b\b\b\b\b\b\b\b\b\b\b\b\b\b\b\b\b\b\b\b\b\b\b\b\b\b\b\b\b\b\b\b\b\b\b\b\b\b\b\b\b\b\b\b\b\b\b\b\b\b\b\b\b\b\b\b\b\b\b\b\b\b\b\b\b\b\b\b\b\b\r",
      "311/750 [===========>..................] - ETA: 0s - loss: 0.0814 - accuracy: 0.9762"
     ]
    },
    {
     "name": "stdout",
     "output_type": "stream",
     "text": [
      "\b\b\b\b\b\b\b\b\b\b\b\b\b\b\b\b\b\b\b\b\b\b\b\b\b\b\b\b\b\b\b\b\b\b\b\b\b\b\b\b\b\b\b\b\b\b\b\b\b\b\b\b\b\b\b\b\b\b\b\b\b\b\b\b\b\b\b\b\b\b\b\b\b\b\b\b\b\b\b\b\b\b\b\b\r",
      "351/750 [=============>................] - ETA: 0s - loss: 0.0816 - accuracy: 0.9759"
     ]
    },
    {
     "name": "stdout",
     "output_type": "stream",
     "text": [
      "\b\b\b\b\b\b\b\b\b\b\b\b\b\b\b\b\b\b\b\b\b\b\b\b\b\b\b\b\b\b\b\b\b\b\b\b\b\b\b\b\b\b\b\b\b\b\b\b\b\b\b\b\b\b\b\b\b\b\b\b\b\b\b\b\b\b\b\b\b\b\b\b\b\b\b\b\b\b\b\b\b\b\b\b\r",
      "390/750 [==============>...............] - ETA: 0s - loss: 0.0823 - accuracy: 0.9758"
     ]
    },
    {
     "name": "stdout",
     "output_type": "stream",
     "text": [
      "\b\b\b\b\b\b\b\b\b\b\b\b\b\b\b\b\b\b\b\b\b\b\b\b\b\b\b\b\b\b\b\b\b\b\b\b\b\b\b\b\b\b\b\b\b\b\b\b\b\b\b\b\b\b\b\b\b\b\b\b\b\b\b\b\b\b\b\b\b\b\b\b\b\b\b\b\b\b\b\b\b\b\b\b\r",
      "426/750 [================>.............] - ETA: 0s - loss: 0.0831 - accuracy: 0.9755"
     ]
    },
    {
     "name": "stdout",
     "output_type": "stream",
     "text": [
      "\b\b\b\b\b\b\b\b\b\b\b\b\b\b\b\b\b\b\b\b\b\b\b\b\b\b\b\b\b\b\b\b\b\b\b\b\b\b\b\b\b\b\b\b\b\b\b\b\b\b\b\b\b\b\b\b\b\b\b\b\b\b\b\b\b\b\b\b\b\b\b\b\b\b\b\b\b\b\b\b\b\b\b\b\r",
      "464/750 [=================>............] - ETA: 0s - loss: 0.0831 - accuracy: 0.9759"
     ]
    },
    {
     "name": "stdout",
     "output_type": "stream",
     "text": [
      "\b\b\b\b\b\b\b\b\b\b\b\b\b\b\b\b\b\b\b\b\b\b\b\b\b\b\b\b\b\b\b\b\b\b\b\b\b\b\b\b\b\b\b\b\b\b\b\b\b\b\b\b\b\b\b\b\b\b\b\b\b\b\b\b\b\b\b\b\b\b\b\b\b\b\b\b\b\b\b\b\b\b\b\b\r",
      "503/750 [===================>..........] - ETA: 0s - loss: 0.0829 - accuracy: 0.9760"
     ]
    },
    {
     "name": "stdout",
     "output_type": "stream",
     "text": [
      "\b\b\b\b\b\b\b\b\b\b\b\b\b\b\b\b\b\b\b\b\b\b\b\b\b\b\b\b\b\b\b\b\b\b\b\b\b\b\b\b\b\b\b\b\b\b\b\b\b\b\b\b\b\b\b\b\b\b\b\b\b\b\b\b\b\b\b\b\b\b\b\b\b\b\b\b\b\b\b\b\b\b\b\b\r",
      "542/750 [====================>.........] - ETA: 0s - loss: 0.0826 - accuracy: 0.9761"
     ]
    },
    {
     "name": "stdout",
     "output_type": "stream",
     "text": [
      "\b\b\b\b\b\b\b\b\b\b\b\b\b\b\b\b\b\b\b\b\b\b\b\b\b\b\b\b\b\b\b\b\b\b\b\b\b\b\b\b\b\b\b\b\b\b\b\b\b\b\b\b\b\b\b\b\b\b\b\b\b\b\b\b\b\b\b\b\b\b\b\b\b\b\b\b\b\b\b\b\b\b\b\b\r",
      "581/750 [======================>.......] - ETA: 0s - loss: 0.0824 - accuracy: 0.9761"
     ]
    },
    {
     "name": "stdout",
     "output_type": "stream",
     "text": [
      "\b\b\b\b\b\b\b\b\b\b\b\b\b\b\b\b\b\b\b\b\b\b\b\b\b\b\b\b\b\b\b\b\b\b\b\b\b\b\b\b\b\b\b\b\b\b\b\b\b\b\b\b\b\b\b\b\b\b\b\b\b\b\b\b\b\b\b\b\b\b\b\b\b\b\b\b\b\b\b\b\b\b\b\b\r",
      "620/750 [=======================>......] - ETA: 0s - loss: 0.0823 - accuracy: 0.9763"
     ]
    },
    {
     "name": "stdout",
     "output_type": "stream",
     "text": [
      "\b\b\b\b\b\b\b\b\b\b\b\b\b\b\b\b\b\b\b\b\b\b\b\b\b\b\b\b\b\b\b\b\b\b\b\b\b\b\b\b\b\b\b\b\b\b\b\b\b\b\b\b\b\b\b\b\b\b\b\b\b\b\b\b\b\b\b\b\b\b\b\b\b\b\b\b\b\b\b\b\b\b\b\b\r",
      "659/750 [=========================>....] - ETA: 0s - loss: 0.0825 - accuracy: 0.9759"
     ]
    },
    {
     "name": "stdout",
     "output_type": "stream",
     "text": [
      "\b\b\b\b\b\b\b\b\b\b\b\b\b\b\b\b\b\b\b\b\b\b\b\b\b\b\b\b\b\b\b\b\b\b\b\b\b\b\b\b\b\b\b\b\b\b\b\b\b\b\b\b\b\b\b\b\b\b\b\b\b\b\b\b\b\b\b\b\b\b\b\b\b\b\b\b\b\b\b\b\b\b\b\b\r",
      "698/750 [==========================>...] - ETA: 0s - loss: 0.0828 - accuracy: 0.9758"
     ]
    },
    {
     "name": "stdout",
     "output_type": "stream",
     "text": [
      "\b\b\b\b\b\b\b\b\b\b\b\b\b\b\b\b\b\b\b\b\b\b\b\b\b\b\b\b\b\b\b\b\b\b\b\b\b\b\b\b\b\b\b\b\b\b\b\b\b\b\b\b\b\b\b\b\b\b\b\b\b\b\b\b\b\b\b\b\b\b\b\b\b\b\b\b\b\b\b\b\b\b\b\b\r",
      "737/750 [============================>.] - ETA: 0s - loss: 0.0826 - accuracy: 0.9759"
     ]
    },
    {
     "name": "stdout",
     "output_type": "stream",
     "text": [
      "\b\b\b\b\b\b\b\b\b\b\b\b\b\b\b\b\b\b\b\b\b\b\b\b\b\b\b\b\b\b\b\b\b\b\b\b\b\b\b\b\b\b\b\b\b\b\b\b\b\b\b\b\b\b\b\b\b\b\b\b\b\b\b\b\b\b\b\b\b\b\b\b\b\b\b\b\b\b\b\b\b\b\b\b\r",
      "750/750 [==============================] - 1s 2ms/step - loss: 0.0828 - accuracy: 0.9758 - val_loss: 0.1018 - val_accuracy: 0.9698\n"
     ]
    },
    {
     "name": "stdout",
     "output_type": "stream",
     "text": [
      "Epoch 5/100\n"
     ]
    },
    {
     "name": "stdout",
     "output_type": "stream",
     "text": [
      "\r",
      "  1/750 [..............................] - ETA: 0s - loss: 0.0328 - accuracy: 1.0000"
     ]
    },
    {
     "name": "stdout",
     "output_type": "stream",
     "text": [
      "\b\b\b\b\b\b\b\b\b\b\b\b\b\b\b\b\b\b\b\b\b\b\b\b\b\b\b\b\b\b\b\b\b\b\b\b\b\b\b\b\b\b\b\b\b\b\b\b\b\b\b\b\b\b\b\b\b\b\b\b\b\b\b\b\b\b\b\b\b\b\b\b\b\b\b\b\b\b\b\b\b\b\b\b\r",
      " 40/750 [>.............................] - ETA: 0s - loss: 0.0603 - accuracy: 0.9840"
     ]
    },
    {
     "name": "stdout",
     "output_type": "stream",
     "text": [
      "\b\b\b\b\b\b\b\b\b\b\b\b\b\b\b\b\b\b\b\b\b\b\b\b\b\b\b\b\b\b\b\b\b\b\b\b\b\b\b\b\b\b\b\b\b\b\b\b\b\b\b\b\b\b\b\b\b\b\b\b\b\b\b\b\b\b\b\b\b\b\b\b\b\b\b\b\b\b\b\b\b\b\b\b\r",
      " 79/750 [==>...........................] - ETA: 0s - loss: 0.0552 - accuracy: 0.9850"
     ]
    },
    {
     "name": "stdout",
     "output_type": "stream",
     "text": [
      "\b\b\b\b\b\b\b\b\b\b\b\b\b\b\b\b\b\b\b\b\b\b\b\b\b\b\b\b\b\b\b\b\b\b\b\b\b\b\b\b\b\b\b\b\b\b\b\b\b\b\b\b\b\b\b\b\b\b\b\b\b\b\b\b\b\b\b\b\b\b\b\b\b\b\b\b\b\b\b\b\b\b\b\b\r",
      "119/750 [===>..........................] - ETA: 0s - loss: 0.0558 - accuracy: 0.9848"
     ]
    },
    {
     "name": "stdout",
     "output_type": "stream",
     "text": [
      "\b\b\b\b\b\b\b\b\b\b\b\b\b\b\b\b\b\b\b\b\b\b\b\b\b\b\b\b\b\b\b\b\b\b\b\b\b\b\b\b\b\b\b\b\b\b\b\b\b\b\b\b\b\b\b\b\b\b\b\b\b\b\b\b\b\b\b\b\b\b\b\b\b\b\b\b\b\b\b\b\b\b\b\b\r",
      "157/750 [=====>........................] - ETA: 0s - loss: 0.0601 - accuracy: 0.9835"
     ]
    },
    {
     "name": "stdout",
     "output_type": "stream",
     "text": [
      "\b\b\b\b\b\b\b\b\b\b\b\b\b\b\b\b\b\b\b\b\b\b\b\b\b\b\b\b\b\b\b\b\b\b\b\b\b\b\b\b\b\b\b\b\b\b\b\b\b\b\b\b\b\b\b\b\b\b\b\b\b\b\b\b\b\b\b\b\b\b\b\b\b\b\b\b\b\b\b\b\b\b\b\b\r",
      "196/750 [======>.......................] - ETA: 0s - loss: 0.0602 - accuracy: 0.9837"
     ]
    },
    {
     "name": "stdout",
     "output_type": "stream",
     "text": [
      "\b\b\b\b\b\b\b\b\b\b\b\b\b\b\b\b\b\b\b\b\b\b\b\b\b\b\b\b\b\b\b\b\b\b\b\b\b\b\b\b\b\b\b\b\b\b\b\b\b\b\b\b\b\b\b\b\b\b\b\b\b\b\b\b\b\b\b\b\b\b\b\b\b\b\b\b\b\b\b\b\b\b\b\b\r",
      "235/750 [========>.....................] - ETA: 0s - loss: 0.0611 - accuracy: 0.9831"
     ]
    },
    {
     "name": "stdout",
     "output_type": "stream",
     "text": [
      "\b\b\b\b\b\b\b\b\b\b\b\b\b\b\b\b\b\b\b\b\b\b\b\b\b\b\b\b\b\b\b\b\b\b\b\b\b\b\b\b\b\b\b\b\b\b\b\b\b\b\b\b\b\b\b\b\b\b\b\b\b\b\b\b\b\b\b\b\b\b\b\b\b\b\b\b\b\b\b\b\b\b\b\b\r",
      "274/750 [=========>....................] - ETA: 0s - loss: 0.0599 - accuracy: 0.9836"
     ]
    },
    {
     "name": "stdout",
     "output_type": "stream",
     "text": [
      "\b\b\b\b\b\b\b\b\b\b\b\b\b\b\b\b\b\b\b\b\b\b\b\b\b\b\b\b\b\b\b\b\b\b\b\b\b\b\b\b\b\b\b\b\b\b\b\b\b\b\b\b\b\b\b\b\b\b\b\b\b\b\b\b\b\b\b\b\b\b\b\b\b\b\b\b\b\b\b\b\b\b\b\b\r",
      "309/750 [===========>..................] - ETA: 0s - loss: 0.0606 - accuracy: 0.9835"
     ]
    },
    {
     "name": "stdout",
     "output_type": "stream",
     "text": [
      "\b\b\b\b\b\b\b\b\b\b\b\b\b\b\b\b\b\b\b\b\b\b\b\b\b\b\b\b\b\b\b\b\b\b\b\b\b\b\b\b\b\b\b\b\b\b\b\b\b\b\b\b\b\b\b\b\b\b\b\b\b\b\b\b\b\b\b\b\b\b\b\b\b\b\b\b\b\b\b\b\b\b\b\b\r",
      "346/750 [============>.................] - ETA: 0s - loss: 0.0612 - accuracy: 0.9830"
     ]
    },
    {
     "name": "stdout",
     "output_type": "stream",
     "text": [
      "\b\b\b\b\b\b\b\b\b\b\b\b\b\b\b\b\b\b\b\b\b\b\b\b\b\b\b\b\b\b\b\b\b\b\b\b\b\b\b\b\b\b\b\b\b\b\b\b\b\b\b\b\b\b\b\b\b\b\b\b\b\b\b\b\b\b\b\b\b\b\b\b\b\b\b\b\b\b\b\b\b\b\b\b\r",
      "385/750 [==============>...............] - ETA: 0s - loss: 0.0624 - accuracy: 0.9828"
     ]
    },
    {
     "name": "stdout",
     "output_type": "stream",
     "text": [
      "\b\b\b\b\b\b\b\b\b\b\b\b\b\b\b\b\b\b\b\b\b\b\b\b\b\b\b\b\b\b\b\b\b\b\b\b\b\b\b\b\b\b\b\b\b\b\b\b\b\b\b\b\b\b\b\b\b\b\b\b\b\b\b\b\b\b\b\b\b\b\b\b\b\b\b\b\b\b\b\b\b\b\b\b\r",
      "422/750 [===============>..............] - ETA: 0s - loss: 0.0623 - accuracy: 0.9826"
     ]
    },
    {
     "name": "stdout",
     "output_type": "stream",
     "text": [
      "\b\b\b\b\b\b\b\b\b\b\b\b\b\b\b\b\b\b\b\b\b\b\b\b\b\b\b\b\b\b\b\b\b\b\b\b\b\b\b\b\b\b\b\b\b\b\b\b\b\b\b\b\b\b\b\b\b\b\b\b\b\b\b\b\b\b\b\b\b\b\b\b\b\b\b\b\b\b\b\b\b\b\b\b\r",
      "460/750 [=================>............] - ETA: 0s - loss: 0.0628 - accuracy: 0.9825"
     ]
    },
    {
     "name": "stdout",
     "output_type": "stream",
     "text": [
      "\b\b\b\b\b\b\b\b\b\b\b\b\b\b\b\b\b\b\b\b\b\b\b\b\b\b\b\b\b\b\b\b\b\b\b\b\b\b\b\b\b\b\b\b\b\b\b\b\b\b\b\b\b\b\b\b\b\b\b\b\b\b\b\b\b\b\b\b\b\b\b\b\b\b\b\b\b\b\b\b\b\b\b\b\r",
      "499/750 [==================>...........] - ETA: 0s - loss: 0.0630 - accuracy: 0.9824"
     ]
    },
    {
     "name": "stdout",
     "output_type": "stream",
     "text": [
      "\b\b\b\b\b\b\b\b\b\b\b\b\b\b\b\b\b\b\b\b\b\b\b\b\b\b\b\b\b\b\b\b\b\b\b\b\b\b\b\b\b\b\b\b\b\b\b\b\b\b\b\b\b\b\b\b\b\b\b\b\b\b\b\b\b\b\b\b\b\b\b\b\b\b\b\b\b\b\b\b\b\b\b\b\r",
      "536/750 [====================>.........] - ETA: 0s - loss: 0.0631 - accuracy: 0.9822"
     ]
    },
    {
     "name": "stdout",
     "output_type": "stream",
     "text": [
      "\b\b\b\b\b\b\b\b\b\b\b\b\b\b\b\b\b\b\b\b\b\b\b\b\b\b\b\b\b\b\b\b\b\b\b\b\b\b\b\b\b\b\b\b\b\b\b\b\b\b\b\b\b\b\b\b\b\b\b\b\b\b\b\b\b\b\b\b\b\b\b\b\b\b\b\b\b\b\b\b\b\b\b\b\r",
      "575/750 [======================>.......] - ETA: 0s - loss: 0.0631 - accuracy: 0.9822"
     ]
    },
    {
     "name": "stdout",
     "output_type": "stream",
     "text": [
      "\b\b\b\b\b\b\b\b\b\b\b\b\b\b\b\b\b\b\b\b\b\b\b\b\b\b\b\b\b\b\b\b\b\b\b\b\b\b\b\b\b\b\b\b\b\b\b\b\b\b\b\b\b\b\b\b\b\b\b\b\b\b\b\b\b\b\b\b\b\b\b\b\b\b\b\b\b\b\b\b\b\b\b\b\r",
      "613/750 [=======================>......] - ETA: 0s - loss: 0.0633 - accuracy: 0.9821"
     ]
    },
    {
     "name": "stdout",
     "output_type": "stream",
     "text": [
      "\b\b\b\b\b\b\b\b\b\b\b\b\b\b\b\b\b\b\b\b\b\b\b\b\b\b\b\b\b\b\b\b\b\b\b\b\b\b\b\b\b\b\b\b\b\b\b\b\b\b\b\b\b\b\b\b\b\b\b\b\b\b\b\b\b\b\b\b\b\b\b\b\b\b\b\b\b\b\b\b\b\b\b\b\r",
      "651/750 [=========================>....] - ETA: 0s - loss: 0.0644 - accuracy: 0.9815"
     ]
    },
    {
     "name": "stdout",
     "output_type": "stream",
     "text": [
      "\b\b\b\b\b\b\b\b\b\b\b\b\b\b\b\b\b\b\b\b\b\b\b\b\b\b\b\b\b\b\b\b\b\b\b\b\b\b\b\b\b\b\b\b\b\b\b\b\b\b\b\b\b\b\b\b\b\b\b\b\b\b\b\b\b\b\b\b\b\b\b\b\b\b\b\b\b\b\b\b\b\b\b\b\r",
      "690/750 [==========================>...] - ETA: 0s - loss: 0.0642 - accuracy: 0.9816"
     ]
    },
    {
     "name": "stdout",
     "output_type": "stream",
     "text": [
      "\b\b\b\b\b\b\b\b\b\b\b\b\b\b\b\b\b\b\b\b\b\b\b\b\b\b\b\b\b\b\b\b\b\b\b\b\b\b\b\b\b\b\b\b\b\b\b\b\b\b\b\b\b\b\b\b\b\b\b\b\b\b\b\b\b\b\b\b\b\b\b\b\b\b\b\b\b\b\b\b\b\b\b\b\r",
      "729/750 [============================>.] - ETA: 0s - loss: 0.0643 - accuracy: 0.9816"
     ]
    },
    {
     "name": "stdout",
     "output_type": "stream",
     "text": [
      "\b\b\b\b\b\b\b\b\b\b\b\b\b\b\b\b\b\b\b\b\b\b\b\b\b\b\b\b\b\b\b\b\b\b\b\b\b\b\b\b\b\b\b\b\b\b\b\b\b\b\b\b\b\b\b\b\b\b\b\b\b\b\b\b\b\b\b\b\b\b\b\b\b\b\b\b\b\b\b\b\b\b\b\b\r",
      "750/750 [==============================] - 1s 2ms/step - loss: 0.0644 - accuracy: 0.9815 - val_loss: 0.0952 - val_accuracy: 0.9729\n"
     ]
    },
    {
     "name": "stdout",
     "output_type": "stream",
     "text": [
      "Epoch 6/100\n"
     ]
    },
    {
     "name": "stdout",
     "output_type": "stream",
     "text": [
      "\r",
      "  1/750 [..............................] - ETA: 1s - loss: 0.0259 - accuracy: 1.0000"
     ]
    },
    {
     "name": "stdout",
     "output_type": "stream",
     "text": [
      "\b\b\b\b\b\b\b\b\b\b\b\b\b\b\b\b\b\b\b\b\b\b\b\b\b\b\b\b\b\b\b\b\b\b\b\b\b\b\b\b\b\b\b\b\b\b\b\b\b\b\b\b\b\b\b\b\b\b\b\b\b\b\b\b\b\b\b\b\b\b\b\b\b\b\b\b\b\b\b\b\b\b\b\b\r",
      " 42/750 [>.............................] - ETA: 0s - loss: 0.0443 - accuracy: 0.9896"
     ]
    },
    {
     "name": "stdout",
     "output_type": "stream",
     "text": [
      "\b\b\b\b\b\b\b\b\b\b\b\b\b\b\b\b\b\b\b\b\b\b\b\b\b\b\b\b\b\b\b\b\b\b\b\b\b\b\b\b\b\b\b\b\b\b\b\b\b\b\b\b\b\b\b\b\b\b\b\b\b\b\b\b\b\b\b\b\b\b\b\b\b\b\b\b\b\b\b\b\b\b\b\b\r",
      " 82/750 [==>...........................] - ETA: 0s - loss: 0.0452 - accuracy: 0.9903"
     ]
    },
    {
     "name": "stdout",
     "output_type": "stream",
     "text": [
      "\b\b\b\b\b\b\b\b\b\b\b\b\b\b\b\b\b\b\b\b\b\b\b\b\b\b\b\b\b\b\b\b\b\b\b\b\b\b\b\b\b\b\b\b\b\b\b\b\b\b\b\b\b\b\b\b\b\b\b\b\b\b\b\b\b\b\b\b\b\b\b\b\b\b\b\b\b\b\b\b\b\b\b\b\r",
      "121/750 [===>..........................] - ETA: 0s - loss: 0.0480 - accuracy: 0.9879"
     ]
    },
    {
     "name": "stdout",
     "output_type": "stream",
     "text": [
      "\b\b\b\b\b\b\b\b\b\b\b\b\b\b\b\b\b\b\b\b\b\b\b\b\b\b\b\b\b\b\b\b\b\b\b\b\b\b\b\b\b\b\b\b\b\b\b\b\b\b\b\b\b\b\b\b\b\b\b\b\b\b\b\b\b\b\b\b\b\b\b\b\b\b\b\b\b\b\b\b\b\b\b\b\r",
      "161/750 [=====>........................] - ETA: 0s - loss: 0.0465 - accuracy: 0.9881"
     ]
    },
    {
     "name": "stdout",
     "output_type": "stream",
     "text": [
      "\b\b\b\b\b\b\b\b\b\b\b\b\b\b\b\b\b\b\b\b\b\b\b\b\b\b\b\b\b\b\b\b\b\b\b\b\b\b\b\b\b\b\b\b\b\b\b\b\b\b\b\b\b\b\b\b\b\b\b\b\b\b\b\b\b\b\b\b\b\b\b\b\b\b\b\b\b\b\b\b\b\b\b\b\r",
      "198/750 [======>.......................] - ETA: 0s - loss: 0.0491 - accuracy: 0.9873"
     ]
    },
    {
     "name": "stdout",
     "output_type": "stream",
     "text": [
      "\b\b\b\b\b\b\b\b\b\b\b\b\b\b\b\b\b\b\b\b\b\b\b\b\b\b\b\b\b\b\b\b\b\b\b\b\b\b\b\b\b\b\b\b\b\b\b\b\b\b\b\b\b\b\b\b\b\b\b\b\b\b\b\b\b\b\b\b\b\b\b\b\b\b\b\b\b\b\b\b\b\b\b\b\r",
      "236/750 [========>.....................] - ETA: 0s - loss: 0.0497 - accuracy: 0.9873"
     ]
    },
    {
     "name": "stdout",
     "output_type": "stream",
     "text": [
      "\b\b\b\b\b\b\b\b\b\b\b\b\b\b\b\b\b\b\b\b\b\b\b\b\b\b\b\b\b\b\b\b\b\b\b\b\b\b\b\b\b\b\b\b\b\b\b\b\b\b\b\b\b\b\b\b\b\b\b\b\b\b\b\b\b\b\b\b\b\b\b\b\b\b\b\b\b\b\b\b\b\b\b\b\r",
      "275/750 [==========>...................] - ETA: 0s - loss: 0.0508 - accuracy: 0.9871"
     ]
    },
    {
     "name": "stdout",
     "output_type": "stream",
     "text": [
      "\b\b\b\b\b\b\b\b\b\b\b\b\b\b\b\b\b\b\b\b\b\b\b\b\b\b\b\b\b\b\b\b\b\b\b\b\b\b\b\b\b\b\b\b\b\b\b\b\b\b\b\b\b\b\b\b\b\b\b\b\b\b\b\b\b\b\b\b\b\b\b\b\b\b\b\b\b\b\b\b\b\b\b\b\r",
      "314/750 [===========>..................] - ETA: 0s - loss: 0.0509 - accuracy: 0.9870"
     ]
    },
    {
     "name": "stdout",
     "output_type": "stream",
     "text": [
      "\b\b\b\b\b\b\b\b\b\b\b\b\b\b\b\b\b\b\b\b\b\b\b\b\b\b\b\b\b\b\b\b\b\b\b\b\b\b\b\b\b\b\b\b\b\b\b\b\b\b\b\b\b\b\b\b\b\b\b\b\b\b\b\b\b\b\b\b\b\b\b\b\b\b\b\b\b\b\b\b\b\b\b\b\r",
      "354/750 [=============>................] - ETA: 0s - loss: 0.0502 - accuracy: 0.9868"
     ]
    },
    {
     "name": "stdout",
     "output_type": "stream",
     "text": [
      "\b\b\b\b\b\b\b\b\b\b\b\b\b\b\b\b\b\b\b\b\b\b\b\b\b\b\b\b\b\b\b\b\b\b\b\b\b\b\b\b\b\b\b\b\b\b\b\b\b\b\b\b\b\b\b\b\b\b\b\b\b\b\b\b\b\b\b\b\b\b\b\b\b\b\b\b\b\b\b\b\b\b\b\b\r",
      "392/750 [==============>...............] - ETA: 0s - loss: 0.0493 - accuracy: 0.9871"
     ]
    },
    {
     "name": "stdout",
     "output_type": "stream",
     "text": [
      "\b\b\b\b\b\b\b\b\b\b\b\b\b\b\b\b\b\b\b\b\b\b\b\b\b\b\b\b\b\b\b\b\b\b\b\b\b\b\b\b\b\b\b\b\b\b\b\b\b\b\b\b\b\b\b\b\b\b\b\b\b\b\b\b\b\b\b\b\b\b\b\b\b\b\b\b\b\b\b\b\b\b\b\b\r",
      "432/750 [================>.............] - ETA: 0s - loss: 0.0496 - accuracy: 0.9871"
     ]
    },
    {
     "name": "stdout",
     "output_type": "stream",
     "text": [
      "\b\b\b\b\b\b\b\b\b\b\b\b\b\b\b\b\b\b\b\b\b\b\b\b\b\b\b\b\b\b\b\b\b\b\b\b\b\b\b\b\b\b\b\b\b\b\b\b\b\b\b\b\b\b\b\b\b\b\b\b\b\b\b\b\b\b\b\b\b\b\b\b\b\b\b\b\b\b\b\b\b\b\b\b\r",
      "472/750 [=================>............] - ETA: 0s - loss: 0.0506 - accuracy: 0.9866"
     ]
    },
    {
     "name": "stdout",
     "output_type": "stream",
     "text": [
      "\b\b\b\b\b\b\b\b\b\b\b\b\b\b\b\b\b\b\b\b\b\b\b\b\b\b\b\b\b\b\b\b\b\b\b\b\b\b\b\b\b\b\b\b\b\b\b\b\b\b\b\b\b\b\b\b\b\b\b\b\b\b\b\b\b\b\b\b\b\b\b\b\b\b\b\b\b\b\b\b\b\b\b\b\r",
      "511/750 [===================>..........] - ETA: 0s - loss: 0.0514 - accuracy: 0.9860"
     ]
    },
    {
     "name": "stdout",
     "output_type": "stream",
     "text": [
      "\b\b\b\b\b\b\b\b\b\b\b\b\b\b\b\b\b\b\b\b\b\b\b\b\b\b\b\b\b\b\b\b\b\b\b\b\b\b\b\b\b\b\b\b\b\b\b\b\b\b\b\b\b\b\b\b\b\b\b\b\b\b\b\b\b\b\b\b\b\b\b\b\b\b\b\b\b\b\b\b\b\b\b\b\r",
      "550/750 [=====================>........] - ETA: 0s - loss: 0.0526 - accuracy: 0.9856"
     ]
    },
    {
     "name": "stdout",
     "output_type": "stream",
     "text": [
      "\b\b\b\b\b\b\b\b\b\b\b\b\b\b\b\b\b\b\b\b\b\b\b\b\b\b\b\b\b\b\b\b\b\b\b\b\b\b\b\b\b\b\b\b\b\b\b\b\b\b\b\b\b\b\b\b\b\b\b\b\b\b\b\b\b\b\b\b\b\b\b\b\b\b\b\b\b\b\b\b\b\b\b\b\r",
      "589/750 [======================>.......] - ETA: 0s - loss: 0.0522 - accuracy: 0.9855"
     ]
    },
    {
     "name": "stdout",
     "output_type": "stream",
     "text": [
      "\b\b\b\b\b\b\b\b\b\b\b\b\b\b\b\b\b\b\b\b\b\b\b\b\b\b\b\b\b\b\b\b\b\b\b\b\b\b\b\b\b\b\b\b\b\b\b\b\b\b\b\b\b\b\b\b\b\b\b\b\b\b\b\b\b\b\b\b\b\b\b\b\b\b\b\b\b\b\b\b\b\b\b\b\r",
      "629/750 [========================>.....] - ETA: 0s - loss: 0.0525 - accuracy: 0.9853"
     ]
    },
    {
     "name": "stdout",
     "output_type": "stream",
     "text": [
      "\b\b\b\b\b\b\b\b\b\b\b\b\b\b\b\b\b\b\b\b\b\b\b\b\b\b\b\b\b\b\b\b\b\b\b\b\b\b\b\b\b\b\b\b\b\b\b\b\b\b\b\b\b\b\b\b\b\b\b\b\b\b\b\b\b\b\b\b\b\b\b\b\b\b\b\b\b\b\b\b\b\b\b\b\r",
      "666/750 [=========================>....] - ETA: 0s - loss: 0.0528 - accuracy: 0.9853"
     ]
    },
    {
     "name": "stdout",
     "output_type": "stream",
     "text": [
      "\b\b\b\b\b\b\b\b\b\b\b\b\b\b\b\b\b\b\b\b\b\b\b\b\b\b\b\b\b\b\b\b\b\b\b\b\b\b\b\b\b\b\b\b\b\b\b\b\b\b\b\b\b\b\b\b\b\b\b\b\b\b\b\b\b\b\b\b\b\b\b\b\b\b\b\b\b\b\b\b\b\b\b\b\r",
      "705/750 [===========================>..] - ETA: 0s - loss: 0.0526 - accuracy: 0.9854"
     ]
    },
    {
     "name": "stdout",
     "output_type": "stream",
     "text": [
      "\b\b\b\b\b\b\b\b\b\b\b\b\b\b\b\b\b\b\b\b\b\b\b\b\b\b\b\b\b\b\b\b\b\b\b\b\b\b\b\b\b\b\b\b\b\b\b\b\b\b\b\b\b\b\b\b\b\b\b\b\b\b\b\b\b\b\b\b\b\b\b\b\b\b\b\b\b\b\b\b\b\b\b\b\r",
      "745/750 [============================>.] - ETA: 0s - loss: 0.0526 - accuracy: 0.9852"
     ]
    },
    {
     "name": "stdout",
     "output_type": "stream",
     "text": [
      "\b\b\b\b\b\b\b\b\b\b\b\b\b\b\b\b\b\b\b\b\b\b\b\b\b\b\b\b\b\b\b\b\b\b\b\b\b\b\b\b\b\b\b\b\b\b\b\b\b\b\b\b\b\b\b\b\b\b\b\b\b\b\b\b\b\b\b\b\b\b\b\b\b\b\b\b\b\b\b\b\b\b\b\b\r",
      "750/750 [==============================] - 1s 2ms/step - loss: 0.0526 - accuracy: 0.9852 - val_loss: 0.0957 - val_accuracy: 0.9726\n"
     ]
    },
    {
     "name": "stdout",
     "output_type": "stream",
     "text": [
      "Epoch 7/100\n"
     ]
    },
    {
     "name": "stdout",
     "output_type": "stream",
     "text": [
      "\r",
      "  1/750 [..............................] - ETA: 1s - loss: 0.2217 - accuracy: 0.9375"
     ]
    },
    {
     "name": "stdout",
     "output_type": "stream",
     "text": [
      "\b\b\b\b\b\b\b\b\b\b\b\b\b\b\b\b\b\b\b\b\b\b\b\b\b\b\b\b\b\b\b\b\b\b\b\b\b\b\b\b\b\b\b\b\b\b\b\b\b\b\b\b\b\b\b\b\b\b\b\b\b\b\b\b\b\b\b\b\b\b\b\b\b\b\b\b\b\b\b\b\b\b\b\b\r",
      " 41/750 [>.............................] - ETA: 0s - loss: 0.0523 - accuracy: 0.9863"
     ]
    },
    {
     "name": "stdout",
     "output_type": "stream",
     "text": [
      "\b\b\b\b\b\b\b\b\b\b\b\b\b\b\b\b\b\b\b\b\b\b\b\b\b\b\b\b\b\b\b\b\b\b\b\b\b\b\b\b\b\b\b\b\b\b\b\b\b\b\b\b\b\b\b\b\b\b\b\b\b\b\b\b\b\b\b\b\b\b\b\b\b\b\b\b\b\b\b\b\b\b\b\b\r",
      " 78/750 [==>...........................] - ETA: 0s - loss: 0.0458 - accuracy: 0.9884"
     ]
    },
    {
     "name": "stdout",
     "output_type": "stream",
     "text": [
      "\b\b\b\b\b\b\b\b\b\b\b\b\b\b\b\b\b\b\b\b\b\b\b\b\b\b\b\b\b\b\b\b\b\b\b\b\b\b\b\b\b\b\b\b\b\b\b\b\b\b\b\b\b\b\b\b\b\b\b\b\b\b\b\b\b\b\b\b\b\b\b\b\b\b\b\b\b\b\b\b\b\b\b\b\r",
      "114/750 [===>..........................] - ETA: 0s - loss: 0.0434 - accuracy: 0.9889"
     ]
    },
    {
     "name": "stdout",
     "output_type": "stream",
     "text": [
      "\b\b\b\b\b\b\b\b\b\b\b\b\b\b\b\b\b\b\b\b\b\b\b\b\b\b\b\b\b\b\b\b\b\b\b\b\b\b\b\b\b\b\b\b\b\b\b\b\b\b\b\b\b\b\b\b\b\b\b\b\b\b\b\b\b\b\b\b\b\b\b\b\b\b\b\b\b\b\b\b\b\b\b\b\r",
      "153/750 [=====>........................] - ETA: 0s - loss: 0.0404 - accuracy: 0.9899"
     ]
    },
    {
     "name": "stdout",
     "output_type": "stream",
     "text": [
      "\b\b\b\b\b\b\b\b\b\b\b\b\b\b\b\b\b\b\b\b\b\b\b\b\b\b\b\b\b\b\b\b\b\b\b\b\b\b\b\b\b\b\b\b\b\b\b\b\b\b\b\b\b\b\b\b\b\b\b\b\b\b\b\b\b\b\b\b\b\b\b\b\b\b\b\b\b\b\b\b\b\b\b\b\r",
      "192/750 [======>.......................] - ETA: 0s - loss: 0.0409 - accuracy: 0.9890"
     ]
    },
    {
     "name": "stdout",
     "output_type": "stream",
     "text": [
      "\b\b\b\b\b\b\b\b\b\b\b\b\b\b\b\b\b\b\b\b\b\b\b\b\b\b\b\b\b\b\b\b\b\b\b\b\b\b\b\b\b\b\b\b\b\b\b\b\b\b\b\b\b\b\b\b\b\b\b\b\b\b\b\b\b\b\b\b\b\b\b\b\b\b\b\b\b\b\b\b\b\b\b\b\r",
      "231/750 [========>.....................] - ETA: 0s - loss: 0.0419 - accuracy: 0.9879"
     ]
    },
    {
     "name": "stdout",
     "output_type": "stream",
     "text": [
      "\b\b\b\b\b\b\b\b\b\b\b\b\b\b\b\b\b\b\b\b\b\b\b\b\b\b\b\b\b\b\b\b\b\b\b\b\b\b\b\b\b\b\b\b\b\b\b\b\b\b\b\b\b\b\b\b\b\b\b\b\b\b\b\b\b\b\b\b\b\b\b\b\b\b\b\b\b\b\b\b\b\b\b\b\r",
      "270/750 [=========>....................] - ETA: 0s - loss: 0.0418 - accuracy: 0.9881"
     ]
    },
    {
     "name": "stdout",
     "output_type": "stream",
     "text": [
      "\b\b\b\b\b\b\b\b\b\b\b\b\b\b\b\b\b\b\b\b\b\b\b\b\b\b\b\b\b\b\b\b\b\b\b\b\b\b\b\b\b\b\b\b\b\b\b\b\b\b\b\b\b\b\b\b\b\b\b\b\b\b\b\b\b\b\b\b\b\b\b\b\b\b\b\b\b\b\b\b\b\b\b\b\r",
      "309/750 [===========>..................] - ETA: 0s - loss: 0.0423 - accuracy: 0.9880"
     ]
    },
    {
     "name": "stdout",
     "output_type": "stream",
     "text": [
      "\b\b\b\b\b\b\b\b\b\b\b\b\b\b\b\b\b\b\b\b\b\b\b\b\b\b\b\b\b\b\b\b\b\b\b\b\b\b\b\b\b\b\b\b\b\b\b\b\b\b\b\b\b\b\b\b\b\b\b\b\b\b\b\b\b\b\b\b\b\b\b\b\b\b\b\b\b\b\b\b\b\b\b\b\r",
      "347/750 [============>.................] - ETA: 0s - loss: 0.0417 - accuracy: 0.9881"
     ]
    },
    {
     "name": "stdout",
     "output_type": "stream",
     "text": [
      "\b\b\b\b\b\b\b\b\b\b\b\b\b\b\b\b\b\b\b\b\b\b\b\b\b\b\b\b\b\b\b\b\b\b\b\b\b\b\b\b\b\b\b\b\b\b\b\b\b\b\b\b\b\b\b\b\b\b\b\b\b\b\b\b\b\b\b\b\b\b\b\b\b\b\b\b\b\b\b\b\b\b\b\b\r",
      "386/750 [==============>...............] - ETA: 0s - loss: 0.0414 - accuracy: 0.9882"
     ]
    },
    {
     "name": "stdout",
     "output_type": "stream",
     "text": [
      "\b\b\b\b\b\b\b\b\b\b\b\b\b\b\b\b\b\b\b\b\b\b\b\b\b\b\b\b\b\b\b\b\b\b\b\b\b\b\b\b\b\b\b\b\b\b\b\b\b\b\b\b\b\b\b\b\b\b\b\b\b\b\b\b\b\b\b\b\b\b\b\b\b\b\b\b\b\b\b\b\b\b\b\b\r",
      "424/750 [===============>..............] - ETA: 0s - loss: 0.0413 - accuracy: 0.9882"
     ]
    },
    {
     "name": "stdout",
     "output_type": "stream",
     "text": [
      "\b\b\b\b\b\b\b\b\b\b\b\b\b\b\b\b\b\b\b\b\b\b\b\b\b\b\b\b\b\b\b\b\b\b\b\b\b\b\b\b\b\b\b\b\b\b\b\b\b\b\b\b\b\b\b\b\b\b\b\b\b\b\b\b\b\b\b\b\b\b\b\b\b\b\b\b\b\b\b\b\b\b\b\b\r",
      "461/750 [=================>............] - ETA: 0s - loss: 0.0418 - accuracy: 0.9880"
     ]
    },
    {
     "name": "stdout",
     "output_type": "stream",
     "text": [
      "\b\b\b\b\b\b\b\b\b\b\b\b\b\b\b\b\b\b\b\b\b\b\b\b\b\b\b\b\b\b\b\b\b\b\b\b\b\b\b\b\b\b\b\b\b\b\b\b\b\b\b\b\b\b\b\b\b\b\b\b\b\b\b\b\b\b\b\b\b\b\b\b\b\b\b\b\b\b\b\b\b\b\b\b\r",
      "499/750 [==================>...........] - ETA: 0s - loss: 0.0419 - accuracy: 0.9880"
     ]
    },
    {
     "name": "stdout",
     "output_type": "stream",
     "text": [
      "\b\b\b\b\b\b\b\b\b\b\b\b\b\b\b\b\b\b\b\b\b\b\b\b\b\b\b\b\b\b\b\b\b\b\b\b\b\b\b\b\b\b\b\b\b\b\b\b\b\b\b\b\b\b\b\b\b\b\b\b\b\b\b\b\b\b\b\b\b\b\b\b\b\b\b\b\b\b\b\b\b\b\b\b\r",
      "538/750 [====================>.........] - ETA: 0s - loss: 0.0423 - accuracy: 0.9879"
     ]
    },
    {
     "name": "stdout",
     "output_type": "stream",
     "text": [
      "\b\b\b\b\b\b\b\b\b\b\b\b\b\b\b\b\b\b\b\b\b\b\b\b\b\b\b\b\b\b\b\b\b\b\b\b\b\b\b\b\b\b\b\b\b\b\b\b\b\b\b\b\b\b\b\b\b\b\b\b\b\b\b\b\b\b\b\b\b\b\b\b\b\b\b\b\b\b\b\b\b\b\b\b\r",
      "576/750 [======================>.......] - ETA: 0s - loss: 0.0424 - accuracy: 0.9877"
     ]
    },
    {
     "name": "stdout",
     "output_type": "stream",
     "text": [
      "\b\b\b\b\b\b\b\b\b\b\b\b\b\b\b\b\b\b\b\b\b\b\b\b\b\b\b\b\b\b\b\b\b\b\b\b\b\b\b\b\b\b\b\b\b\b\b\b\b\b\b\b\b\b\b\b\b\b\b\b\b\b\b\b\b\b\b\b\b\b\b\b\b\b\b\b\b\b\b\b\b\b\b\b\r",
      "615/750 [=======================>......] - ETA: 0s - loss: 0.0423 - accuracy: 0.9877"
     ]
    },
    {
     "name": "stdout",
     "output_type": "stream",
     "text": [
      "\b\b\b\b\b\b\b\b\b\b\b\b\b\b\b\b\b\b\b\b\b\b\b\b\b\b\b\b\b\b\b\b\b\b\b\b\b\b\b\b\b\b\b\b\b\b\b\b\b\b\b\b\b\b\b\b\b\b\b\b\b\b\b\b\b\b\b\b\b\b\b\b\b\b\b\b\b\b\b\b\b\b\b\b\r",
      "654/750 [=========================>....] - ETA: 0s - loss: 0.0422 - accuracy: 0.9877"
     ]
    },
    {
     "name": "stdout",
     "output_type": "stream",
     "text": [
      "\b\b\b\b\b\b\b\b\b\b\b\b\b\b\b\b\b\b\b\b\b\b\b\b\b\b\b\b\b\b\b\b\b\b\b\b\b\b\b\b\b\b\b\b\b\b\b\b\b\b\b\b\b\b\b\b\b\b\b\b\b\b\b\b\b\b\b\b\b\b\b\b\b\b\b\b\b\b\b\b\b\b\b\b\r",
      "693/750 [==========================>...] - ETA: 0s - loss: 0.0421 - accuracy: 0.9877"
     ]
    },
    {
     "name": "stdout",
     "output_type": "stream",
     "text": [
      "\b\b\b\b\b\b\b\b\b\b\b\b\b\b\b\b\b\b\b\b\b\b\b\b\b\b\b\b\b\b\b\b\b\b\b\b\b\b\b\b\b\b\b\b\b\b\b\b\b\b\b\b\b\b\b\b\b\b\b\b\b\b\b\b\b\b\b\b\b\b\b\b\b\b\b\b\b\b\b\b\b\b\b\b\r",
      "733/750 [============================>.] - ETA: 0s - loss: 0.0423 - accuracy: 0.9876"
     ]
    },
    {
     "name": "stdout",
     "output_type": "stream",
     "text": [
      "\b\b\b\b\b\b\b\b\b\b\b\b\b\b\b\b\b\b\b\b\b\b\b\b\b\b\b\b\b\b\b\b\b\b\b\b\b\b\b\b\b\b\b\b\b\b\b\b\b\b\b\b\b\b\b\b\b\b\b\b\b\b\b\b\b\b\b\b\b\b\b\b\b\b\b\b\b\b\b\b\b\b\b\b\r",
      "750/750 [==============================] - 1s 2ms/step - loss: 0.0421 - accuracy: 0.9877 - val_loss: 0.0913 - val_accuracy: 0.9728\n"
     ]
    },
    {
     "name": "stdout",
     "output_type": "stream",
     "text": [
      "Epoch 8/100\n"
     ]
    },
    {
     "name": "stdout",
     "output_type": "stream",
     "text": [
      "\r",
      "  1/750 [..............................] - ETA: 1s - loss: 0.0651 - accuracy: 0.9844"
     ]
    },
    {
     "name": "stdout",
     "output_type": "stream",
     "text": [
      "\b\b\b\b\b\b\b\b\b\b\b\b\b\b\b\b\b\b\b\b\b\b\b\b\b\b\b\b\b\b\b\b\b\b\b\b\b\b\b\b\b\b\b\b\b\b\b\b\b\b\b\b\b\b\b\b\b\b\b\b\b\b\b\b\b\b\b\b\b\b\b\b\b\b\b\b\b\b\b\b\b\b\b\b\r",
      " 41/750 [>.............................] - ETA: 0s - loss: 0.0412 - accuracy: 0.9905"
     ]
    },
    {
     "name": "stdout",
     "output_type": "stream",
     "text": [
      "\b\b\b\b\b\b\b\b\b\b\b\b\b\b\b\b\b\b\b\b\b\b\b\b\b\b\b\b\b\b\b\b\b\b\b\b\b\b\b\b\b\b\b\b\b\b\b\b\b\b\b\b\b\b\b\b\b\b\b\b\b\b\b\b\b\b\b\b\b\b\b\b\b\b\b\b\b\b\b\b\b\b\b\b\r",
      " 81/750 [==>...........................] - ETA: 0s - loss: 0.0344 - accuracy: 0.9921"
     ]
    },
    {
     "name": "stdout",
     "output_type": "stream",
     "text": [
      "\b\b\b\b\b\b\b\b\b\b\b\b\b\b\b\b\b\b\b\b\b\b\b\b\b\b\b\b\b\b\b\b\b\b\b\b\b\b\b\b\b\b\b\b\b\b\b\b\b\b\b\b\b\b\b\b\b\b\b\b\b\b\b\b\b\b\b\b\b\b\b\b\b\b\b\b\b\b\b\b\b\b\b\b\r",
      "120/750 [===>..........................] - ETA: 0s - loss: 0.0322 - accuracy: 0.9922"
     ]
    },
    {
     "name": "stdout",
     "output_type": "stream",
     "text": [
      "\b\b\b\b\b\b\b\b\b\b\b\b\b\b\b\b\b\b\b\b\b\b\b\b\b\b\b\b\b\b\b\b\b\b\b\b\b\b\b\b\b\b\b\b\b\b\b\b\b\b\b\b\b\b\b\b\b\b\b\b\b\b\b\b\b\b\b\b\b\b\b\b\b\b\b\b\b\b\b\b\b\b\b\b\r",
      "159/750 [=====>........................] - ETA: 0s - loss: 0.0307 - accuracy: 0.9923"
     ]
    },
    {
     "name": "stdout",
     "output_type": "stream",
     "text": [
      "\b\b\b\b\b\b\b\b\b\b\b\b\b\b\b\b\b\b\b\b\b\b\b\b\b\b\b\b\b\b\b\b\b\b\b\b\b\b\b\b\b\b\b\b\b\b\b\b\b\b\b\b\b\b\b\b\b\b\b\b\b\b\b\b\b\b\b\b\b\b\b\b\b\b\b\b\b\b\b\b\b\b\b\b\r",
      "198/750 [======>.......................] - ETA: 0s - loss: 0.0308 - accuracy: 0.9924"
     ]
    },
    {
     "name": "stdout",
     "output_type": "stream",
     "text": [
      "\b\b\b\b\b\b\b\b\b\b\b\b\b\b\b\b\b\b\b\b\b\b\b\b\b\b\b\b\b\b\b\b\b\b\b\b\b\b\b\b\b\b\b\b\b\b\b\b\b\b\b\b\b\b\b\b\b\b\b\b\b\b\b\b\b\b\b\b\b\b\b\b\b\b\b\b\b\b\b\b\b\b\b\b\r",
      "239/750 [========>.....................] - ETA: 0s - loss: 0.0315 - accuracy: 0.9920"
     ]
    },
    {
     "name": "stdout",
     "output_type": "stream",
     "text": [
      "\b\b\b\b\b\b\b\b\b\b\b\b\b\b\b\b\b\b\b\b\b\b\b\b\b\b\b\b\b\b\b\b\b\b\b\b\b\b\b\b\b\b\b\b\b\b\b\b\b\b\b\b\b\b\b\b\b\b\b\b\b\b\b\b\b\b\b\b\b\b\b\b\b\b\b\b\b\b\b\b\b\b\b\b\r",
      "278/750 [==========>...................] - ETA: 0s - loss: 0.0319 - accuracy: 0.9916"
     ]
    },
    {
     "name": "stdout",
     "output_type": "stream",
     "text": [
      "\b\b\b\b\b\b\b\b\b\b\b\b\b\b\b\b\b\b\b\b\b\b\b\b\b\b\b\b\b\b\b\b\b\b\b\b\b\b\b\b\b\b\b\b\b\b\b\b\b\b\b\b\b\b\b\b\b\b\b\b\b\b\b\b\b\b\b\b\b\b\b\b\b\b\b\b\b\b\b\b\b\b\b\b\r",
      "316/750 [===========>..................] - ETA: 0s - loss: 0.0318 - accuracy: 0.9915"
     ]
    },
    {
     "name": "stdout",
     "output_type": "stream",
     "text": [
      "\b\b\b\b\b\b\b\b\b\b\b\b\b\b\b\b\b\b\b\b\b\b\b\b\b\b\b\b\b\b\b\b\b\b\b\b\b\b\b\b\b\b\b\b\b\b\b\b\b\b\b\b\b\b\b\b\b\b\b\b\b\b\b\b\b\b\b\b\b\b\b\b\b\b\b\b\b\b\b\b\b\b\b\b\r",
      "355/750 [=============>................] - ETA: 0s - loss: 0.0322 - accuracy: 0.9914"
     ]
    },
    {
     "name": "stdout",
     "output_type": "stream",
     "text": [
      "\b\b\b\b\b\b\b\b\b\b\b\b\b\b\b\b\b\b\b\b\b\b\b\b\b\b\b\b\b\b\b\b\b\b\b\b\b\b\b\b\b\b\b\b\b\b\b\b\b\b\b\b\b\b\b\b\b\b\b\b\b\b\b\b\b\b\b\b\b\b\b\b\b\b\b\b\b\b\b\b\b\b\b\b\r",
      "393/750 [==============>...............] - ETA: 0s - loss: 0.0327 - accuracy: 0.9911"
     ]
    },
    {
     "name": "stdout",
     "output_type": "stream",
     "text": [
      "\b\b\b\b\b\b\b\b\b\b\b\b\b\b\b\b\b\b\b\b\b\b\b\b\b\b\b\b\b\b\b\b\b\b\b\b\b\b\b\b\b\b\b\b\b\b\b\b\b\b\b\b\b\b\b\b\b\b\b\b\b\b\b\b\b\b\b\b\b\b\b\b\b\b\b\b\b\b\b\b\b\b\b\b\r",
      "432/750 [================>.............] - ETA: 0s - loss: 0.0328 - accuracy: 0.9910"
     ]
    },
    {
     "name": "stdout",
     "output_type": "stream",
     "text": [
      "\b\b\b\b\b\b\b\b\b\b\b\b\b\b\b\b\b\b\b\b\b\b\b\b\b\b\b\b\b\b\b\b\b\b\b\b\b\b\b\b\b\b\b\b\b\b\b\b\b\b\b\b\b\b\b\b\b\b\b\b\b\b\b\b\b\b\b\b\b\b\b\b\b\b\b\b\b\b\b\b\b\b\b\b\r",
      "471/750 [=================>............] - ETA: 0s - loss: 0.0333 - accuracy: 0.9907"
     ]
    },
    {
     "name": "stdout",
     "output_type": "stream",
     "text": [
      "\b\b\b\b\b\b\b\b\b\b\b\b\b\b\b\b\b\b\b\b\b\b\b\b\b\b\b\b\b\b\b\b\b\b\b\b\b\b\b\b\b\b\b\b\b\b\b\b\b\b\b\b\b\b\b\b\b\b\b\b\b\b\b\b\b\b\b\b\b\b\b\b\b\b\b\b\b\b\b\b\b\b\b\b\r",
      "509/750 [===================>..........] - ETA: 0s - loss: 0.0331 - accuracy: 0.9909"
     ]
    },
    {
     "name": "stdout",
     "output_type": "stream",
     "text": [
      "\b\b\b\b\b\b\b\b\b\b\b\b\b\b\b\b\b\b\b\b\b\b\b\b\b\b\b\b\b\b\b\b\b\b\b\b\b\b\b\b\b\b\b\b\b\b\b\b\b\b\b\b\b\b\b\b\b\b\b\b\b\b\b\b\b\b\b\b\b\b\b\b\b\b\b\b\b\b\b\b\b\b\b\b\r",
      "548/750 [====================>.........] - ETA: 0s - loss: 0.0336 - accuracy: 0.9906"
     ]
    },
    {
     "name": "stdout",
     "output_type": "stream",
     "text": [
      "\b\b\b\b\b\b\b\b\b\b\b\b\b\b\b\b\b\b\b\b\b\b\b\b\b\b\b\b\b\b\b\b\b\b\b\b\b\b\b\b\b\b\b\b\b\b\b\b\b\b\b\b\b\b\b\b\b\b\b\b\b\b\b\b\b\b\b\b\b\b\b\b\b\b\b\b\b\b\b\b\b\b\b\b\r",
      "586/750 [======================>.......] - ETA: 0s - loss: 0.0341 - accuracy: 0.9903"
     ]
    },
    {
     "name": "stdout",
     "output_type": "stream",
     "text": [
      "\b\b\b\b\b\b\b\b\b\b\b\b\b\b\b\b\b\b\b\b\b\b\b\b\b\b\b\b\b\b\b\b\b\b\b\b\b\b\b\b\b\b\b\b\b\b\b\b\b\b\b\b\b\b\b\b\b\b\b\b\b\b\b\b\b\b\b\b\b\b\b\b\b\b\b\b\b\b\b\b\b\b\b\b\r",
      "625/750 [========================>.....] - ETA: 0s - loss: 0.0341 - accuracy: 0.9903"
     ]
    },
    {
     "name": "stdout",
     "output_type": "stream",
     "text": [
      "\b\b\b\b\b\b\b\b\b\b\b\b\b\b\b\b\b\b\b\b\b\b\b\b\b\b\b\b\b\b\b\b\b\b\b\b\b\b\b\b\b\b\b\b\b\b\b\b\b\b\b\b\b\b\b\b\b\b\b\b\b\b\b\b\b\b\b\b\b\b\b\b\b\b\b\b\b\b\b\b\b\b\b\b\r",
      "664/750 [=========================>....] - ETA: 0s - loss: 0.0345 - accuracy: 0.9902"
     ]
    },
    {
     "name": "stdout",
     "output_type": "stream",
     "text": [
      "\b\b\b\b\b\b\b\b\b\b\b\b\b\b\b\b\b\b\b\b\b\b\b\b\b\b\b\b\b\b\b\b\b\b\b\b\b\b\b\b\b\b\b\b\b\b\b\b\b\b\b\b\b\b\b\b\b\b\b\b\b\b\b\b\b\b\b\b\b\b\b\b\b\b\b\b\b\b\b\b\b\b\b\b\r",
      "699/750 [==========================>...] - ETA: 0s - loss: 0.0343 - accuracy: 0.9904"
     ]
    },
    {
     "name": "stdout",
     "output_type": "stream",
     "text": [
      "\b\b\b\b\b\b\b\b\b\b\b\b\b\b\b\b\b\b\b\b\b\b\b\b\b\b\b\b\b\b\b\b\b\b\b\b\b\b\b\b\b\b\b\b\b\b\b\b\b\b\b\b\b\b\b\b\b\b\b\b\b\b\b\b\b\b\b\b\b\b\b\b\b\b\b\b\b\b\b\b\b\b\b\b\r",
      "735/750 [============================>.] - ETA: 0s - loss: 0.0351 - accuracy: 0.9902"
     ]
    },
    {
     "name": "stdout",
     "output_type": "stream",
     "text": [
      "\b\b\b\b\b\b\b\b\b\b\b\b\b\b\b\b\b\b\b\b\b\b\b\b\b\b\b\b\b\b\b\b\b\b\b\b\b\b\b\b\b\b\b\b\b\b\b\b\b\b\b\b\b\b\b\b\b\b\b\b\b\b\b\b\b\b\b\b\b\b\b\b\b\b\b\b\b\b\b\b\b\b\b\b\r",
      "750/750 [==============================] - 1s 2ms/step - loss: 0.0352 - accuracy: 0.9901 - val_loss: 0.0969 - val_accuracy: 0.9725\n"
     ]
    },
    {
     "name": "stdout",
     "output_type": "stream",
     "text": [
      "Epoch 9/100\n"
     ]
    },
    {
     "name": "stdout",
     "output_type": "stream",
     "text": [
      "\r",
      "  1/750 [..............................] - ETA: 1s - loss: 0.0361 - accuracy: 1.0000"
     ]
    },
    {
     "name": "stdout",
     "output_type": "stream",
     "text": [
      "\b\b\b\b\b\b\b\b\b\b\b\b\b\b\b\b\b\b\b\b\b\b\b\b\b\b\b\b\b\b\b\b\b\b\b\b\b\b\b\b\b\b\b\b\b\b\b\b\b\b\b\b\b\b\b\b\b\b\b\b\b\b\b\b\b\b\b\b\b\b\b\b\b\b\b\b\b\b\b\b\b\b\b\b\r",
      " 40/750 [>.............................] - ETA: 0s - loss: 0.0224 - accuracy: 0.9957"
     ]
    },
    {
     "name": "stdout",
     "output_type": "stream",
     "text": [
      "\b\b\b\b\b\b\b\b\b\b\b\b\b\b\b\b\b\b\b\b\b\b\b\b\b\b\b\b\b\b\b\b\b\b\b\b\b\b\b\b\b\b\b\b\b\b\b\b\b\b\b\b\b\b\b\b\b\b\b\b\b\b\b\b\b\b\b\b\b\b\b\b\b\b\b\b\b\b\b\b\b\b\b\b\r",
      " 78/750 [==>...........................] - ETA: 0s - loss: 0.0210 - accuracy: 0.9954"
     ]
    },
    {
     "name": "stdout",
     "output_type": "stream",
     "text": [
      "\b\b\b\b\b\b\b\b\b\b\b\b\b\b\b\b\b\b\b\b\b\b\b\b\b\b\b\b\b\b\b\b\b\b\b\b\b\b\b\b\b\b\b\b\b\b\b\b\b\b\b\b\b\b\b\b\b\b\b\b\b\b\b\b\b\b\b\b\b\b\b\b\b\b\b\b\b\b\b\b\b\b\b\b\r",
      "116/750 [===>..........................] - ETA: 0s - loss: 0.0225 - accuracy: 0.9953"
     ]
    },
    {
     "name": "stdout",
     "output_type": "stream",
     "text": [
      "\b\b\b\b\b\b\b\b\b\b\b\b\b\b\b\b\b\b\b\b\b\b\b\b\b\b\b\b\b\b\b\b\b\b\b\b\b\b\b\b\b\b\b\b\b\b\b\b\b\b\b\b\b\b\b\b\b\b\b\b\b\b\b\b\b\b\b\b\b\b\b\b\b\b\b\b\b\b\b\b\b\b\b\b\r",
      "154/750 [=====>........................] - ETA: 0s - loss: 0.0226 - accuracy: 0.9948"
     ]
    },
    {
     "name": "stdout",
     "output_type": "stream",
     "text": [
      "\b\b\b\b\b\b\b\b\b\b\b\b\b\b\b\b\b\b\b\b\b\b\b\b\b\b\b\b\b\b\b\b\b\b\b\b\b\b\b\b\b\b\b\b\b\b\b\b\b\b\b\b\b\b\b\b\b\b\b\b\b\b\b\b\b\b\b\b\b\b\b\b\b\b\b\b\b\b\b\b\b\b\b\b\r",
      "191/750 [======>.......................] - ETA: 0s - loss: 0.0239 - accuracy: 0.9944"
     ]
    },
    {
     "name": "stdout",
     "output_type": "stream",
     "text": [
      "\b\b\b\b\b\b\b\b\b\b\b\b\b\b\b\b\b\b\b\b\b\b\b\b\b\b\b\b\b\b\b\b\b\b\b\b\b\b\b\b\b\b\b\b\b\b\b\b\b\b\b\b\b\b\b\b\b\b\b\b\b\b\b\b\b\b\b\b\b\b\b\b\b\b\b\b\b\b\b\b\b\b\b\b\r",
      "229/750 [========>.....................] - ETA: 0s - loss: 0.0250 - accuracy: 0.9940"
     ]
    },
    {
     "name": "stdout",
     "output_type": "stream",
     "text": [
      "\b\b\b\b\b\b\b\b\b\b\b\b\b\b\b\b\b\b\b\b\b\b\b\b\b\b\b\b\b\b\b\b\b\b\b\b\b\b\b\b\b\b\b\b\b\b\b\b\b\b\b\b\b\b\b\b\b\b\b\b\b\b\b\b\b\b\b\b\b\b\b\b\b\b\b\b\b\b\b\b\b\b\b\b\r",
      "268/750 [=========>....................] - ETA: 0s - loss: 0.0254 - accuracy: 0.9936"
     ]
    },
    {
     "name": "stdout",
     "output_type": "stream",
     "text": [
      "\b\b\b\b\b\b\b\b\b\b\b\b\b\b\b\b\b\b\b\b\b\b\b\b\b\b\b\b\b\b\b\b\b\b\b\b\b\b\b\b\b\b\b\b\b\b\b\b\b\b\b\b\b\b\b\b\b\b\b\b\b\b\b\b\b\b\b\b\b\b\b\b\b\b\b\b\b\b\b\b\b\b\b\b\r",
      "305/750 [===========>..................] - ETA: 0s - loss: 0.0257 - accuracy: 0.9932"
     ]
    },
    {
     "name": "stdout",
     "output_type": "stream",
     "text": [
      "\b\b\b\b\b\b\b\b\b\b\b\b\b\b\b\b\b\b\b\b\b\b\b\b\b\b\b\b\b\b\b\b\b\b\b\b\b\b\b\b\b\b\b\b\b\b\b\b\b\b\b\b\b\b\b\b\b\b\b\b\b\b\b\b\b\b\b\b\b\b\b\b\b\b\b\b\b\b\b\b\b\b\b\b\r",
      "343/750 [============>.................] - ETA: 0s - loss: 0.0258 - accuracy: 0.9933"
     ]
    },
    {
     "name": "stdout",
     "output_type": "stream",
     "text": [
      "\b\b\b\b\b\b\b\b\b\b\b\b\b\b\b\b\b\b\b\b\b\b\b\b\b\b\b\b\b\b\b\b\b\b\b\b\b\b\b\b\b\b\b\b\b\b\b\b\b\b\b\b\b\b\b\b\b\b\b\b\b\b\b\b\b\b\b\b\b\b\b\b\b\b\b\b\b\b\b\b\b\b\b\b\r",
      "381/750 [==============>...............] - ETA: 0s - loss: 0.0264 - accuracy: 0.9928"
     ]
    },
    {
     "name": "stdout",
     "output_type": "stream",
     "text": [
      "\b\b\b\b\b\b\b\b\b\b\b\b\b\b\b\b\b\b\b\b\b\b\b\b\b\b\b\b\b\b\b\b\b\b\b\b\b\b\b\b\b\b\b\b\b\b\b\b\b\b\b\b\b\b\b\b\b\b\b\b\b\b\b\b\b\b\b\b\b\b\b\b\b\b\b\b\b\b\b\b\b\b\b\b\r",
      "419/750 [===============>..............] - ETA: 0s - loss: 0.0269 - accuracy: 0.9929"
     ]
    },
    {
     "name": "stdout",
     "output_type": "stream",
     "text": [
      "\b\b\b\b\b\b\b\b\b\b\b\b\b\b\b\b\b\b\b\b\b\b\b\b\b\b\b\b\b\b\b\b\b\b\b\b\b\b\b\b\b\b\b\b\b\b\b\b\b\b\b\b\b\b\b\b\b\b\b\b\b\b\b\b\b\b\b\b\b\b\b\b\b\b\b\b\b\b\b\b\b\b\b\b\r",
      "457/750 [=================>............] - ETA: 0s - loss: 0.0275 - accuracy: 0.9925"
     ]
    },
    {
     "name": "stdout",
     "output_type": "stream",
     "text": [
      "\b\b\b\b\b\b\b\b\b\b\b\b\b\b\b\b\b\b\b\b\b\b\b\b\b\b\b\b\b\b\b\b\b\b\b\b\b\b\b\b\b\b\b\b\b\b\b\b\b\b\b\b\b\b\b\b\b\b\b\b\b\b\b\b\b\b\b\b\b\b\b\b\b\b\b\b\b\b\b\b\b\b\b\b\r",
      "495/750 [==================>...........] - ETA: 0s - loss: 0.0277 - accuracy: 0.9924"
     ]
    },
    {
     "name": "stdout",
     "output_type": "stream",
     "text": [
      "\b\b\b\b\b\b\b\b\b\b\b\b\b\b\b\b\b\b\b\b\b\b\b\b\b\b\b\b\b\b\b\b\b\b\b\b\b\b\b\b\b\b\b\b\b\b\b\b\b\b\b\b\b\b\b\b\b\b\b\b\b\b\b\b\b\b\b\b\b\b\b\b\b\b\b\b\b\b\b\b\b\b\b\b\r",
      "531/750 [====================>.........] - ETA: 0s - loss: 0.0278 - accuracy: 0.9923"
     ]
    },
    {
     "name": "stdout",
     "output_type": "stream",
     "text": [
      "\b\b\b\b\b\b\b\b\b\b\b\b\b\b\b\b\b\b\b\b\b\b\b\b\b\b\b\b\b\b\b\b\b\b\b\b\b\b\b\b\b\b\b\b\b\b\b\b\b\b\b\b\b\b\b\b\b\b\b\b\b\b\b\b\b\b\b\b\b\b\b\b\b\b\b\b\b\b\b\b\b\b\b\b\r",
      "569/750 [=====================>........] - ETA: 0s - loss: 0.0283 - accuracy: 0.9922"
     ]
    },
    {
     "name": "stdout",
     "output_type": "stream",
     "text": [
      "\b\b\b\b\b\b\b\b\b\b\b\b\b\b\b\b\b\b\b\b\b\b\b\b\b\b\b\b\b\b\b\b\b\b\b\b\b\b\b\b\b\b\b\b\b\b\b\b\b\b\b\b\b\b\b\b\b\b\b\b\b\b\b\b\b\b\b\b\b\b\b\b\b\b\b\b\b\b\b\b\b\b\b\b\r",
      "603/750 [=======================>......] - ETA: 0s - loss: 0.0283 - accuracy: 0.9922"
     ]
    },
    {
     "name": "stdout",
     "output_type": "stream",
     "text": [
      "\b\b\b\b\b\b\b\b\b\b\b\b\b\b\b\b\b\b\b\b\b\b\b\b\b\b\b\b\b\b\b\b\b\b\b\b\b\b\b\b\b\b\b\b\b\b\b\b\b\b\b\b\b\b\b\b\b\b\b\b\b\b\b\b\b\b\b\b\b\b\b\b\b\b\b\b\b\b\b\b\b\b\b\b\r",
      "640/750 [========================>.....] - ETA: 0s - loss: 0.0281 - accuracy: 0.9923"
     ]
    },
    {
     "name": "stdout",
     "output_type": "stream",
     "text": [
      "\b\b\b\b\b\b\b\b\b\b\b\b\b\b\b\b\b\b\b\b\b\b\b\b\b\b\b\b\b\b\b\b\b\b\b\b\b\b\b\b\b\b\b\b\b\b\b\b\b\b\b\b\b\b\b\b\b\b\b\b\b\b\b\b\b\b\b\b\b\b\b\b\b\b\b\b\b\b\b\b\b\b\b\b\r",
      "678/750 [==========================>...] - ETA: 0s - loss: 0.0284 - accuracy: 0.9922"
     ]
    },
    {
     "name": "stdout",
     "output_type": "stream",
     "text": [
      "\b\b\b\b\b\b\b\b\b\b\b\b\b\b\b\b\b\b\b\b\b\b\b\b\b\b\b\b\b\b\b\b\b\b\b\b\b\b\b\b\b\b\b\b\b\b\b\b\b\b\b\b\b\b\b\b\b\b\b\b\b\b\b\b\b\b\b\b\b\b\b\b\b\b\b\b\b\b\b\b\b\b\b\b\r",
      "716/750 [===========================>..] - ETA: 0s - loss: 0.0284 - accuracy: 0.9921"
     ]
    },
    {
     "name": "stdout",
     "output_type": "stream",
     "text": [
      "\b\b\b\b\b\b\b\b\b\b\b\b\b\b\b\b\b\b\b\b\b\b\b\b\b\b\b\b\b\b\b\b\b\b\b\b\b\b\b\b\b\b\b\b\b\b\b\b\b\b\b\b\b\b\b\b\b\b\b\b\b\b\b\b\b\b\b\b\b\b\b\b\b\b\b\b\b\b\b\b\b\b\b\b\r",
      "750/750 [==============================] - 1s 2ms/step - loss: 0.0285 - accuracy: 0.9920 - val_loss: 0.0874 - val_accuracy: 0.9761\n"
     ]
    },
    {
     "name": "stdout",
     "output_type": "stream",
     "text": [
      "Epoch 10/100\n"
     ]
    },
    {
     "name": "stdout",
     "output_type": "stream",
     "text": [
      "\r",
      "  1/750 [..............................] - ETA: 0s - loss: 0.0176 - accuracy: 1.0000"
     ]
    },
    {
     "name": "stdout",
     "output_type": "stream",
     "text": [
      "\b\b\b\b\b\b\b\b\b\b\b\b\b\b\b\b\b\b\b\b\b\b\b\b\b\b\b\b\b\b\b\b\b\b\b\b\b\b\b\b\b\b\b\b\b\b\b\b\b\b\b\b\b\b\b\b\b\b\b\b\b\b\b\b\b\b\b\b\b\b\b\b\b\b\b\b\b\b\b\b\b\b\b\b\r",
      " 40/750 [>.............................] - ETA: 0s - loss: 0.0217 - accuracy: 0.9953"
     ]
    },
    {
     "name": "stdout",
     "output_type": "stream",
     "text": [
      "\b\b\b\b\b\b\b\b\b\b\b\b\b\b\b\b\b\b\b\b\b\b\b\b\b\b\b\b\b\b\b\b\b\b\b\b\b\b\b\b\b\b\b\b\b\b\b\b\b\b\b\b\b\b\b\b\b\b\b\b\b\b\b\b\b\b\b\b\b\b\b\b\b\b\b\b\b\b\b\b\b\b\b\b\r",
      " 78/750 [==>...........................] - ETA: 0s - loss: 0.0216 - accuracy: 0.9954"
     ]
    },
    {
     "name": "stdout",
     "output_type": "stream",
     "text": [
      "\b\b\b\b\b\b\b\b\b\b\b\b\b\b\b\b\b\b\b\b\b\b\b\b\b\b\b\b\b\b\b\b\b\b\b\b\b\b\b\b\b\b\b\b\b\b\b\b\b\b\b\b\b\b\b\b\b\b\b\b\b\b\b\b\b\b\b\b\b\b\b\b\b\b\b\b\b\b\b\b\b\b\b\b\r",
      "115/750 [===>..........................] - ETA: 0s - loss: 0.0207 - accuracy: 0.9954"
     ]
    },
    {
     "name": "stdout",
     "output_type": "stream",
     "text": [
      "\b\b\b\b\b\b\b\b\b\b\b\b\b\b\b\b\b\b\b\b\b\b\b\b\b\b\b\b\b\b\b\b\b\b\b\b\b\b\b\b\b\b\b\b\b\b\b\b\b\b\b\b\b\b\b\b\b\b\b\b\b\b\b\b\b\b\b\b\b\b\b\b\b\b\b\b\b\b\b\b\b\b\b\b\r",
      "153/750 [=====>........................] - ETA: 0s - loss: 0.0218 - accuracy: 0.9946"
     ]
    },
    {
     "name": "stdout",
     "output_type": "stream",
     "text": [
      "\b\b\b\b\b\b\b\b\b\b\b\b\b\b\b\b\b\b\b\b\b\b\b\b\b\b\b\b\b\b\b\b\b\b\b\b\b\b\b\b\b\b\b\b\b\b\b\b\b\b\b\b\b\b\b\b\b\b\b\b\b\b\b\b\b\b\b\b\b\b\b\b\b\b\b\b\b\b\b\b\b\b\b\b\r",
      "189/750 [======>.......................] - ETA: 0s - loss: 0.0215 - accuracy: 0.9949"
     ]
    },
    {
     "name": "stdout",
     "output_type": "stream",
     "text": [
      "\b\b\b\b\b\b\b\b\b\b\b\b\b\b\b\b\b\b\b\b\b\b\b\b\b\b\b\b\b\b\b\b\b\b\b\b\b\b\b\b\b\b\b\b\b\b\b\b\b\b\b\b\b\b\b\b\b\b\b\b\b\b\b\b\b\b\b\b\b\b\b\b\b\b\b\b\b\b\b\b\b\b\b\b\r",
      "224/750 [=======>......................] - ETA: 0s - loss: 0.0214 - accuracy: 0.9948"
     ]
    },
    {
     "name": "stdout",
     "output_type": "stream",
     "text": [
      "\b\b\b\b\b\b\b\b\b\b\b\b\b\b\b\b\b\b\b\b\b\b\b\b\b\b\b\b\b\b\b\b\b\b\b\b\b\b\b\b\b\b\b\b\b\b\b\b\b\b\b\b\b\b\b\b\b\b\b\b\b\b\b\b\b\b\b\b\b\b\b\b\b\b\b\b\b\b\b\b\b\b\b\b\r",
      "260/750 [=========>....................] - ETA: 0s - loss: 0.0207 - accuracy: 0.9950"
     ]
    },
    {
     "name": "stdout",
     "output_type": "stream",
     "text": [
      "\b\b\b\b\b\b\b\b\b\b\b\b\b\b\b\b\b\b\b\b\b\b\b\b\b\b\b\b\b\b\b\b\b\b\b\b\b\b\b\b\b\b\b\b\b\b\b\b\b\b\b\b\b\b\b\b\b\b\b\b\b\b\b\b\b\b\b\b\b\b\b\b\b\b\b\b\b\b\b\b\b\b\b\b\r",
      "299/750 [==========>...................] - ETA: 0s - loss: 0.0199 - accuracy: 0.9952"
     ]
    },
    {
     "name": "stdout",
     "output_type": "stream",
     "text": [
      "\b\b\b\b\b\b\b\b\b\b\b\b\b\b\b\b\b\b\b\b\b\b\b\b\b\b\b\b\b\b\b\b\b\b\b\b\b\b\b\b\b\b\b\b\b\b\b\b\b\b\b\b\b\b\b\b\b\b\b\b\b\b\b\b\b\b\b\b\b\b\b\b\b\b\b\b\b\b\b\b\b\b\b\b\r",
      "338/750 [============>.................] - ETA: 0s - loss: 0.0204 - accuracy: 0.9950"
     ]
    },
    {
     "name": "stdout",
     "output_type": "stream",
     "text": [
      "\b\b\b\b\b\b\b\b\b\b\b\b\b\b\b\b\b\b\b\b\b\b\b\b\b\b\b\b\b\b\b\b\b\b\b\b\b\b\b\b\b\b\b\b\b\b\b\b\b\b\b\b\b\b\b\b\b\b\b\b\b\b\b\b\b\b\b\b\b\b\b\b\b\b\b\b\b\b\b\b\b\b\b\b\r",
      "376/750 [==============>...............] - ETA: 0s - loss: 0.0210 - accuracy: 0.9948"
     ]
    },
    {
     "name": "stdout",
     "output_type": "stream",
     "text": [
      "\b\b\b\b\b\b\b\b\b\b\b\b\b\b\b\b\b\b\b\b\b\b\b\b\b\b\b\b\b\b\b\b\b\b\b\b\b\b\b\b\b\b\b\b\b\b\b\b\b\b\b\b\b\b\b\b\b\b\b\b\b\b\b\b\b\b\b\b\b\b\b\b\b\b\b\b\b\b\b\b\b\b\b\b\r",
      "413/750 [===============>..............] - ETA: 0s - loss: 0.0219 - accuracy: 0.9944"
     ]
    },
    {
     "name": "stdout",
     "output_type": "stream",
     "text": [
      "\b\b\b\b\b\b\b\b\b\b\b\b\b\b\b\b\b\b\b\b\b\b\b\b\b\b\b\b\b\b\b\b\b\b\b\b\b\b\b\b\b\b\b\b\b\b\b\b\b\b\b\b\b\b\b\b\b\b\b\b\b\b\b\b\b\b\b\b\b\b\b\b\b\b\b\b\b\b\b\b\b\b\b\b\r",
      "450/750 [=================>............] - ETA: 0s - loss: 0.0223 - accuracy: 0.9941"
     ]
    },
    {
     "name": "stdout",
     "output_type": "stream",
     "text": [
      "\b\b\b\b\b\b\b\b\b\b\b\b\b\b\b\b\b\b\b\b\b\b\b\b\b\b\b\b\b\b\b\b\b\b\b\b\b\b\b\b\b\b\b\b\b\b\b\b\b\b\b\b\b\b\b\b\b\b\b\b\b\b\b\b\b\b\b\b\b\b\b\b\b\b\b\b\b\b\b\b\b\b\b\b\r",
      "484/750 [==================>...........] - ETA: 0s - loss: 0.0228 - accuracy: 0.9939"
     ]
    },
    {
     "name": "stdout",
     "output_type": "stream",
     "text": [
      "\b\b\b\b\b\b\b\b\b\b\b\b\b\b\b\b\b\b\b\b\b\b\b\b\b\b\b\b\b\b\b\b\b\b\b\b\b\b\b\b\b\b\b\b\b\b\b\b\b\b\b\b\b\b\b\b\b\b\b\b\b\b\b\b\b\b\b\b\b\b\b\b\b\b\b\b\b\b\b\b\b\b\b\b\r",
      "517/750 [===================>..........] - ETA: 0s - loss: 0.0230 - accuracy: 0.9939"
     ]
    },
    {
     "name": "stdout",
     "output_type": "stream",
     "text": [
      "\b\b\b\b\b\b\b\b\b\b\b\b\b\b\b\b\b\b\b\b\b\b\b\b\b\b\b\b\b\b\b\b\b\b\b\b\b\b\b\b\b\b\b\b\b\b\b\b\b\b\b\b\b\b\b\b\b\b\b\b\b\b\b\b\b\b\b\b\b\b\b\b\b\b\b\b\b\b\b\b\b\b\b\b\r",
      "554/750 [=====================>........] - ETA: 0s - loss: 0.0234 - accuracy: 0.9938"
     ]
    },
    {
     "name": "stdout",
     "output_type": "stream",
     "text": [
      "\b\b\b\b\b\b\b\b\b\b\b\b\b\b\b\b\b\b\b\b\b\b\b\b\b\b\b\b\b\b\b\b\b\b\b\b\b\b\b\b\b\b\b\b\b\b\b\b\b\b\b\b\b\b\b\b\b\b\b\b\b\b\b\b\b\b\b\b\b\b\b\b\b\b\b\b\b\b\b\b\b\b\b\b\r",
      "590/750 [======================>.......] - ETA: 0s - loss: 0.0232 - accuracy: 0.9939"
     ]
    },
    {
     "name": "stdout",
     "output_type": "stream",
     "text": [
      "\b\b\b\b\b\b\b\b\b\b\b\b\b\b\b\b\b\b\b\b\b\b\b\b\b\b\b\b\b\b\b\b\b\b\b\b\b\b\b\b\b\b\b\b\b\b\b\b\b\b\b\b\b\b\b\b\b\b\b\b\b\b\b\b\b\b\b\b\b\b\b\b\b\b\b\b\b\b\b\b\b\b\b\b\r",
      "628/750 [========================>.....] - ETA: 0s - loss: 0.0231 - accuracy: 0.9937"
     ]
    },
    {
     "name": "stdout",
     "output_type": "stream",
     "text": [
      "\b\b\b\b\b\b\b\b\b\b\b\b\b\b\b\b\b\b\b\b\b\b\b\b\b\b\b\b\b\b\b\b\b\b\b\b\b\b\b\b\b\b\b\b\b\b\b\b\b\b\b\b\b\b\b\b\b\b\b\b\b\b\b\b\b\b\b\b\b\b\b\b\b\b\b\b\b\b\b\b\b\b\b\b\r",
      "665/750 [=========================>....] - ETA: 0s - loss: 0.0232 - accuracy: 0.9937"
     ]
    },
    {
     "name": "stdout",
     "output_type": "stream",
     "text": [
      "\b\b\b\b\b\b\b\b\b\b\b\b\b\b\b\b\b\b\b\b\b\b\b\b\b\b\b\b\b\b\b\b\b\b\b\b\b\b\b\b\b\b\b\b\b\b\b\b\b\b\b\b\b\b\b\b\b\b\b\b\b\b\b\b\b\b\b\b\b\b\b\b\b\b\b\b\b\b\b\b\b\b\b\b\r",
      "699/750 [==========================>...] - ETA: 0s - loss: 0.0231 - accuracy: 0.9938"
     ]
    },
    {
     "name": "stdout",
     "output_type": "stream",
     "text": [
      "\b\b\b\b\b\b\b\b\b\b\b\b\b\b\b\b\b\b\b\b\b\b\b\b\b\b\b\b\b\b\b\b\b\b\b\b\b\b\b\b\b\b\b\b\b\b\b\b\b\b\b\b\b\b\b\b\b\b\b\b\b\b\b\b\b\b\b\b\b\b\b\b\b\b\b\b\b\b\b\b\b\b\b\b\r",
      "733/750 [============================>.] - ETA: 0s - loss: 0.0233 - accuracy: 0.9936"
     ]
    },
    {
     "name": "stdout",
     "output_type": "stream",
     "text": [
      "\b\b\b\b\b\b\b\b\b\b\b\b\b\b\b\b\b\b\b\b\b\b\b\b\b\b\b\b\b\b\b\b\b\b\b\b\b\b\b\b\b\b\b\b\b\b\b\b\b\b\b\b\b\b\b\b\b\b\b\b\b\b\b\b\b\b\b\b\b\b\b\b\b\b\b\b\b\b\b\b\b\b\b\b\r",
      "750/750 [==============================] - 1s 2ms/step - loss: 0.0234 - accuracy: 0.9936 - val_loss: 0.0876 - val_accuracy: 0.9758\n"
     ]
    },
    {
     "name": "stdout",
     "output_type": "stream",
     "text": [
      "Epoch 11/100\n"
     ]
    },
    {
     "name": "stdout",
     "output_type": "stream",
     "text": [
      "\r",
      "  1/750 [..............................] - ETA: 0s - loss: 0.0127 - accuracy: 1.0000"
     ]
    },
    {
     "name": "stdout",
     "output_type": "stream",
     "text": [
      "\b\b\b\b\b\b\b\b\b\b\b\b\b\b\b\b\b\b\b\b\b\b\b\b\b\b\b\b\b\b\b\b\b\b\b\b\b\b\b\b\b\b\b\b\b\b\b\b\b\b\b\b\b\b\b\b\b\b\b\b\b\b\b\b\b\b\b\b\b\b\b\b\b\b\b\b\b\b\b\b\b\b\b\b\r",
      " 39/750 [>.............................] - ETA: 0s - loss: 0.0216 - accuracy: 0.9944"
     ]
    },
    {
     "name": "stdout",
     "output_type": "stream",
     "text": [
      "\b\b\b\b\b\b\b\b\b\b\b\b\b\b\b\b\b\b\b\b\b\b\b\b\b\b\b\b\b\b\b\b\b\b\b\b\b\b\b\b\b\b\b\b\b\b\b\b\b\b\b\b\b\b\b\b\b\b\b\b\b\b\b\b\b\b\b\b\b\b\b\b\b\b\b\b\b\b\b\b\b\b\b\b\r",
      " 76/750 [==>...........................] - ETA: 0s - loss: 0.0212 - accuracy: 0.9944"
     ]
    },
    {
     "name": "stdout",
     "output_type": "stream",
     "text": [
      "\b\b\b\b\b\b\b\b\b\b\b\b\b\b\b\b\b\b\b\b\b\b\b\b\b\b\b\b\b\b\b\b\b\b\b\b\b\b\b\b\b\b\b\b\b\b\b\b\b\b\b\b\b\b\b\b\b\b\b\b\b\b\b\b\b\b\b\b\b\b\b\b\b\b\b\b\b\b\b\b\b\b\b\b\r",
      "114/750 [===>..........................] - ETA: 0s - loss: 0.0189 - accuracy: 0.9953"
     ]
    },
    {
     "name": "stdout",
     "output_type": "stream",
     "text": [
      "\b\b\b\b\b\b\b\b\b\b\b\b\b\b\b\b\b\b\b\b\b\b\b\b\b\b\b\b\b\b\b\b\b\b\b\b\b\b\b\b\b\b\b\b\b\b\b\b\b\b\b\b\b\b\b\b\b\b\b\b\b\b\b\b\b\b\b\b\b\b\b\b\b\b\b\b\b\b\b\b\b\b\b\b\r",
      "152/750 [=====>........................] - ETA: 0s - loss: 0.0188 - accuracy: 0.9950"
     ]
    },
    {
     "name": "stdout",
     "output_type": "stream",
     "text": [
      "\b\b\b\b\b\b\b\b\b\b\b\b\b\b\b\b\b\b\b\b\b\b\b\b\b\b\b\b\b\b\b\b\b\b\b\b\b\b\b\b\b\b\b\b\b\b\b\b\b\b\b\b\b\b\b\b\b\b\b\b\b\b\b\b\b\b\b\b\b\b\b\b\b\b\b\b\b\b\b\b\b\b\b\b\r",
      "188/750 [======>.......................] - ETA: 0s - loss: 0.0184 - accuracy: 0.9951"
     ]
    },
    {
     "name": "stdout",
     "output_type": "stream",
     "text": [
      "\b\b\b\b\b\b\b\b\b\b\b\b\b\b\b\b\b\b\b\b\b\b\b\b\b\b\b\b\b\b\b\b\b\b\b\b\b\b\b\b\b\b\b\b\b\b\b\b\b\b\b\b\b\b\b\b\b\b\b\b\b\b\b\b\b\b\b\b\b\b\b\b\b\b\b\b\b\b\b\b\b\b\b\b\r",
      "227/750 [========>.....................] - ETA: 0s - loss: 0.0175 - accuracy: 0.9954"
     ]
    },
    {
     "name": "stdout",
     "output_type": "stream",
     "text": [
      "\b\b\b\b\b\b\b\b\b\b\b\b\b\b\b\b\b\b\b\b\b\b\b\b\b\b\b\b\b\b\b\b\b\b\b\b\b\b\b\b\b\b\b\b\b\b\b\b\b\b\b\b\b\b\b\b\b\b\b\b\b\b\b\b\b\b\b\b\b\b\b\b\b\b\b\b\b\b\b\b\b\b\b\b\r",
      "261/750 [=========>....................] - ETA: 0s - loss: 0.0187 - accuracy: 0.9949"
     ]
    },
    {
     "name": "stdout",
     "output_type": "stream",
     "text": [
      "\b\b\b\b\b\b\b\b\b\b\b\b\b\b\b\b\b\b\b\b\b\b\b\b\b\b\b\b\b\b\b\b\b\b\b\b\b\b\b\b\b\b\b\b\b\b\b\b\b\b\b\b\b\b\b\b\b\b\b\b\b\b\b\b\b\b\b\b\b\b\b\b\b\b\b\b\b\b\b\b\b\b\b\b\r",
      "295/750 [==========>...................] - ETA: 0s - loss: 0.0190 - accuracy: 0.9948"
     ]
    },
    {
     "name": "stdout",
     "output_type": "stream",
     "text": [
      "\b\b\b\b\b\b\b\b\b\b\b\b\b\b\b\b\b\b\b\b\b\b\b\b\b\b\b\b\b\b\b\b\b\b\b\b\b\b\b\b\b\b\b\b\b\b\b\b\b\b\b\b\b\b\b\b\b\b\b\b\b\b\b\b\b\b\b\b\b\b\b\b\b\b\b\b\b\b\b\b\b\b\b\b\r",
      "327/750 [============>.................] - ETA: 0s - loss: 0.0189 - accuracy: 0.9948"
     ]
    },
    {
     "name": "stdout",
     "output_type": "stream",
     "text": [
      "\b\b\b\b\b\b\b\b\b\b\b\b\b\b\b\b\b\b\b\b\b\b\b\b\b\b\b\b\b\b\b\b\b\b\b\b\b\b\b\b\b\b\b\b\b\b\b\b\b\b\b\b\b\b\b\b\b\b\b\b\b\b\b\b\b\b\b\b\b\b\b\b\b\b\b\b\b\b\b\b\b\b\b\b\r",
      "364/750 [=============>................] - ETA: 0s - loss: 0.0187 - accuracy: 0.9950"
     ]
    },
    {
     "name": "stdout",
     "output_type": "stream",
     "text": [
      "\b\b\b\b\b\b\b\b\b\b\b\b\b\b\b\b\b\b\b\b\b\b\b\b\b\b\b\b\b\b\b\b\b\b\b\b\b\b\b\b\b\b\b\b\b\b\b\b\b\b\b\b\b\b\b\b\b\b\b\b\b\b\b\b\b\b\b\b\b\b\b\b\b\b\b\b\b\b\b\b\b\b\b\b\r",
      "401/750 [===============>..............] - ETA: 0s - loss: 0.0187 - accuracy: 0.9951"
     ]
    },
    {
     "name": "stdout",
     "output_type": "stream",
     "text": [
      "\b\b\b\b\b\b\b\b\b\b\b\b\b\b\b\b\b\b\b\b\b\b\b\b\b\b\b\b\b\b\b\b\b\b\b\b\b\b\b\b\b\b\b\b\b\b\b\b\b\b\b\b\b\b\b\b\b\b\b\b\b\b\b\b\b\b\b\b\b\b\b\b\b\b\b\b\b\b\b\b\b\b\b\b\r",
      "436/750 [================>.............] - ETA: 0s - loss: 0.0187 - accuracy: 0.9950"
     ]
    },
    {
     "name": "stdout",
     "output_type": "stream",
     "text": [
      "\b\b\b\b\b\b\b\b\b\b\b\b\b\b\b\b\b\b\b\b\b\b\b\b\b\b\b\b\b\b\b\b\b\b\b\b\b\b\b\b\b\b\b\b\b\b\b\b\b\b\b\b\b\b\b\b\b\b\b\b\b\b\b\b\b\b\b\b\b\b\b\b\b\b\b\b\b\b\b\b\b\b\b\b\r",
      "471/750 [=================>............] - ETA: 0s - loss: 0.0190 - accuracy: 0.9949"
     ]
    },
    {
     "name": "stdout",
     "output_type": "stream",
     "text": [
      "\b\b\b\b\b\b\b\b\b\b\b\b\b\b\b\b\b\b\b\b\b\b\b\b\b\b\b\b\b\b\b\b\b\b\b\b\b\b\b\b\b\b\b\b\b\b\b\b\b\b\b\b\b\b\b\b\b\b\b\b\b\b\b\b\b\b\b\b\b\b\b\b\b\b\b\b\b\b\b\b\b\b\b\b\r",
      "502/750 [===================>..........] - ETA: 0s - loss: 0.0190 - accuracy: 0.9949"
     ]
    },
    {
     "name": "stdout",
     "output_type": "stream",
     "text": [
      "\b\b\b\b\b\b\b\b\b\b\b\b\b\b\b\b\b\b\b\b\b\b\b\b\b\b\b\b\b\b\b\b\b\b\b\b\b\b\b\b\b\b\b\b\b\b\b\b\b\b\b\b\b\b\b\b\b\b\b\b\b\b\b\b\b\b\b\b\b\b\b\b\b\b\b\b\b\b\b\b\b\b\b\b\r",
      "538/750 [====================>.........] - ETA: 0s - loss: 0.0190 - accuracy: 0.9949"
     ]
    },
    {
     "name": "stdout",
     "output_type": "stream",
     "text": [
      "\b\b\b\b\b\b\b\b\b\b\b\b\b\b\b\b\b\b\b\b\b\b\b\b\b\b\b\b\b\b\b\b\b\b\b\b\b\b\b\b\b\b\b\b\b\b\b\b\b\b\b\b\b\b\b\b\b\b\b\b\b\b\b\b\b\b\b\b\b\b\b\b\b\b\b\b\b\b\b\b\b\b\b\b\r",
      "575/750 [======================>.......] - ETA: 0s - loss: 0.0193 - accuracy: 0.9948"
     ]
    },
    {
     "name": "stdout",
     "output_type": "stream",
     "text": [
      "\b\b\b\b\b\b\b\b\b\b\b\b\b\b\b\b\b\b\b\b\b\b\b\b\b\b\b\b\b\b\b\b\b\b\b\b\b\b\b\b\b\b\b\b\b\b\b\b\b\b\b\b\b\b\b\b\b\b\b\b\b\b\b\b\b\b\b\b\b\b\b\b\b\b\b\b\b\b\b\b\b\b\b\b\r",
      "613/750 [=======================>......] - ETA: 0s - loss: 0.0195 - accuracy: 0.9947"
     ]
    },
    {
     "name": "stdout",
     "output_type": "stream",
     "text": [
      "\b\b\b\b\b\b\b\b\b\b\b\b\b\b\b\b\b\b\b\b\b\b\b\b\b\b\b\b\b\b\b\b\b\b\b\b\b\b\b\b\b\b\b\b\b\b\b\b\b\b\b\b\b\b\b\b\b\b\b\b\b\b\b\b\b\b\b\b\b\b\b\b\b\b\b\b\b\b\b\b\b\b\b\b\r",
      "651/750 [=========================>....] - ETA: 0s - loss: 0.0195 - accuracy: 0.9947"
     ]
    },
    {
     "name": "stdout",
     "output_type": "stream",
     "text": [
      "\b\b\b\b\b\b\b\b\b\b\b\b\b\b\b\b\b\b\b\b\b\b\b\b\b\b\b\b\b\b\b\b\b\b\b\b\b\b\b\b\b\b\b\b\b\b\b\b\b\b\b\b\b\b\b\b\b\b\b\b\b\b\b\b\b\b\b\b\b\b\b\b\b\b\b\b\b\b\b\b\b\b\b\b\r",
      "690/750 [==========================>...] - ETA: 0s - loss: 0.0195 - accuracy: 0.9948"
     ]
    },
    {
     "name": "stdout",
     "output_type": "stream",
     "text": [
      "\b\b\b\b\b\b\b\b\b\b\b\b\b\b\b\b\b\b\b\b\b\b\b\b\b\b\b\b\b\b\b\b\b\b\b\b\b\b\b\b\b\b\b\b\b\b\b\b\b\b\b\b\b\b\b\b\b\b\b\b\b\b\b\b\b\b\b\b\b\b\b\b\b\b\b\b\b\b\b\b\b\b\b\b\r",
      "728/750 [============================>.] - ETA: 0s - loss: 0.0197 - accuracy: 0.9947"
     ]
    },
    {
     "name": "stdout",
     "output_type": "stream",
     "text": [
      "\b\b\b\b\b\b\b\b\b\b\b\b\b\b\b\b\b\b\b\b\b\b\b\b\b\b\b\b\b\b\b\b\b\b\b\b\b\b\b\b\b\b\b\b\b\b\b\b\b\b\b\b\b\b\b\b\b\b\b\b\b\b\b\b\b\b\b\b\b\b\b\b\b\b\b\b\b\b\b\b\b\b\b\b\r",
      "750/750 [==============================] - 1s 2ms/step - loss: 0.0202 - accuracy: 0.9944 - val_loss: 0.0952 - val_accuracy: 0.9743\n"
     ]
    },
    {
     "name": "stdout",
     "output_type": "stream",
     "text": [
      "Epoch 12/100\n"
     ]
    },
    {
     "name": "stdout",
     "output_type": "stream",
     "text": [
      "\r",
      "  1/750 [..............................] - ETA: 0s - loss: 0.0383 - accuracy: 0.9844"
     ]
    },
    {
     "name": "stdout",
     "output_type": "stream",
     "text": [
      "\b\b\b\b\b\b\b\b\b\b\b\b\b\b\b\b\b\b\b\b\b\b\b\b\b\b\b\b\b\b\b\b\b\b\b\b\b\b\b\b\b\b\b\b\b\b\b\b\b\b\b\b\b\b\b\b\b\b\b\b\b\b\b\b\b\b\b\b\b\b\b\b\b\b\b\b\b\b\b\b\b\b\b\b\r",
      " 41/750 [>.............................] - ETA: 0s - loss: 0.0169 - accuracy: 0.9962"
     ]
    },
    {
     "name": "stdout",
     "output_type": "stream",
     "text": [
      "\b\b\b\b\b\b\b\b\b\b\b\b\b\b\b\b\b\b\b\b\b\b\b\b\b\b\b\b\b\b\b\b\b\b\b\b\b\b\b\b\b\b\b\b\b\b\b\b\b\b\b\b\b\b\b\b\b\b\b\b\b\b\b\b\b\b\b\b\b\b\b\b\b\b\b\b\b\b\b\b\b\b\b\b\r",
      " 80/750 [==>...........................] - ETA: 0s - loss: 0.0155 - accuracy: 0.9967"
     ]
    },
    {
     "name": "stdout",
     "output_type": "stream",
     "text": [
      "\b\b\b\b\b\b\b\b\b\b\b\b\b\b\b\b\b\b\b\b\b\b\b\b\b\b\b\b\b\b\b\b\b\b\b\b\b\b\b\b\b\b\b\b\b\b\b\b\b\b\b\b\b\b\b\b\b\b\b\b\b\b\b\b\b\b\b\b\b\b\b\b\b\b\b\b\b\b\b\b\b\b\b\b\r",
      "119/750 [===>..........................] - ETA: 0s - loss: 0.0148 - accuracy: 0.9967"
     ]
    },
    {
     "name": "stdout",
     "output_type": "stream",
     "text": [
      "\b\b\b\b\b\b\b\b\b\b\b\b\b\b\b\b\b\b\b\b\b\b\b\b\b\b\b\b\b\b\b\b\b\b\b\b\b\b\b\b\b\b\b\b\b\b\b\b\b\b\b\b\b\b\b\b\b\b\b\b\b\b\b\b\b\b\b\b\b\b\b\b\b\b\b\b\b\b\b\b\b\b\b\b\r",
      "155/750 [=====>........................] - ETA: 0s - loss: 0.0143 - accuracy: 0.9969"
     ]
    },
    {
     "name": "stdout",
     "output_type": "stream",
     "text": [
      "\b\b\b\b\b\b\b\b\b\b\b\b\b\b\b\b\b\b\b\b\b\b\b\b\b\b\b\b\b\b\b\b\b\b\b\b\b\b\b\b\b\b\b\b\b\b\b\b\b\b\b\b\b\b\b\b\b\b\b\b\b\b\b\b\b\b\b\b\b\b\b\b\b\b\b\b\b\b\b\b\b\b\b\b\r",
      "190/750 [======>.......................] - ETA: 0s - loss: 0.0148 - accuracy: 0.9966"
     ]
    },
    {
     "name": "stdout",
     "output_type": "stream",
     "text": [
      "\b\b\b\b\b\b\b\b\b\b\b\b\b\b\b\b\b\b\b\b\b\b\b\b\b\b\b\b\b\b\b\b\b\b\b\b\b\b\b\b\b\b\b\b\b\b\b\b\b\b\b\b\b\b\b\b\b\b\b\b\b\b\b\b\b\b\b\b\b\b\b\b\b\b\b\b\b\b\b\b\b\b\b\b\r",
      "229/750 [========>.....................] - ETA: 0s - loss: 0.0149 - accuracy: 0.9965"
     ]
    },
    {
     "name": "stdout",
     "output_type": "stream",
     "text": [
      "\b\b\b\b\b\b\b\b\b\b\b\b\b\b\b\b\b\b\b\b\b\b\b\b\b\b\b\b\b\b\b\b\b\b\b\b\b\b\b\b\b\b\b\b\b\b\b\b\b\b\b\b\b\b\b\b\b\b\b\b\b\b\b\b\b\b\b\b\b\b\b\b\b\b\b\b\b\b\b\b\b\b\b\b\r",
      "267/750 [=========>....................] - ETA: 0s - loss: 0.0146 - accuracy: 0.9966"
     ]
    },
    {
     "name": "stdout",
     "output_type": "stream",
     "text": [
      "\b\b\b\b\b\b\b\b\b\b\b\b\b\b\b\b\b\b\b\b\b\b\b\b\b\b\b\b\b\b\b\b\b\b\b\b\b\b\b\b\b\b\b\b\b\b\b\b\b\b\b\b\b\b\b\b\b\b\b\b\b\b\b\b\b\b\b\b\b\b\b\b\b\b\b\b\b\b\b\b\b\b\b\b\r",
      "301/750 [===========>..................] - ETA: 0s - loss: 0.0148 - accuracy: 0.9966"
     ]
    },
    {
     "name": "stdout",
     "output_type": "stream",
     "text": [
      "\b\b\b\b\b\b\b\b\b\b\b\b\b\b\b\b\b\b\b\b\b\b\b\b\b\b\b\b\b\b\b\b\b\b\b\b\b\b\b\b\b\b\b\b\b\b\b\b\b\b\b\b\b\b\b\b\b\b\b\b\b\b\b\b\b\b\b\b\b\b\b\b\b\b\b\b\b\b\b\b\b\b\b\b\r",
      "337/750 [============>.................] - ETA: 0s - loss: 0.0145 - accuracy: 0.9968"
     ]
    },
    {
     "name": "stdout",
     "output_type": "stream",
     "text": [
      "\b\b\b\b\b\b\b\b\b\b\b\b\b\b\b\b\b\b\b\b\b\b\b\b\b\b\b\b\b\b\b\b\b\b\b\b\b\b\b\b\b\b\b\b\b\b\b\b\b\b\b\b\b\b\b\b\b\b\b\b\b\b\b\b\b\b\b\b\b\b\b\b\b\b\b\b\b\b\b\b\b\b\b\b\r",
      "369/750 [=============>................] - ETA: 0s - loss: 0.0144 - accuracy: 0.9969"
     ]
    },
    {
     "name": "stdout",
     "output_type": "stream",
     "text": [
      "\b\b\b\b\b\b\b\b\b\b\b\b\b\b\b\b\b\b\b\b\b\b\b\b\b\b\b\b\b\b\b\b\b\b\b\b\b\b\b\b\b\b\b\b\b\b\b\b\b\b\b\b\b\b\b\b\b\b\b\b\b\b\b\b\b\b\b\b\b\b\b\b\b\b\b\b\b\b\b\b\b\b\b\b\r",
      "406/750 [===============>..............] - ETA: 0s - loss: 0.0145 - accuracy: 0.9968"
     ]
    },
    {
     "name": "stdout",
     "output_type": "stream",
     "text": [
      "\b\b\b\b\b\b\b\b\b\b\b\b\b\b\b\b\b\b\b\b\b\b\b\b\b\b\b\b\b\b\b\b\b\b\b\b\b\b\b\b\b\b\b\b\b\b\b\b\b\b\b\b\b\b\b\b\b\b\b\b\b\b\b\b\b\b\b\b\b\b\b\b\b\b\b\b\b\b\b\b\b\b\b\b\r",
      "443/750 [================>.............] - ETA: 0s - loss: 0.0148 - accuracy: 0.9967"
     ]
    },
    {
     "name": "stdout",
     "output_type": "stream",
     "text": [
      "\b\b\b\b\b\b\b\b\b\b\b\b\b\b\b\b\b\b\b\b\b\b\b\b\b\b\b\b\b\b\b\b\b\b\b\b\b\b\b\b\b\b\b\b\b\b\b\b\b\b\b\b\b\b\b\b\b\b\b\b\b\b\b\b\b\b\b\b\b\b\b\b\b\b\b\b\b\b\b\b\b\b\b\b\r",
      "481/750 [==================>...........] - ETA: 0s - loss: 0.0154 - accuracy: 0.9965"
     ]
    },
    {
     "name": "stdout",
     "output_type": "stream",
     "text": [
      "\b\b\b\b\b\b\b\b\b\b\b\b\b\b\b\b\b\b\b\b\b\b\b\b\b\b\b\b\b\b\b\b\b\b\b\b\b\b\b\b\b\b\b\b\b\b\b\b\b\b\b\b\b\b\b\b\b\b\b\b\b\b\b\b\b\b\b\b\b\b\b\b\b\b\b\b\b\b\b\b\b\b\b\b\r",
      "517/750 [===================>..........] - ETA: 0s - loss: 0.0157 - accuracy: 0.9963"
     ]
    },
    {
     "name": "stdout",
     "output_type": "stream",
     "text": [
      "\b\b\b\b\b\b\b\b\b\b\b\b\b\b\b\b\b\b\b\b\b\b\b\b\b\b\b\b\b\b\b\b\b\b\b\b\b\b\b\b\b\b\b\b\b\b\b\b\b\b\b\b\b\b\b\b\b\b\b\b\b\b\b\b\b\b\b\b\b\b\b\b\b\b\b\b\b\b\b\b\b\b\b\b\r",
      "554/750 [=====================>........] - ETA: 0s - loss: 0.0157 - accuracy: 0.9963"
     ]
    },
    {
     "name": "stdout",
     "output_type": "stream",
     "text": [
      "\b\b\b\b\b\b\b\b\b\b\b\b\b\b\b\b\b\b\b\b\b\b\b\b\b\b\b\b\b\b\b\b\b\b\b\b\b\b\b\b\b\b\b\b\b\b\b\b\b\b\b\b\b\b\b\b\b\b\b\b\b\b\b\b\b\b\b\b\b\b\b\b\b\b\b\b\b\b\b\b\b\b\b\b\r",
      "591/750 [======================>.......] - ETA: 0s - loss: 0.0156 - accuracy: 0.9963"
     ]
    },
    {
     "name": "stdout",
     "output_type": "stream",
     "text": [
      "\b\b\b\b\b\b\b\b\b\b\b\b\b\b\b\b\b\b\b\b\b\b\b\b\b\b\b\b\b\b\b\b\b\b\b\b\b\b\b\b\b\b\b\b\b\b\b\b\b\b\b\b\b\b\b\b\b\b\b\b\b\b\b\b\b\b\b\b\b\b\b\b\b\b\b\b\b\b\b\b\b\b\b\b\r",
      "629/750 [========================>.....] - ETA: 0s - loss: 0.0158 - accuracy: 0.9962"
     ]
    },
    {
     "name": "stdout",
     "output_type": "stream",
     "text": [
      "\b\b\b\b\b\b\b\b\b\b\b\b\b\b\b\b\b\b\b\b\b\b\b\b\b\b\b\b\b\b\b\b\b\b\b\b\b\b\b\b\b\b\b\b\b\b\b\b\b\b\b\b\b\b\b\b\b\b\b\b\b\b\b\b\b\b\b\b\b\b\b\b\b\b\b\b\b\b\b\b\b\b\b\b\r",
      "666/750 [=========================>....] - ETA: 0s - loss: 0.0160 - accuracy: 0.9961"
     ]
    },
    {
     "name": "stdout",
     "output_type": "stream",
     "text": [
      "\b\b\b\b\b\b\b\b\b\b\b\b\b\b\b\b\b\b\b\b\b\b\b\b\b\b\b\b\b\b\b\b\b\b\b\b\b\b\b\b\b\b\b\b\b\b\b\b\b\b\b\b\b\b\b\b\b\b\b\b\b\b\b\b\b\b\b\b\b\b\b\b\b\b\b\b\b\b\b\b\b\b\b\b\r",
      "704/750 [===========================>..] - ETA: 0s - loss: 0.0161 - accuracy: 0.9960"
     ]
    },
    {
     "name": "stdout",
     "output_type": "stream",
     "text": [
      "\b\b\b\b\b\b\b\b\b\b\b\b\b\b\b\b\b\b\b\b\b\b\b\b\b\b\b\b\b\b\b\b\b\b\b\b\b\b\b\b\b\b\b\b\b\b\b\b\b\b\b\b\b\b\b\b\b\b\b\b\b\b\b\b\b\b\b\b\b\b\b\b\b\b\b\b\b\b\b\b\b\b\b\b\r",
      "741/750 [============================>.] - ETA: 0s - loss: 0.0163 - accuracy: 0.9959"
     ]
    },
    {
     "name": "stdout",
     "output_type": "stream",
     "text": [
      "\b\b\b\b\b\b\b\b\b\b\b\b\b\b\b\b\b\b\b\b\b\b\b\b\b\b\b\b\b\b\b\b\b\b\b\b\b\b\b\b\b\b\b\b\b\b\b\b\b\b\b\b\b\b\b\b\b\b\b\b\b\b\b\b\b\b\b\b\b\b\b\b\b\b\b\b\b\b\b\b\b\b\b\b\r",
      "750/750 [==============================] - 1s 2ms/step - loss: 0.0164 - accuracy: 0.9959 - val_loss: 0.0938 - val_accuracy: 0.9771\n"
     ]
    },
    {
     "name": "stdout",
     "output_type": "stream",
     "text": [
      "Epoch 13/100\n"
     ]
    },
    {
     "name": "stdout",
     "output_type": "stream",
     "text": [
      "\r",
      "  1/750 [..............................] - ETA: 1s - loss: 0.0129 - accuracy: 1.0000"
     ]
    },
    {
     "name": "stdout",
     "output_type": "stream",
     "text": [
      "\b\b\b\b\b\b\b\b\b\b\b\b\b\b\b\b\b\b\b\b\b\b\b\b\b\b\b\b\b\b\b\b\b\b\b\b\b\b\b\b\b\b\b\b\b\b\b\b\b\b\b\b\b\b\b\b\b\b\b\b\b\b\b\b\b\b\b\b\b\b\b\b\b\b\b\b\b\b\b\b\b\b\b\b\r",
      " 36/750 [>.............................] - ETA: 1s - loss: 0.0122 - accuracy: 0.9974"
     ]
    },
    {
     "name": "stdout",
     "output_type": "stream",
     "text": [
      "\b\b\b\b\b\b\b\b\b\b\b\b\b\b\b\b\b\b\b\b\b\b\b\b\b\b\b\b\b\b\b\b\b\b\b\b\b\b\b\b\b\b\b\b\b\b\b\b\b\b\b\b\b\b\b\b\b\b\b\b\b\b\b\b\b\b\b\b\b\b\b\b\b\b\b\b\b\b\b\b\b\b\b\b\r",
      " 71/750 [=>............................] - ETA: 0s - loss: 0.0123 - accuracy: 0.9976"
     ]
    },
    {
     "name": "stdout",
     "output_type": "stream",
     "text": [
      "\b\b\b\b\b\b\b\b\b\b\b\b\b\b\b\b\b\b\b\b\b\b\b\b\b\b\b\b\b\b\b\b\b\b\b\b\b\b\b\b\b\b\b\b\b\b\b\b\b\b\b\b\b\b\b\b\b\b\b\b\b\b\b\b\b\b\b\b\b\b\b\b\b\b\b\b\b\b\b\b\b\b\b\b\r",
      "109/750 [===>..........................] - ETA: 0s - loss: 0.0113 - accuracy: 0.9980"
     ]
    },
    {
     "name": "stdout",
     "output_type": "stream",
     "text": [
      "\b\b\b\b\b\b\b\b\b\b\b\b\b\b\b\b\b\b\b\b\b\b\b\b\b\b\b\b\b\b\b\b\b\b\b\b\b\b\b\b\b\b\b\b\b\b\b\b\b\b\b\b\b\b\b\b\b\b\b\b\b\b\b\b\b\b\b\b\b\b\b\b\b\b\b\b\b\b\b\b\b\b\b\b\r",
      "148/750 [====>.........................] - ETA: 0s - loss: 0.0115 - accuracy: 0.9977"
     ]
    },
    {
     "name": "stdout",
     "output_type": "stream",
     "text": [
      "\b\b\b\b\b\b\b\b\b\b\b\b\b\b\b\b\b\b\b\b\b\b\b\b\b\b\b\b\b\b\b\b\b\b\b\b\b\b\b\b\b\b\b\b\b\b\b\b\b\b\b\b\b\b\b\b\b\b\b\b\b\b\b\b\b\b\b\b\b\b\b\b\b\b\b\b\b\b\b\b\b\b\b\b\r",
      "187/750 [======>.......................] - ETA: 0s - loss: 0.0112 - accuracy: 0.9977"
     ]
    },
    {
     "name": "stdout",
     "output_type": "stream",
     "text": [
      "\b\b\b\b\b\b\b\b\b\b\b\b\b\b\b\b\b\b\b\b\b\b\b\b\b\b\b\b\b\b\b\b\b\b\b\b\b\b\b\b\b\b\b\b\b\b\b\b\b\b\b\b\b\b\b\b\b\b\b\b\b\b\b\b\b\b\b\b\b\b\b\b\b\b\b\b\b\b\b\b\b\b\b\b\r",
      "224/750 [=======>......................] - ETA: 0s - loss: 0.0112 - accuracy: 0.9978"
     ]
    },
    {
     "name": "stdout",
     "output_type": "stream",
     "text": [
      "\b\b\b\b\b\b\b\b\b\b\b\b\b\b\b\b\b\b\b\b\b\b\b\b\b\b\b\b\b\b\b\b\b\b\b\b\b\b\b\b\b\b\b\b\b\b\b\b\b\b\b\b\b\b\b\b\b\b\b\b\b\b\b\b\b\b\b\b\b\b\b\b\b\b\b\b\b\b\b\b\b\b\b\b\r",
      "261/750 [=========>....................] - ETA: 0s - loss: 0.0119 - accuracy: 0.9975"
     ]
    },
    {
     "name": "stdout",
     "output_type": "stream",
     "text": [
      "\b\b\b\b\b\b\b\b\b\b\b\b\b\b\b\b\b\b\b\b\b\b\b\b\b\b\b\b\b\b\b\b\b\b\b\b\b\b\b\b\b\b\b\b\b\b\b\b\b\b\b\b\b\b\b\b\b\b\b\b\b\b\b\b\b\b\b\b\b\b\b\b\b\b\b\b\b\b\b\b\b\b\b\b\r",
      "296/750 [==========>...................] - ETA: 0s - loss: 0.0120 - accuracy: 0.9976"
     ]
    },
    {
     "name": "stdout",
     "output_type": "stream",
     "text": [
      "\b\b\b\b\b\b\b\b\b\b\b\b\b\b\b\b\b\b\b\b\b\b\b\b\b\b\b\b\b\b\b\b\b\b\b\b\b\b\b\b\b\b\b\b\b\b\b\b\b\b\b\b\b\b\b\b\b\b\b\b\b\b\b\b\b\b\b\b\b\b\b\b\b\b\b\b\b\b\b\b\b\b\b\b\r",
      "334/750 [============>.................] - ETA: 0s - loss: 0.0118 - accuracy: 0.9975"
     ]
    },
    {
     "name": "stdout",
     "output_type": "stream",
     "text": [
      "\b\b\b\b\b\b\b\b\b\b\b\b\b\b\b\b\b\b\b\b\b\b\b\b\b\b\b\b\b\b\b\b\b\b\b\b\b\b\b\b\b\b\b\b\b\b\b\b\b\b\b\b\b\b\b\b\b\b\b\b\b\b\b\b\b\b\b\b\b\b\b\b\b\b\b\b\b\b\b\b\b\b\b\b\r",
      "371/750 [=============>................] - ETA: 0s - loss: 0.0116 - accuracy: 0.9975"
     ]
    },
    {
     "name": "stdout",
     "output_type": "stream",
     "text": [
      "\b\b\b\b\b\b\b\b\b\b\b\b\b\b\b\b\b\b\b\b\b\b\b\b\b\b\b\b\b\b\b\b\b\b\b\b\b\b\b\b\b\b\b\b\b\b\b\b\b\b\b\b\b\b\b\b\b\b\b\b\b\b\b\b\b\b\b\b\b\b\b\b\b\b\b\b\b\b\b\b\b\b\b\b\r",
      "410/750 [===============>..............] - ETA: 0s - loss: 0.0116 - accuracy: 0.9974"
     ]
    },
    {
     "name": "stdout",
     "output_type": "stream",
     "text": [
      "\b\b\b\b\b\b\b\b\b\b\b\b\b\b\b\b\b\b\b\b\b\b\b\b\b\b\b\b\b\b\b\b\b\b\b\b\b\b\b\b\b\b\b\b\b\b\b\b\b\b\b\b\b\b\b\b\b\b\b\b\b\b\b\b\b\b\b\b\b\b\b\b\b\b\b\b\b\b\b\b\b\b\b\b\r",
      "446/750 [================>.............] - ETA: 0s - loss: 0.0115 - accuracy: 0.9975"
     ]
    },
    {
     "name": "stdout",
     "output_type": "stream",
     "text": [
      "\b\b\b\b\b\b\b\b\b\b\b\b\b\b\b\b\b\b\b\b\b\b\b\b\b\b\b\b\b\b\b\b\b\b\b\b\b\b\b\b\b\b\b\b\b\b\b\b\b\b\b\b\b\b\b\b\b\b\b\b\b\b\b\b\b\b\b\b\b\b\b\b\b\b\b\b\b\b\b\b\b\b\b\b\r",
      "485/750 [==================>...........] - ETA: 0s - loss: 0.0119 - accuracy: 0.9974"
     ]
    },
    {
     "name": "stdout",
     "output_type": "stream",
     "text": [
      "\b\b\b\b\b\b\b\b\b\b\b\b\b\b\b\b\b\b\b\b\b\b\b\b\b\b\b\b\b\b\b\b\b\b\b\b\b\b\b\b\b\b\b\b\b\b\b\b\b\b\b\b\b\b\b\b\b\b\b\b\b\b\b\b\b\b\b\b\b\b\b\b\b\b\b\b\b\b\b\b\b\b\b\b\r",
      "522/750 [===================>..........] - ETA: 0s - loss: 0.0124 - accuracy: 0.9972"
     ]
    },
    {
     "name": "stdout",
     "output_type": "stream",
     "text": [
      "\b\b\b\b\b\b\b\b\b\b\b\b\b\b\b\b\b\b\b\b\b\b\b\b\b\b\b\b\b\b\b\b\b\b\b\b\b\b\b\b\b\b\b\b\b\b\b\b\b\b\b\b\b\b\b\b\b\b\b\b\b\b\b\b\b\b\b\b\b\b\b\b\b\b\b\b\b\b\b\b\b\b\b\b\r",
      "560/750 [=====================>........] - ETA: 0s - loss: 0.0126 - accuracy: 0.9973"
     ]
    },
    {
     "name": "stdout",
     "output_type": "stream",
     "text": [
      "\b\b\b\b\b\b\b\b\b\b\b\b\b\b\b\b\b\b\b\b\b\b\b\b\b\b\b\b\b\b\b\b\b\b\b\b\b\b\b\b\b\b\b\b\b\b\b\b\b\b\b\b\b\b\b\b\b\b\b\b\b\b\b\b\b\b\b\b\b\b\b\b\b\b\b\b\b\b\b\b\b\b\b\b\r",
      "597/750 [======================>.......] - ETA: 0s - loss: 0.0126 - accuracy: 0.9972"
     ]
    },
    {
     "name": "stdout",
     "output_type": "stream",
     "text": [
      "\b\b\b\b\b\b\b\b\b\b\b\b\b\b\b\b\b\b\b\b\b\b\b\b\b\b\b\b\b\b\b\b\b\b\b\b\b\b\b\b\b\b\b\b\b\b\b\b\b\b\b\b\b\b\b\b\b\b\b\b\b\b\b\b\b\b\b\b\b\b\b\b\b\b\b\b\b\b\b\b\b\b\b\b\r",
      "635/750 [========================>.....] - ETA: 0s - loss: 0.0130 - accuracy: 0.9971"
     ]
    },
    {
     "name": "stdout",
     "output_type": "stream",
     "text": [
      "\b\b\b\b\b\b\b\b\b\b\b\b\b\b\b\b\b\b\b\b\b\b\b\b\b\b\b\b\b\b\b\b\b\b\b\b\b\b\b\b\b\b\b\b\b\b\b\b\b\b\b\b\b\b\b\b\b\b\b\b\b\b\b\b\b\b\b\b\b\b\b\b\b\b\b\b\b\b\b\b\b\b\b\b\r",
      "673/750 [=========================>....] - ETA: 0s - loss: 0.0132 - accuracy: 0.9969"
     ]
    },
    {
     "name": "stdout",
     "output_type": "stream",
     "text": [
      "\b\b\b\b\b\b\b\b\b\b\b\b\b\b\b\b\b\b\b\b\b\b\b\b\b\b\b\b\b\b\b\b\b\b\b\b\b\b\b\b\b\b\b\b\b\b\b\b\b\b\b\b\b\b\b\b\b\b\b\b\b\b\b\b\b\b\b\b\b\b\b\b\b\b\b\b\b\b\b\b\b\b\b\b\r",
      "711/750 [===========================>..] - ETA: 0s - loss: 0.0131 - accuracy: 0.9969"
     ]
    },
    {
     "name": "stdout",
     "output_type": "stream",
     "text": [
      "\b\b\b\b\b\b\b\b\b\b\b\b\b\b\b\b\b\b\b\b\b\b\b\b\b\b\b\b\b\b\b\b\b\b\b\b\b\b\b\b\b\b\b\b\b\b\b\b\b\b\b\b\b\b\b\b\b\b\b\b\b\b\b\b\b\b\b\b\b\b\b\b\b\b\b\b\b\b\b\b\b\b\b\b\r",
      "745/750 [============================>.] - ETA: 0s - loss: 0.0132 - accuracy: 0.9968"
     ]
    },
    {
     "name": "stdout",
     "output_type": "stream",
     "text": [
      "\b\b\b\b\b\b\b\b\b\b\b\b\b\b\b\b\b\b\b\b\b\b\b\b\b\b\b\b\b\b\b\b\b\b\b\b\b\b\b\b\b\b\b\b\b\b\b\b\b\b\b\b\b\b\b\b\b\b\b\b\b\b\b\b\b\b\b\b\b\b\b\b\b\b\b\b\b\b\b\b\b\b\b\b\r",
      "750/750 [==============================] - 1s 2ms/step - loss: 0.0132 - accuracy: 0.9968 - val_loss: 0.0930 - val_accuracy: 0.9765\n"
     ]
    },
    {
     "name": "stdout",
     "output_type": "stream",
     "text": [
      "Epoch 14/100\n"
     ]
    },
    {
     "name": "stdout",
     "output_type": "stream",
     "text": [
      "\r",
      "  1/750 [..............................] - ETA: 1s - loss: 0.0063 - accuracy: 1.0000"
     ]
    },
    {
     "name": "stdout",
     "output_type": "stream",
     "text": [
      "\b\b\b\b\b\b\b\b\b\b\b\b\b\b\b\b\b\b\b\b\b\b\b\b\b\b\b\b\b\b\b\b\b\b\b\b\b\b\b\b\b\b\b\b\b\b\b\b\b\b\b\b\b\b\b\b\b\b\b\b\b\b\b\b\b\b\b\b\b\b\b\b\b\b\b\b\b\b\b\b\b\b\b\b\r",
      " 39/750 [>.............................] - ETA: 0s - loss: 0.0131 - accuracy: 0.9972"
     ]
    },
    {
     "name": "stdout",
     "output_type": "stream",
     "text": [
      "\b\b\b\b\b\b\b\b\b\b\b\b\b\b\b\b\b\b\b\b\b\b\b\b\b\b\b\b\b\b\b\b\b\b\b\b\b\b\b\b\b\b\b\b\b\b\b\b\b\b\b\b\b\b\b\b\b\b\b\b\b\b\b\b\b\b\b\b\b\b\b\b\b\b\b\b\b\b\b\b\b\b\b\b\r",
      " 76/750 [==>...........................] - ETA: 0s - loss: 0.0108 - accuracy: 0.9979"
     ]
    },
    {
     "name": "stdout",
     "output_type": "stream",
     "text": [
      "\b\b\b\b\b\b\b\b\b\b\b\b\b\b\b\b\b\b\b\b\b\b\b\b\b\b\b\b\b\b\b\b\b\b\b\b\b\b\b\b\b\b\b\b\b\b\b\b\b\b\b\b\b\b\b\b\b\b\b\b\b\b\b\b\b\b\b\b\b\b\b\b\b\b\b\b\b\b\b\b\b\b\b\b\r",
      "114/750 [===>..........................] - ETA: 0s - loss: 0.0103 - accuracy: 0.9982"
     ]
    },
    {
     "name": "stdout",
     "output_type": "stream",
     "text": [
      "\b\b\b\b\b\b\b\b\b\b\b\b\b\b\b\b\b\b\b\b\b\b\b\b\b\b\b\b\b\b\b\b\b\b\b\b\b\b\b\b\b\b\b\b\b\b\b\b\b\b\b\b\b\b\b\b\b\b\b\b\b\b\b\b\b\b\b\b\b\b\b\b\b\b\b\b\b\b\b\b\b\b\b\b\r",
      "148/750 [====>.........................] - ETA: 0s - loss: 0.0099 - accuracy: 0.9981"
     ]
    },
    {
     "name": "stdout",
     "output_type": "stream",
     "text": [
      "\b\b\b\b\b\b\b\b\b\b\b\b\b\b\b\b\b\b\b\b\b\b\b\b\b\b\b\b\b\b\b\b\b\b\b\b\b\b\b\b\b\b\b\b\b\b\b\b\b\b\b\b\b\b\b\b\b\b\b\b\b\b\b\b\b\b\b\b\b\b\b\b\b\b\b\b\b\b\b\b\b\b\b\b\r",
      "183/750 [======>.......................] - ETA: 0s - loss: 0.0100 - accuracy: 0.9980"
     ]
    },
    {
     "name": "stdout",
     "output_type": "stream",
     "text": [
      "\b\b\b\b\b\b\b\b\b\b\b\b\b\b\b\b\b\b\b\b\b\b\b\b\b\b\b\b\b\b\b\b\b\b\b\b\b\b\b\b\b\b\b\b\b\b\b\b\b\b\b\b\b\b\b\b\b\b\b\b\b\b\b\b\b\b\b\b\b\b\b\b\b\b\b\b\b\b\b\b\b\b\b\b\r",
      "217/750 [=======>......................] - ETA: 0s - loss: 0.0101 - accuracy: 0.9979"
     ]
    },
    {
     "name": "stdout",
     "output_type": "stream",
     "text": [
      "\b\b\b\b\b\b\b\b\b\b\b\b\b\b\b\b\b\b\b\b\b\b\b\b\b\b\b\b\b\b\b\b\b\b\b\b\b\b\b\b\b\b\b\b\b\b\b\b\b\b\b\b\b\b\b\b\b\b\b\b\b\b\b\b\b\b\b\b\b\b\b\b\b\b\b\b\b\b\b\b\b\b\b\b\r",
      "250/750 [=========>....................] - ETA: 0s - loss: 0.0101 - accuracy: 0.9979"
     ]
    },
    {
     "name": "stdout",
     "output_type": "stream",
     "text": [
      "\b\b\b\b\b\b\b\b\b\b\b\b\b\b\b\b\b\b\b\b\b\b\b\b\b\b\b\b\b\b\b\b\b\b\b\b\b\b\b\b\b\b\b\b\b\b\b\b\b\b\b\b\b\b\b\b\b\b\b\b\b\b\b\b\b\b\b\b\b\b\b\b\b\b\b\b\b\b\b\b\b\b\b\b\r",
      "284/750 [==========>...................] - ETA: 0s - loss: 0.0101 - accuracy: 0.9980"
     ]
    },
    {
     "name": "stdout",
     "output_type": "stream",
     "text": [
      "\b\b\b\b\b\b\b\b\b\b\b\b\b\b\b\b\b\b\b\b\b\b\b\b\b\b\b\b\b\b\b\b\b\b\b\b\b\b\b\b\b\b\b\b\b\b\b\b\b\b\b\b\b\b\b\b\b\b\b\b\b\b\b\b\b\b\b\b\b\b\b\b\b\b\b\b\b\b\b\b\b\b\b\b\r",
      "320/750 [===========>..................] - ETA: 0s - loss: 0.0099 - accuracy: 0.9980"
     ]
    },
    {
     "name": "stdout",
     "output_type": "stream",
     "text": [
      "\b\b\b\b\b\b\b\b\b\b\b\b\b\b\b\b\b\b\b\b\b\b\b\b\b\b\b\b\b\b\b\b\b\b\b\b\b\b\b\b\b\b\b\b\b\b\b\b\b\b\b\b\b\b\b\b\b\b\b\b\b\b\b\b\b\b\b\b\b\b\b\b\b\b\b\b\b\b\b\b\b\b\b\b\r",
      "357/750 [=============>................] - ETA: 0s - loss: 0.0098 - accuracy: 0.9980"
     ]
    },
    {
     "name": "stdout",
     "output_type": "stream",
     "text": [
      "\b\b\b\b\b\b\b\b\b\b\b\b\b\b\b\b\b\b\b\b\b\b\b\b\b\b\b\b\b\b\b\b\b\b\b\b\b\b\b\b\b\b\b\b\b\b\b\b\b\b\b\b\b\b\b\b\b\b\b\b\b\b\b\b\b\b\b\b\b\b\b\b\b\b\b\b\b\b\b\b\b\b\b\b\r",
      "395/750 [==============>...............] - ETA: 0s - loss: 0.0104 - accuracy: 0.9977"
     ]
    },
    {
     "name": "stdout",
     "output_type": "stream",
     "text": [
      "\b\b\b\b\b\b\b\b\b\b\b\b\b\b\b\b\b\b\b\b\b\b\b\b\b\b\b\b\b\b\b\b\b\b\b\b\b\b\b\b\b\b\b\b\b\b\b\b\b\b\b\b\b\b\b\b\b\b\b\b\b\b\b\b\b\b\b\b\b\b\b\b\b\b\b\b\b\b\b\b\b\b\b\b\r",
      "433/750 [================>.............] - ETA: 0s - loss: 0.0105 - accuracy: 0.9978"
     ]
    },
    {
     "name": "stdout",
     "output_type": "stream",
     "text": [
      "\b\b\b\b\b\b\b\b\b\b\b\b\b\b\b\b\b\b\b\b\b\b\b\b\b\b\b\b\b\b\b\b\b\b\b\b\b\b\b\b\b\b\b\b\b\b\b\b\b\b\b\b\b\b\b\b\b\b\b\b\b\b\b\b\b\b\b\b\b\b\b\b\b\b\b\b\b\b\b\b\b\b\b\b\r",
      "471/750 [=================>............] - ETA: 0s - loss: 0.0106 - accuracy: 0.9978"
     ]
    },
    {
     "name": "stdout",
     "output_type": "stream",
     "text": [
      "\b\b\b\b\b\b\b\b\b\b\b\b\b\b\b\b\b\b\b\b\b\b\b\b\b\b\b\b\b\b\b\b\b\b\b\b\b\b\b\b\b\b\b\b\b\b\b\b\b\b\b\b\b\b\b\b\b\b\b\b\b\b\b\b\b\b\b\b\b\b\b\b\b\b\b\b\b\b\b\b\b\b\b\b\r",
      "507/750 [===================>..........] - ETA: 0s - loss: 0.0106 - accuracy: 0.9977"
     ]
    },
    {
     "name": "stdout",
     "output_type": "stream",
     "text": [
      "\b\b\b\b\b\b\b\b\b\b\b\b\b\b\b\b\b\b\b\b\b\b\b\b\b\b\b\b\b\b\b\b\b\b\b\b\b\b\b\b\b\b\b\b\b\b\b\b\b\b\b\b\b\b\b\b\b\b\b\b\b\b\b\b\b\b\b\b\b\b\b\b\b\b\b\b\b\b\b\b\b\b\b\b\r",
      "542/750 [====================>.........] - ETA: 0s - loss: 0.0106 - accuracy: 0.9978"
     ]
    },
    {
     "name": "stdout",
     "output_type": "stream",
     "text": [
      "\b\b\b\b\b\b\b\b\b\b\b\b\b\b\b\b\b\b\b\b\b\b\b\b\b\b\b\b\b\b\b\b\b\b\b\b\b\b\b\b\b\b\b\b\b\b\b\b\b\b\b\b\b\b\b\b\b\b\b\b\b\b\b\b\b\b\b\b\b\b\b\b\b\b\b\b\b\b\b\b\b\b\b\b\r",
      "578/750 [======================>.......] - ETA: 0s - loss: 0.0108 - accuracy: 0.9978"
     ]
    },
    {
     "name": "stdout",
     "output_type": "stream",
     "text": [
      "\b\b\b\b\b\b\b\b\b\b\b\b\b\b\b\b\b\b\b\b\b\b\b\b\b\b\b\b\b\b\b\b\b\b\b\b\b\b\b\b\b\b\b\b\b\b\b\b\b\b\b\b\b\b\b\b\b\b\b\b\b\b\b\b\b\b\b\b\b\b\b\b\b\b\b\b\b\b\b\b\b\b\b\b\r",
      "615/750 [=======================>......] - ETA: 0s - loss: 0.0111 - accuracy: 0.9976"
     ]
    },
    {
     "name": "stdout",
     "output_type": "stream",
     "text": [
      "\b\b\b\b\b\b\b\b\b\b\b\b\b\b\b\b\b\b\b\b\b\b\b\b\b\b\b\b\b\b\b\b\b\b\b\b\b\b\b\b\b\b\b\b\b\b\b\b\b\b\b\b\b\b\b\b\b\b\b\b\b\b\b\b\b\b\b\b\b\b\b\b\b\b\b\b\b\b\b\b\b\b\b\b\r",
      "652/750 [=========================>....] - ETA: 0s - loss: 0.0114 - accuracy: 0.9975"
     ]
    },
    {
     "name": "stdout",
     "output_type": "stream",
     "text": [
      "\b\b\b\b\b\b\b\b\b\b\b\b\b\b\b\b\b\b\b\b\b\b\b\b\b\b\b\b\b\b\b\b\b\b\b\b\b\b\b\b\b\b\b\b\b\b\b\b\b\b\b\b\b\b\b\b\b\b\b\b\b\b\b\b\b\b\b\b\b\b\b\b\b\b\b\b\b\b\b\b\b\b\b\b\r",
      "689/750 [==========================>...] - ETA: 0s - loss: 0.0113 - accuracy: 0.9976"
     ]
    },
    {
     "name": "stdout",
     "output_type": "stream",
     "text": [
      "\b\b\b\b\b\b\b\b\b\b\b\b\b\b\b\b\b\b\b\b\b\b\b\b\b\b\b\b\b\b\b\b\b\b\b\b\b\b\b\b\b\b\b\b\b\b\b\b\b\b\b\b\b\b\b\b\b\b\b\b\b\b\b\b\b\b\b\b\b\b\b\b\b\b\b\b\b\b\b\b\b\b\b\b\r",
      "726/750 [============================>.] - ETA: 0s - loss: 0.0113 - accuracy: 0.9975"
     ]
    },
    {
     "name": "stdout",
     "output_type": "stream",
     "text": [
      "\b\b\b\b\b\b\b\b\b\b\b\b\b\b\b\b\b\b\b\b\b\b\b\b\b\b\b\b\b\b\b\b\b\b\b\b\b\b\b\b\b\b\b\b\b\b\b\b\b\b\b\b\b\b\b\b\b\b\b\b\b\b\b\b\b\b\b\b\b\b\b\b\b\b\b\b\b\b\b\b\b\b\b\b\r",
      "750/750 [==============================] - 1s 2ms/step - loss: 0.0112 - accuracy: 0.9975 - val_loss: 0.0956 - val_accuracy: 0.9759\n"
     ]
    },
    {
     "name": "stdout",
     "output_type": "stream",
     "text": [
      "Epoch 15/100\n"
     ]
    },
    {
     "name": "stdout",
     "output_type": "stream",
     "text": [
      "\r",
      "  1/750 [..............................] - ETA: 1s - loss: 0.0035 - accuracy: 1.0000"
     ]
    },
    {
     "name": "stdout",
     "output_type": "stream",
     "text": [
      "\b\b\b\b\b\b\b\b\b\b\b\b\b\b\b\b\b\b\b\b\b\b\b\b\b\b\b\b\b\b\b\b\b\b\b\b\b\b\b\b\b\b\b\b\b\b\b\b\b\b\b\b\b\b\b\b\b\b\b\b\b\b\b\b\b\b\b\b\b\b\b\b\b\b\b\b\b\b\b\b\b\b\b\b\r",
      " 39/750 [>.............................] - ETA: 0s - loss: 0.0102 - accuracy: 0.9980"
     ]
    },
    {
     "name": "stdout",
     "output_type": "stream",
     "text": [
      "\b\b\b\b\b\b\b\b\b\b\b\b\b\b\b\b\b\b\b\b\b\b\b\b\b\b\b\b\b\b\b\b\b\b\b\b\b\b\b\b\b\b\b\b\b\b\b\b\b\b\b\b\b\b\b\b\b\b\b\b\b\b\b\b\b\b\b\b\b\b\b\b\b\b\b\b\b\b\b\b\b\b\b\b\r",
      " 78/750 [==>...........................] - ETA: 0s - loss: 0.0097 - accuracy: 0.9980"
     ]
    },
    {
     "name": "stdout",
     "output_type": "stream",
     "text": [
      "\b\b\b\b\b\b\b\b\b\b\b\b\b\b\b\b\b\b\b\b\b\b\b\b\b\b\b\b\b\b\b\b\b\b\b\b\b\b\b\b\b\b\b\b\b\b\b\b\b\b\b\b\b\b\b\b\b\b\b\b\b\b\b\b\b\b\b\b\b\b\b\b\b\b\b\b\b\b\b\b\b\b\b\b\r",
      "117/750 [===>..........................] - ETA: 0s - loss: 0.0106 - accuracy: 0.9979"
     ]
    },
    {
     "name": "stdout",
     "output_type": "stream",
     "text": [
      "\b\b\b\b\b\b\b\b\b\b\b\b\b\b\b\b\b\b\b\b\b\b\b\b\b\b\b\b\b\b\b\b\b\b\b\b\b\b\b\b\b\b\b\b\b\b\b\b\b\b\b\b\b\b\b\b\b\b\b\b\b\b\b\b\b\b\b\b\b\b\b\b\b\b\b\b\b\b\b\b\b\b\b\b\r",
      "156/750 [=====>........................] - ETA: 0s - loss: 0.0094 - accuracy: 0.9983"
     ]
    },
    {
     "name": "stdout",
     "output_type": "stream",
     "text": [
      "\b\b\b\b\b\b\b\b\b\b\b\b\b\b\b\b\b\b\b\b\b\b\b\b\b\b\b\b\b\b\b\b\b\b\b\b\b\b\b\b\b\b\b\b\b\b\b\b\b\b\b\b\b\b\b\b\b\b\b\b\b\b\b\b\b\b\b\b\b\b\b\b\b\b\b\b\b\b\b\b\b\b\b\b\r",
      "195/750 [======>.......................] - ETA: 0s - loss: 0.0096 - accuracy: 0.9983"
     ]
    },
    {
     "name": "stdout",
     "output_type": "stream",
     "text": [
      "\b\b\b\b\b\b\b\b\b\b\b\b\b\b\b\b\b\b\b\b\b\b\b\b\b\b\b\b\b\b\b\b\b\b\b\b\b\b\b\b\b\b\b\b\b\b\b\b\b\b\b\b\b\b\b\b\b\b\b\b\b\b\b\b\b\b\b\b\b\b\b\b\b\b\b\b\b\b\b\b\b\b\b\b\r",
      "233/750 [========>.....................] - ETA: 0s - loss: 0.0089 - accuracy: 0.9985"
     ]
    },
    {
     "name": "stdout",
     "output_type": "stream",
     "text": [
      "\b\b\b\b\b\b\b\b\b\b\b\b\b\b\b\b\b\b\b\b\b\b\b\b\b\b\b\b\b\b\b\b\b\b\b\b\b\b\b\b\b\b\b\b\b\b\b\b\b\b\b\b\b\b\b\b\b\b\b\b\b\b\b\b\b\b\b\b\b\b\b\b\b\b\b\b\b\b\b\b\b\b\b\b\r",
      "272/750 [=========>....................] - ETA: 0s - loss: 0.0088 - accuracy: 0.9984"
     ]
    },
    {
     "name": "stdout",
     "output_type": "stream",
     "text": [
      "\b\b\b\b\b\b\b\b\b\b\b\b\b\b\b\b\b\b\b\b\b\b\b\b\b\b\b\b\b\b\b\b\b\b\b\b\b\b\b\b\b\b\b\b\b\b\b\b\b\b\b\b\b\b\b\b\b\b\b\b\b\b\b\b\b\b\b\b\b\b\b\b\b\b\b\b\b\b\b\b\b\b\b\b\r",
      "310/750 [===========>..................] - ETA: 0s - loss: 0.0102 - accuracy: 0.9976"
     ]
    },
    {
     "name": "stdout",
     "output_type": "stream",
     "text": [
      "\b\b\b\b\b\b\b\b\b\b\b\b\b\b\b\b\b\b\b\b\b\b\b\b\b\b\b\b\b\b\b\b\b\b\b\b\b\b\b\b\b\b\b\b\b\b\b\b\b\b\b\b\b\b\b\b\b\b\b\b\b\b\b\b\b\b\b\b\b\b\b\b\b\b\b\b\b\b\b\b\b\b\b\b\r",
      "349/750 [============>.................] - ETA: 0s - loss: 0.0106 - accuracy: 0.9974"
     ]
    },
    {
     "name": "stdout",
     "output_type": "stream",
     "text": [
      "\b\b\b\b\b\b\b\b\b\b\b\b\b\b\b\b\b\b\b\b\b\b\b\b\b\b\b\b\b\b\b\b\b\b\b\b\b\b\b\b\b\b\b\b\b\b\b\b\b\b\b\b\b\b\b\b\b\b\b\b\b\b\b\b\b\b\b\b\b\b\b\b\b\b\b\b\b\b\b\b\b\b\b\b\r",
      "386/750 [==============>...............] - ETA: 0s - loss: 0.0104 - accuracy: 0.9974"
     ]
    },
    {
     "name": "stdout",
     "output_type": "stream",
     "text": [
      "\b\b\b\b\b\b\b\b\b\b\b\b\b\b\b\b\b\b\b\b\b\b\b\b\b\b\b\b\b\b\b\b\b\b\b\b\b\b\b\b\b\b\b\b\b\b\b\b\b\b\b\b\b\b\b\b\b\b\b\b\b\b\b\b\b\b\b\b\b\b\b\b\b\b\b\b\b\b\b\b\b\b\b\b\r",
      "423/750 [===============>..............] - ETA: 0s - loss: 0.0100 - accuracy: 0.9976"
     ]
    },
    {
     "name": "stdout",
     "output_type": "stream",
     "text": [
      "\b\b\b\b\b\b\b\b\b\b\b\b\b\b\b\b\b\b\b\b\b\b\b\b\b\b\b\b\b\b\b\b\b\b\b\b\b\b\b\b\b\b\b\b\b\b\b\b\b\b\b\b\b\b\b\b\b\b\b\b\b\b\b\b\b\b\b\b\b\b\b\b\b\b\b\b\b\b\b\b\b\b\b\b\r",
      "462/750 [=================>............] - ETA: 0s - loss: 0.0098 - accuracy: 0.9976"
     ]
    },
    {
     "name": "stdout",
     "output_type": "stream",
     "text": [
      "\b\b\b\b\b\b\b\b\b\b\b\b\b\b\b\b\b\b\b\b\b\b\b\b\b\b\b\b\b\b\b\b\b\b\b\b\b\b\b\b\b\b\b\b\b\b\b\b\b\b\b\b\b\b\b\b\b\b\b\b\b\b\b\b\b\b\b\b\b\b\b\b\b\b\b\b\b\b\b\b\b\b\b\b\r",
      "501/750 [===================>..........] - ETA: 0s - loss: 0.0098 - accuracy: 0.9977"
     ]
    },
    {
     "name": "stdout",
     "output_type": "stream",
     "text": [
      "\b\b\b\b\b\b\b\b\b\b\b\b\b\b\b\b\b\b\b\b\b\b\b\b\b\b\b\b\b\b\b\b\b\b\b\b\b\b\b\b\b\b\b\b\b\b\b\b\b\b\b\b\b\b\b\b\b\b\b\b\b\b\b\b\b\b\b\b\b\b\b\b\b\b\b\b\b\b\b\b\b\b\b\b\r",
      "540/750 [====================>.........] - ETA: 0s - loss: 0.0097 - accuracy: 0.9978"
     ]
    },
    {
     "name": "stdout",
     "output_type": "stream",
     "text": [
      "\b\b\b\b\b\b\b\b\b\b\b\b\b\b\b\b\b\b\b\b\b\b\b\b\b\b\b\b\b\b\b\b\b\b\b\b\b\b\b\b\b\b\b\b\b\b\b\b\b\b\b\b\b\b\b\b\b\b\b\b\b\b\b\b\b\b\b\b\b\b\b\b\b\b\b\b\b\b\b\b\b\b\b\b\r",
      "575/750 [======================>.......] - ETA: 0s - loss: 0.0096 - accuracy: 0.9978"
     ]
    },
    {
     "name": "stdout",
     "output_type": "stream",
     "text": [
      "\b\b\b\b\b\b\b\b\b\b\b\b\b\b\b\b\b\b\b\b\b\b\b\b\b\b\b\b\b\b\b\b\b\b\b\b\b\b\b\b\b\b\b\b\b\b\b\b\b\b\b\b\b\b\b\b\b\b\b\b\b\b\b\b\b\b\b\b\b\b\b\b\b\b\b\b\b\b\b\b\b\b\b\b\r",
      "612/750 [=======================>......] - ETA: 0s - loss: 0.0097 - accuracy: 0.9977"
     ]
    },
    {
     "name": "stdout",
     "output_type": "stream",
     "text": [
      "\b\b\b\b\b\b\b\b\b\b\b\b\b\b\b\b\b\b\b\b\b\b\b\b\b\b\b\b\b\b\b\b\b\b\b\b\b\b\b\b\b\b\b\b\b\b\b\b\b\b\b\b\b\b\b\b\b\b\b\b\b\b\b\b\b\b\b\b\b\b\b\b\b\b\b\b\b\b\b\b\b\b\b\b\r",
      "652/750 [=========================>....] - ETA: 0s - loss: 0.0098 - accuracy: 0.9977"
     ]
    },
    {
     "name": "stdout",
     "output_type": "stream",
     "text": [
      "\b\b\b\b\b\b\b\b\b\b\b\b\b\b\b\b\b\b\b\b\b\b\b\b\b\b\b\b\b\b\b\b\b\b\b\b\b\b\b\b\b\b\b\b\b\b\b\b\b\b\b\b\b\b\b\b\b\b\b\b\b\b\b\b\b\b\b\b\b\b\b\b\b\b\b\b\b\b\b\b\b\b\b\b\r",
      "688/750 [==========================>...] - ETA: 0s - loss: 0.0099 - accuracy: 0.9976"
     ]
    },
    {
     "name": "stdout",
     "output_type": "stream",
     "text": [
      "\b\b\b\b\b\b\b\b\b\b\b\b\b\b\b\b\b\b\b\b\b\b\b\b\b\b\b\b\b\b\b\b\b\b\b\b\b\b\b\b\b\b\b\b\b\b\b\b\b\b\b\b\b\b\b\b\b\b\b\b\b\b\b\b\b\b\b\b\b\b\b\b\b\b\b\b\b\b\b\b\b\b\b\b\r",
      "726/750 [============================>.] - ETA: 0s - loss: 0.0102 - accuracy: 0.9976"
     ]
    },
    {
     "name": "stdout",
     "output_type": "stream",
     "text": [
      "\b\b\b\b\b\b\b\b\b\b\b\b\b\b\b\b\b\b\b\b\b\b\b\b\b\b\b\b\b\b\b\b\b\b\b\b\b\b\b\b\b\b\b\b\b\b\b\b\b\b\b\b\b\b\b\b\b\b\b\b\b\b\b\b\b\b\b\b\b\b\b\b\b\b\b\b\b\b\b\b\b\b\b\b\r",
      "750/750 [==============================] - 1s 2ms/step - loss: 0.0101 - accuracy: 0.9976 - val_loss: 0.0920 - val_accuracy: 0.9772\n"
     ]
    },
    {
     "name": "stdout",
     "output_type": "stream",
     "text": [
      "Epoch 16/100\n"
     ]
    },
    {
     "name": "stdout",
     "output_type": "stream",
     "text": [
      "\r",
      "  1/750 [..............................] - ETA: 1s - loss: 0.0013 - accuracy: 1.0000"
     ]
    },
    {
     "name": "stdout",
     "output_type": "stream",
     "text": [
      "\b\b\b\b\b\b\b\b\b\b\b\b\b\b\b\b\b\b\b\b\b\b\b\b\b\b\b\b\b\b\b\b\b\b\b\b\b\b\b\b\b\b\b\b\b\b\b\b\b\b\b\b\b\b\b\b\b\b\b\b\b\b\b\b\b\b\b\b\b\b\b\b\b\b\b\b\b\b\b\b\b\b\b\b\r",
      " 41/750 [>.............................] - ETA: 0s - loss: 0.0058 - accuracy: 0.9992"
     ]
    },
    {
     "name": "stdout",
     "output_type": "stream",
     "text": [
      "\b\b\b\b\b\b\b\b\b\b\b\b\b\b\b\b\b\b\b\b\b\b\b\b\b\b\b\b\b\b\b\b\b\b\b\b\b\b\b\b\b\b\b\b\b\b\b\b\b\b\b\b\b\b\b\b\b\b\b\b\b\b\b\b\b\b\b\b\b\b\b\b\b\b\b\b\b\b\b\b\b\b\b\b\r",
      " 80/750 [==>...........................] - ETA: 0s - loss: 0.0057 - accuracy: 0.9994"
     ]
    },
    {
     "name": "stdout",
     "output_type": "stream",
     "text": [
      "\b\b\b\b\b\b\b\b\b\b\b\b\b\b\b\b\b\b\b\b\b\b\b\b\b\b\b\b\b\b\b\b\b\b\b\b\b\b\b\b\b\b\b\b\b\b\b\b\b\b\b\b\b\b\b\b\b\b\b\b\b\b\b\b\b\b\b\b\b\b\b\b\b\b\b\b\b\b\b\b\b\b\b\b\r",
      "119/750 [===>..........................] - ETA: 0s - loss: 0.0050 - accuracy: 0.9996"
     ]
    },
    {
     "name": "stdout",
     "output_type": "stream",
     "text": [
      "\b\b\b\b\b\b\b\b\b\b\b\b\b\b\b\b\b\b\b\b\b\b\b\b\b\b\b\b\b\b\b\b\b\b\b\b\b\b\b\b\b\b\b\b\b\b\b\b\b\b\b\b\b\b\b\b\b\b\b\b\b\b\b\b\b\b\b\b\b\b\b\b\b\b\b\b\b\b\b\b\b\b\b\b\r",
      "158/750 [=====>........................] - ETA: 0s - loss: 0.0049 - accuracy: 0.9996"
     ]
    },
    {
     "name": "stdout",
     "output_type": "stream",
     "text": [
      "\b\b\b\b\b\b\b\b\b\b\b\b\b\b\b\b\b\b\b\b\b\b\b\b\b\b\b\b\b\b\b\b\b\b\b\b\b\b\b\b\b\b\b\b\b\b\b\b\b\b\b\b\b\b\b\b\b\b\b\b\b\b\b\b\b\b\b\b\b\b\b\b\b\b\b\b\b\b\b\b\b\b\b\b\r",
      "196/750 [======>.......................] - ETA: 0s - loss: 0.0049 - accuracy: 0.9995"
     ]
    },
    {
     "name": "stdout",
     "output_type": "stream",
     "text": [
      "\b\b\b\b\b\b\b\b\b\b\b\b\b\b\b\b\b\b\b\b\b\b\b\b\b\b\b\b\b\b\b\b\b\b\b\b\b\b\b\b\b\b\b\b\b\b\b\b\b\b\b\b\b\b\b\b\b\b\b\b\b\b\b\b\b\b\b\b\b\b\b\b\b\b\b\b\b\b\b\b\b\b\b\b\r",
      "235/750 [========>.....................] - ETA: 0s - loss: 0.0051 - accuracy: 0.9995"
     ]
    },
    {
     "name": "stdout",
     "output_type": "stream",
     "text": [
      "\b\b\b\b\b\b\b\b\b\b\b\b\b\b\b\b\b\b\b\b\b\b\b\b\b\b\b\b\b\b\b\b\b\b\b\b\b\b\b\b\b\b\b\b\b\b\b\b\b\b\b\b\b\b\b\b\b\b\b\b\b\b\b\b\b\b\b\b\b\b\b\b\b\b\b\b\b\b\b\b\b\b\b\b\r",
      "273/750 [=========>....................] - ETA: 0s - loss: 0.0051 - accuracy: 0.9995"
     ]
    },
    {
     "name": "stdout",
     "output_type": "stream",
     "text": [
      "\b\b\b\b\b\b\b\b\b\b\b\b\b\b\b\b\b\b\b\b\b\b\b\b\b\b\b\b\b\b\b\b\b\b\b\b\b\b\b\b\b\b\b\b\b\b\b\b\b\b\b\b\b\b\b\b\b\b\b\b\b\b\b\b\b\b\b\b\b\b\b\b\b\b\b\b\b\b\b\b\b\b\b\b\r",
      "307/750 [===========>..................] - ETA: 0s - loss: 0.0051 - accuracy: 0.9995"
     ]
    },
    {
     "name": "stdout",
     "output_type": "stream",
     "text": [
      "\b\b\b\b\b\b\b\b\b\b\b\b\b\b\b\b\b\b\b\b\b\b\b\b\b\b\b\b\b\b\b\b\b\b\b\b\b\b\b\b\b\b\b\b\b\b\b\b\b\b\b\b\b\b\b\b\b\b\b\b\b\b\b\b\b\b\b\b\b\b\b\b\b\b\b\b\b\b\b\b\b\b\b\b\r",
      "341/750 [============>.................] - ETA: 0s - loss: 0.0050 - accuracy: 0.9995"
     ]
    },
    {
     "name": "stdout",
     "output_type": "stream",
     "text": [
      "\b\b\b\b\b\b\b\b\b\b\b\b\b\b\b\b\b\b\b\b\b\b\b\b\b\b\b\b\b\b\b\b\b\b\b\b\b\b\b\b\b\b\b\b\b\b\b\b\b\b\b\b\b\b\b\b\b\b\b\b\b\b\b\b\b\b\b\b\b\b\b\b\b\b\b\b\b\b\b\b\b\b\b\b\r",
      "377/750 [==============>...............] - ETA: 0s - loss: 0.0052 - accuracy: 0.9994"
     ]
    },
    {
     "name": "stdout",
     "output_type": "stream",
     "text": [
      "\b\b\b\b\b\b\b\b\b\b\b\b\b\b\b\b\b\b\b\b\b\b\b\b\b\b\b\b\b\b\b\b\b\b\b\b\b\b\b\b\b\b\b\b\b\b\b\b\b\b\b\b\b\b\b\b\b\b\b\b\b\b\b\b\b\b\b\b\b\b\b\b\b\b\b\b\b\b\b\b\b\b\b\b\r",
      "417/750 [===============>..............] - ETA: 0s - loss: 0.0056 - accuracy: 0.9992"
     ]
    },
    {
     "name": "stdout",
     "output_type": "stream",
     "text": [
      "\b\b\b\b\b\b\b\b\b\b\b\b\b\b\b\b\b\b\b\b\b\b\b\b\b\b\b\b\b\b\b\b\b\b\b\b\b\b\b\b\b\b\b\b\b\b\b\b\b\b\b\b\b\b\b\b\b\b\b\b\b\b\b\b\b\b\b\b\b\b\b\b\b\b\b\b\b\b\b\b\b\b\b\b\r",
      "454/750 [=================>............] - ETA: 0s - loss: 0.0057 - accuracy: 0.9991"
     ]
    },
    {
     "name": "stdout",
     "output_type": "stream",
     "text": [
      "\b\b\b\b\b\b\b\b\b\b\b\b\b\b\b\b\b\b\b\b\b\b\b\b\b\b\b\b\b\b\b\b\b\b\b\b\b\b\b\b\b\b\b\b\b\b\b\b\b\b\b\b\b\b\b\b\b\b\b\b\b\b\b\b\b\b\b\b\b\b\b\b\b\b\b\b\b\b\b\b\b\b\b\b\r",
      "491/750 [==================>...........] - ETA: 0s - loss: 0.0062 - accuracy: 0.9989"
     ]
    },
    {
     "name": "stdout",
     "output_type": "stream",
     "text": [
      "\b\b\b\b\b\b\b\b\b\b\b\b\b\b\b\b\b\b\b\b\b\b\b\b\b\b\b\b\b\b\b\b\b\b\b\b\b\b\b\b\b\b\b\b\b\b\b\b\b\b\b\b\b\b\b\b\b\b\b\b\b\b\b\b\b\b\b\b\b\b\b\b\b\b\b\b\b\b\b\b\b\b\b\b\r",
      "530/750 [====================>.........] - ETA: 0s - loss: 0.0064 - accuracy: 0.9988"
     ]
    },
    {
     "name": "stdout",
     "output_type": "stream",
     "text": [
      "\b\b\b\b\b\b\b\b\b\b\b\b\b\b\b\b\b\b\b\b\b\b\b\b\b\b\b\b\b\b\b\b\b\b\b\b\b\b\b\b\b\b\b\b\b\b\b\b\b\b\b\b\b\b\b\b\b\b\b\b\b\b\b\b\b\b\b\b\b\b\b\b\b\b\b\b\b\b\b\b\b\b\b\b\r",
      "569/750 [=====================>........] - ETA: 0s - loss: 0.0068 - accuracy: 0.9987"
     ]
    },
    {
     "name": "stdout",
     "output_type": "stream",
     "text": [
      "\b\b\b\b\b\b\b\b\b\b\b\b\b\b\b\b\b\b\b\b\b\b\b\b\b\b\b\b\b\b\b\b\b\b\b\b\b\b\b\b\b\b\b\b\b\b\b\b\b\b\b\b\b\b\b\b\b\b\b\b\b\b\b\b\b\b\b\b\b\b\b\b\b\b\b\b\b\b\b\b\b\b\b\b\r",
      "608/750 [=======================>......] - ETA: 0s - loss: 0.0071 - accuracy: 0.9986"
     ]
    },
    {
     "name": "stdout",
     "output_type": "stream",
     "text": [
      "\b\b\b\b\b\b\b\b\b\b\b\b\b\b\b\b\b\b\b\b\b\b\b\b\b\b\b\b\b\b\b\b\b\b\b\b\b\b\b\b\b\b\b\b\b\b\b\b\b\b\b\b\b\b\b\b\b\b\b\b\b\b\b\b\b\b\b\b\b\b\b\b\b\b\b\b\b\b\b\b\b\b\b\b\r",
      "646/750 [========================>.....] - ETA: 0s - loss: 0.0073 - accuracy: 0.9986"
     ]
    },
    {
     "name": "stdout",
     "output_type": "stream",
     "text": [
      "\b\b\b\b\b\b\b\b\b\b\b\b\b\b\b\b\b\b\b\b\b\b\b\b\b\b\b\b\b\b\b\b\b\b\b\b\b\b\b\b\b\b\b\b\b\b\b\b\b\b\b\b\b\b\b\b\b\b\b\b\b\b\b\b\b\b\b\b\b\b\b\b\b\b\b\b\b\b\b\b\b\b\b\b\r",
      "684/750 [==========================>...] - ETA: 0s - loss: 0.0072 - accuracy: 0.9986"
     ]
    },
    {
     "name": "stdout",
     "output_type": "stream",
     "text": [
      "\b\b\b\b\b\b\b\b\b\b\b\b\b\b\b\b\b\b\b\b\b\b\b\b\b\b\b\b\b\b\b\b\b\b\b\b\b\b\b\b\b\b\b\b\b\b\b\b\b\b\b\b\b\b\b\b\b\b\b\b\b\b\b\b\b\b\b\b\b\b\b\b\b\b\b\b\b\b\b\b\b\b\b\b\r",
      "722/750 [===========================>..] - ETA: 0s - loss: 0.0073 - accuracy: 0.9986"
     ]
    },
    {
     "name": "stdout",
     "output_type": "stream",
     "text": [
      "\b\b\b\b\b\b\b\b\b\b\b\b\b\b\b\b\b\b\b\b\b\b\b\b\b\b\b\b\b\b\b\b\b\b\b\b\b\b\b\b\b\b\b\b\b\b\b\b\b\b\b\b\b\b\b\b\b\b\b\b\b\b\b\b\b\b\b\b\b\b\b\b\b\b\b\b\b\b\b\b\b\b\b\b\r",
      "750/750 [==============================] - 1s 2ms/step - loss: 0.0074 - accuracy: 0.9985 - val_loss: 0.0990 - val_accuracy: 0.9754\n"
     ]
    },
    {
     "name": "stdout",
     "output_type": "stream",
     "text": [
      "Epoch 17/100\n"
     ]
    },
    {
     "name": "stdout",
     "output_type": "stream",
     "text": [
      "\r",
      "  1/750 [..............................] - ETA: 1s - loss: 0.0036 - accuracy: 1.0000"
     ]
    },
    {
     "name": "stdout",
     "output_type": "stream",
     "text": [
      "\b\b\b\b\b\b\b\b\b\b\b\b\b\b\b\b\b\b\b\b\b\b\b\b\b\b\b\b\b\b\b\b\b\b\b\b\b\b\b\b\b\b\b\b\b\b\b\b\b\b\b\b\b\b\b\b\b\b\b\b\b\b\b\b\b\b\b\b\b\b\b\b\b\b\b\b\b\b\b\b\b\b\b\b\r",
      " 39/750 [>.............................] - ETA: 0s - loss: 0.0064 - accuracy: 0.9996"
     ]
    },
    {
     "name": "stdout",
     "output_type": "stream",
     "text": [
      "\b\b\b\b\b\b\b\b\b\b\b\b\b\b\b\b\b\b\b\b\b\b\b\b\b\b\b\b\b\b\b\b\b\b\b\b\b\b\b\b\b\b\b\b\b\b\b\b\b\b\b\b\b\b\b\b\b\b\b\b\b\b\b\b\b\b\b\b\b\b\b\b\b\b\b\b\b\b\b\b\b\b\b\b\r",
      " 77/750 [==>...........................] - ETA: 0s - loss: 0.0058 - accuracy: 0.9994"
     ]
    },
    {
     "name": "stdout",
     "output_type": "stream",
     "text": [
      "\b\b\b\b\b\b\b\b\b\b\b\b\b\b\b\b\b\b\b\b\b\b\b\b\b\b\b\b\b\b\b\b\b\b\b\b\b\b\b\b\b\b\b\b\b\b\b\b\b\b\b\b\b\b\b\b\b\b\b\b\b\b\b\b\b\b\b\b\b\b\b\b\b\b\b\b\b\b\b\b\b\b\b\b\r",
      "115/750 [===>..........................] - ETA: 0s - loss: 0.0061 - accuracy: 0.9989"
     ]
    },
    {
     "name": "stdout",
     "output_type": "stream",
     "text": [
      "\b\b\b\b\b\b\b\b\b\b\b\b\b\b\b\b\b\b\b\b\b\b\b\b\b\b\b\b\b\b\b\b\b\b\b\b\b\b\b\b\b\b\b\b\b\b\b\b\b\b\b\b\b\b\b\b\b\b\b\b\b\b\b\b\b\b\b\b\b\b\b\b\b\b\b\b\b\b\b\b\b\b\b\b\r",
      "153/750 [=====>........................] - ETA: 0s - loss: 0.0065 - accuracy: 0.9988"
     ]
    },
    {
     "name": "stdout",
     "output_type": "stream",
     "text": [
      "\b\b\b\b\b\b\b\b\b\b\b\b\b\b\b\b\b\b\b\b\b\b\b\b\b\b\b\b\b\b\b\b\b\b\b\b\b\b\b\b\b\b\b\b\b\b\b\b\b\b\b\b\b\b\b\b\b\b\b\b\b\b\b\b\b\b\b\b\b\b\b\b\b\b\b\b\b\b\b\b\b\b\b\b\r",
      "191/750 [======>.......................] - ETA: 0s - loss: 0.0068 - accuracy: 0.9987"
     ]
    },
    {
     "name": "stdout",
     "output_type": "stream",
     "text": [
      "\b\b\b\b\b\b\b\b\b\b\b\b\b\b\b\b\b\b\b\b\b\b\b\b\b\b\b\b\b\b\b\b\b\b\b\b\b\b\b\b\b\b\b\b\b\b\b\b\b\b\b\b\b\b\b\b\b\b\b\b\b\b\b\b\b\b\b\b\b\b\b\b\b\b\b\b\b\b\b\b\b\b\b\b\r",
      "228/750 [========>.....................] - ETA: 0s - loss: 0.0068 - accuracy: 0.9987"
     ]
    },
    {
     "name": "stdout",
     "output_type": "stream",
     "text": [
      "\b\b\b\b\b\b\b\b\b\b\b\b\b\b\b\b\b\b\b\b\b\b\b\b\b\b\b\b\b\b\b\b\b\b\b\b\b\b\b\b\b\b\b\b\b\b\b\b\b\b\b\b\b\b\b\b\b\b\b\b\b\b\b\b\b\b\b\b\b\b\b\b\b\b\b\b\b\b\b\b\b\b\b\b\r",
      "264/750 [=========>....................] - ETA: 0s - loss: 0.0069 - accuracy: 0.9986"
     ]
    },
    {
     "name": "stdout",
     "output_type": "stream",
     "text": [
      "\b\b\b\b\b\b\b\b\b\b\b\b\b\b\b\b\b\b\b\b\b\b\b\b\b\b\b\b\b\b\b\b\b\b\b\b\b\b\b\b\b\b\b\b\b\b\b\b\b\b\b\b\b\b\b\b\b\b\b\b\b\b\b\b\b\b\b\b\b\b\b\b\b\b\b\b\b\b\b\b\b\b\b\b\r",
      "302/750 [===========>..................] - ETA: 0s - loss: 0.0072 - accuracy: 0.9985"
     ]
    },
    {
     "name": "stdout",
     "output_type": "stream",
     "text": [
      "\b\b\b\b\b\b\b\b\b\b\b\b\b\b\b\b\b\b\b\b\b\b\b\b\b\b\b\b\b\b\b\b\b\b\b\b\b\b\b\b\b\b\b\b\b\b\b\b\b\b\b\b\b\b\b\b\b\b\b\b\b\b\b\b\b\b\b\b\b\b\b\b\b\b\b\b\b\b\b\b\b\b\b\b\r",
      "341/750 [============>.................] - ETA: 0s - loss: 0.0074 - accuracy: 0.9984"
     ]
    },
    {
     "name": "stdout",
     "output_type": "stream",
     "text": [
      "\b\b\b\b\b\b\b\b\b\b\b\b\b\b\b\b\b\b\b\b\b\b\b\b\b\b\b\b\b\b\b\b\b\b\b\b\b\b\b\b\b\b\b\b\b\b\b\b\b\b\b\b\b\b\b\b\b\b\b\b\b\b\b\b\b\b\b\b\b\b\b\b\b\b\b\b\b\b\b\b\b\b\b\b\r",
      "379/750 [==============>...............] - ETA: 0s - loss: 0.0073 - accuracy: 0.9985"
     ]
    },
    {
     "name": "stdout",
     "output_type": "stream",
     "text": [
      "\b\b\b\b\b\b\b\b\b\b\b\b\b\b\b\b\b\b\b\b\b\b\b\b\b\b\b\b\b\b\b\b\b\b\b\b\b\b\b\b\b\b\b\b\b\b\b\b\b\b\b\b\b\b\b\b\b\b\b\b\b\b\b\b\b\b\b\b\b\b\b\b\b\b\b\b\b\b\b\b\b\b\b\b\r",
      "417/750 [===============>..............] - ETA: 0s - loss: 0.0077 - accuracy: 0.9983"
     ]
    },
    {
     "name": "stdout",
     "output_type": "stream",
     "text": [
      "\b\b\b\b\b\b\b\b\b\b\b\b\b\b\b\b\b\b\b\b\b\b\b\b\b\b\b\b\b\b\b\b\b\b\b\b\b\b\b\b\b\b\b\b\b\b\b\b\b\b\b\b\b\b\b\b\b\b\b\b\b\b\b\b\b\b\b\b\b\b\b\b\b\b\b\b\b\b\b\b\b\b\b\b\r",
      "455/750 [=================>............] - ETA: 0s - loss: 0.0081 - accuracy: 0.9982"
     ]
    },
    {
     "name": "stdout",
     "output_type": "stream",
     "text": [
      "\b\b\b\b\b\b\b\b\b\b\b\b\b\b\b\b\b\b\b\b\b\b\b\b\b\b\b\b\b\b\b\b\b\b\b\b\b\b\b\b\b\b\b\b\b\b\b\b\b\b\b\b\b\b\b\b\b\b\b\b\b\b\b\b\b\b\b\b\b\b\b\b\b\b\b\b\b\b\b\b\b\b\b\b\r",
      "493/750 [==================>...........] - ETA: 0s - loss: 0.0079 - accuracy: 0.9983"
     ]
    },
    {
     "name": "stdout",
     "output_type": "stream",
     "text": [
      "\b\b\b\b\b\b\b\b\b\b\b\b\b\b\b\b\b\b\b\b\b\b\b\b\b\b\b\b\b\b\b\b\b\b\b\b\b\b\b\b\b\b\b\b\b\b\b\b\b\b\b\b\b\b\b\b\b\b\b\b\b\b\b\b\b\b\b\b\b\b\b\b\b\b\b\b\b\b\b\b\b\b\b\b\r",
      "531/750 [====================>.........] - ETA: 0s - loss: 0.0077 - accuracy: 0.9983"
     ]
    },
    {
     "name": "stdout",
     "output_type": "stream",
     "text": [
      "\b\b\b\b\b\b\b\b\b\b\b\b\b\b\b\b\b\b\b\b\b\b\b\b\b\b\b\b\b\b\b\b\b\b\b\b\b\b\b\b\b\b\b\b\b\b\b\b\b\b\b\b\b\b\b\b\b\b\b\b\b\b\b\b\b\b\b\b\b\b\b\b\b\b\b\b\b\b\b\b\b\b\b\b\r",
      "570/750 [=====================>........] - ETA: 0s - loss: 0.0077 - accuracy: 0.9982"
     ]
    },
    {
     "name": "stdout",
     "output_type": "stream",
     "text": [
      "\b\b\b\b\b\b\b\b\b\b\b\b\b\b\b\b\b\b\b\b\b\b\b\b\b\b\b\b\b\b\b\b\b\b\b\b\b\b\b\b\b\b\b\b\b\b\b\b\b\b\b\b\b\b\b\b\b\b\b\b\b\b\b\b\b\b\b\b\b\b\b\b\b\b\b\b\b\b\b\b\b\b\b\b\r",
      "607/750 [=======================>......] - ETA: 0s - loss: 0.0076 - accuracy: 0.9983"
     ]
    },
    {
     "name": "stdout",
     "output_type": "stream",
     "text": [
      "\b\b\b\b\b\b\b\b\b\b\b\b\b\b\b\b\b\b\b\b\b\b\b\b\b\b\b\b\b\b\b\b\b\b\b\b\b\b\b\b\b\b\b\b\b\b\b\b\b\b\b\b\b\b\b\b\b\b\b\b\b\b\b\b\b\b\b\b\b\b\b\b\b\b\b\b\b\b\b\b\b\b\b\b\r",
      "645/750 [========================>.....] - ETA: 0s - loss: 0.0075 - accuracy: 0.9984"
     ]
    },
    {
     "name": "stdout",
     "output_type": "stream",
     "text": [
      "\b\b\b\b\b\b\b\b\b\b\b\b\b\b\b\b\b\b\b\b\b\b\b\b\b\b\b\b\b\b\b\b\b\b\b\b\b\b\b\b\b\b\b\b\b\b\b\b\b\b\b\b\b\b\b\b\b\b\b\b\b\b\b\b\b\b\b\b\b\b\b\b\b\b\b\b\b\b\b\b\b\b\b\b\r",
      "682/750 [==========================>...] - ETA: 0s - loss: 0.0073 - accuracy: 0.9984"
     ]
    },
    {
     "name": "stdout",
     "output_type": "stream",
     "text": [
      "\b\b\b\b\b\b\b\b\b\b\b\b\b\b\b\b\b\b\b\b\b\b\b\b\b\b\b\b\b\b\b\b\b\b\b\b\b\b\b\b\b\b\b\b\b\b\b\b\b\b\b\b\b\b\b\b\b\b\b\b\b\b\b\b\b\b\b\b\b\b\b\b\b\b\b\b\b\b\b\b\b\b\b\b\r",
      "721/750 [===========================>..] - ETA: 0s - loss: 0.0073 - accuracy: 0.9984"
     ]
    },
    {
     "name": "stdout",
     "output_type": "stream",
     "text": [
      "\b\b\b\b\b\b\b\b\b\b\b\b\b\b\b\b\b\b\b\b\b\b\b\b\b\b\b\b\b\b\b\b\b\b\b\b\b\b\b\b\b\b\b\b\b\b\b\b\b\b\b\b\b\b\b\b\b\b\b\b\b\b\b\b\b\b\b\b\b\b\b\b\b\b\b\b\b\b\b\b\b\b\b\b\r",
      "750/750 [==============================] - 1s 2ms/step - loss: 0.0074 - accuracy: 0.9983 - val_loss: 0.1168 - val_accuracy: 0.9737\n"
     ]
    },
    {
     "name": "stdout",
     "output_type": "stream",
     "text": [
      "Epoch 18/100\n"
     ]
    },
    {
     "name": "stdout",
     "output_type": "stream",
     "text": [
      "\r",
      "  1/750 [..............................] - ETA: 1s - loss: 0.0038 - accuracy: 1.0000"
     ]
    },
    {
     "name": "stdout",
     "output_type": "stream",
     "text": [
      "\b\b\b\b\b\b\b\b\b\b\b\b\b\b\b\b\b\b\b\b\b\b\b\b\b\b\b\b\b\b\b\b\b\b\b\b\b\b\b\b\b\b\b\b\b\b\b\b\b\b\b\b\b\b\b\b\b\b\b\b\b\b\b\b\b\b\b\b\b\b\b\b\b\b\b\b\b\b\b\b\b\b\b\b\r",
      " 40/750 [>.............................] - ETA: 0s - loss: 0.0045 - accuracy: 1.0000"
     ]
    },
    {
     "name": "stdout",
     "output_type": "stream",
     "text": [
      "\b\b\b\b\b\b\b\b\b\b\b\b\b\b\b\b\b\b\b\b\b\b\b\b\b\b\b\b\b\b\b\b\b\b\b\b\b\b\b\b\b\b\b\b\b\b\b\b\b\b\b\b\b\b\b\b\b\b\b\b\b\b\b\b\b\b\b\b\b\b\b\b\b\b\b\b\b\b\b\b\b\b\b\b\r",
      " 79/750 [==>...........................] - ETA: 0s - loss: 0.0041 - accuracy: 1.0000"
     ]
    },
    {
     "name": "stdout",
     "output_type": "stream",
     "text": [
      "\b\b\b\b\b\b\b\b\b\b\b\b\b\b\b\b\b\b\b\b\b\b\b\b\b\b\b\b\b\b\b\b\b\b\b\b\b\b\b\b\b\b\b\b\b\b\b\b\b\b\b\b\b\b\b\b\b\b\b\b\b\b\b\b\b\b\b\b\b\b\b\b\b\b\b\b\b\b\b\b\b\b\b\b\r",
      "117/750 [===>..........................] - ETA: 0s - loss: 0.0037 - accuracy: 1.0000"
     ]
    },
    {
     "name": "stdout",
     "output_type": "stream",
     "text": [
      "\b\b\b\b\b\b\b\b\b\b\b\b\b\b\b\b\b\b\b\b\b\b\b\b\b\b\b\b\b\b\b\b\b\b\b\b\b\b\b\b\b\b\b\b\b\b\b\b\b\b\b\b\b\b\b\b\b\b\b\b\b\b\b\b\b\b\b\b\b\b\b\b\b\b\b\b\b\b\b\b\b\b\b\b\r",
      "155/750 [=====>........................] - ETA: 0s - loss: 0.0038 - accuracy: 0.9999"
     ]
    },
    {
     "name": "stdout",
     "output_type": "stream",
     "text": [
      "\b\b\b\b\b\b\b\b\b\b\b\b\b\b\b\b\b\b\b\b\b\b\b\b\b\b\b\b\b\b\b\b\b\b\b\b\b\b\b\b\b\b\b\b\b\b\b\b\b\b\b\b\b\b\b\b\b\b\b\b\b\b\b\b\b\b\b\b\b\b\b\b\b\b\b\b\b\b\b\b\b\b\b\b\r",
      "192/750 [======>.......................] - ETA: 0s - loss: 0.0041 - accuracy: 0.9997"
     ]
    },
    {
     "name": "stdout",
     "output_type": "stream",
     "text": [
      "\b\b\b\b\b\b\b\b\b\b\b\b\b\b\b\b\b\b\b\b\b\b\b\b\b\b\b\b\b\b\b\b\b\b\b\b\b\b\b\b\b\b\b\b\b\b\b\b\b\b\b\b\b\b\b\b\b\b\b\b\b\b\b\b\b\b\b\b\b\b\b\b\b\b\b\b\b\b\b\b\b\b\b\b\r",
      "230/750 [========>.....................] - ETA: 0s - loss: 0.0042 - accuracy: 0.9995"
     ]
    },
    {
     "name": "stdout",
     "output_type": "stream",
     "text": [
      "\b\b\b\b\b\b\b\b\b\b\b\b\b\b\b\b\b\b\b\b\b\b\b\b\b\b\b\b\b\b\b\b\b\b\b\b\b\b\b\b\b\b\b\b\b\b\b\b\b\b\b\b\b\b\b\b\b\b\b\b\b\b\b\b\b\b\b\b\b\b\b\b\b\b\b\b\b\b\b\b\b\b\b\b\r",
      "267/750 [=========>....................] - ETA: 0s - loss: 0.0040 - accuracy: 0.9995"
     ]
    },
    {
     "name": "stdout",
     "output_type": "stream",
     "text": [
      "\b\b\b\b\b\b\b\b\b\b\b\b\b\b\b\b\b\b\b\b\b\b\b\b\b\b\b\b\b\b\b\b\b\b\b\b\b\b\b\b\b\b\b\b\b\b\b\b\b\b\b\b\b\b\b\b\b\b\b\b\b\b\b\b\b\b\b\b\b\b\b\b\b\b\b\b\b\b\b\b\b\b\b\b\r",
      "306/750 [===========>..................] - ETA: 0s - loss: 0.0039 - accuracy: 0.9995"
     ]
    },
    {
     "name": "stdout",
     "output_type": "stream",
     "text": [
      "\b\b\b\b\b\b\b\b\b\b\b\b\b\b\b\b\b\b\b\b\b\b\b\b\b\b\b\b\b\b\b\b\b\b\b\b\b\b\b\b\b\b\b\b\b\b\b\b\b\b\b\b\b\b\b\b\b\b\b\b\b\b\b\b\b\b\b\b\b\b\b\b\b\b\b\b\b\b\b\b\b\b\b\b\r",
      "345/750 [============>.................] - ETA: 0s - loss: 0.0038 - accuracy: 0.9996"
     ]
    },
    {
     "name": "stdout",
     "output_type": "stream",
     "text": [
      "\b\b\b\b\b\b\b\b\b\b\b\b\b\b\b\b\b\b\b\b\b\b\b\b\b\b\b\b\b\b\b\b\b\b\b\b\b\b\b\b\b\b\b\b\b\b\b\b\b\b\b\b\b\b\b\b\b\b\b\b\b\b\b\b\b\b\b\b\b\b\b\b\b\b\b\b\b\b\b\b\b\b\b\b\r",
      "383/750 [==============>...............] - ETA: 0s - loss: 0.0041 - accuracy: 0.9994"
     ]
    },
    {
     "name": "stdout",
     "output_type": "stream",
     "text": [
      "\b\b\b\b\b\b\b\b\b\b\b\b\b\b\b\b\b\b\b\b\b\b\b\b\b\b\b\b\b\b\b\b\b\b\b\b\b\b\b\b\b\b\b\b\b\b\b\b\b\b\b\b\b\b\b\b\b\b\b\b\b\b\b\b\b\b\b\b\b\b\b\b\b\b\b\b\b\b\b\b\b\b\b\b\r",
      "421/750 [===============>..............] - ETA: 0s - loss: 0.0043 - accuracy: 0.9991"
     ]
    },
    {
     "name": "stdout",
     "output_type": "stream",
     "text": [
      "\b\b\b\b\b\b\b\b\b\b\b\b\b\b\b\b\b\b\b\b\b\b\b\b\b\b\b\b\b\b\b\b\b\b\b\b\b\b\b\b\b\b\b\b\b\b\b\b\b\b\b\b\b\b\b\b\b\b\b\b\b\b\b\b\b\b\b\b\b\b\b\b\b\b\b\b\b\b\b\b\b\b\b\b\r",
      "460/750 [=================>............] - ETA: 0s - loss: 0.0051 - accuracy: 0.9988"
     ]
    },
    {
     "name": "stdout",
     "output_type": "stream",
     "text": [
      "\b\b\b\b\b\b\b\b\b\b\b\b\b\b\b\b\b\b\b\b\b\b\b\b\b\b\b\b\b\b\b\b\b\b\b\b\b\b\b\b\b\b\b\b\b\b\b\b\b\b\b\b\b\b\b\b\b\b\b\b\b\b\b\b\b\b\b\b\b\b\b\b\b\b\b\b\b\b\b\b\b\b\b\b\r",
      "499/750 [==================>...........] - ETA: 0s - loss: 0.0060 - accuracy: 0.9986"
     ]
    },
    {
     "name": "stdout",
     "output_type": "stream",
     "text": [
      "\b\b\b\b\b\b\b\b\b\b\b\b\b\b\b\b\b\b\b\b\b\b\b\b\b\b\b\b\b\b\b\b\b\b\b\b\b\b\b\b\b\b\b\b\b\b\b\b\b\b\b\b\b\b\b\b\b\b\b\b\b\b\b\b\b\b\b\b\b\b\b\b\b\b\b\b\b\b\b\b\b\b\b\b\r",
      "537/750 [====================>.........] - ETA: 0s - loss: 0.0068 - accuracy: 0.9982"
     ]
    },
    {
     "name": "stdout",
     "output_type": "stream",
     "text": [
      "\b\b\b\b\b\b\b\b\b\b\b\b\b\b\b\b\b\b\b\b\b\b\b\b\b\b\b\b\b\b\b\b\b\b\b\b\b\b\b\b\b\b\b\b\b\b\b\b\b\b\b\b\b\b\b\b\b\b\b\b\b\b\b\b\b\b\b\b\b\b\b\b\b\b\b\b\b\b\b\b\b\b\b\b\r",
      "576/750 [======================>.......] - ETA: 0s - loss: 0.0076 - accuracy: 0.9979"
     ]
    },
    {
     "name": "stdout",
     "output_type": "stream",
     "text": [
      "\b\b\b\b\b\b\b\b\b\b\b\b\b\b\b\b\b\b\b\b\b\b\b\b\b\b\b\b\b\b\b\b\b\b\b\b\b\b\b\b\b\b\b\b\b\b\b\b\b\b\b\b\b\b\b\b\b\b\b\b\b\b\b\b\b\b\b\b\b\b\b\b\b\b\b\b\b\b\b\b\b\b\b\b\r",
      "615/750 [=======================>......] - ETA: 0s - loss: 0.0081 - accuracy: 0.9976"
     ]
    },
    {
     "name": "stdout",
     "output_type": "stream",
     "text": [
      "\b\b\b\b\b\b\b\b\b\b\b\b\b\b\b\b\b\b\b\b\b\b\b\b\b\b\b\b\b\b\b\b\b\b\b\b\b\b\b\b\b\b\b\b\b\b\b\b\b\b\b\b\b\b\b\b\b\b\b\b\b\b\b\b\b\b\b\b\b\b\b\b\b\b\b\b\b\b\b\b\b\b\b\b\r",
      "654/750 [=========================>....] - ETA: 0s - loss: 0.0083 - accuracy: 0.9975"
     ]
    },
    {
     "name": "stdout",
     "output_type": "stream",
     "text": [
      "\b\b\b\b\b\b\b\b\b\b\b\b\b\b\b\b\b\b\b\b\b\b\b\b\b\b\b\b\b\b\b\b\b\b\b\b\b\b\b\b\b\b\b\b\b\b\b\b\b\b\b\b\b\b\b\b\b\b\b\b\b\b\b\b\b\b\b\b\b\b\b\b\b\b\b\b\b\b\b\b\b\b\b\b\r",
      "692/750 [==========================>...] - ETA: 0s - loss: 0.0085 - accuracy: 0.9974"
     ]
    },
    {
     "name": "stdout",
     "output_type": "stream",
     "text": [
      "\b\b\b\b\b\b\b\b\b\b\b\b\b\b\b\b\b\b\b\b\b\b\b\b\b\b\b\b\b\b\b\b\b\b\b\b\b\b\b\b\b\b\b\b\b\b\b\b\b\b\b\b\b\b\b\b\b\b\b\b\b\b\b\b\b\b\b\b\b\b\b\b\b\b\b\b\b\b\b\b\b\b\b\b\r",
      "731/750 [============================>.] - ETA: 0s - loss: 0.0085 - accuracy: 0.9974"
     ]
    },
    {
     "name": "stdout",
     "output_type": "stream",
     "text": [
      "\b\b\b\b\b\b\b\b\b\b\b\b\b\b\b\b\b\b\b\b\b\b\b\b\b\b\b\b\b\b\b\b\b\b\b\b\b\b\b\b\b\b\b\b\b\b\b\b\b\b\b\b\b\b\b\b\b\b\b\b\b\b\b\b\b\b\b\b\b\b\b\b\b\b\b\b\b\b\b\b\b\b\b\b\r",
      "750/750 [==============================] - 1s 2ms/step - loss: 0.0085 - accuracy: 0.9974 - val_loss: 0.1035 - val_accuracy: 0.9765\n"
     ]
    },
    {
     "name": "stdout",
     "output_type": "stream",
     "text": [
      "Epoch 19/100\n"
     ]
    },
    {
     "name": "stdout",
     "output_type": "stream",
     "text": [
      "\r",
      "  1/750 [..............................] - ETA: 1s - loss: 0.0017 - accuracy: 1.0000"
     ]
    },
    {
     "name": "stdout",
     "output_type": "stream",
     "text": [
      "\b\b\b\b\b\b\b\b\b\b\b\b\b\b\b\b\b\b\b\b\b\b\b\b\b\b\b\b\b\b\b\b\b\b\b\b\b\b\b\b\b\b\b\b\b\b\b\b\b\b\b\b\b\b\b\b\b\b\b\b\b\b\b\b\b\b\b\b\b\b\b\b\b\b\b\b\b\b\b\b\b\b\b\b\r",
      " 40/750 [>.............................] - ETA: 0s - loss: 0.0044 - accuracy: 0.9988"
     ]
    },
    {
     "name": "stdout",
     "output_type": "stream",
     "text": [
      "\b\b\b\b\b\b\b\b\b\b\b\b\b\b\b\b\b\b\b\b\b\b\b\b\b\b\b\b\b\b\b\b\b\b\b\b\b\b\b\b\b\b\b\b\b\b\b\b\b\b\b\b\b\b\b\b\b\b\b\b\b\b\b\b\b\b\b\b\b\b\b\b\b\b\b\b\b\b\b\b\b\b\b\b\r",
      " 79/750 [==>...........................] - ETA: 0s - loss: 0.0045 - accuracy: 0.9994"
     ]
    },
    {
     "name": "stdout",
     "output_type": "stream",
     "text": [
      "\b\b\b\b\b\b\b\b\b\b\b\b\b\b\b\b\b\b\b\b\b\b\b\b\b\b\b\b\b\b\b\b\b\b\b\b\b\b\b\b\b\b\b\b\b\b\b\b\b\b\b\b\b\b\b\b\b\b\b\b\b\b\b\b\b\b\b\b\b\b\b\b\b\b\b\b\b\b\b\b\b\b\b\b\r",
      "118/750 [===>..........................] - ETA: 0s - loss: 0.0043 - accuracy: 0.9995"
     ]
    },
    {
     "name": "stdout",
     "output_type": "stream",
     "text": [
      "\b\b\b\b\b\b\b\b\b\b\b\b\b\b\b\b\b\b\b\b\b\b\b\b\b\b\b\b\b\b\b\b\b\b\b\b\b\b\b\b\b\b\b\b\b\b\b\b\b\b\b\b\b\b\b\b\b\b\b\b\b\b\b\b\b\b\b\b\b\b\b\b\b\b\b\b\b\b\b\b\b\b\b\b\r",
      "156/750 [=====>........................] - ETA: 0s - loss: 0.0040 - accuracy: 0.9996"
     ]
    },
    {
     "ename": "KeyboardInterrupt",
     "evalue": "",
     "output_type": "error",
     "traceback": [
      "\u001b[1;31m---------------------------------------------------------------------------\u001b[0m",
      "\u001b[1;31mKeyboardInterrupt\u001b[0m                         Traceback (most recent call last)",
      "Input \u001b[1;32mIn [2]\u001b[0m, in \u001b[0;36m<cell line: 28>\u001b[1;34m()\u001b[0m\n\u001b[0;32m     23\u001b[0m model\u001b[38;5;241m.\u001b[39mcompile(optimizer\u001b[38;5;241m=\u001b[39mAdam(learning_rate\u001b[38;5;241m=\u001b[39m\u001b[38;5;241m0.001\u001b[39m), \n\u001b[0;32m     24\u001b[0m               loss\u001b[38;5;241m=\u001b[39m\u001b[38;5;124m'\u001b[39m\u001b[38;5;124msparse_categorical_crossentropy\u001b[39m\u001b[38;5;124m'\u001b[39m, \n\u001b[0;32m     25\u001b[0m               metrics\u001b[38;5;241m=\u001b[39m[\u001b[38;5;124m'\u001b[39m\u001b[38;5;124maccuracy\u001b[39m\u001b[38;5;124m'\u001b[39m])\n\u001b[0;32m     27\u001b[0m \u001b[38;5;66;03m# Training the model\u001b[39;00m\n\u001b[1;32m---> 28\u001b[0m history \u001b[38;5;241m=\u001b[39m \u001b[43mmodel\u001b[49m\u001b[38;5;241;43m.\u001b[39;49m\u001b[43mfit\u001b[49m\u001b[43m(\u001b[49m\u001b[43mx_train\u001b[49m\u001b[43m,\u001b[49m\u001b[43m \u001b[49m\u001b[43my_train\u001b[49m\u001b[43m,\u001b[49m\u001b[43m \u001b[49m\u001b[43mvalidation_split\u001b[49m\u001b[38;5;241;43m=\u001b[39;49m\u001b[38;5;241;43m0.2\u001b[39;49m\u001b[43m,\u001b[49m\u001b[43m \u001b[49m\u001b[43mepochs\u001b[49m\u001b[38;5;241;43m=\u001b[39;49m\u001b[38;5;241;43m100\u001b[39;49m\u001b[43m,\u001b[49m\u001b[43m \u001b[49m\u001b[43mbatch_size\u001b[49m\u001b[38;5;241;43m=\u001b[39;49m\u001b[38;5;241;43m64\u001b[39;49m\u001b[43m,\u001b[49m\u001b[43m \u001b[49m\u001b[43mverbose\u001b[49m\u001b[38;5;241;43m=\u001b[39;49m\u001b[38;5;241;43m1\u001b[39;49m\u001b[43m)\u001b[49m\n\u001b[0;32m     30\u001b[0m plt\u001b[38;5;241m.\u001b[39mfigure(figsize\u001b[38;5;241m=\u001b[39m(\u001b[38;5;241m10\u001b[39m, \u001b[38;5;241m5\u001b[39m))\n\u001b[0;32m     31\u001b[0m plt\u001b[38;5;241m.\u001b[39mplot(history\u001b[38;5;241m.\u001b[39mhistory[\u001b[38;5;124m'\u001b[39m\u001b[38;5;124mloss\u001b[39m\u001b[38;5;124m'\u001b[39m], label\u001b[38;5;241m=\u001b[39m\u001b[38;5;124m'\u001b[39m\u001b[38;5;124mTraining error\u001b[39m\u001b[38;5;124m'\u001b[39m)\n",
      "File \u001b[1;32m~\\AppData\\Roaming\\Python\\Python39\\site-packages\\keras\\utils\\traceback_utils.py:65\u001b[0m, in \u001b[0;36mfilter_traceback.<locals>.error_handler\u001b[1;34m(*args, **kwargs)\u001b[0m\n\u001b[0;32m     63\u001b[0m filtered_tb \u001b[38;5;241m=\u001b[39m \u001b[38;5;28;01mNone\u001b[39;00m\n\u001b[0;32m     64\u001b[0m \u001b[38;5;28;01mtry\u001b[39;00m:\n\u001b[1;32m---> 65\u001b[0m     \u001b[38;5;28;01mreturn\u001b[39;00m fn(\u001b[38;5;241m*\u001b[39margs, \u001b[38;5;241m*\u001b[39m\u001b[38;5;241m*\u001b[39mkwargs)\n\u001b[0;32m     66\u001b[0m \u001b[38;5;28;01mexcept\u001b[39;00m \u001b[38;5;167;01mException\u001b[39;00m \u001b[38;5;28;01mas\u001b[39;00m e:\n\u001b[0;32m     67\u001b[0m     filtered_tb \u001b[38;5;241m=\u001b[39m _process_traceback_frames(e\u001b[38;5;241m.\u001b[39m__traceback__)\n",
      "File \u001b[1;32m~\\AppData\\Roaming\\Python\\Python39\\site-packages\\keras\\engine\\training.py:1641\u001b[0m, in \u001b[0;36mModel.fit\u001b[1;34m(self, x, y, batch_size, epochs, verbose, callbacks, validation_split, validation_data, shuffle, class_weight, sample_weight, initial_epoch, steps_per_epoch, validation_steps, validation_batch_size, validation_freq, max_queue_size, workers, use_multiprocessing)\u001b[0m\n\u001b[0;32m   1639\u001b[0m callbacks\u001b[38;5;241m.\u001b[39mon_epoch_begin(epoch)\n\u001b[0;32m   1640\u001b[0m \u001b[38;5;28;01mwith\u001b[39;00m data_handler\u001b[38;5;241m.\u001b[39mcatch_stop_iteration():\n\u001b[1;32m-> 1641\u001b[0m     \u001b[38;5;28;01mfor\u001b[39;00m step \u001b[38;5;129;01min\u001b[39;00m data_handler\u001b[38;5;241m.\u001b[39msteps():\n\u001b[0;32m   1642\u001b[0m         \u001b[38;5;28;01mwith\u001b[39;00m tf\u001b[38;5;241m.\u001b[39mprofiler\u001b[38;5;241m.\u001b[39mexperimental\u001b[38;5;241m.\u001b[39mTrace(\n\u001b[0;32m   1643\u001b[0m             \u001b[38;5;124m\"\u001b[39m\u001b[38;5;124mtrain\u001b[39m\u001b[38;5;124m\"\u001b[39m,\n\u001b[0;32m   1644\u001b[0m             epoch_num\u001b[38;5;241m=\u001b[39mepoch,\n\u001b[1;32m   (...)\u001b[0m\n\u001b[0;32m   1647\u001b[0m             _r\u001b[38;5;241m=\u001b[39m\u001b[38;5;241m1\u001b[39m,\n\u001b[0;32m   1648\u001b[0m         ):\n\u001b[0;32m   1649\u001b[0m             callbacks\u001b[38;5;241m.\u001b[39mon_train_batch_begin(step)\n",
      "File \u001b[1;32m~\\AppData\\Roaming\\Python\\Python39\\site-packages\\keras\\engine\\data_adapter.py:1371\u001b[0m, in \u001b[0;36mDataHandler.steps\u001b[1;34m(self)\u001b[0m\n\u001b[0;32m   1369\u001b[0m \u001b[38;5;28;01mif\u001b[39;00m \u001b[38;5;28mself\u001b[39m\u001b[38;5;241m.\u001b[39m_insufficient_data:  \u001b[38;5;66;03m# Set by `catch_stop_iteration`.\u001b[39;00m\n\u001b[0;32m   1370\u001b[0m     \u001b[38;5;28;01mbreak\u001b[39;00m\n\u001b[1;32m-> 1371\u001b[0m original_spe \u001b[38;5;241m=\u001b[39m \u001b[38;5;28;43mself\u001b[39;49m\u001b[38;5;241;43m.\u001b[39;49m\u001b[43m_steps_per_execution\u001b[49m\u001b[38;5;241;43m.\u001b[39;49m\u001b[43mnumpy\u001b[49m\u001b[43m(\u001b[49m\u001b[43m)\u001b[49m\u001b[38;5;241m.\u001b[39mitem()\n\u001b[0;32m   1372\u001b[0m can_run_full_execution \u001b[38;5;241m=\u001b[39m (\n\u001b[0;32m   1373\u001b[0m     original_spe \u001b[38;5;241m==\u001b[39m \u001b[38;5;241m1\u001b[39m\n\u001b[0;32m   1374\u001b[0m     \u001b[38;5;129;01mor\u001b[39;00m \u001b[38;5;28mself\u001b[39m\u001b[38;5;241m.\u001b[39m_inferred_steps \u001b[38;5;129;01mis\u001b[39;00m \u001b[38;5;28;01mNone\u001b[39;00m\n\u001b[0;32m   1375\u001b[0m     \u001b[38;5;129;01mor\u001b[39;00m \u001b[38;5;28mself\u001b[39m\u001b[38;5;241m.\u001b[39m_inferred_steps \u001b[38;5;241m-\u001b[39m \u001b[38;5;28mself\u001b[39m\u001b[38;5;241m.\u001b[39m_current_step \u001b[38;5;241m>\u001b[39m\u001b[38;5;241m=\u001b[39m original_spe\n\u001b[0;32m   1376\u001b[0m )\n\u001b[0;32m   1378\u001b[0m \u001b[38;5;28;01mif\u001b[39;00m can_run_full_execution:\n",
      "File \u001b[1;32m~\\AppData\\Roaming\\Python\\Python39\\site-packages\\tensorflow\\python\\ops\\resource_variable_ops.py:639\u001b[0m, in \u001b[0;36mBaseResourceVariable.numpy\u001b[1;34m(self)\u001b[0m\n\u001b[0;32m    637\u001b[0m \u001b[38;5;28;01mdef\u001b[39;00m \u001b[38;5;21mnumpy\u001b[39m(\u001b[38;5;28mself\u001b[39m):\n\u001b[0;32m    638\u001b[0m   \u001b[38;5;28;01mif\u001b[39;00m context\u001b[38;5;241m.\u001b[39mexecuting_eagerly():\n\u001b[1;32m--> 639\u001b[0m     \u001b[38;5;28;01mreturn\u001b[39;00m \u001b[38;5;28;43mself\u001b[39;49m\u001b[38;5;241;43m.\u001b[39;49m\u001b[43mread_value\u001b[49m\u001b[43m(\u001b[49m\u001b[43m)\u001b[49m\u001b[38;5;241m.\u001b[39mnumpy()\n\u001b[0;32m    640\u001b[0m   \u001b[38;5;28;01mraise\u001b[39;00m \u001b[38;5;167;01mNotImplementedError\u001b[39;00m(\n\u001b[0;32m    641\u001b[0m       \u001b[38;5;124m\"\u001b[39m\u001b[38;5;124mnumpy() is only available when eager execution is enabled.\u001b[39m\u001b[38;5;124m\"\u001b[39m)\n",
      "File \u001b[1;32m~\\AppData\\Roaming\\Python\\Python39\\site-packages\\tensorflow\\python\\ops\\resource_variable_ops.py:727\u001b[0m, in \u001b[0;36mBaseResourceVariable.read_value\u001b[1;34m(self)\u001b[0m\n\u001b[0;32m    718\u001b[0m \u001b[38;5;124;03m\"\"\"Constructs an op which reads the value of this variable.\u001b[39;00m\n\u001b[0;32m    719\u001b[0m \n\u001b[0;32m    720\u001b[0m \u001b[38;5;124;03mShould be used when there are multiple reads, or when it is desirable to\u001b[39;00m\n\u001b[1;32m   (...)\u001b[0m\n\u001b[0;32m    724\u001b[0m \u001b[38;5;124;03m  The value of the variable.\u001b[39;00m\n\u001b[0;32m    725\u001b[0m \u001b[38;5;124;03m\"\"\"\u001b[39;00m\n\u001b[0;32m    726\u001b[0m \u001b[38;5;28;01mwith\u001b[39;00m ops\u001b[38;5;241m.\u001b[39mname_scope(\u001b[38;5;124m\"\u001b[39m\u001b[38;5;124mRead\u001b[39m\u001b[38;5;124m\"\u001b[39m):\n\u001b[1;32m--> 727\u001b[0m   value \u001b[38;5;241m=\u001b[39m \u001b[38;5;28;43mself\u001b[39;49m\u001b[38;5;241;43m.\u001b[39;49m\u001b[43m_read_variable_op\u001b[49m\u001b[43m(\u001b[49m\u001b[43m)\u001b[49m\n\u001b[0;32m    728\u001b[0m \u001b[38;5;66;03m# Return an identity so it can get placed on whatever device the context\u001b[39;00m\n\u001b[0;32m    729\u001b[0m \u001b[38;5;66;03m# specifies instead of the device where the variable is.\u001b[39;00m\n\u001b[0;32m    730\u001b[0m \u001b[38;5;28;01mreturn\u001b[39;00m array_ops\u001b[38;5;241m.\u001b[39midentity(value)\n",
      "File \u001b[1;32m~\\AppData\\Roaming\\Python\\Python39\\site-packages\\tensorflow\\python\\ops\\resource_variable_ops.py:706\u001b[0m, in \u001b[0;36mBaseResourceVariable._read_variable_op\u001b[1;34m(self, no_copy)\u001b[0m\n\u001b[0;32m    704\u001b[0m       result \u001b[38;5;241m=\u001b[39m read_and_set_handle(no_copy)\n\u001b[0;32m    705\u001b[0m \u001b[38;5;28;01melse\u001b[39;00m:\n\u001b[1;32m--> 706\u001b[0m   result \u001b[38;5;241m=\u001b[39m \u001b[43mread_and_set_handle\u001b[49m\u001b[43m(\u001b[49m\u001b[43mno_copy\u001b[49m\u001b[43m)\u001b[49m\n\u001b[0;32m    708\u001b[0m \u001b[38;5;28;01mif\u001b[39;00m \u001b[38;5;129;01mnot\u001b[39;00m context\u001b[38;5;241m.\u001b[39mexecuting_eagerly():\n\u001b[0;32m    709\u001b[0m   \u001b[38;5;66;03m# Note that if a control flow context is active the input of the read op\u001b[39;00m\n\u001b[0;32m    710\u001b[0m   \u001b[38;5;66;03m# might not actually be the handle. This line bypasses it.\u001b[39;00m\n\u001b[0;32m    711\u001b[0m   tape\u001b[38;5;241m.\u001b[39mrecord_operation(\n\u001b[0;32m    712\u001b[0m       \u001b[38;5;124m\"\u001b[39m\u001b[38;5;124mReadVariableOp\u001b[39m\u001b[38;5;124m\"\u001b[39m, [result], [\u001b[38;5;28mself\u001b[39m\u001b[38;5;241m.\u001b[39mhandle],\n\u001b[0;32m    713\u001b[0m       backward_function\u001b[38;5;241m=\u001b[39m\u001b[38;5;28;01mlambda\u001b[39;00m x: [x],\n\u001b[0;32m    714\u001b[0m       forward_function\u001b[38;5;241m=\u001b[39m\u001b[38;5;28;01mlambda\u001b[39;00m x: [x])\n",
      "File \u001b[1;32m~\\AppData\\Roaming\\Python\\Python39\\site-packages\\tensorflow\\python\\ops\\resource_variable_ops.py:696\u001b[0m, in \u001b[0;36mBaseResourceVariable._read_variable_op.<locals>.read_and_set_handle\u001b[1;34m(no_copy)\u001b[0m\n\u001b[0;32m    694\u001b[0m \u001b[38;5;28;01mif\u001b[39;00m no_copy \u001b[38;5;129;01mand\u001b[39;00m forward_compat\u001b[38;5;241m.\u001b[39mforward_compatible(\u001b[38;5;241m2022\u001b[39m, \u001b[38;5;241m5\u001b[39m, \u001b[38;5;241m3\u001b[39m):\n\u001b[0;32m    695\u001b[0m   gen_resource_variable_ops\u001b[38;5;241m.\u001b[39mdisable_copy_on_read(\u001b[38;5;28mself\u001b[39m\u001b[38;5;241m.\u001b[39mhandle)\n\u001b[1;32m--> 696\u001b[0m result \u001b[38;5;241m=\u001b[39m \u001b[43mgen_resource_variable_ops\u001b[49m\u001b[38;5;241;43m.\u001b[39;49m\u001b[43mread_variable_op\u001b[49m\u001b[43m(\u001b[49m\n\u001b[0;32m    697\u001b[0m \u001b[43m    \u001b[49m\u001b[38;5;28;43mself\u001b[39;49m\u001b[38;5;241;43m.\u001b[39;49m\u001b[43mhandle\u001b[49m\u001b[43m,\u001b[49m\u001b[43m \u001b[49m\u001b[38;5;28;43mself\u001b[39;49m\u001b[38;5;241;43m.\u001b[39;49m\u001b[43m_dtype\u001b[49m\u001b[43m)\u001b[49m\n\u001b[0;32m    698\u001b[0m _maybe_set_handle_data(\u001b[38;5;28mself\u001b[39m\u001b[38;5;241m.\u001b[39m_dtype, \u001b[38;5;28mself\u001b[39m\u001b[38;5;241m.\u001b[39mhandle, result)\n\u001b[0;32m    699\u001b[0m \u001b[38;5;28;01mreturn\u001b[39;00m result\n",
      "File \u001b[1;32m~\\AppData\\Roaming\\Python\\Python39\\site-packages\\tensorflow\\python\\ops\\gen_resource_variable_ops.py:580\u001b[0m, in \u001b[0;36mread_variable_op\u001b[1;34m(resource, dtype, name)\u001b[0m\n\u001b[0;32m    578\u001b[0m \u001b[38;5;28;01mif\u001b[39;00m tld\u001b[38;5;241m.\u001b[39mis_eager:\n\u001b[0;32m    579\u001b[0m   \u001b[38;5;28;01mtry\u001b[39;00m:\n\u001b[1;32m--> 580\u001b[0m     _result \u001b[38;5;241m=\u001b[39m \u001b[43mpywrap_tfe\u001b[49m\u001b[38;5;241;43m.\u001b[39;49m\u001b[43mTFE_Py_FastPathExecute\u001b[49m\u001b[43m(\u001b[49m\n\u001b[0;32m    581\u001b[0m \u001b[43m      \u001b[49m\u001b[43m_ctx\u001b[49m\u001b[43m,\u001b[49m\u001b[43m \u001b[49m\u001b[38;5;124;43m\"\u001b[39;49m\u001b[38;5;124;43mReadVariableOp\u001b[39;49m\u001b[38;5;124;43m\"\u001b[39;49m\u001b[43m,\u001b[49m\u001b[43m \u001b[49m\u001b[43mname\u001b[49m\u001b[43m,\u001b[49m\u001b[43m \u001b[49m\u001b[43mresource\u001b[49m\u001b[43m,\u001b[49m\u001b[43m \u001b[49m\u001b[38;5;124;43m\"\u001b[39;49m\u001b[38;5;124;43mdtype\u001b[39;49m\u001b[38;5;124;43m\"\u001b[39;49m\u001b[43m,\u001b[49m\u001b[43m \u001b[49m\u001b[43mdtype\u001b[49m\u001b[43m)\u001b[49m\n\u001b[0;32m    582\u001b[0m     \u001b[38;5;28;01mreturn\u001b[39;00m _result\n\u001b[0;32m    583\u001b[0m   \u001b[38;5;28;01mexcept\u001b[39;00m _core\u001b[38;5;241m.\u001b[39m_NotOkStatusException \u001b[38;5;28;01mas\u001b[39;00m e:\n",
      "\u001b[1;31mKeyboardInterrupt\u001b[0m: "
     ]
    }
   ],
   "source": [
    "import tensorflow as tf\n",
    "from tensorflow.keras.models import Sequential\n",
    "from tensorflow.keras.layers import Dense, Flatten\n",
    "from tensorflow.keras.optimizers import Adam\n",
    "from tensorflow.keras.datasets import mnist\n",
    "import matplotlib.pyplot as plt\n",
    "\n",
    "# MNIS dataset\n",
    "(x_train, y_train), (x_test, y_test) = mnist.load_data()\n",
    "x_train, x_test = x_train / 255.0, x_test / 255.0  # Normalizacja danych\n",
    "\n",
    "# Data Flattening\n",
    "x_train = x_train.reshape(-1, 28*28)\n",
    "x_test = x_test.reshape(-1, 28*28)\n",
    "\n",
    "# Simple network\n",
    "model = Sequential([\n",
    "    Dense(128, activation='relu', input_shape=(28*28,)),\n",
    "    Dense(10, activation='softmax')  # Warstwa wyjściowa\n",
    "])\n",
    "\n",
    "# Compilation\n",
    "model.compile(optimizer=Adam(learning_rate=0.001), \n",
    "              loss='sparse_categorical_crossentropy', \n",
    "              metrics=['accuracy'])\n",
    "\n",
    "# Training the model\n",
    "history = model.fit(x_train, y_train, validation_split=0.2, epochs=100, batch_size=64, verbose=1)\n",
    "\n",
    "plt.figure(figsize=(10, 5))\n",
    "plt.plot(history.history['loss'], label='Training error')\n",
    "plt.plot(history.history['val_loss'], label='Validation error')\n",
    "plt.title('Errors')\n",
    "plt.xlabel('Epoch')\n",
    "plt.ylabel('Error (loss)')\n",
    "plt.legend()\n",
    "plt.grid(True)\n",
    "plt.show()\n",
    "\n",
    "# Wizualizacja dokładności (opcjonalnie)\n",
    "plt.figure(figsize=(10, 5))\n",
    "plt.plot(history.history['accuracy'], label='Training error')\n",
    "plt.plot(history.history['val_accuracy'], label='Validation error')\n",
    "plt.title('Accuracy on the training and validation sets')\n",
    "plt.xlabel('Epoch')\n",
    "plt.ylabel('Accuracy')\n",
    "plt.legend()\n",
    "plt.grid(True)\n",
    "plt.show()\n"
   ]
  },
  {
   "cell_type": "markdown",
   "id": "d26aa3ed",
   "metadata": {},
   "source": [
    "## How Neural Network Architecture Impacts Predictions\n",
    "\n",
    "### 1. **Number of Layers**\n",
    "- **Shallow Networks**:\n",
    "  - Work well for problems with simple patterns and relationships.\n",
    "  - Examples: Predicting linear trends or simple classifications.\n",
    "- **Deep Networks**:\n",
    "  - Better suited for complex problems with intricate relationships (e.g., image recognition, speech synthesis).\n",
    "  - More layers allow the network to extract and combine high-level features from data.\n",
    "\n",
    "### 2. **Number of Neurons in Each Layer**\n",
    "- **Too Few Neurons**:\n",
    "  - Can lead to underfitting, where the network cannot capture the complexity of the data.\n",
    "  - Example: A network with insufficient neurons might fail to recognize subtle patterns in images.\n",
    "- **Too Many Neurons**:\n",
    "  - Can lead to overfitting, where the network memorizes the training data rather than generalizing to new data.\n",
    "  - Example: A network may perform perfectly on training data but fail on unseen examples.\n",
    "\n",
    "### 3. **Choice of Activation Functions**\n",
    "- Activation functions determine how the data flows and transforms through the network.\n",
    "  - Example: ReLU is effective for deep networks because it mitigates the vanishing gradient problem, enabling better training of deep layers.\n",
    "- The choice of activation function impacts the ability of the network to model complex, non-linear patterns.\n",
    "\n",
    "\n",
    "### 4. **Regularization Techniques**\n",
    "- Regularization (e.g., dropout, L2 regularization) prevents overfitting and ensures the network generalizes well to unseen data.\n",
    "  - Example: Dropout randomly disables a fraction of neurons during training, forcing the network to learn robust features.\n",
    "\n",
    "### 5. **Depth vs. Breadth**\n",
    "- **Deeper Networks**:\n",
    "  - Learn hierarchical patterns (e.g., edges → shapes → objects in images).\n",
    "- **Wider Networks**:\n",
    "  - Capture more features at the same level but may fail to model hierarchical relationships.\n",
    "\n",
    "### 6. **Connectivity and Architecture**\n",
    "- Specialized architectures like Convolutional Neural Networks (CNNs) for images or Recurrent Neural Networks (RNNs) for sequential data influence predictions by tailoring the network to specific data structures.\n",
    "  - Example: CNNs are excellent at identifying spatial patterns in images.\n",
    "\n",
    "### **Summary**\n",
    "The architecture of a neural network significantly impacts its ability to make accurate predictions. Factors like the number of layers, neurons\n"
   ]
  },
  {
   "cell_type": "markdown",
   "id": "49877b0f",
   "metadata": {},
   "source": [
    "See for examples: https://alexlenail.me/NN-SVG/"
   ]
  },
  {
   "cell_type": "markdown",
   "id": "15f3972c",
   "metadata": {},
   "source": [
    "See for some examples: https://playground.tensorflow.org"
   ]
  },
  {
   "cell_type": "code",
   "execution_count": 2,
   "id": "9d2a98f4",
   "metadata": {},
   "outputs": [
    {
     "name": "stdout",
     "output_type": "stream",
     "text": [
      "Number of layers: 1, Number of neurons: 32, Validation accuracy: 0.9560, Time: 6.54s\n",
      "Number of layers: 1, Number of neurons: 64, Validation accuracy: 0.9648, Time: 6.97s\n",
      "Number of layers: 1, Number of neurons: 128, Validation accuracy: 0.9737, Time: 9.05s\n",
      "Number of layers: 2, Number of neurons: 32, Validation accuracy: 0.9603, Time: 6.88s\n",
      "Number of layers: 2, Number of neurons: 64, Validation accuracy: 0.9633, Time: 7.44s\n",
      "Number of layers: 2, Number of neurons: 128, Validation accuracy: 0.9773, Time: 9.38s\n",
      "Number of layers: 3, Number of neurons: 32, Validation accuracy: 0.9607, Time: 8.57s\n",
      "Number of layers: 3, Number of neurons: 64, Validation accuracy: 0.9705, Time: 9.37s\n",
      "Number of layers: 3, Number of neurons: 128, Validation accuracy: 0.9737, Time: 11.29s\n"
     ]
    },
    {
     "data": {
      "image/png": "[encoded data removed]",
      "text/plain": [
       "<Figure size 432x288 with 1 Axes>"
      ]
     },
     "metadata": {
      "needs_background": "light"
     },
     "output_type": "display_data"
    }
   ],
   "source": [
    "import tensorflow as tf\n",
    "from tensorflow.keras.models import Sequential\n",
    "from tensorflow.keras.layers import Dense, Flatten\n",
    "from tensorflow.keras.optimizers import Adam\n",
    "from tensorflow.keras.datasets import mnist\n",
    "from sklearn.model_selection import train_test_split\n",
    "import matplotlib.pyplot as plt\n",
    "import numpy as np\n",
    "from time import time\n",
    "\n",
    "# Loading and preparing the MNIST dataset\n",
    "(x_train, y_train), (x_test, y_test) = mnist.load_data()\n",
    "\n",
    "# Normalizing the data\n",
    "x_train = x_train / 255.0\n",
    "x_test = x_test / 255.0\n",
    "\n",
    "# Splitting the data into training and validation sets\n",
    "x_train, x_val, y_train, y_val = train_test_split(x_train, y_train, test_size=0.2, random_state=42)\n",
    "\n",
    "# Reshaping input data\n",
    "x_train = x_train.reshape(-1, 28*28)\n",
    "x_val = x_val.reshape(-1, 28*28)\n",
    "x_test = x_test.reshape(-1, 28*28)\n",
    "\n",
    "# Parameters to test\n",
    "layer_configs = [1, 2, 3]  # Number of layers\n",
    "neurons_configs = [32, 64, 128]  # Number of neurons per layer\n",
    "\n",
    "results = []\n",
    "\n",
    "# Testing different configurations\n",
    "for num_layers in layer_configs:\n",
    "    for num_neurons in neurons_configs:\n",
    "        start = time()\n",
    "        # Building the model\n",
    "        model = Sequential()\n",
    "        model.add(Dense(num_neurons, activation='relu', input_shape=(28*28,)))\n",
    "        for _ in range(num_layers - 1):\n",
    "            model.add(Dense(num_neurons, activation='relu'))\n",
    "        model.add(Dense(10, activation='softmax'))  # Output layer\n",
    "        \n",
    "        # Compiling the model\n",
    "        model.compile(optimizer=Adam(learning_rate=0.001), \n",
    "                      loss='sparse_categorical_crossentropy', \n",
    "                      metrics=['accuracy'])\n",
    "        \n",
    "        # Training the model\n",
    "        history = model.fit(x_train, y_train, \n",
    "                            validation_data=(x_val, y_val), \n",
    "                            epochs=5, batch_size=64, verbose=0)\n",
    "        \n",
    "        # Evaluating the model\n",
    "        val_accuracy = history.history['val_accuracy'][-1]\n",
    "        results.append((num_layers, num_neurons, val_accuracy))\n",
    "        end = time()\n",
    "        print(f\"Number of layers: {num_layers}, Number of neurons: {num_neurons}, Validation accuracy: {val_accuracy:.4f}, Time: {end-start:.2f}s\")\n",
    "        \n",
    "\n",
    "# Visualizing the results\n",
    "results_array = np.array(results)\n",
    "for num_layers in layer_configs:\n",
    "    plt.plot(neurons_configs, results_array[results_array[:, 0] == num_layers][:, 2], label=f'{num_layers} layers')\n",
    "\n",
    "plt.title('Impact of the number of neurons and layers on validation accuracy')\n",
    "plt.xlabel('Number of neurons per layer')\n",
    "plt.ylabel('Validation accuracy')\n",
    "plt.legend()\n",
    "plt.grid(True)\n",
    "plt.show()\n"
   ]
  },
  {
   "cell_type": "code",
   "execution_count": 4,
   "id": "9a065bce",
   "metadata": {},
   "outputs": [
    {
     "name": "stdout",
     "output_type": "stream",
     "text": [
      "Accuracy (FC): 0.9772, Time: 0.04 s\n",
      "Accuracy (CNN): 0.9877, Time: 0.08 s\n",
      "Accuracy (RNN): 0.9568, Time: 0.14 s\n",
      "Accuracy (LSTM): 0.9817, Time: 118.47 s\n"
     ]
    },
    {
     "data": {
      "image/png": "[encoded data removed]",
      "text/plain": [
       "<Figure size 432x288 with 1 Axes>"
      ]
     },
     "metadata": {
      "needs_background": "light"
     },
     "output_type": "display_data"
    }
   ],
   "source": [
    "import tensorflow as tf\n",
    "from tensorflow.keras.models import Sequential\n",
    "from tensorflow.keras.layers import Dense, Flatten, Conv2D, MaxPooling2D, SimpleRNN, LSTM, Reshape\n",
    "from tensorflow.keras.datasets import mnist\n",
    "from tensorflow.keras.optimizers import Adam\n",
    "import matplotlib.pyplot as plt\n",
    "import numpy as np\n",
    "from time import time\n",
    "\n",
    "# Loading and preparing MNIST data\n",
    "(x_train, y_train), (x_test, y_test) = mnist.load_data()\n",
    "x_train, x_test = x_train / 255.0, x_test / 255.0\n",
    "\n",
    "# Adding channel dimension for CNN\n",
    "x_train_cnn = x_train[..., np.newaxis]\n",
    "x_test_cnn = x_test[..., np.newaxis]\n",
    "\n",
    "# Preparing data for RNN\n",
    "x_train_rnn = x_train.reshape(-1, 28, 28)\n",
    "x_test_rnn = x_test.reshape(-1, 28, 28)\n",
    "\n",
    "# Function to train and evaluate a model\n",
    "def train_and_evaluate(model, x_train, y_train, x_test, y_test, epochs=5):\n",
    "    model.compile(optimizer=Adam(learning_rate=0.001), \n",
    "                  loss='sparse_categorical_crossentropy', \n",
    "                  metrics=['accuracy'])\n",
    "    history = model.fit(x_train, y_train, epochs=epochs, batch_size=64, verbose=0)\n",
    "    test_loss, test_accuracy = model.evaluate(x_test, y_test, verbose=0)\n",
    "    return test_accuracy\n",
    "\n",
    "start = time()\n",
    "# Fully Connected Network (FC)\n",
    "fc_model = Sequential([\n",
    "    Flatten(input_shape=(28, 28)),\n",
    "    Dense(128, activation='relu'),\n",
    "    Dense(64, activation='relu'),\n",
    "    Dense(10, activation='softmax')\n",
    "])\n",
    "end = time()\n",
    "\n",
    "fc_accuracy = train_and_evaluate(fc_model, x_train, y_train, x_test, y_test)\n",
    "print(f\"Accuracy (FC): {fc_accuracy:.4f}, Time: {end-start:.2f} s\")\n",
    "\n",
    "start = time()\n",
    "# Convolutional Neural Network (CNN)\n",
    "cnn_model = Sequential([\n",
    "    Conv2D(32, kernel_size=(3, 3), activation='relu', input_shape=(28, 28, 1)),\n",
    "    MaxPooling2D(pool_size=(2, 2)),\n",
    "    Conv2D(64, kernel_size=(3, 3), activation='relu'),\n",
    "    MaxPooling2D(pool_size=(2, 2)),\n",
    "    Flatten(),\n",
    "    Dense(64, activation='relu'),\n",
    "    Dense(10, activation='softmax')\n",
    "])\n",
    "end = time()\n",
    "\n",
    "cnn_accuracy = train_and_evaluate(cnn_model, x_train_cnn, y_train, x_test_cnn, y_test)\n",
    "print(f\"Accuracy (CNN): {cnn_accuracy:.4f}, Time: {end-start:.2f} s\")\n",
    "\n",
    "start = time()\n",
    "# Recurrent Neural Network (RNN)\n",
    "rnn_model = Sequential([\n",
    "    SimpleRNN(128, activation='tanh', input_shape=(28, 28)),\n",
    "    Dense(64, activation='relu'),\n",
    "    Dense(10, activation='softmax')\n",
    "])\n",
    "end = time()\n",
    "\n",
    "rnn_accuracy = train_and_evaluate(rnn_model, x_train_rnn, y_train, x_test_rnn, y_test)\n",
    "print(f\"Accuracy (RNN): {rnn_accuracy:.4f}, Time: {end-start:.2f} s\")\n",
    "start = time()\n",
    "# LSTM Network\n",
    "lstm_model = Sequential([\n",
    "    LSTM(128, activation='tanh', input_shape=(28, 28)),\n",
    "    Dense(64, activation='relu'),\n",
    "    Dense(10, activation='softmax')\n",
    "])\n",
    "\n",
    "lstm_accuracy = train_and_evaluate(lstm_model, x_train_rnn, y_train, x_test_rnn, y_test)\n",
    "end = time()\n",
    "print(f\"Accuracy (LSTM): {lstm_accuracy:.4f}, Time: {end-start:.2f} s\")\n",
    "\n",
    "# Comparing results\n",
    "types = ['FC', 'CNN', 'RNN', 'LSTM']\n",
    "accuracies = [fc_accuracy, cnn_accuracy, rnn_accuracy, lstm_accuracy]\n",
    "\n",
    "plt.bar(types, accuracies)\n",
    "plt.title('Comparison of accuracy for different network types on MNIST')\n",
    "plt.ylabel('Accuracy')\n",
    "plt.ylim(0.8, 1.0)\n",
    "plt.grid(axis='y')\n",
    "plt.show()\n"
   ]
  },
  {
   "cell_type": "markdown",
   "id": "5b2783b5",
   "metadata": {},
   "source": [
    "## Common Activation Functions\n",
    "\n",
    "Activation functions are a crucial component of neural networks, as they introduce non-linearity, enabling the network to model complex relationships in the data.\n",
    "\n",
    "### 1. **Sigmoid Function**\n",
    "- **Formula**: $ f(x) = \\frac{1}{1 + e^{-x}} $\n",
    "- **Output Range**: (0, 1)\n",
    "- **Use Case**:\n",
    "  - Commonly used in the output layer for binary classification problems.\n",
    "- **Pros**:\n",
    "  - Smooth gradient, useful for probability-based outputs.\n",
    "- **Cons**:\n",
    "  - Prone to the vanishing gradient problem in deep networks.\n",
    "\n",
    "### 2. **ReLU (Rectified Linear Unit)**\n",
    "- **Formula**: $ f(x) = \\max(0, x) $\n",
    "- **Output Range**: [0, $ \\infty $)\n",
    "- **Use Case**:\n",
    "  - Widely used in hidden layers of deep networks.\n",
    "- **Pros**:\n",
    "  - Efficient computation and mitigates the vanishing gradient problem.\n",
    "- **Cons**:\n",
    "  - Can cause dead neurons (outputs stuck at 0) if weights are poorly initialized.\n",
    "\n",
    "### 3. **Tanh (Hyperbolic Tangent)**\n",
    "- **Formula**: $ f(x) = \\tanh(x) = \\frac{e^x - e^{-x}}{e^x + e^{-x}} $\n",
    "- **Output Range**: (-1, 1)\n",
    "- **Use Case**:\n",
    "  - Used in cases where negative values are meaningful.\n",
    "- **Pros**:\n",
    "  - Zero-centered output, making optimization easier than sigmoid.\n",
    "- **Cons**:\n",
    "  - Still prone to the vanishing gradient problem.\n",
    "\n",
    "### 4. **Softmax Function**\n",
    "- **Formula**: $ f(x_i) = \\frac{e^{x_i}}{\\sum_{j} e^{x_j}} $ for $ i = 1, 2, \\dots, n $\n",
    "- **Output Range**: (0, 1), with the sum of outputs equal to 1.\n",
    "- **Use Case**:\n",
    "  - Used in the output layer for multi-class classification problems.\n",
    "- **Pros**:\n",
    "  - Outputs probabilities that sum to 1.\n",
    "- **Cons**:\n",
    "  - Computationally expensive for a large number of classes.\n",
    "\n",
    "### 5. **Leaky ReLU**\n",
    "- **Formula**: $ f(x) = x \\text{ if } x > 0, \\alpha x \\text{ if } x \\leq 0 $, where $ \\alpha $ is a small positive constant (e.g., 0.01).\n",
    "- **Output Range**: (-$ \\infty $, $ \\infty $)\n",
    "- **Use Case**:\n",
    "  - Mitigates the dead neuron issue in ReLU by allowing small gradients when \\( x \\leq 0 \\).\n",
    "- **Pros**:\n",
    "  - Improves learning in deep networks.\n",
    "- **Cons**:\n",
    "  - Slightly more complex computation than standard ReLU.\n",
    "\n",
    "### **Choosing an Activation Function**\n",
    "- **Hidden Layers**: ReLU or Leaky ReLU are popular choices.\n",
    "- **Output Layer**:\n",
    "  - **Binary Classification**: Sigmoid.\n",
    "  - **Multi-Class Classification**: Softmax.\n",
    "  - **Regression**: Linear activation (no activation).\n",
    "\n",
    "Activation functions should be selected based on the problem at hand, as they greatly influence how effectively the network learns and generalizes.\n"
   ]
  },
  {
   "cell_type": "code",
   "execution_count": 3,
   "id": "fdab43f9",
   "metadata": {},
   "outputs": [
    {
     "data": {
      "image/png": "[encoded data removed]",
      "text/plain": [
       "<Figure size 864x720 with 9 Axes>"
      ]
     },
     "metadata": {
      "needs_background": "light"
     },
     "output_type": "display_data"
    }
   ],
   "source": [
    "import numpy as np\n",
    "import matplotlib.pyplot as plt\n",
    "\n",
    "# Define functions\n",
    "def sigmoid(x):\n",
    "    return 1 / (1 + np.exp(-x))\n",
    "\n",
    "def relu(x):\n",
    "    return np.maximum(0, x)\n",
    "\n",
    "def tanh(x):\n",
    "    return np.tanh(x)\n",
    "\n",
    "def softmax(x):\n",
    "    exp_x = np.exp(x - np.max(x))\n",
    "    return exp_x / exp_x.sum()\n",
    "\n",
    "def leaky_relu(x, alpha=0.01):\n",
    "    return np.where(x > 0, x, alpha * x)\n",
    "\n",
    "def elu(x, alpha=1.0):\n",
    "    return np.where(x > 0, x, alpha * (np.exp(x) - 1))\n",
    "\n",
    "def swish(x):\n",
    "    return x * sigmoid(x)\n",
    "\n",
    "# Define input range\n",
    "x = np.linspace(-10, 10, 1000)\n",
    "\n",
    "# Compute function outputs\n",
    "functions = {\n",
    "    \"Sigmoid\": sigmoid(x),\n",
    "    \"ReLU\": relu(x),\n",
    "    \"Tanh\": tanh(x),\n",
    "    \"Softmax\": softmax(x),  # Softmax applied to all x values (illustrative purpose)\n",
    "    \"Leaky ReLU\": leaky_relu(x),\n",
    "    \"ELU\": elu(x),\n",
    "}\n",
    "\n",
    "# Create plots\n",
    "fig, axes = plt.subplots(3, 3, figsize=(12, 10))\n",
    "axes = axes.flatten()\n",
    "\n",
    "for i, (name, output) in enumerate(functions.items()):\n",
    "    ax = axes[i]\n",
    "    ax.plot(x, output, label=name)\n",
    "    ax.axhline(0, color='black', linewidth=0.5, linestyle='--')\n",
    "    ax.axvline(0, color='black', linewidth=0.5, linestyle='--')\n",
    "    ax.set_title(name, fontsize=12)\n",
    "    ax.set_xlim(-10, 10)\n",
    "    ax.set_ylim(-1.5, 2.0)\n",
    "    ax.legend(loc=\"upper left\")\n",
    "    ax.grid(True)\n",
    "\n",
    "# Hide any extra subplots (if fewer than 9)\n",
    "for j in range(len(functions), len(axes)):\n",
    "    axes[j].axis('off')\n",
    "\n",
    "fig.suptitle(\"Activation functions\", fontsize=16)\n",
    "plt.tight_layout(rect=[0, 0, 1, 0.95])\n",
    "plt.show()\n"
   ]
  },
  {
   "cell_type": "code",
   "execution_count": 5,
   "id": "42048557",
   "metadata": {},
   "outputs": [
    {
     "name": "stdout",
     "output_type": "stream",
     "text": [
      "Training model with activation function: relu\n",
      "Training model with activation function: sigmoid\n",
      "Training model with activation function: tanh\n",
      "Training model with activation function: swish\n"
     ]
    },
    {
     "data": {
      "image/png": "[encoded data removed]",
      "text/plain": [
       "<Figure size 864x432 with 2 Axes>"
      ]
     },
     "metadata": {
      "needs_background": "light"
     },
     "output_type": "display_data"
    }
   ],
   "source": [
    "import tensorflow as tf\n",
    "from tensorflow.keras.models import Sequential\n",
    "from tensorflow.keras.layers import Dense, Flatten\n",
    "from tensorflow.keras.optimizers import Adam\n",
    "from tensorflow.keras.datasets import mnist\n",
    "import matplotlib.pyplot as plt\n",
    "\n",
    "# Loading and preparing MNIST data\n",
    "(x_train, y_train), (x_test, y_test) = mnist.load_data()\n",
    "x_train, x_test = x_train / 255.0, x_test / 255.0  # Normalizing data\n",
    "\n",
    "# Flattening input data\n",
    "x_train = x_train.reshape(-1, 28*28)\n",
    "x_test = x_test.reshape(-1, 28*28)\n",
    "\n",
    "# List of activation functions to test\n",
    "activation_functions = ['relu', 'sigmoid', 'tanh', 'swish']\n",
    "histories = {}\n",
    "\n",
    "# Function to build and train the model\n",
    "def build_and_train_model(activation):\n",
    "    model = Sequential([\n",
    "        Dense(128, activation=activation, input_shape=(28*28,)),\n",
    "        Dense(64, activation=activation),\n",
    "        Dense(10, activation='softmax')  # Output layer\n",
    "    ])\n",
    "    model.compile(optimizer=Adam(learning_rate=0.001), \n",
    "                  loss='sparse_categorical_crossentropy', \n",
    "                  metrics=['accuracy'])\n",
    "    history = model.fit(x_train, y_train, validation_split=0.2, epochs=30, batch_size=64, verbose=0)\n",
    "    return history\n",
    "\n",
    "# Training models with different activation functions\n",
    "for activation in activation_functions:\n",
    "    print(f\"Training model with activation function: {activation}\")\n",
    "    histories[activation] = build_and_train_model(activation)\n",
    "\n",
    "# Visualizing results\n",
    "plt.figure(figsize=(12, 6))\n",
    "\n",
    "# Validation loss plot\n",
    "plt.subplot(1, 2, 1)\n",
    "for activation in histories:\n",
    "    plt.plot(histories[activation].history['val_loss'], label=f'Activation: {activation}')\n",
    "plt.title('Validation Loss for Different Activation Functions')\n",
    "plt.xlabel('Epoch')\n",
    "plt.ylabel('Loss')\n",
    "plt.legend()\n",
    "\n",
    "# Validation accuracy plot\n",
    "plt.subplot(1, 2, 2)\n",
    "for activation in histories:\n",
    "    plt.plot(histories[activation].history['val_accuracy'], label=f'Activation: {activation}')\n",
    "plt.title('Validation Accuracy for Different Activation Functions')\n",
    "plt.xlabel('Epoch')\n",
    "plt.ylabel('Accuracy')\n",
    "plt.legend()\n",
    "\n",
    "plt.tight_layout()\n",
    "plt.show()\n"
   ]
  },
  {
   "cell_type": "markdown",
   "id": "b2b886df",
   "metadata": {},
   "source": [
    "## How Neural Networks Learn\n",
    "\n",
    "Neural networks learn by iteratively adjusting their internal parameters (weights and biases) to minimize the error in their predictions. This process can be broken down into several key steps:\n",
    "\n",
    "### 1. **Forward Propagation**\n",
    "- Data flows through the network from the input layer, through hidden layers, to the output layer.\n",
    "- At each neuron, the following operations occur:\n",
    "  1. **Weighted Sum**: The neuron computes a weighted sum of its inputs.\n",
    "     $$\n",
    "     z = \\sum (w_i \\cdot x_i) + b\n",
    "     $$\n",
    "     where $ w_i $ are the weights, $ x_i $ are the inputs, and $ b $ is the bias.\n",
    "  2. **Activation**: The weighted sum is passed through an activation function to introduce non-linearity.\n",
    "- The output layer produces the final prediction.\n",
    "\n",
    "### 2. **Loss Function**\n",
    "- The loss function measures how far the network's predictions are from the true values. Those are actually the same to what we have so far used in regression and classification.\n",
    "- Common loss functions:\n",
    "  - **Mean Squared Error (MSE)**: For regression problems.\n",
    "  - **Cross-Entropy Loss**: For classification problems.\n",
    "\n",
    "### 3. **Backpropagation**\n",
    "- Backpropagation calculates how much each weight and bias contributed to the error.\n",
    "- It uses the **chain rule** of calculus to compute gradients (partial derivatives of the loss function with respect to weights and biases).\n",
    "- Gradients indicate the direction and magnitude of adjustments needed to reduce the error.\n",
    "\n",
    "\n",
    "### 4. **Iterative Learning**\n",
    "- The network repeats forward propagation, loss computation, backpropagation, and gradient descent for multiple iterations (epochs) until:\n",
    "  - The loss function reaches a minimum.\n",
    "  - The network achieves satisfactory accuracy on the training data.\n",
    "\n",
    "### 5. **Key Concepts**\n",
    "- **Overfitting**: When the network memorizes training data instead of generalizing to unseen data. Mitigated by techniques like dropout or regularization.\n",
    "- **Learning Rate**: Choosing an appropriate learning rate is critical. Too high causes unstable training; too low leads to slow convergence.\n",
    "\n",
    "\n",
    "### Summary\n",
    "Neural networks learn by minimizing the error in predictions through forward propagation, loss computation, backpropagation, and gradient descent. This iterative process enables the network to adjust its internal parameters and improve performance over time.\n"
   ]
  },
  {
   "cell_type": "markdown",
   "id": "0f9fcbb0",
   "metadata": {},
   "source": [
    "The network learns as follows:\n",
    "\n",
    "    The neural network starts by making random guesses.\n",
    "    \n",
    "    It evaluates how far off the guesses are (like checking how far the dart landed from the target).\n",
    "    \n",
    "    It adjusts its aim (weights) to improve over time.\n",
    "   "
   ]
  },
  {
   "cell_type": "markdown",
   "id": "204eac53",
   "metadata": {},
   "source": [
    "## Example of Forward Propagation\n",
    "\n",
    "### Problem Statement\n",
    "We have a simple neural network with:\n",
    "- **Input Layer**: 2 neurons ($ x_1, x_2 $)\n",
    "- **Hidden Layer**: 2 neurons ($ h_1, h_2 $) with a ReLU activation function.\n",
    "- **Output Layer**: 1 neuron ($ y $) with no activation function.\n",
    "\n",
    "### Weights and Biases\n",
    "- Input to Hidden Layer:\n",
    "  - Weights: $ w_{11}, w_{12}, w_{21}, w_{22} $\n",
    "  - Biases: $ b_1, b_2 $\n",
    "- Hidden to Output Layer:\n",
    "  - Weights: $ w_{h1}, w_{h2} $\n",
    "  - Bias: $ b_o $\n",
    "\n",
    "### Step-by-Step Calculation\n",
    "#### 1. **Inputs**\n",
    "Let the inputs be:\n",
    "$$\n",
    "x_1 = 1, \\quad x_2 = 2\n",
    "$$\n",
    "\n",
    "#### 2. **Hidden Layer Calculations**\n",
    "For each hidden neuron, compute the weighted sum ($ z $) and apply the ReLU activation:\n",
    "$$\n",
    "z_1 = w_{11} \\cdot x_1 + w_{12} \\cdot x_2 + b_1\n",
    "$$\n",
    "$$\n",
    "h_1 = \\text{ReLU}(z_1) = \\max(0, z_1)\n",
    "$$\n",
    "\n",
    "$$\n",
    "z_2 = w_{21} \\cdot x_1 + w_{22} \\cdot x_2 + b_2\n",
    "$$\n",
    "$$\n",
    "h_2 = \\text{ReLU}(z_2) = \\max(0, z_2)\n",
    "$$\n",
    "\n",
    "#### 3. **Output Layer Calculation**\n",
    "Compute the weighted sum of the hidden layer outputs and add the bias:\n",
    "$$\n",
    "y = w_{h1} \\cdot h_1 + w_{h2} \\cdot h_2 + b_o\n",
    "$$\n",
    "\n",
    "#### 4. **Example Values**\n",
    "Let the weights and biases be:\n",
    "$$\n",
    "w_{11} = 0.5, \\quad w_{12} = -0.6, \\quad w_{21} = 0.8, \\quad w_{22} = 0.1, \\quad b_1 = 0.1, \\quad b_2 = -0.3\n",
    "$$\n",
    "$$\n",
    "w_{h1} = 0.7, \\quad w_{h2} = -0.4, \\quad b_o = 0.2\n",
    "$$\n",
    "\n",
    "Perform the calculations:\n",
    "1. Hidden Layer:\n",
    "   $$\n",
    "   z_1 = (0.5 \\cdot 1) + (-0.6 \\cdot 2) + 0.1 = -0.6\n",
    "   $$\n",
    "   $$\n",
    "   h_1 = \\text{ReLU}(-0.6) = 0\n",
    "   $$\n",
    "   $$\n",
    "   z_2 = (0.8 \\cdot 1) + (0.1 \\cdot 2) - 0.3 = 0.7\n",
    "   $$\n",
    "   $$\n",
    "   h_2 = \\text{ReLU}(0.7) = 0.7\n",
    "   $$\n",
    "\n",
    "2. Output Layer:\n",
    "   $$\n",
    "   y = (0.7 \\cdot 0) + (-0.4 \\cdot 0.7) + 0.2 = -0.28\n",
    "   $$\n",
    "\n",
    "### Final Output\n",
    "The output of the network is:\n",
    "$$\n",
    "y = -0.28\n",
    "$$\n"
   ]
  },
  {
   "cell_type": "code",
   "execution_count": 8,
   "id": "1d4a3be2",
   "metadata": {},
   "outputs": [
    {
     "data": {
      "application/javascript": [
       "/* Put everything inside the global mpl namespace */\n",
       "/* global mpl */\n",
       "window.mpl = {};\n",
       "\n",
       "mpl.get_websocket_type = function () {\n",
       "    if (typeof WebSocket !== 'undefined') {\n",
       "        return WebSocket;\n",
       "    } else if (typeof MozWebSocket !== 'undefined') {\n",
       "        return MozWebSocket;\n",
       "    } else {\n",
       "        alert(\n",
       "            'Your browser does not have WebSocket support. ' +\n",
       "                'Please try Chrome, Safari or Firefox ≥ 6. ' +\n",
       "                'Firefox 4 and 5 are also supported but you ' +\n",
       "                'have to enable WebSockets in about:config.'\n",
       "        );\n",
       "    }\n",
       "};\n",
       "\n",
       "mpl.figure = function (figure_id, websocket, ondownload, parent_element) {\n",
       "    this.id = figure_id;\n",
       "\n",
       "    this.ws = websocket;\n",
       "\n",
       "    this.supports_binary = this.ws.binaryType !== undefined;\n",
       "\n",
       "    if (!this.supports_binary) {\n",
       "        var warnings = document.getElementById('mpl-warnings');\n",
       "        if (warnings) {\n",
       "            warnings.style.display = 'block';\n",
       "            warnings.textContent =\n",
       "                'This browser does not support binary websocket messages. ' +\n",
       "                'Performance may be slow.';\n",
       "        }\n",
       "    }\n",
       "\n",
       "    this.imageObj = new Image();\n",
       "\n",
       "    this.context = undefined;\n",
       "    this.message = undefined;\n",
       "    this.canvas = undefined;\n",
       "    this.rubberband_canvas = undefined;\n",
       "    this.rubberband_context = undefined;\n",
       "    this.format_dropdown = undefined;\n",
       "\n",
       "    this.image_mode = 'full';\n",
       "\n",
       "    this.root = document.createElement('div');\n",
       "    this.root.setAttribute('style', 'display: inline-block');\n",
       "    this._root_extra_style(this.root);\n",
       "\n",
       "    parent_element.appendChild(this.root);\n",
       "\n",
       "    this._init_header(this);\n",
       "    this._init_canvas(this);\n",
       "    this._init_toolbar(this);\n",
       "\n",
       "    var fig = this;\n",
       "\n",
       "    this.waiting = false;\n",
       "\n",
       "    this.ws.onopen = function () {\n",
       "        fig.send_message('supports_binary', { value: fig.supports_binary });\n",
       "        fig.send_message('send_image_mode', {});\n",
       "        if (fig.ratio !== 1) {\n",
       "            fig.send_message('set_device_pixel_ratio', {\n",
       "                device_pixel_ratio: fig.ratio,\n",
       "            });\n",
       "        }\n",
       "        fig.send_message('refresh', {});\n",
       "    };\n",
       "\n",
       "    this.imageObj.onload = function () {\n",
       "        if (fig.image_mode === 'full') {\n",
       "            // Full images could contain transparency (where diff images\n",
       "            // almost always do), so we need to clear the canvas so that\n",
       "            // there is no ghosting.\n",
       "            fig.context.clearRect(0, 0, fig.canvas.width, fig.canvas.height);\n",
       "        }\n",
       "        fig.context.drawImage(fig.imageObj, 0, 0);\n",
       "    };\n",
       "\n",
       "    this.imageObj.onunload = function () {\n",
       "        fig.ws.close();\n",
       "    };\n",
       "\n",
       "    this.ws.onmessage = this._make_on_message_function(this);\n",
       "\n",
       "    this.ondownload = ondownload;\n",
       "};\n",
       "\n",
       "mpl.figure.prototype._init_header = function () {\n",
       "    var titlebar = document.createElement('div');\n",
       "    titlebar.classList =\n",
       "        'ui-dialog-titlebar ui-widget-header ui-corner-all ui-helper-clearfix';\n",
       "    var titletext = document.createElement('div');\n",
       "    titletext.classList = 'ui-dialog-title';\n",
       "    titletext.setAttribute(\n",
       "        'style',\n",
       "        'width: 100%; text-align: center; padding: 3px;'\n",
       "    );\n",
       "    titlebar.appendChild(titletext);\n",
       "    this.root.appendChild(titlebar);\n",
       "    this.header = titletext;\n",
       "};\n",
       "\n",
       "mpl.figure.prototype._canvas_extra_style = function (_canvas_div) {};\n",
       "\n",
       "mpl.figure.prototype._root_extra_style = function (_canvas_div) {};\n",
       "\n",
       "mpl.figure.prototype._init_canvas = function () {\n",
       "    var fig = this;\n",
       "\n",
       "    var canvas_div = (this.canvas_div = document.createElement('div'));\n",
       "    canvas_div.setAttribute('tabindex', '0');\n",
       "    canvas_div.setAttribute(\n",
       "        'style',\n",
       "        'border: 1px solid #ddd;' +\n",
       "            'box-sizing: content-box;' +\n",
       "            'clear: both;' +\n",
       "            'min-height: 1px;' +\n",
       "            'min-width: 1px;' +\n",
       "            'outline: 0;' +\n",
       "            'overflow: hidden;' +\n",
       "            'position: relative;' +\n",
       "            'resize: both;' +\n",
       "            'z-index: 2;'\n",
       "    );\n",
       "\n",
       "    function on_keyboard_event_closure(name) {\n",
       "        return function (event) {\n",
       "            return fig.key_event(event, name);\n",
       "        };\n",
       "    }\n",
       "\n",
       "    canvas_div.addEventListener(\n",
       "        'keydown',\n",
       "        on_keyboard_event_closure('key_press')\n",
       "    );\n",
       "    canvas_div.addEventListener(\n",
       "        'keyup',\n",
       "        on_keyboard_event_closure('key_release')\n",
       "    );\n",
       "\n",
       "    this._canvas_extra_style(canvas_div);\n",
       "    this.root.appendChild(canvas_div);\n",
       "\n",
       "    var canvas = (this.canvas = document.createElement('canvas'));\n",
       "    canvas.classList.add('mpl-canvas');\n",
       "    canvas.setAttribute(\n",
       "        'style',\n",
       "        'box-sizing: content-box;' +\n",
       "            'pointer-events: none;' +\n",
       "            'position: relative;' +\n",
       "            'z-index: 0;'\n",
       "    );\n",
       "\n",
       "    this.context = canvas.getContext('2d');\n",
       "\n",
       "    var backingStore =\n",
       "        this.context.backingStorePixelRatio ||\n",
       "        this.context.webkitBackingStorePixelRatio ||\n",
       "        this.context.mozBackingStorePixelRatio ||\n",
       "        this.context.msBackingStorePixelRatio ||\n",
       "        this.context.oBackingStorePixelRatio ||\n",
       "        this.context.backingStorePixelRatio ||\n",
       "        1;\n",
       "\n",
       "    this.ratio = (window.devicePixelRatio || 1) / backingStore;\n",
       "\n",
       "    var rubberband_canvas = (this.rubberband_canvas = document.createElement(\n",
       "        'canvas'\n",
       "    ));\n",
       "    rubberband_canvas.setAttribute(\n",
       "        'style',\n",
       "        'box-sizing: content-box;' +\n",
       "            'left: 0;' +\n",
       "            'pointer-events: none;' +\n",
       "            'position: absolute;' +\n",
       "            'top: 0;' +\n",
       "            'z-index: 1;'\n",
       "    );\n",
       "\n",
       "    // Apply a ponyfill if ResizeObserver is not implemented by browser.\n",
       "    if (this.ResizeObserver === undefined) {\n",
       "        if (window.ResizeObserver !== undefined) {\n",
       "            this.ResizeObserver = window.ResizeObserver;\n",
       "        } else {\n",
       "            var obs = _JSXTOOLS_RESIZE_OBSERVER({});\n",
       "            this.ResizeObserver = obs.ResizeObserver;\n",
       "        }\n",
       "    }\n",
       "\n",
       "    this.resizeObserverInstance = new this.ResizeObserver(function (entries) {\n",
       "        var nentries = entries.length;\n",
       "        for (var i = 0; i < nentries; i++) {\n",
       "            var entry = entries[i];\n",
       "            var width, height;\n",
       "            if (entry.contentBoxSize) {\n",
       "                if (entry.contentBoxSize instanceof Array) {\n",
       "                    // Chrome 84 implements new version of spec.\n",
       "                    width = entry.contentBoxSize[0].inlineSize;\n",
       "                    height = entry.contentBoxSize[0].blockSize;\n",
       "                } else {\n",
       "                    // Firefox implements old version of spec.\n",
       "                    width = entry.contentBoxSize.inlineSize;\n",
       "                    height = entry.contentBoxSize.blockSize;\n",
       "                }\n",
       "            } else {\n",
       "                // Chrome <84 implements even older version of spec.\n",
       "                width = entry.contentRect.width;\n",
       "                height = entry.contentRect.height;\n",
       "            }\n",
       "\n",
       "            // Keep the size of the canvas and rubber band canvas in sync with\n",
       "            // the canvas container.\n",
       "            if (entry.devicePixelContentBoxSize) {\n",
       "                // Chrome 84 implements new version of spec.\n",
       "                canvas.setAttribute(\n",
       "                    'width',\n",
       "                    entry.devicePixelContentBoxSize[0].inlineSize\n",
       "                );\n",
       "                canvas.setAttribute(\n",
       "                    'height',\n",
       "                    entry.devicePixelContentBoxSize[0].blockSize\n",
       "                );\n",
       "            } else {\n",
       "                canvas.setAttribute('width', width * fig.ratio);\n",
       "                canvas.setAttribute('height', height * fig.ratio);\n",
       "            }\n",
       "            /* This rescales the canvas back to display pixels, so that it\n",
       "             * appears correct on HiDPI screens. */\n",
       "            canvas.style.width = width + 'px';\n",
       "            canvas.style.height = height + 'px';\n",
       "\n",
       "            rubberband_canvas.setAttribute('width', width);\n",
       "            rubberband_canvas.setAttribute('height', height);\n",
       "\n",
       "            // And update the size in Python. We ignore the initial 0/0 size\n",
       "            // that occurs as the element is placed into the DOM, which should\n",
       "            // otherwise not happen due to the minimum size styling.\n",
       "            if (fig.ws.readyState == 1 && width != 0 && height != 0) {\n",
       "                fig.request_resize(width, height);\n",
       "            }\n",
       "        }\n",
       "    });\n",
       "    this.resizeObserverInstance.observe(canvas_div);\n",
       "\n",
       "    function on_mouse_event_closure(name) {\n",
       "        /* User Agent sniffing is bad, but WebKit is busted:\n",
       "         * https://bugs.webkit.org/show_bug.cgi?id=144526\n",
       "         * https://bugs.webkit.org/show_bug.cgi?id=181818\n",
       "         * The worst that happens here is that they get an extra browser\n",
       "         * selection when dragging, if this check fails to catch them.\n",
       "         */\n",
       "        var UA = navigator.userAgent;\n",
       "        var isWebKit = /AppleWebKit/.test(UA) && !/Chrome/.test(UA);\n",
       "        if(isWebKit) {\n",
       "            return function (event) {\n",
       "                /* This prevents the web browser from automatically changing to\n",
       "                 * the text insertion cursor when the button is pressed. We\n",
       "                 * want to control all of the cursor setting manually through\n",
       "                 * the 'cursor' event from matplotlib */\n",
       "                event.preventDefault()\n",
       "                return fig.mouse_event(event, name);\n",
       "            };\n",
       "        } else {\n",
       "            return function (event) {\n",
       "                return fig.mouse_event(event, name);\n",
       "            };\n",
       "        }\n",
       "    }\n",
       "\n",
       "    canvas_div.addEventListener(\n",
       "        'mousedown',\n",
       "        on_mouse_event_closure('button_press')\n",
       "    );\n",
       "    canvas_div.addEventListener(\n",
       "        'mouseup',\n",
       "        on_mouse_event_closure('button_release')\n",
       "    );\n",
       "    canvas_div.addEventListener(\n",
       "        'dblclick',\n",
       "        on_mouse_event_closure('dblclick')\n",
       "    );\n",
       "    // Throttle sequential mouse events to 1 every 20ms.\n",
       "    canvas_div.addEventListener(\n",
       "        'mousemove',\n",
       "        on_mouse_event_closure('motion_notify')\n",
       "    );\n",
       "\n",
       "    canvas_div.addEventListener(\n",
       "        'mouseenter',\n",
       "        on_mouse_event_closure('figure_enter')\n",
       "    );\n",
       "    canvas_div.addEventListener(\n",
       "        'mouseleave',\n",
       "        on_mouse_event_closure('figure_leave')\n",
       "    );\n",
       "\n",
       "    canvas_div.addEventListener('wheel', function (event) {\n",
       "        if (event.deltaY < 0) {\n",
       "            event.step = 1;\n",
       "        } else {\n",
       "            event.step = -1;\n",
       "        }\n",
       "        on_mouse_event_closure('scroll')(event);\n",
       "    });\n",
       "\n",
       "    canvas_div.appendChild(canvas);\n",
       "    canvas_div.appendChild(rubberband_canvas);\n",
       "\n",
       "    this.rubberband_context = rubberband_canvas.getContext('2d');\n",
       "    this.rubberband_context.strokeStyle = '#000000';\n",
       "\n",
       "    this._resize_canvas = function (width, height, forward) {\n",
       "        if (forward) {\n",
       "            canvas_div.style.width = width + 'px';\n",
       "            canvas_div.style.height = height + 'px';\n",
       "        }\n",
       "    };\n",
       "\n",
       "    // Disable right mouse context menu.\n",
       "    canvas_div.addEventListener('contextmenu', function (_e) {\n",
       "        event.preventDefault();\n",
       "        return false;\n",
       "    });\n",
       "\n",
       "    function set_focus() {\n",
       "        canvas.focus();\n",
       "        canvas_div.focus();\n",
       "    }\n",
       "\n",
       "    window.setTimeout(set_focus, 100);\n",
       "};\n",
       "\n",
       "mpl.figure.prototype._init_toolbar = function () {\n",
       "    var fig = this;\n",
       "\n",
       "    var toolbar = document.createElement('div');\n",
       "    toolbar.classList = 'mpl-toolbar';\n",
       "    this.root.appendChild(toolbar);\n",
       "\n",
       "    function on_click_closure(name) {\n",
       "        return function (_event) {\n",
       "            return fig.toolbar_button_onclick(name);\n",
       "        };\n",
       "    }\n",
       "\n",
       "    function on_mouseover_closure(tooltip) {\n",
       "        return function (event) {\n",
       "            if (!event.currentTarget.disabled) {\n",
       "                return fig.toolbar_button_onmouseover(tooltip);\n",
       "            }\n",
       "        };\n",
       "    }\n",
       "\n",
       "    fig.buttons = {};\n",
       "    var buttonGroup = document.createElement('div');\n",
       "    buttonGroup.classList = 'mpl-button-group';\n",
       "    for (var toolbar_ind in mpl.toolbar_items) {\n",
       "        var name = mpl.toolbar_items[toolbar_ind][0];\n",
       "        var tooltip = mpl.toolbar_items[toolbar_ind][1];\n",
       "        var image = mpl.toolbar_items[toolbar_ind][2];\n",
       "        var method_name = mpl.toolbar_items[toolbar_ind][3];\n",
       "\n",
       "        if (!name) {\n",
       "            /* Instead of a spacer, we start a new button group. */\n",
       "            if (buttonGroup.hasChildNodes()) {\n",
       "                toolbar.appendChild(buttonGroup);\n",
       "            }\n",
       "            buttonGroup = document.createElement('div');\n",
       "            buttonGroup.classList = 'mpl-button-group';\n",
       "            continue;\n",
       "        }\n",
       "\n",
       "        var button = (fig.buttons[name] = document.createElement('button'));\n",
       "        button.classList = 'mpl-widget';\n",
       "        button.setAttribute('role', 'button');\n",
       "        button.setAttribute('aria-disabled', 'false');\n",
       "        button.addEventListener('click', on_click_closure(method_name));\n",
       "        button.addEventListener('mouseover', on_mouseover_closure(tooltip));\n",
       "\n",
       "        var icon_img = document.createElement('img');\n",
       "        icon_img.src = '_images/' + image + '.png';\n",
       "        icon_img.srcset = '_images/' + image + '_large.png 2x';\n",
       "        icon_img.alt = tooltip;\n",
       "        button.appendChild(icon_img);\n",
       "\n",
       "        buttonGroup.appendChild(button);\n",
       "    }\n",
       "\n",
       "    if (buttonGroup.hasChildNodes()) {\n",
       "        toolbar.appendChild(buttonGroup);\n",
       "    }\n",
       "\n",
       "    var fmt_picker = document.createElement('select');\n",
       "    fmt_picker.classList = 'mpl-widget';\n",
       "    toolbar.appendChild(fmt_picker);\n",
       "    this.format_dropdown = fmt_picker;\n",
       "\n",
       "    for (var ind in mpl.extensions) {\n",
       "        var fmt = mpl.extensions[ind];\n",
       "        var option = document.createElement('option');\n",
       "        option.selected = fmt === mpl.default_extension;\n",
       "        option.innerHTML = fmt;\n",
       "        fmt_picker.appendChild(option);\n",
       "    }\n",
       "\n",
       "    var status_bar = document.createElement('span');\n",
       "    status_bar.classList = 'mpl-message';\n",
       "    toolbar.appendChild(status_bar);\n",
       "    this.message = status_bar;\n",
       "};\n",
       "\n",
       "mpl.figure.prototype.request_resize = function (x_pixels, y_pixels) {\n",
       "    // Request matplotlib to resize the figure. Matplotlib will then trigger a resize in the client,\n",
       "    // which will in turn request a refresh of the image.\n",
       "    this.send_message('resize', { width: x_pixels, height: y_pixels });\n",
       "};\n",
       "\n",
       "mpl.figure.prototype.send_message = function (type, properties) {\n",
       "    properties['type'] = type;\n",
       "    properties['figure_id'] = this.id;\n",
       "    this.ws.send(JSON.stringify(properties));\n",
       "};\n",
       "\n",
       "mpl.figure.prototype.send_draw_message = function () {\n",
       "    if (!this.waiting) {\n",
       "        this.waiting = true;\n",
       "        this.ws.send(JSON.stringify({ type: 'draw', figure_id: this.id }));\n",
       "    }\n",
       "};\n",
       "\n",
       "mpl.figure.prototype.handle_save = function (fig, _msg) {\n",
       "    var format_dropdown = fig.format_dropdown;\n",
       "    var format = format_dropdown.options[format_dropdown.selectedIndex].value;\n",
       "    fig.ondownload(fig, format);\n",
       "};\n",
       "\n",
       "mpl.figure.prototype.handle_resize = function (fig, msg) {\n",
       "    var size = msg['size'];\n",
       "    if (size[0] !== fig.canvas.width || size[1] !== fig.canvas.height) {\n",
       "        fig._resize_canvas(size[0], size[1], msg['forward']);\n",
       "        fig.send_message('refresh', {});\n",
       "    }\n",
       "};\n",
       "\n",
       "mpl.figure.prototype.handle_rubberband = function (fig, msg) {\n",
       "    var x0 = msg['x0'] / fig.ratio;\n",
       "    var y0 = (fig.canvas.height - msg['y0']) / fig.ratio;\n",
       "    var x1 = msg['x1'] / fig.ratio;\n",
       "    var y1 = (fig.canvas.height - msg['y1']) / fig.ratio;\n",
       "    x0 = Math.floor(x0) + 0.5;\n",
       "    y0 = Math.floor(y0) + 0.5;\n",
       "    x1 = Math.floor(x1) + 0.5;\n",
       "    y1 = Math.floor(y1) + 0.5;\n",
       "    var min_x = Math.min(x0, x1);\n",
       "    var min_y = Math.min(y0, y1);\n",
       "    var width = Math.abs(x1 - x0);\n",
       "    var height = Math.abs(y1 - y0);\n",
       "\n",
       "    fig.rubberband_context.clearRect(\n",
       "        0,\n",
       "        0,\n",
       "        fig.canvas.width / fig.ratio,\n",
       "        fig.canvas.height / fig.ratio\n",
       "    );\n",
       "\n",
       "    fig.rubberband_context.strokeRect(min_x, min_y, width, height);\n",
       "};\n",
       "\n",
       "mpl.figure.prototype.handle_figure_label = function (fig, msg) {\n",
       "    // Updates the figure title.\n",
       "    fig.header.textContent = msg['label'];\n",
       "};\n",
       "\n",
       "mpl.figure.prototype.handle_cursor = function (fig, msg) {\n",
       "    fig.canvas_div.style.cursor = msg['cursor'];\n",
       "};\n",
       "\n",
       "mpl.figure.prototype.handle_message = function (fig, msg) {\n",
       "    fig.message.textContent = msg['message'];\n",
       "};\n",
       "\n",
       "mpl.figure.prototype.handle_draw = function (fig, _msg) {\n",
       "    // Request the server to send over a new figure.\n",
       "    fig.send_draw_message();\n",
       "};\n",
       "\n",
       "mpl.figure.prototype.handle_image_mode = function (fig, msg) {\n",
       "    fig.image_mode = msg['mode'];\n",
       "};\n",
       "\n",
       "mpl.figure.prototype.handle_history_buttons = function (fig, msg) {\n",
       "    for (var key in msg) {\n",
       "        if (!(key in fig.buttons)) {\n",
       "            continue;\n",
       "        }\n",
       "        fig.buttons[key].disabled = !msg[key];\n",
       "        fig.buttons[key].setAttribute('aria-disabled', !msg[key]);\n",
       "    }\n",
       "};\n",
       "\n",
       "mpl.figure.prototype.handle_navigate_mode = function (fig, msg) {\n",
       "    if (msg['mode'] === 'PAN') {\n",
       "        fig.buttons['Pan'].classList.add('active');\n",
       "        fig.buttons['Zoom'].classList.remove('active');\n",
       "    } else if (msg['mode'] === 'ZOOM') {\n",
       "        fig.buttons['Pan'].classList.remove('active');\n",
       "        fig.buttons['Zoom'].classList.add('active');\n",
       "    } else {\n",
       "        fig.buttons['Pan'].classList.remove('active');\n",
       "        fig.buttons['Zoom'].classList.remove('active');\n",
       "    }\n",
       "};\n",
       "\n",
       "mpl.figure.prototype.updated_canvas_event = function () {\n",
       "    // Called whenever the canvas gets updated.\n",
       "    this.send_message('ack', {});\n",
       "};\n",
       "\n",
       "// A function to construct a web socket function for onmessage handling.\n",
       "// Called in the figure constructor.\n",
       "mpl.figure.prototype._make_on_message_function = function (fig) {\n",
       "    return function socket_on_message(evt) {\n",
       "        if (evt.data instanceof Blob) {\n",
       "            var img = evt.data;\n",
       "            if (img.type !== 'image/png') {\n",
       "                /* FIXME: We get \"Resource interpreted as Image but\n",
       "                 * transferred with MIME type text/plain:\" errors on\n",
       "                 * Chrome.  But how to set the MIME type?  It doesn't seem\n",
       "                 * to be part of the websocket stream */\n",
       "                img.type = 'image/png';\n",
       "            }\n",
       "\n",
       "            /* Free the memory for the previous frames */\n",
       "            if (fig.imageObj.src) {\n",
       "                (window.URL || window.webkitURL).revokeObjectURL(\n",
       "                    fig.imageObj.src\n",
       "                );\n",
       "            }\n",
       "\n",
       "            fig.imageObj.src = (window.URL || window.webkitURL).createObjectURL(\n",
       "                img\n",
       "            );\n",
       "            fig.updated_canvas_event();\n",
       "            fig.waiting = false;\n",
       "            return;\n",
       "        } else if (\n",
       "            typeof evt.data === 'string' &&\n",
       "            evt.data.slice(0, 21) === 'data:image/png;base64'\n",
       "        ) {\n",
       "            fig.imageObj.src = evt.data;\n",
       "            fig.updated_canvas_event();\n",
       "            fig.waiting = false;\n",
       "            return;\n",
       "        }\n",
       "\n",
       "        var msg = JSON.parse(evt.data);\n",
       "        var msg_type = msg['type'];\n",
       "\n",
       "        // Call the  \"handle_{type}\" callback, which takes\n",
       "        // the figure and JSON message as its only arguments.\n",
       "        try {\n",
       "            var callback = fig['handle_' + msg_type];\n",
       "        } catch (e) {\n",
       "            console.log(\n",
       "                \"No handler for the '\" + msg_type + \"' message type: \",\n",
       "                msg\n",
       "            );\n",
       "            return;\n",
       "        }\n",
       "\n",
       "        if (callback) {\n",
       "            try {\n",
       "                // console.log(\"Handling '\" + msg_type + \"' message: \", msg);\n",
       "                callback(fig, msg);\n",
       "            } catch (e) {\n",
       "                console.log(\n",
       "                    \"Exception inside the 'handler_\" + msg_type + \"' callback:\",\n",
       "                    e,\n",
       "                    e.stack,\n",
       "                    msg\n",
       "                );\n",
       "            }\n",
       "        }\n",
       "    };\n",
       "};\n",
       "\n",
       "function getModifiers(event) {\n",
       "    var mods = [];\n",
       "    if (event.ctrlKey) {\n",
       "        mods.push('ctrl');\n",
       "    }\n",
       "    if (event.altKey) {\n",
       "        mods.push('alt');\n",
       "    }\n",
       "    if (event.shiftKey) {\n",
       "        mods.push('shift');\n",
       "    }\n",
       "    if (event.metaKey) {\n",
       "        mods.push('meta');\n",
       "    }\n",
       "    return mods;\n",
       "}\n",
       "\n",
       "/*\n",
       " * return a copy of an object with only non-object keys\n",
       " * we need this to avoid circular references\n",
       " * https://stackoverflow.com/a/24161582/3208463\n",
       " */\n",
       "function simpleKeys(original) {\n",
       "    return Object.keys(original).reduce(function (obj, key) {\n",
       "        if (typeof original[key] !== 'object') {\n",
       "            obj[key] = original[key];\n",
       "        }\n",
       "        return obj;\n",
       "    }, {});\n",
       "}\n",
       "\n",
       "mpl.figure.prototype.mouse_event = function (event, name) {\n",
       "    if (name === 'button_press') {\n",
       "        this.canvas.focus();\n",
       "        this.canvas_div.focus();\n",
       "    }\n",
       "\n",
       "    // from https://stackoverflow.com/q/1114465\n",
       "    var boundingRect = this.canvas.getBoundingClientRect();\n",
       "    var x = (event.clientX - boundingRect.left) * this.ratio;\n",
       "    var y = (event.clientY - boundingRect.top) * this.ratio;\n",
       "\n",
       "    this.send_message(name, {\n",
       "        x: x,\n",
       "        y: y,\n",
       "        button: event.button,\n",
       "        step: event.step,\n",
       "        modifiers: getModifiers(event),\n",
       "        guiEvent: simpleKeys(event),\n",
       "    });\n",
       "\n",
       "    return false;\n",
       "};\n",
       "\n",
       "mpl.figure.prototype._key_event_extra = function (_event, _name) {\n",
       "    // Handle any extra behaviour associated with a key event\n",
       "};\n",
       "\n",
       "mpl.figure.prototype.key_event = function (event, name) {\n",
       "    // Prevent repeat events\n",
       "    if (name === 'key_press') {\n",
       "        if (event.key === this._key) {\n",
       "            return;\n",
       "        } else {\n",
       "            this._key = event.key;\n",
       "        }\n",
       "    }\n",
       "    if (name === 'key_release') {\n",
       "        this._key = null;\n",
       "    }\n",
       "\n",
       "    var value = '';\n",
       "    if (event.ctrlKey && event.key !== 'Control') {\n",
       "        value += 'ctrl+';\n",
       "    }\n",
       "    else if (event.altKey && event.key !== 'Alt') {\n",
       "        value += 'alt+';\n",
       "    }\n",
       "    else if (event.shiftKey && event.key !== 'Shift') {\n",
       "        value += 'shift+';\n",
       "    }\n",
       "\n",
       "    value += 'k' + event.key;\n",
       "\n",
       "    this._key_event_extra(event, name);\n",
       "\n",
       "    this.send_message(name, { key: value, guiEvent: simpleKeys(event) });\n",
       "    return false;\n",
       "};\n",
       "\n",
       "mpl.figure.prototype.toolbar_button_onclick = function (name) {\n",
       "    if (name === 'download') {\n",
       "        this.handle_save(this, null);\n",
       "    } else {\n",
       "        this.send_message('toolbar_button', { name: name });\n",
       "    }\n",
       "};\n",
       "\n",
       "mpl.figure.prototype.toolbar_button_onmouseover = function (tooltip) {\n",
       "    this.message.textContent = tooltip;\n",
       "};\n",
       "\n",
       "///////////////// REMAINING CONTENT GENERATED BY embed_js.py /////////////////\n",
       "// prettier-ignore\n",
       "var _JSXTOOLS_RESIZE_OBSERVER=function(A){var t,i=new WeakMap,n=new WeakMap,a=new WeakMap,r=new WeakMap,o=new Set;function s(e){if(!(this instanceof s))throw new TypeError(\"Constructor requires 'new' operator\");i.set(this,e)}function h(){throw new TypeError(\"Function is not a constructor\")}function c(e,t,i,n){e=0 in arguments?Number(arguments[0]):0,t=1 in arguments?Number(arguments[1]):0,i=2 in arguments?Number(arguments[2]):0,n=3 in arguments?Number(arguments[3]):0,this.right=(this.x=this.left=e)+(this.width=i),this.bottom=(this.y=this.top=t)+(this.height=n),Object.freeze(this)}function d(){t=requestAnimationFrame(d);var s=new WeakMap,p=new Set;o.forEach((function(t){r.get(t).forEach((function(i){var r=t instanceof window.SVGElement,o=a.get(t),d=r?0:parseFloat(o.paddingTop),f=r?0:parseFloat(o.paddingRight),l=r?0:parseFloat(o.paddingBottom),u=r?0:parseFloat(o.paddingLeft),g=r?0:parseFloat(o.borderTopWidth),m=r?0:parseFloat(o.borderRightWidth),w=r?0:parseFloat(o.borderBottomWidth),b=u+f,F=d+l,v=(r?0:parseFloat(o.borderLeftWidth))+m,W=g+w,y=r?0:t.offsetHeight-W-t.clientHeight,E=r?0:t.offsetWidth-v-t.clientWidth,R=b+v,z=F+W,M=r?t.width:parseFloat(o.width)-R-E,O=r?t.height:parseFloat(o.height)-z-y;if(n.has(t)){var k=n.get(t);if(k[0]===M&&k[1]===O)return}n.set(t,[M,O]);var S=Object.create(h.prototype);S.target=t,S.contentRect=new c(u,d,M,O),s.has(i)||(s.set(i,[]),p.add(i)),s.get(i).push(S)}))})),p.forEach((function(e){i.get(e).call(e,s.get(e),e)}))}return s.prototype.observe=function(i){if(i instanceof window.Element){r.has(i)||(r.set(i,new Set),o.add(i),a.set(i,window.getComputedStyle(i)));var n=r.get(i);n.has(this)||n.add(this),cancelAnimationFrame(t),t=requestAnimationFrame(d)}},s.prototype.unobserve=function(i){if(i instanceof window.Element&&r.has(i)){var n=r.get(i);n.has(this)&&(n.delete(this),n.size||(r.delete(i),o.delete(i))),n.size||r.delete(i),o.size||cancelAnimationFrame(t)}},A.DOMRectReadOnly=c,A.ResizeObserver=s,A.ResizeObserverEntry=h,A}; // eslint-disable-line\n",
       "mpl.toolbar_items = [[\"Home\", \"Reset original view\", \"fa fa-home\", \"home\"], [\"Back\", \"Back to previous view\", \"fa fa-arrow-left\", \"back\"], [\"Forward\", \"Forward to next view\", \"fa fa-arrow-right\", \"forward\"], [\"\", \"\", \"\", \"\"], [\"Pan\", \"Left button pans, Right button zooms\\nx/y fixes axis, CTRL fixes aspect\", \"fa fa-arrows\", \"pan\"], [\"Zoom\", \"Zoom to rectangle\\nx/y fixes axis\", \"fa fa-square-o\", \"zoom\"], [\"\", \"\", \"\", \"\"], [\"Download\", \"Download plot\", \"fa fa-floppy-o\", \"download\"]];\n",
       "\n",
       "mpl.extensions = [\"eps\", \"jpeg\", \"pgf\", \"pdf\", \"png\", \"ps\", \"raw\", \"svg\", \"tif\", \"webp\"];\n",
       "\n",
       "mpl.default_extension = \"png\";/* global mpl */\n",
       "\n",
       "var comm_websocket_adapter = function (comm) {\n",
       "    // Create a \"websocket\"-like object which calls the given IPython comm\n",
       "    // object with the appropriate methods. Currently this is a non binary\n",
       "    // socket, so there is still some room for performance tuning.\n",
       "    var ws = {};\n",
       "\n",
       "    ws.binaryType = comm.kernel.ws.binaryType;\n",
       "    ws.readyState = comm.kernel.ws.readyState;\n",
       "    function updateReadyState(_event) {\n",
       "        if (comm.kernel.ws) {\n",
       "            ws.readyState = comm.kernel.ws.readyState;\n",
       "        } else {\n",
       "            ws.readyState = 3; // Closed state.\n",
       "        }\n",
       "    }\n",
       "    comm.kernel.ws.addEventListener('open', updateReadyState);\n",
       "    comm.kernel.ws.addEventListener('close', updateReadyState);\n",
       "    comm.kernel.ws.addEventListener('error', updateReadyState);\n",
       "\n",
       "    ws.close = function () {\n",
       "        comm.close();\n",
       "    };\n",
       "    ws.send = function (m) {\n",
       "        //console.log('sending', m);\n",
       "        comm.send(m);\n",
       "    };\n",
       "    // Register the callback with on_msg.\n",
       "    comm.on_msg(function (msg) {\n",
       "        //console.log('receiving', msg['content']['data'], msg);\n",
       "        var data = msg['content']['data'];\n",
       "        if (data['blob'] !== undefined) {\n",
       "            data = {\n",
       "                data: new Blob(msg['buffers'], { type: data['blob'] }),\n",
       "            };\n",
       "        }\n",
       "        // Pass the mpl event to the overridden (by mpl) onmessage function.\n",
       "        ws.onmessage(data);\n",
       "    });\n",
       "    return ws;\n",
       "};\n",
       "\n",
       "mpl.mpl_figure_comm = function (comm, msg) {\n",
       "    // This is the function which gets called when the mpl process\n",
       "    // starts-up an IPython Comm through the \"matplotlib\" channel.\n",
       "\n",
       "    var id = msg.content.data.id;\n",
       "    // Get hold of the div created by the display call when the Comm\n",
       "    // socket was opened in Python.\n",
       "    var element = document.getElementById(id);\n",
       "    var ws_proxy = comm_websocket_adapter(comm);\n",
       "\n",
       "    function ondownload(figure, _format) {\n",
       "        window.open(figure.canvas.toDataURL());\n",
       "    }\n",
       "\n",
       "    var fig = new mpl.figure(id, ws_proxy, ondownload, element);\n",
       "\n",
       "    // Call onopen now - mpl needs it, as it is assuming we've passed it a real\n",
       "    // web socket which is closed, not our websocket->open comm proxy.\n",
       "    ws_proxy.onopen();\n",
       "\n",
       "    fig.parent_element = element;\n",
       "    fig.cell_info = mpl.find_output_cell(\"<div id='\" + id + \"'></div>\");\n",
       "    if (!fig.cell_info) {\n",
       "        console.error('Failed to find cell for figure', id, fig);\n",
       "        return;\n",
       "    }\n",
       "    fig.cell_info[0].output_area.element.on(\n",
       "        'cleared',\n",
       "        { fig: fig },\n",
       "        fig._remove_fig_handler\n",
       "    );\n",
       "};\n",
       "\n",
       "mpl.figure.prototype.handle_close = function (fig, msg) {\n",
       "    var width = fig.canvas.width / fig.ratio;\n",
       "    fig.cell_info[0].output_area.element.off(\n",
       "        'cleared',\n",
       "        fig._remove_fig_handler\n",
       "    );\n",
       "    fig.resizeObserverInstance.unobserve(fig.canvas_div);\n",
       "\n",
       "    // Update the output cell to use the data from the current canvas.\n",
       "    fig.push_to_output();\n",
       "    var dataURL = fig.canvas.toDataURL();\n",
       "    // Re-enable the keyboard manager in IPython - without this line, in FF,\n",
       "    // the notebook keyboard shortcuts fail.\n",
       "    IPython.keyboard_manager.enable();\n",
       "    fig.parent_element.innerHTML =\n",
       "        '<img src=\"' + dataURL + '\" width=\"' + width + '\">';\n",
       "    fig.close_ws(fig, msg);\n",
       "};\n",
       "\n",
       "mpl.figure.prototype.close_ws = function (fig, msg) {\n",
       "    fig.send_message('closing', msg);\n",
       "    // fig.ws.close()\n",
       "};\n",
       "\n",
       "mpl.figure.prototype.push_to_output = function (_remove_interactive) {\n",
       "    // Turn the data on the canvas into data in the output cell.\n",
       "    var width = this.canvas.width / this.ratio;\n",
       "    var dataURL = this.canvas.toDataURL();\n",
       "    this.cell_info[1]['text/html'] =\n",
       "        '<img src=\"' + dataURL + '\" width=\"' + width + '\">';\n",
       "};\n",
       "\n",
       "mpl.figure.prototype.updated_canvas_event = function () {\n",
       "    // Tell IPython that the notebook contents must change.\n",
       "    IPython.notebook.set_dirty(true);\n",
       "    this.send_message('ack', {});\n",
       "    var fig = this;\n",
       "    // Wait a second, then push the new image to the DOM so\n",
       "    // that it is saved nicely (might be nice to debounce this).\n",
       "    setTimeout(function () {\n",
       "        fig.push_to_output();\n",
       "    }, 1000);\n",
       "};\n",
       "\n",
       "mpl.figure.prototype._init_toolbar = function () {\n",
       "    var fig = this;\n",
       "\n",
       "    var toolbar = document.createElement('div');\n",
       "    toolbar.classList = 'btn-toolbar';\n",
       "    this.root.appendChild(toolbar);\n",
       "\n",
       "    function on_click_closure(name) {\n",
       "        return function (_event) {\n",
       "            return fig.toolbar_button_onclick(name);\n",
       "        };\n",
       "    }\n",
       "\n",
       "    function on_mouseover_closure(tooltip) {\n",
       "        return function (event) {\n",
       "            if (!event.currentTarget.disabled) {\n",
       "                return fig.toolbar_button_onmouseover(tooltip);\n",
       "            }\n",
       "        };\n",
       "    }\n",
       "\n",
       "    fig.buttons = {};\n",
       "    var buttonGroup = document.createElement('div');\n",
       "    buttonGroup.classList = 'btn-group';\n",
       "    var button;\n",
       "    for (var toolbar_ind in mpl.toolbar_items) {\n",
       "        var name = mpl.toolbar_items[toolbar_ind][0];\n",
       "        var tooltip = mpl.toolbar_items[toolbar_ind][1];\n",
       "        var image = mpl.toolbar_items[toolbar_ind][2];\n",
       "        var method_name = mpl.toolbar_items[toolbar_ind][3];\n",
       "\n",
       "        if (!name) {\n",
       "            /* Instead of a spacer, we start a new button group. */\n",
       "            if (buttonGroup.hasChildNodes()) {\n",
       "                toolbar.appendChild(buttonGroup);\n",
       "            }\n",
       "            buttonGroup = document.createElement('div');\n",
       "            buttonGroup.classList = 'btn-group';\n",
       "            continue;\n",
       "        }\n",
       "\n",
       "        button = fig.buttons[name] = document.createElement('button');\n",
       "        button.classList = 'btn btn-default';\n",
       "        button.href = '#';\n",
       "        button.title = name;\n",
       "        button.innerHTML = '<i class=\"fa ' + image + ' fa-lg\"></i>';\n",
       "        button.addEventListener('click', on_click_closure(method_name));\n",
       "        button.addEventListener('mouseover', on_mouseover_closure(tooltip));\n",
       "        buttonGroup.appendChild(button);\n",
       "    }\n",
       "\n",
       "    if (buttonGroup.hasChildNodes()) {\n",
       "        toolbar.appendChild(buttonGroup);\n",
       "    }\n",
       "\n",
       "    // Add the status bar.\n",
       "    var status_bar = document.createElement('span');\n",
       "    status_bar.classList = 'mpl-message pull-right';\n",
       "    toolbar.appendChild(status_bar);\n",
       "    this.message = status_bar;\n",
       "\n",
       "    // Add the close button to the window.\n",
       "    var buttongrp = document.createElement('div');\n",
       "    buttongrp.classList = 'btn-group inline pull-right';\n",
       "    button = document.createElement('button');\n",
       "    button.classList = 'btn btn-mini btn-primary';\n",
       "    button.href = '#';\n",
       "    button.title = 'Stop Interaction';\n",
       "    button.innerHTML = '<i class=\"fa fa-power-off icon-remove icon-large\"></i>';\n",
       "    button.addEventListener('click', function (_evt) {\n",
       "        fig.handle_close(fig, {});\n",
       "    });\n",
       "    button.addEventListener(\n",
       "        'mouseover',\n",
       "        on_mouseover_closure('Stop Interaction')\n",
       "    );\n",
       "    buttongrp.appendChild(button);\n",
       "    var titlebar = this.root.querySelector('.ui-dialog-titlebar');\n",
       "    titlebar.insertBefore(buttongrp, titlebar.firstChild);\n",
       "};\n",
       "\n",
       "mpl.figure.prototype._remove_fig_handler = function (event) {\n",
       "    var fig = event.data.fig;\n",
       "    if (event.target !== this) {\n",
       "        // Ignore bubbled events from children.\n",
       "        return;\n",
       "    }\n",
       "    fig.close_ws(fig, {});\n",
       "};\n",
       "\n",
       "mpl.figure.prototype._root_extra_style = function (el) {\n",
       "    el.style.boxSizing = 'content-box'; // override notebook setting of border-box.\n",
       "};\n",
       "\n",
       "mpl.figure.prototype._canvas_extra_style = function (el) {\n",
       "    // this is important to make the div 'focusable\n",
       "    el.setAttribute('tabindex', 0);\n",
       "    // reach out to IPython and tell the keyboard manager to turn it's self\n",
       "    // off when our div gets focus\n",
       "\n",
       "    // location in version 3\n",
       "    if (IPython.notebook.keyboard_manager) {\n",
       "        IPython.notebook.keyboard_manager.register_events(el);\n",
       "    } else {\n",
       "        // location in version 2\n",
       "        IPython.keyboard_manager.register_events(el);\n",
       "    }\n",
       "};\n",
       "\n",
       "mpl.figure.prototype._key_event_extra = function (event, _name) {\n",
       "    // Check for shift+enter\n",
       "    if (event.shiftKey && event.which === 13) {\n",
       "        this.canvas_div.blur();\n",
       "        // select the cell after this one\n",
       "        var index = IPython.notebook.find_cell_index(this.cell_info[0]);\n",
       "        IPython.notebook.select(index + 1);\n",
       "    }\n",
       "};\n",
       "\n",
       "mpl.figure.prototype.handle_save = function (fig, _msg) {\n",
       "    fig.ondownload(fig, null);\n",
       "};\n",
       "\n",
       "mpl.find_output_cell = function (html_output) {\n",
       "    // Return the cell and output element which can be found *uniquely* in the notebook.\n",
       "    // Note - this is a bit hacky, but it is done because the \"notebook_saving.Notebook\"\n",
       "    // IPython event is triggered only after the cells have been serialised, which for\n",
       "    // our purposes (turning an active figure into a static one), is too late.\n",
       "    var cells = IPython.notebook.get_cells();\n",
       "    var ncells = cells.length;\n",
       "    for (var i = 0; i < ncells; i++) {\n",
       "        var cell = cells[i];\n",
       "        if (cell.cell_type === 'code') {\n",
       "            for (var j = 0; j < cell.output_area.outputs.length; j++) {\n",
       "                var data = cell.output_area.outputs[j];\n",
       "                if (data.data) {\n",
       "                    // IPython >= 3 moved mimebundle to data attribute of output\n",
       "                    data = data.data;\n",
       "                }\n",
       "                if (data['text/html'] === html_output) {\n",
       "                    return [cell, data, j];\n",
       "                }\n",
       "            }\n",
       "        }\n",
       "    }\n",
       "};\n",
       "\n",
       "// Register the function which deals with the matplotlib target/channel.\n",
       "// The kernel may be null if the page has been refreshed.\n",
       "if (IPython.notebook.kernel !== null) {\n",
       "    IPython.notebook.kernel.comm_manager.register_target(\n",
       "        'matplotlib',\n",
       "        mpl.mpl_figure_comm\n",
       "    );\n",
       "}\n"
      ],
      "text/plain": [
       "<IPython.core.display.Javascript object>"
      ]
     },
     "metadata": {},
     "output_type": "display_data"
    },
    {
     "data": {
      "text/html": [
       "<img src=\"data:image/png;base64,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\" width=\"961\">"
      ],
      "text/plain": [
       "<IPython.core.display.HTML object>"
      ]
     },
     "metadata": {},
     "output_type": "display_data"
    }
   ],
   "source": [
    "import numpy as np\n",
    "import matplotlib.pyplot as plt\n",
    "import matplotlib.animation as animation\n",
    "\n",
    "# Define the neural network structure\n",
    "input_neurons = 2\n",
    "hidden_neurons = 3\n",
    "output_neurons = 1\n",
    "\n",
    "# Define weights and biases\n",
    "weights_input_hidden = np.array([[0.5, -0.2, 0.1], [0.8, 0.3, -0.5]])\n",
    "weights_hidden_output = np.array([[0.7], [-0.6], [0.2]])\n",
    "bias_hidden = np.array([0.1, -0.1, 0.2])\n",
    "bias_output = np.array([0.5])\n",
    "\n",
    "# Activation function (ReLU)\n",
    "def relu(x):\n",
    "    return np.maximum(0, x)\n",
    "\n",
    "# Forward propagation function\n",
    "def forward_propagation(x):\n",
    "    hidden_input = np.dot(x, weights_input_hidden) + bias_hidden\n",
    "    hidden_output = relu(hidden_input)\n",
    "    output = np.dot(hidden_output, weights_hidden_output) + bias_output\n",
    "    return hidden_input, hidden_output, output\n",
    "\n",
    "# Input data\n",
    "input_data = np.array([[1.0, 2.0]])\n",
    "\n",
    "# Perform forward propagation\n",
    "hidden_input, hidden_output, output = forward_propagation(input_data)\n",
    "\n",
    "# Create the figure\n",
    "fig, ax = plt.subplots(figsize=(6, 6))\n",
    "ax.axis('off')\n",
    "\n",
    "# Define positions for the neurons\n",
    "input_positions = [(0, 2), (0, 0)]\n",
    "hidden_positions = [(2, 3), (2, 1), (2, -1)]\n",
    "output_positions = [(4, 1)]\n",
    "\n",
    "# Combine all positions\n",
    "all_positions = input_positions + hidden_positions + output_positions\n",
    "\n",
    "# Draw the network\n",
    "neurons = ax.scatter(*zip(*all_positions), s=1000, c='lightblue', zorder=3)\n",
    "\n",
    "# Draw connections\n",
    "connections = []\n",
    "for i, (x1, y1) in enumerate(input_positions):\n",
    "    for j, (x2, y2) in enumerate(hidden_positions):\n",
    "        connections.append(ax.plot([x1, x2], [y1, y2], color='gray', zorder=1)[0])\n",
    "for i, (x1, y1) in enumerate(hidden_positions):\n",
    "    for j, (x2, y2) in enumerate(output_positions):\n",
    "        connections.append(ax.plot([x1, x2], [y1, y2], color='gray', zorder=1)[0])\n",
    "\n",
    "# Add text labels\n",
    "for i, (x, y) in enumerate(input_positions):\n",
    "    ax.text(x - 0.5, y, f\"Input {i+1}\", ha='center', va='center', fontsize=10)\n",
    "for i, (x, y) in enumerate(hidden_positions):\n",
    "    ax.text(x, y + 0.5, f\"Hidden {i+1}\", ha='center', va='center', fontsize=10)\n",
    "for i, (x, y) in enumerate(output_positions):\n",
    "    ax.text(x + 0.5, y, f\"Output\", ha='center', va='center', fontsize=10)\n",
    "\n",
    "# Animation function\n",
    "def update(frame):\n",
    "    if frame < len(hidden_input[0]):\n",
    "        # Highlight active connection to hidden neurons\n",
    "        for i, line in enumerate(connections[:len(input_positions) * len(hidden_positions)]):\n",
    "            line.set_color('red' if i // len(hidden_positions) == frame else 'gray')\n",
    "    elif frame < len(hidden_input[0]) + len(hidden_output[0]):\n",
    "        # Highlight active connection to output neurons\n",
    "        idx = frame - len(hidden_input[0])\n",
    "        for i, line in enumerate(connections[len(input_positions) * len(hidden_positions):]):\n",
    "            line.set_color('red' if i // len(output_positions) == idx else 'gray')\n",
    "    else:\n",
    "        # Reset all connections\n",
    "        for line in connections:\n",
    "            line.set_color('gray')\n",
    "\n",
    "ani = animation.FuncAnimation(fig, update, frames=range(len(hidden_input[0]) + len(hidden_output[0]) + 1), interval=500, repeat=True)\n",
    "\n",
    "plt.show()\n"
   ]
  },
  {
   "cell_type": "markdown",
   "id": "a3cbf73d",
   "metadata": {},
   "source": [
    "### Backpropagation\n",
    "\n",
    "The idea of backpropagation is to allow the network to \"learn\". Backpropagation (short for “backward propagation of errors”) is an optimization algorithm that computes the gradient of the loss function with respect to each weight and bias in the network. It ensures that weights are updated in the direction that reduces the error."
   ]
  },
  {
   "cell_type": "code",
   "execution_count": 7,
   "id": "bf69aaa3",
   "metadata": {},
   "outputs": [
    {
     "name": "stdout",
     "output_type": "stream",
     "text": [
      "Confusion Matrix:\n",
      "[[15  0  0]\n",
      " [ 0 14  1]\n",
      " [ 0  3 12]]\n",
      "\n",
      "Classification Report:\n",
      "              precision    recall  f1-score   support\n",
      "\n",
      "      setosa       1.00      1.00      1.00        15\n",
      "  versicolor       0.82      0.93      0.88        15\n",
      "   virginica       0.92      0.80      0.86        15\n",
      "\n",
      "    accuracy                           0.91        45\n",
      "   macro avg       0.92      0.91      0.91        45\n",
      "weighted avg       0.92      0.91      0.91        45\n",
      "\n"
     ]
    }
   ],
   "source": [
    "import numpy as np\n",
    "import matplotlib.pyplot as plt\n",
    "from sklearn.datasets import load_iris\n",
    "from sklearn.model_selection import train_test_split\n",
    "from sklearn.preprocessing import StandardScaler\n",
    "from sklearn.neural_network import MLPClassifier\n",
    "from sklearn.metrics import classification_report, confusion_matrix\n",
    "\n",
    "# Step 1: Load the Iris Dataset\n",
    "iris = load_iris()\n",
    "X = iris.data  # Features (sepal length, sepal width, petal length, petal width)\n",
    "y = iris.target  # Target (species: 0, 1, 2)\n",
    "\n",
    "# Step 2: Split the Dataset\n",
    "X_train, X_test, y_train, y_test = train_test_split(X, y, test_size=0.3, random_state=42, stratify=y)\n",
    "\n",
    "# Step 3: Standardize the Features\n",
    "scaler = StandardScaler()\n",
    "X_train = scaler.fit_transform(X_train)\n",
    "X_test = scaler.transform(X_test)\n",
    "\n",
    "# Step 4: Create and Train the Neural Network\n",
    "mlp = MLPClassifier(hidden_layer_sizes=(10, 10), activation='relu', max_iter=1000, random_state=42)\n",
    "mlp.fit(X_train, y_train)\n",
    "\n",
    "# Step 5: Make Predictions\n",
    "y_pred = mlp.predict(X_test)\n",
    "\n",
    "# Step 6: Evaluate the Model\n",
    "print(\"Confusion Matrix:\")\n",
    "print(confusion_matrix(y_test, y_pred))\n",
    "print(\"\\nClassification Report:\")\n",
    "print(classification_report(y_test, y_pred, target_names=iris.target_names))\n",
    "\n",
    "# Step 7: Visualize the Decision Boundary (Using First Two Features for Simplicity)\n",
    "def plot_decision_boundary(X, y, model):\n",
    "    x_min, x_max = X[:, 0].min() - 1, X[:, 0].max() + 1\n",
    "    y_min, y_max = X[:, 1].min() - 1, X[:, 1].max() + 1\n",
    "    xx, yy = np.meshgrid(np.arange(x_min, x_max, 0.01),\n",
    "                         np.arange(y_min, y_max, 0.01))\n",
    "\n",
    "    Z = model.predict(np.c_[xx.ravel(), yy.ravel()])\n",
    "    Z = Z.reshape(xx.shape)\n",
    "\n",
    "    plt.contourf(xx, yy, Z, alpha=0.8)\n",
    "    plt.scatter(X[:, 0], X[:, 1], c=y, edgecolors='k', marker='o')\n",
    "    plt.title(\"Decision Boundary\")\n",
    "    plt.xlabel(\"Feature 1\")\n",
    "    plt.ylabel(\"Feature 2\")\n",
    "    plt.show()\n",
    "\n",
    "# Reduce to First Two Features for Visualization\n",
    "X_train_vis = X_train[:, :2]\n",
    "X_test_vis = X_test[:, :2]\n",
    "mlp_vis = MLPClassifier(hidden_layer_sizes=(10, 10), activation='relu', max_iter=1000, random_state=42)\n",
    "mlp_vis.fit(X_train_vis, y_train)\n",
    "\n",
    "# Plot Decision Boundary\n",
    "plot_decision_boundary(X_test_vis, y_test, mlp_vis)\n"
   ]
  },
  {
   "cell_type": "markdown",
   "id": "341fe41d",
   "metadata": {},
   "source": [
    "## Advanced Neural Network Architectures: RNNs and CNNs\n",
    "\n",
    "### 1. **Convolutional Neural Networks (CNNs)**\n",
    "\n",
    "**Purpose**: Designed for image and spatial data processing.\n",
    "\n",
    "#### Key Components:\n",
    "- **Convolution Layers**:\n",
    "  - Detect patterns such as edges, textures, or objects in an image.\n",
    "  - Apply a small filter (kernel) over the input to create feature maps.\n",
    "- **Pooling Layers**:\n",
    "  - Reduce the spatial dimensions of feature maps, retaining important information.\n",
    "  - Common pooling methods: Max Pooling, Average Pooling.\n",
    "- **Fully Connected Layers**:\n",
    "  - Combine extracted features to classify or predict outcomes.\n",
    "- **Activation Functions**:\n",
    "  - Often ReLU (Rectified Linear Unit) is used for non-linearity.\n",
    "\n",
    "#### Example Architecture:\n",
    "1. **Input Layer**: Takes an image (e.g., 28x28 pixels for MNIST).\n",
    "2. **Convolution Layer**: Applies filters to extract local patterns.\n",
    "3. **Pooling Layer**: Down-samples feature maps to reduce complexity.\n",
    "4. **Convolution + Pooling Layers**: Repeat for deeper feature extraction.\n",
    "5. **Fully Connected Layer**: Maps features to output classes.\n",
    "\n",
    "#### Use Cases:\n",
    "- **Image Classification**: Identifying objects in an image (e.g., cats vs. dogs).\n",
    "- **Object Detection**: Locating objects in an image (e.g., bounding boxes).\n",
    "- **Medical Imaging**: Detecting diseases from X-rays or MRIs.\n",
    "\n",
    "---\n",
    "\n",
    "### 2. **Recurrent Neural Networks (RNNs)**\n",
    "\n",
    "**Purpose**: Designed for sequential and time-series data processing.\n",
    "\n",
    "#### Key Components:\n",
    "- **Recurrent Connections**:\n",
    "  - Each neuron remembers information from the previous time step.\n",
    "  - Creates a loop that passes information forward in the sequence.\n",
    "- **Hidden State**:\n",
    "  - Maintains context from previous inputs, enabling sequence learning.\n",
    "- **Variants**:\n",
    "  - **LSTMs (Long Short-Term Memory)**: Mitigate vanishing gradients with gates that control information flow.\n",
    "  - **GRUs (Gated Recurrent Units)**: Similar to LSTMs but with fewer parameters.\n",
    "\n",
    "#### Example Architecture:\n",
    "1. **Input Layer**: Sequential data (e.g., text or stock prices).\n",
    "2. **RNN/LSTM/GRU Layer**: Processes the sequence one step at a time.\n",
    "3. **Fully Connected Layer**: Maps the sequence to a target output.\n",
    "\n",
    "#### Use Cases:\n",
    "- **Natural Language Processing**: Language modeling, translation, sentiment analysis.\n",
    "- **Time-Series Prediction**: Forecasting stock prices or weather patterns.\n",
    "- **Speech Recognition**: Converting spoken words to text.\n",
    "\n",
    "---\n",
    "\n",
    "### 3. **Differences Between CNNs and RNNs**\n",
    "\n",
    "| Feature                     | CNN                                  | RNN                                  |\n",
    "|-----------------------------|--------------------------------------|--------------------------------------|\n",
    "| **Input Type**              | Images, spatial data                | Sequential, temporal data            |\n",
    "| **Structure**               | Hierarchical layers                 | Recurrence with loops                |\n",
    "| **Key Strength**            | Captures spatial patterns           | Learns temporal dependencies         |\n",
    "| **Example Applications**    | Image classification, object detection | Language modeling, time-series prediction |\n",
    "\n",
    "---\n",
    "\n",
    "### 4. **Combined Architectures**\n",
    "- **CNN + RNN**:\n",
    "  - Combine CNNs for feature extraction and RNNs for sequence modeling.\n",
    "  - **Example**: Video analysis (CNN for spatial features, RNN for temporal patterns).\n",
    "- **CNN + Fully Connected**:\n",
    "  - Used in tasks like image classification where the CNN extracts features and the fully connected layer classifies.\n",
    "\n",
    "These architectures represent specialized neural networks tailored to solve complex real-world problems effectively.\n"
   ]
  },
  {
   "cell_type": "markdown",
   "id": "58535bec",
   "metadata": {},
   "source": [
    "<img src='img/CNN.png' />\n",
    "\n",
    "<img src='img/RNN.png' />"
   ]
  },
  {
   "cell_type": "markdown",
   "id": "409c6b1a",
   "metadata": {},
   "source": [
    "## Challenges and Limitations of Neural Networks\n",
    "\n",
    "While neural networks are powerful tools for solving complex problems, they are not without challenges and limitations. Understanding these can help in designing better models and managing expectations.\n",
    "\n",
    "---\n",
    "\n",
    "### 1. **Data Requirements**\n",
    "- Neural networks require large amounts of high-quality labeled data to train effectively.\n",
    "- **Example**: Image classification tasks often need thousands of labeled images for each category.\n",
    "- **Challenge**: Acquiring and labeling such datasets can be expensive and time-consuming.\n",
    "\n",
    "---\n",
    "\n",
    "### 2. **Computational Cost**\n",
    "- Neural networks, especially deep networks, are computationally intensive to train.\n",
    "- **Hardware Requirements**:\n",
    "  - Training models often requires GPUs or TPUs for parallel processing.\n",
    "- **Challenge**: High computational costs can limit accessibility for individuals or organizations without significant resources.\n",
    "\n",
    "---\n",
    "\n",
    "### 3. **Overfitting**\n",
    "- Neural networks can memorize training data rather than generalizing to unseen data.\n",
    "- **Example**: A network might achieve near-perfect accuracy on training data but fail on test data.\n",
    "- **Solution**: Techniques like regularization, dropout, and early stopping are used to mitigate this.\n",
    "\n",
    "---\n",
    "\n",
    "### 4. **Black Box Nature**\n",
    "- Neural networks are often criticized for their lack of interpretability.\n",
    "- **Problem**: It is difficult to understand how a neural network arrives at a decision, especially in critical areas like healthcare or finance.\n",
    "- **Emerging Solutions**: Explainable AI (XAI) and visualization tools aim to make models more transparent.\n",
    "\n",
    "---\n",
    "\n",
    "### 5. **Hyperparameter Sensitivity**\n",
    "- Neural networks require careful tuning of hyperparameters such as learning rate, number of layers, and neurons.\n",
    "- **Challenge**: Finding the optimal combination often involves trial-and-error or computationally expensive optimization techniques.\n",
    "\n",
    "---\n",
    "\n",
    "### 6. **Energy Consumption**\n",
    "- Training large neural networks can consume significant energy, contributing to environmental concerns.\n",
    "- **Example**: Training a single large language model can have a carbon footprint comparable to multiple transatlantic flights.\n",
    "- **Solution**: Research into efficient algorithms and hardware can help reduce energy usage.\n",
    "\n",
    "\n",
    "\n",
    "### Summary\n",
    "Neural networks are powerful machine learning tools inspired by the human brain, capable of solving complex problems across various domains. They consist of interconnected layers of artificial neurons, with each layer progressively transforming input data to produce meaningful outputs. These architectures range from simple feedforward networks to advanced designs like Convolutional Neural Networks (CNNs) for image processing and Recurrent Neural Networks (RNNs) for sequential data.\n",
    "\n",
    "The strength of neural networks lies in their ability to learn from data, adapt to various tasks, and make predictions or classifications with high accuracy. They are widely used in real-world applications such as image recognition, natural language processing, autonomous vehicles, and healthcare.\n",
    "\n",
    "However, neural networks come with challenges:\n",
    "\n",
    "    High Data and Computational Requirements: Training deep networks demands large datasets and substantial computational resources.\n",
    "    \n",
    "    Overfitting and Bias: Ensuring generalization and fairness requires careful data preparation and model tuning.\n",
    "    \n",
    "    Interpretability: Their “black box” nature makes understanding decision-making processes difficult, particularly in critical applications.\n",
    "    \n",
    "    Energy and Environmental Impact: Training large models can be resource-intensive, prompting a need for sustainable solutions.\n",
    "\n",
    "Despite these limitations, advancements in techniques like regularization, explainable AI, and efficient hardware continue to address these challenges, making neural networks more accessible, robust, and interpretable.\n",
    "\n",
    "By understanding their architecture, learning process, and limitations, we can better harness the power of neural networks for solving real-world problems and driving innovation across industries.\n"
   ]
  }
 ],
 "metadata": {
  "kernelspec": {
   "display_name": "Python 3 (ipykernel)",
   "language": "python",
   "name": "python3"
  },
  "language_info": {
   "codemirror_mode": {
    "name": "ipython",
    "version": 3
   },
   "file_extension": ".py",
   "mimetype": "text/x-python",
   "name": "python",
   "nbconvert_exporter": "python",
   "pygments_lexer": "ipython3",
   "version": "3.9.12"
  }
 },
 "nbformat": 4,
 "nbformat_minor": 5
}