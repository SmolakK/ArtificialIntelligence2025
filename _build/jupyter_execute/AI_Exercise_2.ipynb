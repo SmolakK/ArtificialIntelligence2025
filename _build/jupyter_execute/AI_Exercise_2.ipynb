{
 "cells": [
  {
   "cell_type": "markdown",
   "metadata": {},
   "source": [
    "# Exercise 2: Python Knowledge Repetition "
   ]
  },
  {
   "cell_type": "markdown",
   "metadata": {},
   "source": [
    "# Loop -> while"
   ]
  },
  {
   "cell_type": "code",
   "execution_count": 1,
   "metadata": {},
   "outputs": [
    {
     "name": "stdout",
     "output_type": "stream",
     "text": [
      "5\n",
      "4\n",
      "3\n",
      "2\n",
      "1\n",
      "Blast off!\n"
     ]
    }
   ],
   "source": [
    "# Basic while loop\n",
    "count = 5\n",
    "while count > 0:\n",
    "    print(count)\n",
    "    count -= 1  # Decrement count by 1\n",
    "print(\"Blast off!\")"
   ]
  },
  {
   "cell_type": "code",
   "execution_count": 2,
   "metadata": {},
   "outputs": [
    {
     "ename": "StdinNotImplementedError",
     "evalue": "raw_input was called, but this frontend does not support input requests.",
     "output_type": "error",
     "traceback": [
      "\u001b[1;31m---------------------------------------------------------------------------\u001b[0m",
      "\u001b[1;31mStdinNotImplementedError\u001b[0m                  Traceback (most recent call last)",
      "Cell \u001b[1;32mIn[2], line 4\u001b[0m\n\u001b[0;32m      2\u001b[0m user_input \u001b[38;5;241m=\u001b[39m \u001b[38;5;124m\"\u001b[39m\u001b[38;5;124m\"\u001b[39m\n\u001b[0;32m      3\u001b[0m \u001b[38;5;28;01mwhile\u001b[39;00m user_input\u001b[38;5;241m.\u001b[39mlower() \u001b[38;5;241m!=\u001b[39m \u001b[38;5;124m\"\u001b[39m\u001b[38;5;124mexit\u001b[39m\u001b[38;5;124m\"\u001b[39m:\n\u001b[1;32m----> 4\u001b[0m     user_input \u001b[38;5;241m=\u001b[39m \u001b[38;5;28minput\u001b[39m(\u001b[38;5;124m\"\u001b[39m\u001b[38;5;124mType \u001b[39m\u001b[38;5;124m'\u001b[39m\u001b[38;5;124mexit\u001b[39m\u001b[38;5;124m'\u001b[39m\u001b[38;5;124m to quit: \u001b[39m\u001b[38;5;124m\"\u001b[39m)\n\u001b[0;32m      5\u001b[0m     \u001b[38;5;28mprint\u001b[39m(\u001b[38;5;124m\"\u001b[39m\u001b[38;5;124mYou entered:\u001b[39m\u001b[38;5;124m\"\u001b[39m, user_input)\n",
      "File \u001b[1;32m~\\AppData\\Roaming\\Python\\Python311\\site-packages\\ipykernel\\kernelbase.py:1281\u001b[0m, in \u001b[0;36mKernel.raw_input\u001b[1;34m(self, prompt)\u001b[0m\n\u001b[0;32m   1279\u001b[0m \u001b[38;5;28;01mif\u001b[39;00m \u001b[38;5;129;01mnot\u001b[39;00m \u001b[38;5;28mself\u001b[39m\u001b[38;5;241m.\u001b[39m_allow_stdin:\n\u001b[0;32m   1280\u001b[0m     msg \u001b[38;5;241m=\u001b[39m \u001b[38;5;124m\"\u001b[39m\u001b[38;5;124mraw_input was called, but this frontend does not support input requests.\u001b[39m\u001b[38;5;124m\"\u001b[39m\n\u001b[1;32m-> 1281\u001b[0m     \u001b[38;5;28;01mraise\u001b[39;00m StdinNotImplementedError(msg)\n\u001b[0;32m   1282\u001b[0m \u001b[38;5;28;01mreturn\u001b[39;00m \u001b[38;5;28mself\u001b[39m\u001b[38;5;241m.\u001b[39m_input_request(\n\u001b[0;32m   1283\u001b[0m     \u001b[38;5;28mstr\u001b[39m(prompt),\n\u001b[0;32m   1284\u001b[0m     \u001b[38;5;28mself\u001b[39m\u001b[38;5;241m.\u001b[39m_parent_ident[\u001b[38;5;124m\"\u001b[39m\u001b[38;5;124mshell\u001b[39m\u001b[38;5;124m\"\u001b[39m],\n\u001b[0;32m   1285\u001b[0m     \u001b[38;5;28mself\u001b[39m\u001b[38;5;241m.\u001b[39mget_parent(\u001b[38;5;124m\"\u001b[39m\u001b[38;5;124mshell\u001b[39m\u001b[38;5;124m\"\u001b[39m),\n\u001b[0;32m   1286\u001b[0m     password\u001b[38;5;241m=\u001b[39m\u001b[38;5;28;01mFalse\u001b[39;00m,\n\u001b[0;32m   1287\u001b[0m )\n",
      "\u001b[1;31mStdinNotImplementedError\u001b[0m: raw_input was called, but this frontend does not support input requests."
     ]
    }
   ],
   "source": [
    "# User input until valid input\n",
    "user_input = \"\"\n",
    "while user_input.lower() != \"exit\":\n",
    "    user_input = input(\"Type 'exit' to quit: \")\n",
    "    print(\"You entered:\", user_input)"
   ]
  },
  {
   "cell_type": "code",
   "execution_count": null,
   "metadata": {},
   "outputs": [],
   "source": [
    "balance = 1000\n",
    "\n",
    "while True:\n",
    "    choice = input(\"\\n1. Check Balance\\n2. Deposit\\n3. Withdraw\\n4. Exit\\nChoose (1-4): \")\n",
    "\n",
    "    if choice == '1':\n",
    "        print(f\"Balance: ${balance}\")\n",
    "    elif choice == '2':\n",
    "        balance += max(0, float(input(\"Deposit amount: \")))\n",
    "    elif choice == '3':\n",
    "        balance -= min(balance, max(0, float(input(\"Withdraw amount: \"))))\n",
    "    elif choice == '4':\n",
    "        break\n",
    "    else:\n",
    "        print(\"Invalid choice!\")"
   ]
  },
  {
   "cell_type": "code",
   "execution_count": null,
   "metadata": {},
   "outputs": [],
   "source": [
    "# Number Guessing Game (1 to 20) \n",
    "\n",
    "print(\"Welcome to the Number Guessing Game!\")\n",
    "print(\"I am thinking of a number between 1 and 20.\")\n",
    "print(\"Try to guess the number!\")\n",
    "\n",
    "# Setting up variables\n",
    "secret_number = 13  \n",
    "attempts = 0\n",
    "score = 100  # Player starts with a score of 100\n",
    "\n",
    "# Game loop: player has to keep guessing until they get the right number\n",
    "while True:\n",
    "    guess = int(input(\"Enter your guess (1-20): \"))\n",
    "    attempts += 1\n",
    "    score -= 5  \n",
    "\n",
    "    if guess == secret_number:\n",
    "        print(f\"Congratulations! You guessed it right in {attempts} attempts.\")\n",
    "        break  # Exit the loop when the correct guess is made\n",
    "    else:\n",
    "        print(\"Wrong guess!\")\n",
    "        \n",
    "        # Providing hints without a function\n",
    "        if guess < secret_number:\n",
    "            print(\"Hint: The number is higher.\")\n",
    "        else:\n",
    "            print(\"Hint: The number is lower.\")\n",
    "\n",
    "# Simple grading system\n",
    "if score > 80:\n",
    "    print(\"Excellent! Your score is:\", score)\n",
    "elif 50 <= score <= 80:\n",
    "    print(\"Good job! Your score is:\", score)\n",
    "else:\n",
    "    print(\"Keep practicing! Your score is:\", score)\n",
    "\n",
    "# Bonus challenge for user: guess an additional number\n",
    "print(\"\\nBonus Challenge: Can you guess a second number between 1 and 10?\")\n",
    "secret_number_2 = 7  # Another secret number (can be any number between 1 and 10)\n",
    "attempts_bonus = 0\n",
    "\n",
    "# Using a for loop to give the player 5 tries\n",
    "for _ in range(5):\n",
    "    bonus_guess = int(input(\"Your bonus guess (1-10): \"))\n",
    "    attempts_bonus += 1\n",
    "\n",
    "    if bonus_guess == secret_number_2:\n",
    "        print(f\"Bonus round complete! You guessed it right in {attempts_bonus} attempts.\")\n",
    "        break\n",
    "    elif attempts_bonus == 5:\n",
    "        print(\"Sorry, no more attempts left!\")\n",
    "    else:\n",
    "        # Providing hints without a function\n",
    "        if bonus_guess < secret_number_2:\n",
    "            print(\"Hint: The number is higher.\")\n",
    "        else:\n",
    "            print(\"Hint: The number is lower.\")\n",
    "\n",
    "print(\"Thank you for playing!\")"
   ]
  },
  {
   "cell_type": "code",
   "execution_count": null,
   "metadata": {},
   "outputs": [],
   "source": [
    "# Initialize the quiz running state\n",
    "running = True\n",
    "score = 0\n",
    "\n",
    "# Predefined number pairs for the quiz\n",
    "number_pairs = [(1, 2), (3, 4), (5, 6), (7, 8), (9, 10)]\n",
    "\n",
    "# Start the quiz\n",
    "while running:\n",
    "    print(\"\\nWelcome to the Arithmetic Quiz!\")\n",
    "    print(\"Choose the operation:\")\n",
    "    print(\"1. Addition\")\n",
    "    print(\"2. Subtraction\")\n",
    "    print(\"3. Multiplication\")\n",
    "    print(\"4. Exit the quiz\")\n",
    "\n",
    "    # Get user choice for operation\n",
    "    choice = input(\"Enter your choice (1-4): \")\n",
    "\n",
    "    # Check for exit condition\n",
    "    if choice == '4':\n",
    "        print(\"Thank you for participating!\")\n",
    "        break  # Exit the quiz\n",
    "    \n",
    "    #if choice == '4':\n",
    "     #   print(\"Thank you for participating!\")\n",
    "        #running = False  # Set running to False to exit the quiz\n",
    "        #continue  # Exit the current loop iteration\n",
    "\n",
    "    # Validate input for operation choice\n",
    "    if choice not in ['1', '2', '3']:\n",
    "        print(\"Invalid choice. Please select a valid option.\")\n",
    "        continue  # Restart the loop for a valid choice\n",
    "\n",
    "    # Ask the user how many questions they want\n",
    "    num_questions = input(\"How many questions do you want to answer? \")\n",
    "\n",
    "    try:\n",
    "        num_questions = int(num_questions)  # Convert input to an integer\n",
    "    except ValueError:\n",
    "        print(\"Please enter a valid number for questions.\")\n",
    "        continue  # Restart the loop\n",
    "\n",
    "    # Ensure the number of questions does not exceed available pairs\n",
    "    if num_questions > len(number_pairs):\n",
    "        print(f\"Sorry, you can only answer up to {len(number_pairs)} questions.\")\n",
    "        continue\n",
    "\n",
    "    # Generate questions based on the user's choice\n",
    "    for i in range(num_questions):\n",
    "        num1, num2 = number_pairs[i]  # Get predefined pairs\n",
    "        \n",
    "        if choice == '1':\n",
    "            correct_answer = num1 + num2\n",
    "            user_answer = int(input(f\"What is {num1} + {num2}? \"))\n",
    "        elif choice == '2':\n",
    "            correct_answer = num1 - num2\n",
    "            user_answer = int(input(f\"What is {num1} - {num2}? \"))\n",
    "        elif choice == '3':\n",
    "            correct_answer = num1 * num2\n",
    "            user_answer = int(input(f\"What is {num1} * {num2}? \"))\n",
    "\n",
    "        # Check user's answer\n",
    "        if user_answer == correct_answer:\n",
    "            print(\"Correct!\")\n",
    "            score += 1  # Increment score for a correct answer\n",
    "        else:\n",
    "            print(f\"Wrong! The correct answer is {correct_answer}.\")\n",
    "\n",
    "    print(f\"Your current score is: {score} out of {num_questions}.\")  # Show score after each round"
   ]
  },
  {
   "cell_type": "markdown",
   "metadata": {},
   "source": [
    "# Libraries\n",
    "\n",
    "<span style=\"color: gray; font-size: 20px;\"> Standard libraries</span>\n",
    "\n",
    "<span style=\"color: green; font-size: 17px;\"> Python documentation</span>  \n",
    "- https://docs.python.org/3/\n",
    "\n",
    "<span style=\"color: gray; font-size: 20px;\"> Third-Party libraries</span>\n",
    "\n",
    "<span style=\"color: green; font-size: 17px;\"> Installing libraries</span>  \n",
    "\n",
    "- Open cmd and go to your environment:   <span style=\"color: orange; font-size: 15px;\"> cd C:\\path\\to\\your\\directory</span>\n",
    "- Active your environment: <span style=\"color: orange; font-size: 15px;\">  myenv\\Scripts\\activate   </span>\n",
    "- Installing intended libraries: <span style=\"color: orange; font-size: 15px;\">  pip install \"library_name\"   </span>\n",
    "\n",
    "   <span style=\"color: red; font-size: 13px;\"> * If upgrading a library is necessary, run the following command: </span>\n",
    "<span style=\"color: gray; font-size: 13px;\"> pip install --upgrade \"library_name\" </span>\n",
    "\n",
    "\n"
   ]
  },
  {
   "cell_type": "markdown",
   "metadata": {},
   "source": [
    "<span style=\"color: pink; font-size: 17px;\"> Saving Library Functions and Documentation in a Text File Using the Following Code: </span>\n"
   ]
  },
  {
   "cell_type": "code",
   "execution_count": null,
   "metadata": {},
   "outputs": [],
   "source": [
    "import math as mt\n",
    "with open('math_functions.txt', 'w') as file:\n",
    "    # Capture the output of dir(np) and write to file\n",
    "    file.write('\\n'.join(dir(mt)))\n",
    "print(\"Output saved to 'math_functions.txt'\")\n",
    "# Access the docstring for the entire NumPy module\n",
    "numpy_doc = mt.__doc__\n",
    "# Save the module docstring to a text file\n",
    "with open('math_doc.txt', 'w') as file:\n",
    "    file.write(\"Math Documentation:\\n\")\n",
    "    file.write(\"---------------------------\\n\")\n",
    "    file.write(numpy_doc)\n",
    "    file.write(\"\\n\\n\")\n",
    "    # Write each function's name and its docstring\n",
    "    file.write(\"Math Functions and Their Documentation:\\n\")\n",
    "    file.write(\"------------------------------------------\\n\")\n",
    "    # Iterate through all attributes of the numpy module\n",
    "    for func_name in dir(mt):\n",
    "        func = getattr(mt, func_name)\n",
    "        if callable(func):  # Check if it's a callable (function)\n",
    "            file.write(f\"{func_name}:\\n\")\n",
    "            file.write(f\"{func.__doc__}\\n\\n\")\n",
    "print(\"Math module documentation and function docs have been saved to 'numpy_doc.txt'\")"
   ]
  },
  {
   "cell_type": "code",
   "execution_count": null,
   "metadata": {},
   "outputs": [],
   "source": [
    "# Using the math library for advanced calculations\n",
    "import math\n",
    "# Calculate the factorial of a number\n",
    "number = 5\n",
    "factorial = math.factorial(number)\n",
    "print(f\"The factorial of {number} is:\", factorial)"
   ]
  },
  {
   "cell_type": "code",
   "execution_count": null,
   "metadata": {},
   "outputs": [],
   "source": [
    "# Using the random library to generate random samples from a population\n",
    "import random\n",
    "# Generate a random sample of 5 unique numbers from a range of 1 to 50\n",
    "random_sample = random.sample(range(1, 51), 5)\n",
    "print(\"Random sample of 5 unique numbers between 1 and 50:\", random_sample)"
   ]
  },
  {
   "cell_type": "code",
   "execution_count": null,
   "metadata": {},
   "outputs": [],
   "source": [
    "# Using the datetime library for date manipulations\n",
    "import datetime\n",
    "# Create a date object and calculate the number of days until the end of the year\n",
    "today = datetime.date.today()\n",
    "end_of_year = datetime.date(today.year, 12, 31)\n",
    "days_until_end_of_year = (end_of_year - today).days\n",
    "print(f\"Days until the end of the year: {days_until_end_of_year}\")"
   ]
  },
  {
   "cell_type": "code",
   "execution_count": null,
   "metadata": {},
   "outputs": [],
   "source": [
    "# Using the numpy library for advanced mathematical operations\n",
    "import numpy as np\n",
    "# Create a 2D NumPy array and perform matrix multiplication\n",
    "array_a = np.array([[1, 2], [3, 4]])\n",
    "array_b = np.array([[5, 6], [7, 8]])\n",
    "product = np.dot(array_a, array_b)\n",
    "print(\"Matrix product of A and B:\\n\", product)"
   ]
  },
  {
   "cell_type": "code",
   "execution_count": null,
   "metadata": {},
   "outputs": [],
   "source": [
    "# Import the pandas library\n",
    "import pandas as pd\n",
    "# Create a simple DataFrame\n",
    "data = {\n",
    "    'Name': ['Alice', 'Bob', 'Charlie', 'David', 'Eva'],\n",
    "    'Age': [25, 30, 35, 40, 22],\n",
    "    'Salary': [50000, 60000, 70000, 80000, 55000]\n",
    "}\n",
    "# Convert the dictionary into a pandas DataFrame\n",
    "df = pd.DataFrame(data)\n",
    "# Display the DataFrame\n",
    "print(\"DataFrame:\")\n",
    "print(df)\n",
    "# Select a specific column (Age)\n",
    "print(\"\\nAges:\")\n",
    "print(df['Age'])\n",
    "# Calculate the mean of the 'Salary' column\n",
    "mean_salary = df['Salary'].mean()\n",
    "print(f\"\\nMean Salary: {mean_salary}\")"
   ]
  },
  {
   "cell_type": "code",
   "execution_count": null,
   "metadata": {},
   "outputs": [],
   "source": [
    "# Using the matplotlib library for advanced visualizations\n",
    "import matplotlib.pyplot as plt\n",
    "# Create a scatter plot with annotations\n",
    "x = np.random.rand(10)\n",
    "y = np.random.rand(10)\n",
    "plt.scatter(x, y)\n",
    "# Annotate each point\n",
    "for i in range(len(x)):\n",
    "    plt.annotate(f'Point {i+1}', (x[i], y[i]))\n",
    "plt.title(\"Scatter Plot with Annotations\")\n",
    "plt.xlabel(\"X-axis\")\n",
    "plt.ylabel(\"Y-axis\")\n",
    "plt.grid()\n",
    "plt.show()"
   ]
  },
  {
   "cell_type": "code",
   "execution_count": null,
   "metadata": {},
   "outputs": [],
   "source": [
    "# Using the seaborn library for statistical data visualization\n",
    "import seaborn as sns\n",
    "import matplotlib.pyplot as plt\n",
    "\n",
    "# Create a boxplot\n",
    "tips = sns.load_dataset(\"tips\")\n",
    "sns.boxplot(x=\"day\", y=\"total_bill\", data=tips)\n",
    "plt.title(\"Boxplot of Total Bill by Day\")\n",
    "plt.show()"
   ]
  },
  {
   "cell_type": "code",
   "execution_count": null,
   "metadata": {},
   "outputs": [],
   "source": [
    "# Using the openpyxl library for Excel file manipulation\n",
    "from openpyxl import Workbook\n",
    "import random\n",
    "\n",
    "# Create a new Excel workbook and add data\n",
    "wb = Workbook()\n",
    "ws = wb.active\n",
    "ws['A1'] = 'X'\n",
    "ws['B1'] = 'Y'\n",
    "ws['C1'] = 'Value'\n",
    "\n",
    "# Generate 100 points with random x and y values\n",
    "for i in range(1, 101):\n",
    "    x_value = random.uniform(0, 100)  # Generate a random x value between 0 and 100\n",
    "    y_value = random.uniform(0, 100)  # Generate a random y value between 0 and 100\n",
    "    value = x_value + y_value          # Calculate value as the sum of x and y\n",
    "    ws.append([x_value, y_value, value])  # Append the x, y, and value as a new row\n",
    "\n",
    "# Save the workbook\n",
    "wb.save('xyz_points_dataset.xlsx')\n",
    "print(\"Excel file 'xyz_points_dataset.xlsx' created with 100 (x, y, value) points.\")"
   ]
  },
  {
   "cell_type": "code",
   "execution_count": null,
   "metadata": {},
   "outputs": [],
   "source": [
    "import pandas as pd\n",
    "import matplotlib as plt  # Keeping as per your requirement\n",
    "\n",
    "# Load data from the Excel file\n",
    "loaded_data = pd.read_excel(\"xyz_points_dataset.xlsx\")\n",
    "\n",
    "# Use pyplot from matplotlib\n",
    "plt.pyplot.figure(figsize=(8,6))  # Access pyplot through plt\n",
    "scatter = plt.pyplot.scatter(loaded_data['X'], loaded_data['Y'], c=loaded_data['Value'], cmap='jet', s=100, edgecolor='black')\n",
    "plt.pyplot.colorbar(scatter, label='Value')\n",
    "plt.pyplot.title('Scatter Plot of x, y with color representing value')\n",
    "plt.pyplot.xlabel('x')\n",
    "plt.pyplot.ylabel('y')\n",
    "plt.pyplot.show()"
   ]
  }
 ],
 "metadata": {
  "kernelspec": {
   "display_name": "base",
   "language": "python",
   "name": "python3"
  },
  "language_info": {
   "codemirror_mode": {
    "name": "ipython",
    "version": 3
   },
   "file_extension": ".py",
   "mimetype": "text/x-python",
   "name": "python",
   "nbconvert_exporter": "python",
   "pygments_lexer": "ipython3",
   "version": "3.11.7"
  }
 },
 "nbformat": 4,
 "nbformat_minor": 2
}