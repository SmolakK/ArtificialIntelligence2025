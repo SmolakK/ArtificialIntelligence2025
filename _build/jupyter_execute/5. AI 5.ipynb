{
 "cells": [
  {
   "cell_type": "markdown",
   "id": "0eda6489",
   "metadata": {},
   "source": [
    "# Lecture 5: Pracitcal approach to using machine learning with Python\n"
   ]
  },
  {
   "cell_type": "markdown",
   "id": "86dbece3",
   "metadata": {},
   "source": [
    "## Let's focus on the practical use of machine learning tools with Python (and without)\n",
    "\n",
    "<b>First, we will try to see how to understand probability with simple calculations</b>\n",
    "\n",
    "### Probability of event based on the available data\n",
    "\n",
    "We are given a data, where some numbers were drawn from a basket. These are the following drawing results:"
   ]
  },
  {
   "cell_type": "code",
   "execution_count": 1,
   "id": "3d1dba67",
   "metadata": {},
   "outputs": [],
   "source": [
    "import numpy as np\n",
    "drawing = np.random.randint(1,10,100)"
   ]
  },
  {
   "cell_type": "code",
   "execution_count": 2,
   "id": "52ab3e87",
   "metadata": {},
   "outputs": [
    {
     "data": {
      "text/plain": [
       "100"
      ]
     },
     "execution_count": 2,
     "metadata": {},
     "output_type": "execute_result"
    }
   ],
   "source": [
    "len(drawing)"
   ]
  },
  {
   "cell_type": "markdown",
   "id": "fb5c250a",
   "metadata": {},
   "source": [
    "Let's calculate probability of drawing 9:"
   ]
  },
  {
   "cell_type": "code",
   "execution_count": 3,
   "id": "0f2aa38e",
   "metadata": {},
   "outputs": [
    {
     "name": "stdout",
     "output_type": "stream",
     "text": [
      "12\n"
     ]
    }
   ],
   "source": [
    "counter = 0\n",
    "for n in drawing:\n",
    "    if n == 9:\n",
    "        counter += 1\n",
    "\n",
    "print(counter)"
   ]
  },
  {
   "cell_type": "code",
   "execution_count": 4,
   "id": "782f5797",
   "metadata": {},
   "outputs": [
    {
     "data": {
      "text/plain": [
       "0.12"
      ]
     },
     "execution_count": 4,
     "metadata": {},
     "output_type": "execute_result"
    }
   ],
   "source": [
    "len([n for n in drawing if n == 9])/len(drawing)"
   ]
  },
  {
   "cell_type": "code",
   "execution_count": 5,
   "id": "6545b0b6",
   "metadata": {},
   "outputs": [],
   "source": [
    "def how_many_numbers(list_of_draw,number_to_check):\n",
    "    counter = len([n for n in list_of_draw if n == number_to_check])\n",
    "    prob = counter/len(list_of_draw)\n",
    "    return prob"
   ]
  },
  {
   "cell_type": "code",
   "execution_count": 6,
   "id": "9b7868a3",
   "metadata": {},
   "outputs": [
    {
     "data": {
      "text/plain": [
       "0.12"
      ]
     },
     "execution_count": 6,
     "metadata": {},
     "output_type": "execute_result"
    }
   ],
   "source": [
    "how_many_numbers(drawing,3)"
   ]
  },
  {
   "cell_type": "code",
   "execution_count": 7,
   "id": "53b0882e",
   "metadata": {},
   "outputs": [
    {
     "data": {
      "text/plain": [
       "12"
      ]
     },
     "execution_count": 7,
     "metadata": {},
     "output_type": "execute_result"
    }
   ],
   "source": [
    "from collections import Counter\n",
    "counter = Counter(drawing)\n",
    "counter[9]"
   ]
  },
  {
   "cell_type": "code",
   "execution_count": 8,
   "id": "a42e178c",
   "metadata": {},
   "outputs": [],
   "source": [
    "def how_many_numbers(list_of_draw,number_to_check):\n",
    "    counter = Counter(list_of_draw)\n",
    "    prob = counter[number_to_check]/len(list_of_draw)\n",
    "    return prob"
   ]
  },
  {
   "cell_type": "code",
   "execution_count": null,
   "id": "43459378",
   "metadata": {},
   "outputs": [],
   "source": []
  },
  {
   "cell_type": "code",
   "execution_count": 9,
   "id": "cde4fc34",
   "metadata": {},
   "outputs": [
    {
     "data": {
      "text/plain": [
       "0.12"
      ]
     },
     "execution_count": 9,
     "metadata": {},
     "output_type": "execute_result"
    }
   ],
   "source": [
    "how_many_numbers(drawing, 9)"
   ]
  },
  {
   "cell_type": "markdown",
   "id": "36a6e146",
   "metadata": {},
   "source": [
    "We can do it simpler with NumPy:"
   ]
  },
  {
   "cell_type": "code",
   "execution_count": 10,
   "id": "4f8b883e",
   "metadata": {},
   "outputs": [
    {
     "data": {
      "text/plain": [
       "array([2, 2, 4, 4, 1, 5, 9, 7, 3, 1, 5, 5, 9, 3, 3, 5, 5, 9, 2, 4, 7, 2,\n",
       "       5, 3, 5, 5, 9, 2, 2, 9, 2, 9, 1, 5, 1, 4, 5, 4, 7, 7, 4, 3, 5, 8,\n",
       "       9, 6, 7, 1, 7, 1, 8, 5, 6, 2, 6, 2, 6, 8, 3, 7, 1, 7, 6, 2, 4, 1,\n",
       "       9, 5, 3, 8, 5, 8, 3, 8, 7, 8, 3, 6, 1, 5, 3, 2, 1, 9, 2, 2, 4, 9,\n",
       "       2, 9, 3, 5, 2, 3, 9, 8, 7, 1, 1, 6])"
      ]
     },
     "execution_count": 10,
     "metadata": {},
     "output_type": "execute_result"
    }
   ],
   "source": [
    "np.array(list(drawing))"
   ]
  },
  {
   "cell_type": "code",
   "execution_count": 11,
   "id": "44f909ad",
   "metadata": {},
   "outputs": [],
   "source": [
    "import numpy as np"
   ]
  },
  {
   "cell_type": "code",
   "execution_count": 12,
   "id": "700c3f3f",
   "metadata": {},
   "outputs": [
    {
     "name": "stdout",
     "output_type": "stream",
     "text": [
      "12\n"
     ]
    }
   ],
   "source": [
    "counter = 0\n",
    "for n in drawing == 9:\n",
    "    if n:\n",
    "        counter += 1\n",
    "print(counter)"
   ]
  },
  {
   "cell_type": "code",
   "execution_count": 13,
   "id": "3eed3b62",
   "metadata": {},
   "outputs": [
    {
     "data": {
      "text/plain": [
       "True"
      ]
     },
     "execution_count": 13,
     "metadata": {},
     "output_type": "execute_result"
    }
   ],
   "source": [
    "True == 1"
   ]
  },
  {
   "cell_type": "code",
   "execution_count": 14,
   "id": "cfd3d8d9",
   "metadata": {},
   "outputs": [
    {
     "data": {
      "text/plain": [
       "0.12"
      ]
     },
     "execution_count": 14,
     "metadata": {},
     "output_type": "execute_result"
    }
   ],
   "source": [
    "np.sum(drawing == 9)/len(drawing)"
   ]
  },
  {
   "cell_type": "markdown",
   "id": "2f61b292",
   "metadata": {},
   "source": [
    "Now let's see on a more complex example using pandas.\n",
    "We have lottery drawings from few weeks:"
   ]
  },
  {
   "cell_type": "code",
   "execution_count": 15,
   "id": "d6df2a5c",
   "metadata": {},
   "outputs": [],
   "source": [
    "import pandas as pd\n",
    "import random"
   ]
  },
  {
   "cell_type": "code",
   "execution_count": 16,
   "id": "a829f80f",
   "metadata": {},
   "outputs": [
    {
     "data": {
      "text/html": [
       "<div>\n",
       "<style scoped>\n",
       "    .dataframe tbody tr th:only-of-type {\n",
       "        vertical-align: middle;\n",
       "    }\n",
       "\n",
       "    .dataframe tbody tr th {\n",
       "        vertical-align: top;\n",
       "    }\n",
       "\n",
       "    .dataframe thead th {\n",
       "        text-align: right;\n",
       "    }\n",
       "</style>\n",
       "<table border=\"1\" class=\"dataframe\">\n",
       "  <thead>\n",
       "    <tr style=\"text-align: right;\">\n",
       "      <th></th>\n",
       "      <th>Number_1</th>\n",
       "      <th>Number_2</th>\n",
       "      <th>Number_3</th>\n",
       "      <th>Number_4</th>\n",
       "      <th>Number_5</th>\n",
       "      <th>Number_6</th>\n",
       "    </tr>\n",
       "  </thead>\n",
       "  <tbody>\n",
       "    <tr>\n",
       "      <th>0</th>\n",
       "      <td>5</td>\n",
       "      <td>12</td>\n",
       "      <td>20</td>\n",
       "      <td>26</td>\n",
       "      <td>30</td>\n",
       "      <td>45</td>\n",
       "    </tr>\n",
       "    <tr>\n",
       "      <th>1</th>\n",
       "      <td>2</td>\n",
       "      <td>22</td>\n",
       "      <td>24</td>\n",
       "      <td>31</td>\n",
       "      <td>44</td>\n",
       "      <td>49</td>\n",
       "    </tr>\n",
       "    <tr>\n",
       "      <th>2</th>\n",
       "      <td>5</td>\n",
       "      <td>9</td>\n",
       "      <td>22</td>\n",
       "      <td>26</td>\n",
       "      <td>36</td>\n",
       "      <td>40</td>\n",
       "    </tr>\n",
       "    <tr>\n",
       "      <th>3</th>\n",
       "      <td>9</td>\n",
       "      <td>15</td>\n",
       "      <td>16</td>\n",
       "      <td>31</td>\n",
       "      <td>36</td>\n",
       "      <td>43</td>\n",
       "    </tr>\n",
       "    <tr>\n",
       "      <th>4</th>\n",
       "      <td>20</td>\n",
       "      <td>27</td>\n",
       "      <td>28</td>\n",
       "      <td>31</td>\n",
       "      <td>38</td>\n",
       "      <td>46</td>\n",
       "    </tr>\n",
       "    <tr>\n",
       "      <th>...</th>\n",
       "      <td>...</td>\n",
       "      <td>...</td>\n",
       "      <td>...</td>\n",
       "      <td>...</td>\n",
       "      <td>...</td>\n",
       "      <td>...</td>\n",
       "    </tr>\n",
       "    <tr>\n",
       "      <th>95</th>\n",
       "      <td>7</td>\n",
       "      <td>21</td>\n",
       "      <td>22</td>\n",
       "      <td>27</td>\n",
       "      <td>30</td>\n",
       "      <td>33</td>\n",
       "    </tr>\n",
       "    <tr>\n",
       "      <th>96</th>\n",
       "      <td>8</td>\n",
       "      <td>11</td>\n",
       "      <td>31</td>\n",
       "      <td>32</td>\n",
       "      <td>38</td>\n",
       "      <td>49</td>\n",
       "    </tr>\n",
       "    <tr>\n",
       "      <th>97</th>\n",
       "      <td>13</td>\n",
       "      <td>19</td>\n",
       "      <td>25</td>\n",
       "      <td>35</td>\n",
       "      <td>41</td>\n",
       "      <td>43</td>\n",
       "    </tr>\n",
       "    <tr>\n",
       "      <th>98</th>\n",
       "      <td>7</td>\n",
       "      <td>20</td>\n",
       "      <td>22</td>\n",
       "      <td>27</td>\n",
       "      <td>41</td>\n",
       "      <td>46</td>\n",
       "    </tr>\n",
       "    <tr>\n",
       "      <th>99</th>\n",
       "      <td>9</td>\n",
       "      <td>18</td>\n",
       "      <td>20</td>\n",
       "      <td>30</td>\n",
       "      <td>33</td>\n",
       "      <td>39</td>\n",
       "    </tr>\n",
       "  </tbody>\n",
       "</table>\n",
       "<p>100 rows × 6 columns</p>\n",
       "</div>"
      ],
      "text/plain": [
       "    Number_1  Number_2  Number_3  Number_4  Number_5  Number_6\n",
       "0          5        12        20        26        30        45\n",
       "1          2        22        24        31        44        49\n",
       "2          5         9        22        26        36        40\n",
       "3          9        15        16        31        36        43\n",
       "4         20        27        28        31        38        46\n",
       "..       ...       ...       ...       ...       ...       ...\n",
       "95         7        21        22        27        30        33\n",
       "96         8        11        31        32        38        49\n",
       "97        13        19        25        35        41        43\n",
       "98         7        20        22        27        41        46\n",
       "99         9        18        20        30        33        39\n",
       "\n",
       "[100 rows x 6 columns]"
      ]
     },
     "execution_count": 16,
     "metadata": {},
     "output_type": "execute_result"
    }
   ],
   "source": [
    "num_drawings = 100\n",
    "lottery_drawings = []\n",
    "\n",
    "for _ in range(num_drawings):\n",
    "    drawing = sorted(random.sample(range(1, 50), 6))  # Draw 6 unique numbers\n",
    "    lottery_drawings.append(drawing)\n",
    "df = pd.DataFrame(lottery_drawings, columns=[f\"Number_{i+1}\" for i in range(6)])\n",
    "df"
   ]
  },
  {
   "cell_type": "markdown",
   "id": "d9e67d4d",
   "metadata": {},
   "source": [
    "Let's calculate probability of drawing each number and visualize it:"
   ]
  },
  {
   "cell_type": "code",
   "execution_count": 17,
   "id": "f9305618",
   "metadata": {},
   "outputs": [],
   "source": [
    "mask = (df == 9).any(axis=1)"
   ]
  },
  {
   "cell_type": "code",
   "execution_count": 18,
   "id": "4d00801f",
   "metadata": {},
   "outputs": [
    {
     "data": {
      "text/html": [
       "<div>\n",
       "<style scoped>\n",
       "    .dataframe tbody tr th:only-of-type {\n",
       "        vertical-align: middle;\n",
       "    }\n",
       "\n",
       "    .dataframe tbody tr th {\n",
       "        vertical-align: top;\n",
       "    }\n",
       "\n",
       "    .dataframe thead th {\n",
       "        text-align: right;\n",
       "    }\n",
       "</style>\n",
       "<table border=\"1\" class=\"dataframe\">\n",
       "  <thead>\n",
       "    <tr style=\"text-align: right;\">\n",
       "      <th></th>\n",
       "      <th>Number_1</th>\n",
       "      <th>Number_2</th>\n",
       "      <th>Number_3</th>\n",
       "      <th>Number_4</th>\n",
       "      <th>Number_5</th>\n",
       "      <th>Number_6</th>\n",
       "    </tr>\n",
       "  </thead>\n",
       "  <tbody>\n",
       "    <tr>\n",
       "      <th>2</th>\n",
       "      <td>5</td>\n",
       "      <td>9</td>\n",
       "      <td>22</td>\n",
       "      <td>26</td>\n",
       "      <td>36</td>\n",
       "      <td>40</td>\n",
       "    </tr>\n",
       "    <tr>\n",
       "      <th>3</th>\n",
       "      <td>9</td>\n",
       "      <td>15</td>\n",
       "      <td>16</td>\n",
       "      <td>31</td>\n",
       "      <td>36</td>\n",
       "      <td>43</td>\n",
       "    </tr>\n",
       "    <tr>\n",
       "      <th>30</th>\n",
       "      <td>9</td>\n",
       "      <td>11</td>\n",
       "      <td>12</td>\n",
       "      <td>25</td>\n",
       "      <td>48</td>\n",
       "      <td>49</td>\n",
       "    </tr>\n",
       "    <tr>\n",
       "      <th>36</th>\n",
       "      <td>9</td>\n",
       "      <td>25</td>\n",
       "      <td>28</td>\n",
       "      <td>30</td>\n",
       "      <td>46</td>\n",
       "      <td>47</td>\n",
       "    </tr>\n",
       "    <tr>\n",
       "      <th>39</th>\n",
       "      <td>1</td>\n",
       "      <td>9</td>\n",
       "      <td>10</td>\n",
       "      <td>17</td>\n",
       "      <td>32</td>\n",
       "      <td>35</td>\n",
       "    </tr>\n",
       "    <tr>\n",
       "      <th>47</th>\n",
       "      <td>9</td>\n",
       "      <td>14</td>\n",
       "      <td>20</td>\n",
       "      <td>29</td>\n",
       "      <td>35</td>\n",
       "      <td>42</td>\n",
       "    </tr>\n",
       "    <tr>\n",
       "      <th>49</th>\n",
       "      <td>1</td>\n",
       "      <td>9</td>\n",
       "      <td>17</td>\n",
       "      <td>26</td>\n",
       "      <td>29</td>\n",
       "      <td>30</td>\n",
       "    </tr>\n",
       "    <tr>\n",
       "      <th>57</th>\n",
       "      <td>7</td>\n",
       "      <td>9</td>\n",
       "      <td>15</td>\n",
       "      <td>25</td>\n",
       "      <td>27</td>\n",
       "      <td>48</td>\n",
       "    </tr>\n",
       "    <tr>\n",
       "      <th>64</th>\n",
       "      <td>1</td>\n",
       "      <td>3</td>\n",
       "      <td>8</td>\n",
       "      <td>9</td>\n",
       "      <td>22</td>\n",
       "      <td>38</td>\n",
       "    </tr>\n",
       "    <tr>\n",
       "      <th>86</th>\n",
       "      <td>3</td>\n",
       "      <td>9</td>\n",
       "      <td>15</td>\n",
       "      <td>26</td>\n",
       "      <td>27</td>\n",
       "      <td>47</td>\n",
       "    </tr>\n",
       "    <tr>\n",
       "      <th>99</th>\n",
       "      <td>9</td>\n",
       "      <td>18</td>\n",
       "      <td>20</td>\n",
       "      <td>30</td>\n",
       "      <td>33</td>\n",
       "      <td>39</td>\n",
       "    </tr>\n",
       "  </tbody>\n",
       "</table>\n",
       "</div>"
      ],
      "text/plain": [
       "    Number_1  Number_2  Number_3  Number_4  Number_5  Number_6\n",
       "2          5         9        22        26        36        40\n",
       "3          9        15        16        31        36        43\n",
       "30         9        11        12        25        48        49\n",
       "36         9        25        28        30        46        47\n",
       "39         1         9        10        17        32        35\n",
       "47         9        14        20        29        35        42\n",
       "49         1         9        17        26        29        30\n",
       "57         7         9        15        25        27        48\n",
       "64         1         3         8         9        22        38\n",
       "86         3         9        15        26        27        47\n",
       "99         9        18        20        30        33        39"
      ]
     },
     "execution_count": 18,
     "metadata": {},
     "output_type": "execute_result"
    }
   ],
   "source": [
    "df[mask]"
   ]
  },
  {
   "cell_type": "code",
   "execution_count": 19,
   "id": "2e80238f",
   "metadata": {},
   "outputs": [
    {
     "data": {
      "text/plain": [
       "0.11"
      ]
     },
     "execution_count": 19,
     "metadata": {},
     "output_type": "execute_result"
    }
   ],
   "source": [
    "np.sum(df.values == 9)/(df.shape[0])"
   ]
  },
  {
   "cell_type": "code",
   "execution_count": 20,
   "id": "92dffa76",
   "metadata": {},
   "outputs": [],
   "source": [
    "def probs(dframe, number_to_check):\n",
    "    return np.sum(dframe.values == number_to_check)/(df.shape[0])"
   ]
  },
  {
   "cell_type": "code",
   "execution_count": 21,
   "id": "ba9eec7a",
   "metadata": {},
   "outputs": [
    {
     "data": {
      "text/plain": [
       "{'key': 'value'}"
      ]
     },
     "execution_count": 21,
     "metadata": {},
     "output_type": "execute_result"
    }
   ],
   "source": [
    "{\"key\":\"value\"}"
   ]
  },
  {
   "cell_type": "code",
   "execution_count": 22,
   "id": "18f03c6f",
   "metadata": {},
   "outputs": [],
   "source": [
    "probs_dict = {}\n",
    "for numbers in range(1,50):\n",
    "    probs_dict[numbers] = probs(df,numbers)"
   ]
  },
  {
   "cell_type": "code",
   "execution_count": 23,
   "id": "a6e691a2",
   "metadata": {},
   "outputs": [],
   "source": [
    "import matplotlib.pyplot as plt"
   ]
  },
  {
   "cell_type": "code",
   "execution_count": 24,
   "id": "fe4fdb3b",
   "metadata": {},
   "outputs": [
    {
     "data": {
      "text/plain": [
       "dict_values([0.12, 0.13, 0.07, 0.08, 0.16, 0.09, 0.09, 0.12, 0.11, 0.13, 0.12, 0.08, 0.11, 0.17, 0.12, 0.14, 0.17, 0.12, 0.12, 0.15, 0.11, 0.15, 0.09, 0.07, 0.16, 0.15, 0.14, 0.13, 0.14, 0.18, 0.14, 0.08, 0.08, 0.14, 0.1, 0.12, 0.08, 0.16, 0.15, 0.1, 0.08, 0.12, 0.11, 0.15, 0.12, 0.17, 0.12, 0.16, 0.1])"
      ]
     },
     "execution_count": 24,
     "metadata": {},
     "output_type": "execute_result"
    }
   ],
   "source": [
    "probs_dict.values()"
   ]
  },
  {
   "cell_type": "code",
   "execution_count": 25,
   "id": "a67841c7",
   "metadata": {},
   "outputs": [
    {
     "data": {
      "text/plain": [
       "<BarContainer object of 49 artists>"
      ]
     },
     "execution_count": 25,
     "metadata": {},
     "output_type": "execute_result"
    },
    {
     "data": {
      "image/png": "[encoded data removed]",
      "text/plain": [
       "<Figure size 432x288 with 1 Axes>"
      ]
     },
     "metadata": {
      "needs_background": "light"
     },
     "output_type": "display_data"
    }
   ],
   "source": [
    "plt.bar(probs_dict.keys(),probs_dict.values())"
   ]
  },
  {
   "cell_type": "code",
   "execution_count": 26,
   "id": "7d011c5b",
   "metadata": {},
   "outputs": [
    {
     "data": {
      "text/plain": [
       "<BarContainer object of 49 artists>"
      ]
     },
     "execution_count": 26,
     "metadata": {},
     "output_type": "execute_result"
    },
    {
     "data": {
      "image/png": "[encoded data removed]",
      "text/plain": [
       "<Figure size 432x288 with 1 Axes>"
      ]
     },
     "metadata": {
      "needs_background": "light"
     },
     "output_type": "display_data"
    }
   ],
   "source": [
    "num_drawings = 100_000\n",
    "lottery_drawings = []\n",
    "\n",
    "for _ in range(num_drawings):\n",
    "    drawing = sorted(random.sample(range(1, 50), 6))  # Draw 6 unique numbers\n",
    "    lottery_drawings.append(drawing)\n",
    "df = pd.DataFrame(lottery_drawings, columns=[f\"Number_{i+1}\" for i in range(6)])\n",
    "probs_dict = {}\n",
    "for numbers in range(1,50):\n",
    "    probs_dict[numbers] = probs(df,numbers)\n",
    "plt.bar(probs_dict.keys(),probs_dict.values())   "
   ]
  },
  {
   "cell_type": "markdown",
   "id": "8ff4bebb",
   "metadata": {},
   "source": [
    "### Let's use Python to make a simulation of some event\n",
    "\n",
    "This way we can simulate even very complex situations with Python and calculate probability of occurences.\n",
    "\n",
    "Let's start with coin toss:"
   ]
  },
  {
   "cell_type": "code",
   "execution_count": 27,
   "id": "d8900735",
   "metadata": {},
   "outputs": [
    {
     "data": {
      "text/plain": [
       "0.44"
      ]
     },
     "execution_count": 27,
     "metadata": {},
     "output_type": "execute_result"
    }
   ],
   "source": [
    "outcomes = ['H','T']\n",
    "size = 100\n",
    "tosses = np.random.choice(outcomes, size = size)\n",
    "np.sum(tosses == 'H')/size"
   ]
  },
  {
   "cell_type": "code",
   "execution_count": 28,
   "id": "994b037f",
   "metadata": {},
   "outputs": [
    {
     "data": {
      "text/plain": [
       "[<matplotlib.lines.Line2D at 0x209c74dfd30>]"
      ]
     },
     "execution_count": 28,
     "metadata": {},
     "output_type": "execute_result"
    },
    {
     "data": {
      "image/png": "[encoded data removed]",
      "text/plain": [
       "<Figure size 432x288 with 1 Axes>"
      ]
     },
     "metadata": {
      "needs_background": "light"
     },
     "output_type": "display_data"
    }
   ],
   "source": [
    "outcomes = ['H','T']\n",
    "all_probs = []\n",
    "for n in range(1,1000):\n",
    "    tosses = np.random.choice(outcomes, size = n)\n",
    "    probs = np.sum(tosses == 'H')/n\n",
    "    all_probs.append(probs)\n",
    "plt.plot(all_probs)"
   ]
  },
  {
   "cell_type": "markdown",
   "id": "31e39c71",
   "metadata": {},
   "source": [
    "Now, let's calculate probability of winning in roulette while always betting on black.\n",
    "\n",
    "There are 37 slots, 18 of which are black."
   ]
  },
  {
   "cell_type": "code",
   "execution_count": 29,
   "id": "c0628e25",
   "metadata": {},
   "outputs": [
    {
     "data": {
      "text/plain": [
       "0.4864864864864865"
      ]
     },
     "execution_count": 29,
     "metadata": {},
     "output_type": "execute_result"
    }
   ],
   "source": [
    "18/37"
   ]
  },
  {
   "cell_type": "markdown",
   "id": "19442ae7",
   "metadata": {},
   "source": [
    "Let's simulate our winnings over time:"
   ]
  },
  {
   "cell_type": "code",
   "execution_count": 30,
   "id": "803807c4",
   "metadata": {},
   "outputs": [
    {
     "data": {
      "image/png": "[encoded data removed]",
      "text/plain": [
       "<Figure size 432x288 with 1 Axes>"
      ]
     },
     "metadata": {
      "needs_background": "light"
     },
     "output_type": "display_data"
    }
   ],
   "source": [
    "outcomes = ['Black',\"Red\",'Green']\n",
    "probs = [18/37, 18/37, 1/37]\n",
    "for n in range(100):\n",
    "    budget = 100\n",
    "    bet = 20\n",
    "    winnings = []\n",
    "    for rounds in range(1000):\n",
    "        budget -= 20\n",
    "        outcome = np.random.choice(outcomes,p=probs)\n",
    "        if outcome == 'Black':\n",
    "            budget += 20*2\n",
    "        winnings.append(budget)\n",
    "        if budget <= 0:\n",
    "            break\n",
    "    plt.plot(winnings)"
   ]
  },
  {
   "cell_type": "markdown",
   "id": "3e783e38",
   "metadata": {},
   "source": [
    "## I hope that using Python to calculate probabilities is clear now. \n",
    "\n",
    "### Let's move to how to use Linear Regression and scikit-learn library in Python\n",
    "\n",
    "First we start with importing the library"
   ]
  },
  {
   "cell_type": "code",
   "execution_count": null,
   "id": "9da48851",
   "metadata": {},
   "outputs": [],
   "source": []
  },
  {
   "cell_type": "markdown",
   "id": "5991537f",
   "metadata": {},
   "source": [
    "Let's define some exemplary data"
   ]
  },
  {
   "cell_type": "code",
   "execution_count": 31,
   "id": "d0aa778f",
   "metadata": {},
   "outputs": [],
   "source": [
    "data = {'X': [1, 2, 3, 4, 5], 'Y': [1.5, 1.7, 3.1, 4.5, 5.2]}\n",
    "df = pd.DataFrame(data)"
   ]
  },
  {
   "cell_type": "code",
   "execution_count": null,
   "id": "08dc437e",
   "metadata": {},
   "outputs": [],
   "source": []
  },
  {
   "cell_type": "markdown",
   "id": "ed1aee4c",
   "metadata": {},
   "source": [
    "Now we can fit the model:"
   ]
  },
  {
   "cell_type": "code",
   "execution_count": null,
   "id": "f3d0ed28",
   "metadata": {},
   "outputs": [],
   "source": []
  },
  {
   "cell_type": "markdown",
   "id": "ce33eb73",
   "metadata": {},
   "source": [
    "Let's plot the model"
   ]
  },
  {
   "cell_type": "code",
   "execution_count": null,
   "id": "434ee3ac",
   "metadata": {},
   "outputs": [],
   "source": []
  },
  {
   "cell_type": "markdown",
   "id": "cc6e926f",
   "metadata": {},
   "source": [
    "Let's make predictions using the model!"
   ]
  },
  {
   "cell_type": "code",
   "execution_count": null,
   "id": "c13ac908",
   "metadata": {},
   "outputs": [],
   "source": []
  },
  {
   "cell_type": "markdown",
   "id": "e135e621",
   "metadata": {},
   "source": [
    "Also, we can asses our model on its performance using one of the metrics:"
   ]
  },
  {
   "cell_type": "code",
   "execution_count": null,
   "id": "6843871d",
   "metadata": {},
   "outputs": [],
   "source": []
  },
  {
   "cell_type": "markdown",
   "id": "940c0ed2",
   "metadata": {},
   "source": [
    "### Now let's do a bit more complex model for multiple linear regression"
   ]
  },
  {
   "cell_type": "code",
   "execution_count": 32,
   "id": "116c7434",
   "metadata": {},
   "outputs": [],
   "source": [
    "# Sample dataset\n",
    "data = {\n",
    "    'Bedrooms': [2, 3, 3, 4, 5, 3, 4, 4, 5, 2],\n",
    "    'SquareFootage': [850, 900, 1200, 1500, 2000, 1100, 1600, 1800, 2100, 800],\n",
    "    'Age': [10, 5, 20, 15, 8, 30, 5, 12, 3, 25],\n",
    "    'Price': [150000, 200000, 230000, 250000, 300000, 220000, 275000, 280000, 320000, 140000]\n",
    "}\n",
    "\n",
    "# Convert to DataFrame\n",
    "df = pd.DataFrame(data)"
   ]
  },
  {
   "cell_type": "code",
   "execution_count": null,
   "id": "51015a8c",
   "metadata": {},
   "outputs": [],
   "source": []
  },
  {
   "cell_type": "markdown",
   "id": "48e9246f",
   "metadata": {},
   "source": [
    "But actually we should split our data into the <b> training and testing </b> sets.\n",
    "\n",
    "Why is that?"
   ]
  },
  {
   "cell_type": "code",
   "execution_count": null,
   "id": "6346e09d",
   "metadata": {},
   "outputs": [],
   "source": []
  },
  {
   "cell_type": "markdown",
   "id": "96e7229c",
   "metadata": {},
   "source": [
    "Using that data we can now evaluate our model better"
   ]
  },
  {
   "cell_type": "code",
   "execution_count": null,
   "id": "fcb41889",
   "metadata": {},
   "outputs": [],
   "source": []
  },
  {
   "cell_type": "markdown",
   "id": "967e79ad",
   "metadata": {},
   "source": [
    "### Let's do even more complex example with a larger dataset of California House Market Prices"
   ]
  },
  {
   "cell_type": "code",
   "execution_count": 33,
   "id": "e9f0ad80",
   "metadata": {},
   "outputs": [],
   "source": [
    "import pandas as pd\n",
    "import numpy as np\n",
    "from sklearn.datasets import fetch_california_housing\n",
    "from sklearn.model_selection import train_test_split\n",
    "from sklearn.linear_model import LinearRegression\n",
    "from sklearn.metrics import mean_squared_error, r2_score\n",
    "\n",
    "# Load the California Housing dataset\n",
    "california = fetch_california_housing()\n",
    "# Convert to DataFrame for easier handling\n",
    "df = pd.DataFrame(california.data, columns=california.feature_names)\n",
    "df['MedHouseVal'] = california.target  # Target variable (median house value)\n"
   ]
  },
  {
   "cell_type": "markdown",
   "id": "7b2df80f",
   "metadata": {},
   "source": [
    "Let's explore the dataset first"
   ]
  },
  {
   "cell_type": "code",
   "execution_count": null,
   "id": "16a6ed8b",
   "metadata": {},
   "outputs": [],
   "source": []
  },
  {
   "cell_type": "markdown",
   "id": "bcf01f91",
   "metadata": {},
   "source": [
    "First we have to define what is the target and what are the features"
   ]
  },
  {
   "cell_type": "code",
   "execution_count": null,
   "id": "3b2defbe",
   "metadata": {},
   "outputs": [],
   "source": []
  },
  {
   "cell_type": "markdown",
   "id": "9ef848f3",
   "metadata": {},
   "source": [
    "Then - split the data"
   ]
  },
  {
   "cell_type": "code",
   "execution_count": null,
   "id": "c583a89b",
   "metadata": {},
   "outputs": [],
   "source": []
  },
  {
   "cell_type": "markdown",
   "id": "a4fe647d",
   "metadata": {},
   "source": [
    "Then, we can analyse data to try understanding it - and using the statistical measures to describe our data."
   ]
  },
  {
   "cell_type": "code",
   "execution_count": null,
   "id": "1fb8f682",
   "metadata": {},
   "outputs": [],
   "source": []
  },
  {
   "cell_type": "markdown",
   "id": "0c5d3210",
   "metadata": {},
   "source": [
    "Finally, we develop, train and evaluate our model:"
   ]
  },
  {
   "cell_type": "code",
   "execution_count": null,
   "id": "1fe80a68",
   "metadata": {},
   "outputs": [],
   "source": []
  },
  {
   "cell_type": "markdown",
   "id": "23e4dd5e",
   "metadata": {},
   "source": [
    "In tasks like this, we also should try to <b> interpret </b> our results. It is very imporant!"
   ]
  },
  {
   "cell_type": "code",
   "execution_count": null,
   "id": "76eea5b6",
   "metadata": {},
   "outputs": [],
   "source": []
  },
  {
   "cell_type": "markdown",
   "id": "618b6039",
   "metadata": {},
   "source": [
    "## Can I use machine learning without knowing Python?\n",
    "\n",
    "<b> Yes! </b> Altough less flexible, there ae many *no-code* platform where you can use ML algorithms without the knowledge of any programming language.\n",
    "\n",
    "These include:\n",
    "\n",
    "AutoML Platforms\n",
    "\n",
    "    Google AutoML, DataRobot, and Microsoft Azure ML offer automated machine learning. You simply upload data, choose the task (like prediction or classification), and let the platform handle the complex model-building process.\n",
    "    \n",
    "No-Code/Low-Code ML Platforms\n",
    "\n",
    "    Teachable Machine by Google and Lobe enable users to train image or audio recognition models without writing code. Just upload examples, and the tool manages the rest.\n",
    "    \n",
    "ML in Business Intelligence Tools\n",
    "\n",
    "    Microsoft Power BI and Tableau now integrate ML for tasks like forecasting and anomaly detection. Users can apply ML insights directly to data within the BI platform through intuitive menu options and settings.\n",
    "    \n",
    "Graphical ML Software\n",
    "\n",
    "    Tools like KNIME, RapidMiner, and Orange use drag-and-drop interfaces where each component represents an ML task (data input, model training, etc.). Connect components to design workflows, explore data, and build models visually.\n",
    "    \n",
    "    \n",
    "<b> However, important is to understand how machine learning works - and this course aims at providing you with this knowledge </b> Without this, using no-code platforms is just blind experimentation."
   ]
  }
 ],
 "metadata": {
  "kernelspec": {
   "display_name": "Python 3 (ipykernel)",
   "language": "python",
   "name": "python3"
  },
  "language_info": {
   "codemirror_mode": {
    "name": "ipython",
    "version": 3
   },
   "file_extension": ".py",
   "mimetype": "text/x-python",
   "name": "python",
   "nbconvert_exporter": "python",
   "pygments_lexer": "ipython3",
   "version": "3.9.12"
  }
 },
 "nbformat": 4,
 "nbformat_minor": 5
}