{
 "cells": [
  {
   "cell_type": "markdown",
   "id": "9794608e",
   "metadata": {},
   "source": [
    "# Artificial Intelligence (winter 2024/2025)\n",
    "\n",
    "## Teachers:\n",
    "\n",
    "* Dr Kamil Smolak; email: <kamil.smolak@upwr.edu.pl> (Lectures)\n",
    "* Dr Saeid Haji-Aghajany; email: <saeid.haji-aghajany@upwr.edu.pl> (Exercises) "
   ]
  },
  {
   "cell_type": "markdown",
   "id": "2340e0b8",
   "metadata": {},
   "source": [
    "# Classes:\n",
    "\n",
    "All class materials, lectures and exercises are available online in the form of a Jupyter Book (smolakk.github.io/ArtificialIntelligence2025)\n",
    "\n",
    "The materials are interactive Python notebooks for demonstration and practice of machine learning skills.\n",
    "\n",
    "The materials will be available online *before* the exercises, allowing the class to be delivered in a _reverse format_, in which students read the materials *before* the exercises. This will allow us to place more emphasis on practice in the classroom.\n"
   ]
  },
  {
   "cell_type": "code",
   "execution_count": 1,
   "id": "c1c4be04",
   "metadata": {},
   "outputs": [
    {
     "data": {
      "application/vnd.jupyter.widget-view+json": {
       "model_id": "09cf45cf74284d79b6a97710d01fe05b",
       "version_major": 2,
       "version_minor": 0
      },
      "text/plain": [
       "interactive(children=(FloatSlider(value=1.0, description='C (Inverse of Regularization Strength)', max=10.0, m…"
      ]
     },
     "metadata": {},
     "output_type": "display_data"
    }
   ],
   "source": [
    "import numpy as np\n",
    "import matplotlib.pyplot as plt\n",
    "from sklearn.datasets import load_iris\n",
    "from sklearn.model_selection import train_test_split\n",
    "from sklearn.preprocessing import StandardScaler\n",
    "from sklearn.linear_model import LogisticRegression\n",
    "from sklearn.decomposition import PCA\n",
    "from sklearn.metrics import accuracy_score\n",
    "import ipywidgets as widgets\n",
    "from ipywidgets import interact\n",
    "\n",
    "# Load Iris Dataset\n",
    "iris = load_iris()\n",
    "X = iris.data\n",
    "y = iris.target\n",
    "\n",
    "# Use PCA to reduce to 2 dimensions for visualization\n",
    "pca = PCA(n_components=2)\n",
    "X_reduced = pca.fit_transform(X)\n",
    "\n",
    "# Standardize the dataset\n",
    "scaler = StandardScaler()\n",
    "X_reduced = scaler.fit_transform(X_reduced)\n",
    "\n",
    "# Train-test split\n",
    "X_train, X_test, y_train, y_test = train_test_split(X_reduced, y, test_size=0.2, random_state=42)\n",
    "\n",
    "# Interactive function to visualize the decision boundary with different regularization strength\n",
    "def plot_classification(C):\n",
    "    # Create and train the model\n",
    "    model = LogisticRegression(C=C, multi_class='ovr')\n",
    "    model.fit(X_train, y_train)\n",
    "\n",
    "    # Predict the test set\n",
    "    y_pred = model.predict(X_test)\n",
    "    accuracy = accuracy_score(y_test, y_pred)\n",
    "\n",
    "    # Plot decision boundary\n",
    "    plt.figure(figsize=(8, 6))\n",
    "    x_min, x_max = X_train[:, 0].min() - 1, X_train[:, 0].max() + 1\n",
    "    y_min, y_max = X_train[:, 1].min() - 1, X_train[:, 1].max() + 1\n",
    "    xx, yy = np.meshgrid(np.arange(x_min, x_max, 0.01), np.arange(y_min, y_max, 0.01))\n",
    "    Z = model.predict(np.c_[xx.ravel(), yy.ravel()])\n",
    "    Z = Z.reshape(xx.shape)\n",
    "\n",
    "    plt.contourf(xx, yy, Z, alpha=0.8)\n",
    "    plt.scatter(X_train[:, 0], X_train[:, 1], c=y_train, edgecolors='k', marker='o', label='Train set')\n",
    "    plt.scatter(X_test[:, 0], X_test[:, 1], c=y_test, marker='x', label='Test set')\n",
    "    \n",
    "    plt.title(f'Logistic Regression (C={C:.2f})\\nAccuracy: {accuracy:.2f}')\n",
    "    plt.xlabel('PCA Component 1')\n",
    "    plt.ylabel('PCA Component 2')\n",
    "    plt.legend(loc='upper left')\n",
    "    plt.show()\n",
    "\n",
    "# Interactive slider to control the regularization strength (C parameter)\n",
    "interact(plot_classification, C=widgets.FloatSlider(value=1.0, min=0.01, max=10.0, step=1, description='C (Inverse of Regularization Strength)'));\n"
   ]
  },
  {
   "cell_type": "markdown",
   "id": "b5ee285d",
   "metadata": {},
   "source": [
    "## Subject and Aim of the Course\n",
    "\n",
    "The course covers an introduction and training in the field of machine learning and related areas, such as Data Science.\n",
    "\n",
    "<b> During the course, we will focus on understanding the principles of operation and the types of machine learning, learn how to carry out the complete model-building process, and pay attention to common mistakes made during model construction. </b>"
   ]
  },
  {
   "cell_type": "markdown",
   "id": "212d26e3",
   "metadata": {},
   "source": [
    "# What is Machine Learning?"
   ]
  },
  {
   "cell_type": "code",
   "execution_count": 2,
   "id": "bb103347",
   "metadata": {
    "vscode": {
     "languageId": "plaintext"
    }
   },
   "outputs": [
    {
     "ename": "SyntaxError",
     "evalue": "invalid syntax (1727738205.py, line 1)",
     "output_type": "error",
     "traceback": [
      "\u001b[1;36m  Cell \u001b[1;32mIn[2], line 1\u001b[1;36m\u001b[0m\n\u001b[1;33m    <img src='img/Student.png' width=500/>\u001b[0m\n\u001b[1;37m    ^\u001b[0m\n\u001b[1;31mSyntaxError\u001b[0m\u001b[1;31m:\u001b[0m invalid syntax\n"
     ]
    }
   ],
   "source": [
    "<img src='img/Student.png' width=500/>"
   ]
  },
  {
   "cell_type": "markdown",
   "id": "6296ea0e",
   "metadata": {},
   "source": [
    "## Naming"
   ]
  },
  {
   "cell_type": "code",
   "execution_count": null,
   "id": "211e3084",
   "metadata": {
    "vscode": {
     "languageId": "plaintext"
    }
   },
   "outputs": [],
   "source": []
  },
  {
   "cell_type": "code",
   "execution_count": null,
   "id": "b532cf81",
   "metadata": {
    "vscode": {
     "languageId": "plaintext"
    }
   },
   "outputs": [],
   "source": [
    "<img src='img/AIMLDL.jpg' width=400/>\n",
    "\n",
    "<i>Demir, H., & Sarı, F. (2020). The effect of artificial intelligence and industry 4.0 on robotic systems. Engineering on Energy Materials, Iksad Publications, 51-72.</i>"
   ]
  },
  {
   "cell_type": "markdown",
   "id": "02c6db80",
   "metadata": {},
   "source": [
    "## What we commonly refer to as Artificial Intelligence (AI) is actually machine learning, or even deep learning.\n",
    "\n",
    "The term has been adopted in everyday language, but it is imprecise. AI is a much broader field, also encompassing robotics and automation.\n",
    "\n",
    "<b> The goal of AI is to build a being that reasons like a human. </b>\n",
    "\n",
    "Building such a being involves replicating all the elements necessary for interacting with the environment. Most of these elements we replicate quite well – this refers to motor skills and object manipulation.\n",
    "\n",
    "You can think of this as replicating specific body parts:\n",
    "\n",
    "    Legs for movement\n",
    "    Hands for manipulation\n",
    "    <b>The brain for reasoning and inference</b>\n",
    "\n",
    "\n",
    "<b> The ambition of machine learning is to create a component essential for an intelligent being, i.e., an artificial brain. </b>\n",
    "\n",
    "<img src='img/mozg.jpg' width=300/>\n",
    "\n",
    "The structure of the brain has been an inspiration for some machine learning algorithms over the years, especially neural networks, which are revolutionizing the modern world. The structure of neurons and their connections was the foundation for the development of the first learned model. This happened as early as 1958. Then followed the so-called AI winter, during which little research in this area took place. This was mainly due to a lack of computational power.\n",
    "\n",
    "The vision of replicating the brain, though tempting, is still distant. The complexity of current algorithms is far smaller than that of our brains.\n",
    "\n",
    "## Algorithms are primarily trained to perform a single task; they are unable to generalize tasks.\n",
    "\n",
    "In many areas, the capabilities of algorithms surpass those of our brains.\n",
    "<img src='img/chiuaua.jpg' />\n",
    "\n",
    "However, we are much better at performing a variety of tasks.\n",
    "\n",
    "    For a machine learning algorithm to recognize an elephant, it first needs to see 1,000 images of elephants.\n",
    "\n",
    "    A child, on the other hand, can learn to recognize an elephant flawlessly from a single illustrated picture in a book.\n",
    "\n",
    "    A person who learned to drive in sunny weather will likely manage reasonably well driving on a snowy road.\n",
    "\n",
    "    An algorithm that has never seen a snowy road will likely \"panic\" and fail to take any action.\n",
    "    \n",
    "## What is the future of machine learning?\n",
    "\n",
    "Models are becoming increasingly versatile and capable of performing tasks quickly and efficiently. A good example is the popular large language models (LLMs) like ChatGPT, showing how capable these tools are becoming.\n",
    "\n",
    "This leads to two questions:\n",
    "\n",
    "    Are machine learning models aware or can they become aware?\n",
    "    What is their future?\n",
    "\n",
    "The concept of \"singularity\" refers to the creation of so-called General Artificial Intelligence (General AI), which is capable of performing all assigned tasks intelligently. Such intelligence is capable of self-improvement, evolving far beyond our imagination and control. This raises a frequent question about consciousness – when can we consider algorithms to be conscious?\n",
    "\n",
    "Already today, models are pushing the boundaries of knowledge, finding solutions to problems so efficient that they surpass human reasoning capabilities.\n",
    "\n",
    "For example, matrix multiplication has been performed using the Strassen method, which had been the most efficient method of this operation since 1969. In 2022, AlphaTensor developed its own method of matrix multiplication, requiring fewer operations.\n",
    "\n",
    "## Perhaps machine learning is the next revolution in human history.\n",
    "<img src='img/revol.jpg'/>\n",
    "\n",
    "Each revolution is characterized by a change in lifestyle, raising its quality but also altering the way the world functions. These changes must be conducted responsibly and are always met with resistance. Ethics is a key issue. Some professions will likely disappear and be automated. But new ones will emerge.\n"
   ]
  },
  {
   "cell_type": "markdown",
   "id": "54791da8",
   "metadata": {},
   "source": [
    "## Work in the AI/ML Field\n",
    "\n",
    "The number of roles/positions offered in the AI/ML field is enormous. These can be divided into four main types:\n",
    "<img src='img/Roles.png'/>\n",
    "\n",
    "Companies offer various positions, either specializing in specific tasks or more general, often depending on the company's size and its clients.\n",
    "<img src='img/Needs.png'/>\n",
    "\n",
    "In this course, I will aim to guide you toward development paths in this area and show how to leverage machine learning for projects and tasks.\n",
    "\n",
    "It is also one of the best-paying sectors of the economy, although entry-level (junior) positions are rarely offered. The requirements include:\n",
    "\n",
    "    good knowledge of a programming language (Python),\n",
    "    models, often advanced methods, and types of machine learning,\n",
    "    skills in data storage and processing (SQL, NoSQL),\n",
    "    distributed computing (Dask, Spark),\n",
    "    maintaining, building, and developing software (MLOps, Kubernetes, Docker),\n",
    "    working in cloud environments (AWS, Azure),\n",
    "    team management, client interaction, and project management skills.\n",
    "\n",
    "A person working in this field must be versatile and have significant experience. However, investing your time in this can be highly rewarding.\n",
    "<img src='img/tools.jpg'/>\n",
    "\n",
    "The key focus at the beginning should be on:\n",
    "\n",
    "    learning programming (it's worth using coding challenge websites like leetcode.com and projecteuler.net),\n",
    "    working on your own machine learning projects,\n",
    "    building a portfolio on your GitHub account (employers check this).\n",
    "\n",
    "<img src='img/leetcode.png' />"
   ]
  },
  {
   "cell_type": "markdown",
   "id": "f59ee83a",
   "metadata": {},
   "source": [
    "## What will we be doing during this course?\n",
    "\n",
    "We will focus on conducting the complete process of building machine learning models. We will follow a typical approach to data exploration, which includes the following stages:\n",
    "\n",
    "    Understanding the data — both from a business and technical perspective\n",
    "    Data preparation\n",
    "    Modeling (building the model)\n",
    "    Evaluation (assessing the model)\n",
    "    Conclusions/Interpretation and potentially repeating the exploration process\n",
    "\n",
    "<img src='img/model.png' />\n",
    "\n",
    "Building a machine learning model is just a small part of the entire process. Data preparation is crucial and often time-consuming.\n",
    "Topics\n",
    "\n",
    "The topics covered in this course include:\n",
    "\n",
    "    Preparation for the model-building process\n",
    "    Data preparation and feature engineering\n",
    "    Supervised learning:\n",
    "        Classification\n",
    "        Regression\n",
    "    Unsupervised learning:\n",
    "        Clustering\n",
    "        Dimensionality reduction\n",
    "    Model evaluation and drawing conclusions\n",
    "    Common mistakes during model building"
   ]
  },
  {
   "cell_type": "markdown",
   "id": "188ed814",
   "metadata": {},
   "source": [
    "## Course Organization\n",
    "\n",
    "The course materials will be available online in the form of a Jupyter Book, which can be downloaded and run on your own computer (smolakk.github.io/ArtificialIntelligence2025)\n",
    "\n",
    "All assignments can be submitted through a dedicated page on the Google Classroom platform <b>(platform code: rcalibw)</b>\n",
    "\n",
    "## Lectures\n",
    "\n",
    "The basis for passing the course will be passing the exam from these lectures."
   ]
  },
  {
   "cell_type": "code",
   "execution_count": null,
   "id": "0c1d6e5d",
   "metadata": {},
   "outputs": [],
   "source": []
  }
 ],
 "metadata": {
  "kernelspec": {
   "display_name": "Python 3 (ipykernel)",
   "language": "python",
   "name": "python3"
  },
  "language_info": {
   "codemirror_mode": {
    "name": "ipython",
    "version": 3
   },
   "file_extension": ".py",
   "mimetype": "text/x-python",
   "name": "python",
   "nbconvert_exporter": "python",
   "pygments_lexer": "ipython3",
   "version": "3.11.7"
  }
 },
 "nbformat": 4,
 "nbformat_minor": 5
}