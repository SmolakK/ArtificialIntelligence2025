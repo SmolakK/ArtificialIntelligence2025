{
 "cells": [
  {
   "cell_type": "markdown",
   "id": "9794608e",
   "metadata": {},
   "source": [
    "# Lecture 1: Artificial Intelligence (winter 2024/2025)\n",
    "\n",
    "## Teachers:\n",
    "\n",
    "* Dr Kamil Smolak; email: <kamil.smolak@upwr.edu.pl> (Lectures)\n",
    "* Dr Saeid Haji-Aghajany; email: <saeid.haji-aghajany@upwr.edu.pl> (Exercises) "
   ]
  },
  {
   "cell_type": "markdown",
   "id": "2340e0b8",
   "metadata": {},
   "source": [
    "# Classes:\n",
    "\n",
    "All class materials, lectures and exercises are available online in the form of a Jupyter Book (smolakk.github.io/ArtificialIntelligence2025)\n",
    "\n",
    "The materials are interactive Python notebooks for demonstration and practice of machine learning skills.\n",
    "\n",
    "The materials will be available online *before* the exercises, allowing the class to be delivered in a _reverse format_, in which students read the materials *before* the exercises. This will allow us to place more emphasis on practice in the classroom.\n"
   ]
  },
  {
   "cell_type": "code",
   "execution_count": 1,
   "id": "c1c4be04",
   "metadata": {},
   "outputs": [
    {
     "data": {
      "application/vnd.jupyter.widget-view+json": {
       "model_id": "aa8a8b81cbd341fea9bbf4d25f4e1b08",
       "version_major": 2,
       "version_minor": 0
      },
      "text/plain": [
       "interactive(children=(FloatSlider(value=1.0, description='C (Inverse of Regularization Strength)', max=10.0, m…"
      ]
     },
     "metadata": {},
     "output_type": "display_data"
    }
   ],
   "source": [
    "import numpy as np\n",
    "import matplotlib.pyplot as plt\n",
    "from sklearn.datasets import load_iris\n",
    "from sklearn.model_selection import train_test_split\n",
    "from sklearn.preprocessing import StandardScaler\n",
    "from sklearn.linear_model import LogisticRegression\n",
    "from sklearn.decomposition import PCA\n",
    "from sklearn.metrics import accuracy_score\n",
    "import ipywidgets as widgets\n",
    "from ipywidgets import interact\n",
    "\n",
    "# Load Iris Dataset\n",
    "iris = load_iris()\n",
    "X = iris.data\n",
    "y = iris.target\n",
    "\n",
    "# Use PCA to reduce to 2 dimensions for visualization\n",
    "pca = PCA(n_components=2)\n",
    "X_reduced = pca.fit_transform(X)\n",
    "\n",
    "# Standardize the dataset\n",
    "scaler = StandardScaler()\n",
    "X_reduced = scaler.fit_transform(X_reduced)\n",
    "\n",
    "# Train-test split\n",
    "X_train, X_test, y_train, y_test = train_test_split(X_reduced, y, test_size=0.2, random_state=42)\n",
    "\n",
    "# Interactive function to visualize the decision boundary with different regularization strength\n",
    "def plot_classification(C):\n",
    "    # Create and train the model\n",
    "    model = LogisticRegression(C=C, multi_class='ovr')\n",
    "    model.fit(X_train, y_train)\n",
    "\n",
    "    # Predict the test set\n",
    "    y_pred = model.predict(X_test)\n",
    "    accuracy = accuracy_score(y_test, y_pred)\n",
    "\n",
    "    # Plot decision boundary\n",
    "    plt.figure(figsize=(8, 6))\n",
    "    x_min, x_max = X_train[:, 0].min() - 1, X_train[:, 0].max() + 1\n",
    "    y_min, y_max = X_train[:, 1].min() - 1, X_train[:, 1].max() + 1\n",
    "    xx, yy = np.meshgrid(np.arange(x_min, x_max, 0.01), np.arange(y_min, y_max, 0.01))\n",
    "    Z = model.predict(np.c_[xx.ravel(), yy.ravel()])\n",
    "    Z = Z.reshape(xx.shape)\n",
    "\n",
    "    plt.contourf(xx, yy, Z, alpha=0.8)\n",
    "    plt.scatter(X_train[:, 0], X_train[:, 1], c=y_train, edgecolors='k', marker='o', label='Train set')\n",
    "    plt.scatter(X_test[:, 0], X_test[:, 1], c=y_test, marker='x', label='Test set')\n",
    "    \n",
    "    plt.title(f'Logistic Regression (C={C:.2f})\\nAccuracy: {accuracy:.2f}')\n",
    "    plt.xlabel('PCA Component 1')\n",
    "    plt.ylabel('PCA Component 2')\n",
    "    plt.legend(loc='upper left')\n",
    "    plt.show()\n",
    "\n",
    "# Interactive slider to control the regularization strength (C parameter)\n",
    "interact(plot_classification, C=widgets.FloatSlider(value=1.0, min=0.01, max=10.0, step=1, description='C (Inverse of Regularization Strength)'));\n"
   ]
  },
  {
   "cell_type": "markdown",
   "id": "b5ee285d",
   "metadata": {},
   "source": [
    "## Subject and Aim of the Course\n",
    "\n",
    "The course covers an introduction and training in the field of machine learning and related areas, such as Data Science.\n",
    "\n",
    "<b> During the course, we will focus on understanding the principles of operation and the types of machine learning, learn how to carry out the complete model-building process, and pay attention to common mistakes made during model construction. </b>"
   ]
  },
  {
   "cell_type": "markdown",
   "id": "212d26e3",
   "metadata": {},
   "source": [
    "# What is Machine Learning?"
   ]
  },
  {
   "cell_type": "markdown",
   "id": "30e0488b",
   "metadata": {
    "vscode": {
     "languageId": "plaintext"
    }
   },
   "source": [
    "<img src='img/Student.png' width=500/>"
   ]
  },
  {
   "cell_type": "markdown",
   "id": "6296ea0e",
   "metadata": {},
   "source": [
    "## Naming"
   ]
  },
  {
   "cell_type": "markdown",
   "id": "3ba94153",
   "metadata": {
    "vscode": {
     "languageId": "plaintext"
    }
   },
   "source": [
    "<img src='img/AIMLDL.jpg' width=400/>\n",
    "\n",
    "<i>Demir, H., & Sarı, F. (2020). The effect of artificial intelligence and industry 4.0 on robotic systems. Engineering on Energy Materials, Iksad Publications, 51-72.</i>"
   ]
  },
  {
   "cell_type": "markdown",
   "id": "02c6db80",
   "metadata": {},
   "source": [
    "## What we commonly refer to as Artificial Intelligence (AI) is actually machine learning, or even deep learning.\n",
    "\n",
    "The term has been adopted in everyday language, but it is imprecise. AI is a much broader field, also encompassing robotics and automation.\n",
    "\n",
    "<b> The goal of AI is to build a being that reasons like a human. </b>\n",
    "\n",
    "Building such a being involves replicating all the elements necessary for interacting with the environment. Most of these elements we replicate quite well – this refers to motor skills and object manipulation.\n",
    "\n",
    "You can think of this as replicating specific body parts:\n",
    "\n",
    "    Legs for movement\n",
    "    Hands for manipulation\n",
    "    <b>The brain for reasoning and inference</b>\n",
    "\n",
    "\n",
    "<b> The ambition of machine learning is to create a component essential for an intelligent being, i.e., an artificial brain. </b>\n",
    "\n",
    "<img src='img/mozg.jpg' width=300/>\n",
    "\n",
    "The structure of the brain has been an inspiration for some machine learning algorithms over the years, especially neural networks, which are revolutionizing the modern world. The structure of neurons and their connections was the foundation for the development of the first learned model. This happened as early as 1958. Then followed the so-called AI winter, during which little research in this area took place. This was mainly due to a lack of computational power.\n",
    "\n",
    "The vision of replicating the brain, though tempting, is still distant. The complexity of current algorithms is far smaller than that of our brains.\n",
    "\n",
    "## Algorithms are primarily trained to perform a single task; they are unable to generalize tasks.\n",
    "\n",
    "In many areas, the capabilities of algorithms surpass those of our brains.\n",
    "<img src='img/chiuaua.jpg' />\n",
    "\n",
    "However, we are much better at performing a variety of tasks.\n",
    "\n",
    "    For a machine learning algorithm to recognize an elephant, it first needs to see 1,000 images of elephants.\n",
    "\n",
    "    A child, on the other hand, can learn to recognize an elephant flawlessly from a single illustrated picture in a book.\n",
    "\n",
    "    A person who learned to drive in sunny weather will likely manage reasonably well driving on a snowy road.\n",
    "\n",
    "    An algorithm that has never seen a snowy road will likely \"panic\" and fail to take any action.\n",
    "    \n",
    "## What is the future of machine learning?\n",
    "\n",
    "Models are becoming increasingly versatile and capable of performing tasks quickly and efficiently. A good example is the popular large language models (LLMs) like ChatGPT, showing how capable these tools are becoming.\n",
    "\n",
    "This leads to two questions:\n",
    "\n",
    "    Are machine learning models aware or can they become aware?\n",
    "    What is their future?\n",
    "\n",
    "The concept of \"singularity\" refers to the creation of so-called General Artificial Intelligence (General AI), which is capable of performing all assigned tasks intelligently. Such intelligence is capable of self-improvement, evolving far beyond our imagination and control. This raises a frequent question about consciousness – when can we consider algorithms to be conscious?\n",
    "\n",
    "Already today, models are pushing the boundaries of knowledge, finding solutions to problems so efficient that they surpass human reasoning capabilities.\n",
    "\n",
    "For example, matrix multiplication has been performed using the Strassen method, which had been the most efficient method of this operation since 1969. In 2022, AlphaTensor developed its own method of matrix multiplication, requiring fewer operations.\n",
    "\n",
    "## Perhaps machine learning is the next revolution in human history.\n",
    "<img src='img/revol.jpg'/>\n",
    "\n",
    "Each revolution is characterized by a change in lifestyle, raising its quality but also altering the way the world functions. These changes must be conducted responsibly and are always met with resistance. Ethics is a key issue. Some professions will likely disappear and be automated. But new ones will emerge.\n"
   ]
  },
  {
   "cell_type": "markdown",
   "id": "54791da8",
   "metadata": {},
   "source": [
    "## Work in the AI/ML Field\n",
    "\n",
    "The number of roles/positions offered in the AI/ML field is enormous. These can be divided into four main types:\n",
    "<img src='img/Roles.png'/>\n",
    "\n",
    "Companies offer various positions, either specializing in specific tasks or more general, often depending on the company's size and its clients.\n",
    "<img src='img/Needs.png'/>\n",
    "\n",
    "In this course, I will aim to guide you toward development paths in this area and show how to leverage machine learning for projects and tasks.\n",
    "\n",
    "It is also one of the best-paying sectors of the economy, although entry-level (junior) positions are rarely offered. The requirements include:\n",
    "\n",
    "    good knowledge of a programming language (Python),\n",
    "    models, often advanced methods, and types of machine learning,\n",
    "    skills in data storage and processing (SQL, NoSQL),\n",
    "    distributed computing (Dask, Spark),\n",
    "    maintaining, building, and developing software (MLOps, Kubernetes, Docker),\n",
    "    working in cloud environments (AWS, Azure),\n",
    "    team management, client interaction, and project management skills.\n",
    "\n",
    "A person working in this field must be versatile and have significant experience. However, investing your time in this can be highly rewarding.\n",
    "<img src='img/tools.jpg'/>\n",
    "\n",
    "The key focus at the beginning should be on:\n",
    "\n",
    "    learning programming (it's worth using coding challenge websites like leetcode.com and projecteuler.net),\n",
    "    working on your own machine learning projects,\n",
    "    building a portfolio on your GitHub account (employers check this).\n",
    "\n",
    "<img src='img/leetcode.png' />"
   ]
  },
  {
   "cell_type": "markdown",
   "id": "f59ee83a",
   "metadata": {},
   "source": [
    "## What will we be doing during this course?\n",
    "\n",
    "We will focus on conducting the complete process of building machine learning models. We will follow a typical approach to data exploration, which includes the following stages:\n",
    "\n",
    "    Understanding the data — both from a business and technical perspective\n",
    "    Data preparation\n",
    "    Modeling (building the model)\n",
    "    Evaluation (assessing the model)\n",
    "    Conclusions/Interpretation and potentially repeating the exploration process\n",
    "\n",
    "<img src='img/model.png' />\n",
    "\n",
    "Building a machine learning model is just a small part of the entire process. Data preparation is crucial and often time-consuming.\n",
    "Topics\n",
    "\n",
    "The topics covered in this course include:\n",
    "\n",
    "    Preparation for the model-building process\n",
    "    Data preparation and feature engineering\n",
    "    Supervised learning:\n",
    "        Classification\n",
    "        Regression\n",
    "    Unsupervised learning:\n",
    "        Clustering\n",
    "        Dimensionality reduction\n",
    "    Model evaluation and drawing conclusions\n",
    "    Common mistakes during model building\n",
    "    Ethics in AI"
   ]
  },
  {
   "cell_type": "markdown",
   "id": "188ed814",
   "metadata": {},
   "source": [
    "## Course Organization\n",
    "\n",
    "The course materials will be available online in the form of a Jupyter Book, which can be downloaded and run on your own computer (smolakk.github.io/ArtificialIntelligence2025)\n",
    "\n",
    "All assignments can be submitted through a dedicated page on the Google Classroom platform <b>(platform code: rcalibw)</b>\n",
    "\n",
    "## Lectures\n",
    "\n",
    "The basis for passing the course will be passing the exam from these lectures."
   ]
  }
 ],
 "metadata": {
  "kernelspec": {
   "display_name": "Python 3 (ipykernel)",
   "language": "python",
   "name": "python3"
  },
  "language_info": {
   "codemirror_mode": {
    "name": "ipython",
    "version": 3
   },
   "file_extension": ".py",
   "mimetype": "text/x-python",
   "name": "python",
   "nbconvert_exporter": "python",
   "pygments_lexer": "ipython3",
   "version": "3.11.7"
  },
  "widgets": {
   "application/vnd.jupyter.widget-state+json": {
    "state": {
     "04dc469128a047659e4ca132de53241f": {
      "model_module": "@jupyter-widgets/base",
      "model_module_version": "1.2.0",
      "model_name": "LayoutModel",
      "state": {
       "_model_module": "@jupyter-widgets/base",
       "_model_module_version": "1.2.0",
       "_model_name": "LayoutModel",
       "_view_count": null,
       "_view_module": "@jupyter-widgets/base",
       "_view_module_version": "1.2.0",
       "_view_name": "LayoutView",
       "align_content": null,
       "align_items": null,
       "align_self": null,
       "border": null,
       "bottom": null,
       "display": null,
       "flex": null,
       "flex_flow": null,
       "grid_area": null,
       "grid_auto_columns": null,
       "grid_auto_flow": null,
       "grid_auto_rows": null,
       "grid_column": null,
       "grid_gap": null,
       "grid_row": null,
       "grid_template_areas": null,
       "grid_template_columns": null,
       "grid_template_rows": null,
       "height": null,
       "justify_content": null,
       "justify_items": null,
       "left": null,
       "margin": null,
       "max_height": null,
       "max_width": null,
       "min_height": null,
       "min_width": null,
       "object_fit": null,
       "object_position": null,
       "order": null,
       "overflow": null,
       "overflow_x": null,
       "overflow_y": null,
       "padding": null,
       "right": null,
       "top": null,
       "visibility": null,
       "width": null
      }
     },
     "2852606a46894bdaa7abbfba4e04f8e8": {
      "model_module": "@jupyter-widgets/output",
      "model_module_version": "1.0.0",
      "model_name": "OutputModel",
      "state": {
       "_dom_classes": [],
       "_model_module": "@jupyter-widgets/output",
       "_model_module_version": "1.0.0",
       "_model_name": "OutputModel",
       "_view_count": null,
       "_view_module": "@jupyter-widgets/output",
       "_view_module_version": "1.0.0",
       "_view_name": "OutputView",
       "layout": "IPY_MODEL_04dc469128a047659e4ca132de53241f",
       "msg_id": "",
       "outputs": [
        {
         "name": "stderr",
         "output_type": "stream",
         "text": "C:\\Users\\Saeid Haji-Aghajany\\anaconda3\\Lib\\site-packages\\sklearn\\linear_model\\_logistic.py:1256: FutureWarning: 'multi_class' was deprecated in version 1.5 and will be removed in 1.7. Use OneVsRestClassifier(LogisticRegression(..)) instead. Leave it to its default value to avoid this warning.\n  warnings.warn(\n"
        },
        {
         "data": {
          "image/png": "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",
          "text/plain": "<Figure size 800x600 with 1 Axes>"
         },
         "metadata": {},
         "output_type": "display_data"
        }
       ]
      }
     },
     "5a8b67096d7f43cd9512212b37962bf1": {
      "model_module": "@jupyter-widgets/controls",
      "model_module_version": "1.5.0",
      "model_name": "SliderStyleModel",
      "state": {
       "_model_module": "@jupyter-widgets/controls",
       "_model_module_version": "1.5.0",
       "_model_name": "SliderStyleModel",
       "_view_count": null,
       "_view_module": "@jupyter-widgets/base",
       "_view_module_version": "1.2.0",
       "_view_name": "StyleView",
       "description_width": "",
       "handle_color": null
      }
     },
     "88edac93ea534f57a75316aeba040ac6": {
      "model_module": "@jupyter-widgets/base",
      "model_module_version": "1.2.0",
      "model_name": "LayoutModel",
      "state": {
       "_model_module": "@jupyter-widgets/base",
       "_model_module_version": "1.2.0",
       "_model_name": "LayoutModel",
       "_view_count": null,
       "_view_module": "@jupyter-widgets/base",
       "_view_module_version": "1.2.0",
       "_view_name": "LayoutView",
       "align_content": null,
       "align_items": null,
       "align_self": null,
       "border": null,
       "bottom": null,
       "display": null,
       "flex": null,
       "flex_flow": null,
       "grid_area": null,
       "grid_auto_columns": null,
       "grid_auto_flow": null,
       "grid_auto_rows": null,
       "grid_column": null,
       "grid_gap": null,
       "grid_row": null,
       "grid_template_areas": null,
       "grid_template_columns": null,
       "grid_template_rows": null,
       "height": null,
       "justify_content": null,
       "justify_items": null,
       "left": null,
       "margin": null,
       "max_height": null,
       "max_width": null,
       "min_height": null,
       "min_width": null,
       "object_fit": null,
       "object_position": null,
       "order": null,
       "overflow": null,
       "overflow_x": null,
       "overflow_y": null,
       "padding": null,
       "right": null,
       "top": null,
       "visibility": null,
       "width": null
      }
     },
     "a73103825943458c883213e75eb9f11c": {
      "model_module": "@jupyter-widgets/base",
      "model_module_version": "1.2.0",
      "model_name": "LayoutModel",
      "state": {
       "_model_module": "@jupyter-widgets/base",
       "_model_module_version": "1.2.0",
       "_model_name": "LayoutModel",
       "_view_count": null,
       "_view_module": "@jupyter-widgets/base",
       "_view_module_version": "1.2.0",
       "_view_name": "LayoutView",
       "align_content": null,
       "align_items": null,
       "align_self": null,
       "border": null,
       "bottom": null,
       "display": null,
       "flex": null,
       "flex_flow": null,
       "grid_area": null,
       "grid_auto_columns": null,
       "grid_auto_flow": null,
       "grid_auto_rows": null,
       "grid_column": null,
       "grid_gap": null,
       "grid_row": null,
       "grid_template_areas": null,
       "grid_template_columns": null,
       "grid_template_rows": null,
       "height": null,
       "justify_content": null,
       "justify_items": null,
       "left": null,
       "margin": null,
       "max_height": null,
       "max_width": null,
       "min_height": null,
       "min_width": null,
       "object_fit": null,
       "object_position": null,
       "order": null,
       "overflow": null,
       "overflow_x": null,
       "overflow_y": null,
       "padding": null,
       "right": null,
       "top": null,
       "visibility": null,
       "width": null
      }
     },
     "aa8a8b81cbd341fea9bbf4d25f4e1b08": {
      "model_module": "@jupyter-widgets/controls",
      "model_module_version": "1.5.0",
      "model_name": "VBoxModel",
      "state": {
       "_dom_classes": [
        "widget-interact"
       ],
       "_model_module": "@jupyter-widgets/controls",
       "_model_module_version": "1.5.0",
       "_model_name": "VBoxModel",
       "_view_count": null,
       "_view_module": "@jupyter-widgets/controls",
       "_view_module_version": "1.5.0",
       "_view_name": "VBoxView",
       "box_style": "",
       "children": [
        "IPY_MODEL_f90986a25acd4f5eb7f759b2997bf22c",
        "IPY_MODEL_2852606a46894bdaa7abbfba4e04f8e8"
       ],
       "layout": "IPY_MODEL_a73103825943458c883213e75eb9f11c"
      }
     },
     "f90986a25acd4f5eb7f759b2997bf22c": {
      "model_module": "@jupyter-widgets/controls",
      "model_module_version": "1.5.0",
      "model_name": "FloatSliderModel",
      "state": {
       "_dom_classes": [],
       "_model_module": "@jupyter-widgets/controls",
       "_model_module_version": "1.5.0",
       "_model_name": "FloatSliderModel",
       "_view_count": null,
       "_view_module": "@jupyter-widgets/controls",
       "_view_module_version": "1.5.0",
       "_view_name": "FloatSliderView",
       "continuous_update": true,
       "description": "C (Inverse of Regularization Strength)",
       "description_tooltip": null,
       "disabled": false,
       "layout": "IPY_MODEL_88edac93ea534f57a75316aeba040ac6",
       "max": 10.0,
       "min": 0.01,
       "orientation": "horizontal",
       "readout": true,
       "readout_format": ".2f",
       "step": 1.0,
       "style": "IPY_MODEL_5a8b67096d7f43cd9512212b37962bf1",
       "value": 1.0
      }
     }
    },
    "version_major": 2,
    "version_minor": 0
   }
  }
 },
 "nbformat": 4,
 "nbformat_minor": 5
}