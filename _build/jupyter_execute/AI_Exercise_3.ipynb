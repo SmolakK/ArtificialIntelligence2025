{
 "cells": [
  {
   "cell_type": "markdown",
   "metadata": {},
   "source": [
    "# Exercise 3: Python Knowledge Repetition "
   ]
  },
  {
   "cell_type": "markdown",
   "metadata": {},
   "source": [
    "## Functions\n",
    "\n",
    "<img src='img/Func.png' width=1100/>"
   ]
  },
  {
   "cell_type": "markdown",
   "metadata": {},
   "source": [
    "### Built-in Functions\n",
    "\n",
    "<span style=\"color: orange; font-size: 18px;\">These are functions that come pre-defined with Python, such as print(), len(), type(), and sum().</span> \n",
    "\n",
    "### User-defined Function\n",
    "\n",
    "<span style=\"color: orange; font-size: 18px;\">These are functions created by users using the \"def\" keyword. They allow you to define custom behaviors.</span> "
   ]
  },
  {
   "cell_type": "code",
   "execution_count": 1,
   "metadata": {},
   "outputs": [
    {
     "name": "stdout",
     "output_type": "stream",
     "text": [
      "Hello, AI!\n",
      "5\n",
      "4\n",
      "3\n",
      "2\n",
      "1\n",
      "0\n",
      "The average of the entered numbers is: 120\n"
     ]
    },
    {
     "ename": "StdinNotImplementedError",
     "evalue": "raw_input was called, but this frontend does not support input requests.",
     "output_type": "error",
     "traceback": [
      "\u001b[1;31m---------------------------------------------------------------------------\u001b[0m",
      "\u001b[1;31mStdinNotImplementedError\u001b[0m                  Traceback (most recent call last)",
      "Input \u001b[1;32mIn [1]\u001b[0m, in \u001b[0;36m<cell line: 50>\u001b[1;34m()\u001b[0m\n\u001b[0;32m     48\u001b[0m     average \u001b[38;5;241m=\u001b[39m total \u001b[38;5;241m/\u001b[39m count\n\u001b[0;32m     49\u001b[0m     \u001b[38;5;28;01mreturn\u001b[39;00m \u001b[38;5;124mf\u001b[39m\u001b[38;5;124m\"\u001b[39m\u001b[38;5;124mThe average of the entered numbers is: \u001b[39m\u001b[38;5;132;01m{\u001b[39;00maverage\u001b[38;5;132;01m}\u001b[39;00m\u001b[38;5;124m\"\u001b[39m\n\u001b[1;32m---> 50\u001b[0m \u001b[38;5;28mprint\u001b[39m(\u001b[43mcalculate_average\u001b[49m\u001b[43m(\u001b[49m\u001b[43m)\u001b[49m)\n",
      "Input \u001b[1;32mIn [1]\u001b[0m, in \u001b[0;36mcalculate_average\u001b[1;34m()\u001b[0m\n\u001b[0;32m     33\u001b[0m count \u001b[38;5;241m=\u001b[39m \u001b[38;5;241m0\u001b[39m\n\u001b[0;32m     34\u001b[0m \u001b[38;5;28;01mwhile\u001b[39;00m \u001b[38;5;28;01mTrue\u001b[39;00m:\n\u001b[1;32m---> 35\u001b[0m     user_input \u001b[38;5;241m=\u001b[39m \u001b[38;5;28;43minput\u001b[39;49m\u001b[43m(\u001b[49m\u001b[38;5;124;43m\"\u001b[39;49m\u001b[38;5;124;43mEnter a number to include in the average (or \u001b[39;49m\u001b[38;5;124;43m'\u001b[39;49m\u001b[38;5;124;43mdone\u001b[39;49m\u001b[38;5;124;43m'\u001b[39;49m\u001b[38;5;124;43m to finish): \u001b[39;49m\u001b[38;5;124;43m\"\u001b[39;49m\u001b[43m)\u001b[49m\n\u001b[0;32m     36\u001b[0m     \u001b[38;5;28;01mif\u001b[39;00m user_input\u001b[38;5;241m.\u001b[39mlower() \u001b[38;5;241m==\u001b[39m \u001b[38;5;124m'\u001b[39m\u001b[38;5;124mdone\u001b[39m\u001b[38;5;124m'\u001b[39m:\n\u001b[0;32m     37\u001b[0m         \u001b[38;5;28;01mbreak\u001b[39;00m\n",
      "File \u001b[1;32mC:\\ProgramData\\Anaconda3\\lib\\site-packages\\ipykernel\\kernelbase.py:1072\u001b[0m, in \u001b[0;36mKernel.raw_input\u001b[1;34m(self, prompt)\u001b[0m\n\u001b[0;32m   1065\u001b[0m \u001b[38;5;124;03m\"\"\"Forward raw_input to frontends\u001b[39;00m\n\u001b[0;32m   1066\u001b[0m \n\u001b[0;32m   1067\u001b[0m \u001b[38;5;124;03mRaises\u001b[39;00m\n\u001b[0;32m   1068\u001b[0m \u001b[38;5;124;03m------\u001b[39;00m\n\u001b[0;32m   1069\u001b[0m \u001b[38;5;124;03mStdinNotImplementedError if active frontend doesn't support stdin.\u001b[39;00m\n\u001b[0;32m   1070\u001b[0m \u001b[38;5;124;03m\"\"\"\u001b[39;00m\n\u001b[0;32m   1071\u001b[0m \u001b[38;5;28;01mif\u001b[39;00m \u001b[38;5;129;01mnot\u001b[39;00m \u001b[38;5;28mself\u001b[39m\u001b[38;5;241m.\u001b[39m_allow_stdin:\n\u001b[1;32m-> 1072\u001b[0m     \u001b[38;5;28;01mraise\u001b[39;00m StdinNotImplementedError(\n\u001b[0;32m   1073\u001b[0m         \u001b[38;5;124m\"\u001b[39m\u001b[38;5;124mraw_input was called, but this frontend does not support input requests.\u001b[39m\u001b[38;5;124m\"\u001b[39m\n\u001b[0;32m   1074\u001b[0m     )\n\u001b[0;32m   1075\u001b[0m \u001b[38;5;28;01mreturn\u001b[39;00m \u001b[38;5;28mself\u001b[39m\u001b[38;5;241m.\u001b[39m_input_request(\n\u001b[0;32m   1076\u001b[0m     \u001b[38;5;28mstr\u001b[39m(prompt),\n\u001b[0;32m   1077\u001b[0m     \u001b[38;5;28mself\u001b[39m\u001b[38;5;241m.\u001b[39m_parent_ident[\u001b[38;5;124m\"\u001b[39m\u001b[38;5;124mshell\u001b[39m\u001b[38;5;124m\"\u001b[39m],\n\u001b[0;32m   1078\u001b[0m     \u001b[38;5;28mself\u001b[39m\u001b[38;5;241m.\u001b[39mget_parent(\u001b[38;5;124m\"\u001b[39m\u001b[38;5;124mshell\u001b[39m\u001b[38;5;124m\"\u001b[39m),\n\u001b[0;32m   1079\u001b[0m     password\u001b[38;5;241m=\u001b[39m\u001b[38;5;28;01mFalse\u001b[39;00m,\n\u001b[0;32m   1080\u001b[0m )\n",
      "\u001b[1;31mStdinNotImplementedError\u001b[0m: raw_input was called, but this frontend does not support input requests."
     ]
    }
   ],
   "source": [
    "def my_function():\n",
    "    print(\"Hello, AI!\")\n",
    "my_function()\n",
    "    \n",
    "\n",
    "\n",
    "\n",
    "def countdown(start):\n",
    "    while start >= 0:\n",
    "        print(start)\n",
    "        start -= 1\n",
    "countdown(5) \n",
    "\n",
    "\n",
    "\n",
    "    \n",
    "def factorial(n):\n",
    "    if n < 0:\n",
    "        return \"Factorial is not defined for negative numbers.\"\n",
    "    result = 1\n",
    "    while n > 1:\n",
    "        result *= n\n",
    "        n -= 1\n",
    "    return result\n",
    "print(f\"The average of the entered numbers is: {factorial(5)}\")\n",
    "\n",
    "\n",
    "\n",
    "\n",
    "\n",
    "def calculate_average():\n",
    "    total = 0\n",
    "    count = 0\n",
    "    while True:\n",
    "        user_input = input(\"Enter a number to include in the average (or 'done' to finish): \")\n",
    "        if user_input.lower() == 'done':\n",
    "            break\n",
    "        try:\n",
    "            number = float(user_input)\n",
    "            total += number\n",
    "            count += 1\n",
    "        except ValueError:\n",
    "            print(\"Invalid input. Please enter a numeric value.\")\n",
    "    \n",
    "    if count == 0:\n",
    "        return \"No numbers were entered.\"\n",
    "    \n",
    "    average = total / count\n",
    "    return f\"The average of the entered numbers is: {average}\"\n",
    "print(calculate_average())\n"
   ]
  },
  {
   "cell_type": "markdown",
   "metadata": {},
   "source": [
    "### Lambda Functions\n",
    "\n",
    "<span style=\"color: orange; font-size: 18px;\">Also known as anonymous functions, these are small, inline functions defined with the lambda keyword. They can take any number of arguments but only have a single expression.</span> "
   ]
  },
  {
   "cell_type": "code",
   "execution_count": null,
   "metadata": {},
   "outputs": [],
   "source": [
    "add = lambda x, y: x + y"
   ]
  },
  {
   "cell_type": "markdown",
   "metadata": {},
   "source": [
    "### Recursive Functions\n",
    "\n",
    "<span style=\"color: orange; font-size: 18px;\">These are functions that call themselves in order to solve a problem. They must have a base case to terminate the recursion.</span>"
   ]
  },
  {
   "cell_type": "code",
   "execution_count": null,
   "metadata": {},
   "outputs": [],
   "source": [
    "def factorial(n):\n",
    "    # Base case: If n is 0, return 1\n",
    "    if n == 0:\n",
    "        return 1\n",
    "    # Recursive case: n! = n * (n - 1)!\n",
    "    else:\n",
    "        return n * factorial(n - 1)\n",
    "\n",
    "# Example usage\n",
    "number = 5\n",
    "result = factorial(number)\n",
    "print(f\"The factorial of {number} is: {result}\")\n",
    "\n",
    "    \n",
    "\n",
    "    \n",
    "def fibonacci(n):\n",
    "    # Base case: Fibonacci of 0 is 0, and Fibonacci of 1 is 1\n",
    "    if n == 0:\n",
    "        return 0\n",
    "    elif n == 1:\n",
    "        return 1\n",
    "    # Recursive case: Fibonacci of n is the sum of Fibonacci of (n-1) and (n-2)\n",
    "    else:\n",
    "        return fibonacci(n - 1) + fibonacci(n - 2)\n",
    "\n",
    "# Example usage\n",
    "number = 8\n",
    "result = fibonacci(number)\n",
    "print(f\"The {number}th Fibonacci number is: {result}\")"
   ]
  },
  {
   "cell_type": "markdown",
   "metadata": {},
   "source": [
    "### Higher-order Functions\n",
    "\n",
    "<span style=\"color: orange; font-size: 18px;\">These are functions that take other functions as arguments or return them as results. Examples include map(), filter(), and reduce() from the functools module.</span>"
   ]
  },
  {
   "cell_type": "code",
   "execution_count": null,
   "metadata": {},
   "outputs": [],
   "source": [
    "numbers = [1, 2, 3, 4, 5, 6, 7, 8, 9, 10]\n",
    "\n",
    "def is_even(x):\n",
    "    return x % 2 == 0\n",
    "\n",
    "even_numbers = list(filter(is_even, numbers))\n",
    "\n",
    "print(even_numbers)"
   ]
  },
  {
   "cell_type": "markdown",
   "metadata": {},
   "source": [
    "### Generator Functions\n",
    "\n",
    "<span style=\"color: orange; font-size: 18px;\">These are functions that use the yield keyword to return an iterable sequence of values, allowing them to produce items one at a time and maintain state between calls.</span>"
   ]
  },
  {
   "cell_type": "code",
   "execution_count": null,
   "metadata": {},
   "outputs": [],
   "source": [
    "def count_up_to(n):\n",
    "    count = 1\n",
    "    while count <= n:\n",
    "        yield count\n",
    "        count += 1"
   ]
  },
  {
   "cell_type": "markdown",
   "metadata": {},
   "source": [
    "\n",
    "### Coroutine Functions\n",
    "\n",
    "<span style=\"color: orange; font-size: 18px;\">These are special types of generator functions defined with the \"async def\" keyword, used for asynchronous programming. They allow for non-blocking execution. </span>\n"
   ]
  },
  {
   "cell_type": "code",
   "execution_count": null,
   "metadata": {},
   "outputs": [],
   "source": [
    "import asyncio\n",
    "\n",
    "async def fetch_data():\n",
    "    print(\"Fetching data...\")\n",
    "    await asyncio.sleep(2)  \n",
    "    print(\"Data fetched!\")\n",
    "    return {\"data\": \"some data\"}\n",
    "\n",
    "async def main():\n",
    "    print(\"Main function started\")\n",
    "    data = await fetch_data() \n",
    "    print(\"Received:\", data)\n",
    "\n",
    "asyncio.run(main())"
   ]
  }
 ],
 "metadata": {
  "kernelspec": {
   "display_name": "base",
   "language": "python",
   "name": "python3"
  },
  "language_info": {
   "codemirror_mode": {
    "name": "ipython",
    "version": 3
   },
   "file_extension": ".py",
   "mimetype": "text/x-python",
   "name": "python",
   "nbconvert_exporter": "python",
   "pygments_lexer": "ipython3",
   "version": "3.9.12"
  }
 },
 "nbformat": 4,
 "nbformat_minor": 2
}