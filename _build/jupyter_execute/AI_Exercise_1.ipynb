{
 "cells": [
  {
   "cell_type": "markdown",
   "metadata": {},
   "source": [
    "# Exercises \n",
    "\n",
    "## Teacher:\n",
    "\n",
    "* Dr. Saeid Haji-Aghajany: email: <saeid.haji-aghajany@upwr.edu.pl>"
   ]
  },
  {
   "cell_type": "markdown",
   "metadata": {},
   "source": [
    "# Subjects\n",
    "<span style=\"color: gray; font-size: 20px;\">Three parts:</span>  \n",
    "\n",
    "\n"
   ]
  },
  {
   "cell_type": "markdown",
   "metadata": {},
   "source": [
    "<img src='img/Subjects.jpg' width=1300/>\n",
    "\n"
   ]
  },
  {
   "cell_type": "markdown",
   "metadata": {},
   "source": [
    "\n",
    "# Why We Use Python for Machine Learning?\n",
    "<span style=\"color: orange; font-size: 20px;\"> Simplicity and Readability</span>  \n",
    "\n",
    "- Python's clean syntax makes code easy to read and write, enhancing productivity and collaboration among developers\n",
    "\n",
    "<span style=\"color: orange; font-size: 20px;\"> Extensive libraries and frameworks</span>\n",
    "\n",
    "- With libraries like TensorFlow, Scikit-learn, and Pandas, Python provides powerful tools for machine learning and data analysis, simplifying complex tasks\n",
    "\n",
    "<span style=\"color: orange; font-size: 20px;\"> Cross-platform compatibility</span>  \n",
    "\n",
    "- Python runs seamlessly on Windows, macOS, and Linux, allowing developers to work across different operating systems without issues\n",
    "\n",
    "<span style=\"color: orange; font-size: 20px;\"> Scaling and Performance</span> \n",
    "\n",
    "- Python supports efficient scaling through frameworks like Dask and TensorFlow, enabling the handling of large datasets and complex computations effectively"
   ]
  },
  {
   "cell_type": "markdown",
   "metadata": {},
   "source": [
    "# Starting point\n",
    "<span style=\"color: green; font-size: 20px;\"> Download and installation:</span>  \n",
    "- https://www.python.org/\n",
    "- Run installer (For Windows, make sure to check the box that says \"Add Python to PATH\")\n",
    "\n",
    "<img src='img/install.png' width=500/>\n",
    "\n",
    "- Verify installation in cmd: <span style=\"color: orange; font-size: 15px;\">  python --version   </span> \n",
    "\n",
    "<span style=\"color: green; font-size: 20px;\"> Environment</span>  \n",
    "- Create a folder as your environment\n",
    "- Open cmd and go to your environment:   <span style=\"color: orange; font-size: 15px;\"> cd C:\\path\\to\\your\\directory</span>\n",
    "- Confirm the python version <span style=\"color: orange; font-size: 15px;\">  python --version   </span>  \n",
    "- Create the environment: <span style=\"color: orange; font-size: 15px;\"> python -m venv \"name of your environment\" </span>    \n",
    "- Active your environment: <span style=\"color: orange; font-size: 15px;\">  myenv\\Scripts\\activate   </span> \n",
    "- Confirm python version   <span style=\"color: orange; font-size: 15px;\">  python --version   </span>  \n",
    "- Install notebook: <span style=\"color: orange; font-size: 15px;\">  pip install notebook ipykernel   </span>  \n",
    "\n",
    "\n",
    "\n",
    "<span style=\"color: green; font-size: 20px;\"> Selecting a Platform:</span> \n",
    "- <span style=\"color: lightgreen;\"> VS Code</span> \n",
    "- PyCharm \n",
    "- Spyder\n",
    "- Atom\n",
    "- Thonny\n",
    "- Google Colab\n",
    "- ...\n",
    "\n",
    "<span style=\"color: green; font-size: 20px;\"> Download VS Code and installation:</span>  \n",
    "- https://code.visualstudio.com/download\n",
    "\n",
    "- Install the Python extension in VS Code.\n",
    "\n",
    "<img src='img/python.png' width=500/>\n",
    "\n",
    "- Install the Jupyter extension in VS Code.\n",
    "\n",
    "<img src='img/jupyter.png' width=500/>\n",
    "\n",
    "- Create a new Jupyter notebook through the command palette.\n",
    "\n",
    "<img src='img/interp.png' width=500/>\n",
    "\n",
    "- Select the Python interpreter."
   ]
  },
  {
   "cell_type": "markdown",
   "metadata": {},
   "source": [
    "# Basic Syntax"
   ]
  },
  {
   "cell_type": "code",
   "execution_count": 1,
   "metadata": {},
   "outputs": [
    {
     "name": "stdout",
     "output_type": "stream",
     "text": [
      "Hello Artificial Intelligence !\n",
      "15\n",
      "100\n",
      "4.0\n",
      "Total: 104.0\n"
     ]
    },
    {
     "ename": "StdinNotImplementedError",
     "evalue": "raw_input was called, but this frontend does not support input requests.",
     "output_type": "error",
     "traceback": [
      "\u001b[1;31m---------------------------------------------------------------------------\u001b[0m",
      "\u001b[1;31mStdinNotImplementedError\u001b[0m                  Traceback (most recent call last)",
      "Input \u001b[1;32mIn [1]\u001b[0m, in \u001b[0;36m<cell line: 12>\u001b[1;34m()\u001b[0m\n\u001b[0;32m      9\u001b[0m \u001b[38;5;28mprint\u001b[39m(\u001b[38;5;124m\"\u001b[39m\u001b[38;5;124mTotal:\u001b[39m\u001b[38;5;124m\"\u001b[39m, y\u001b[38;5;241m+\u001b[39mz)\n\u001b[0;32m     11\u001b[0m \u001b[38;5;66;03m# Asking for user input\u001b[39;00m\n\u001b[1;32m---> 12\u001b[0m user_name \u001b[38;5;241m=\u001b[39m \u001b[38;5;28;43minput\u001b[39;49m\u001b[43m(\u001b[49m\u001b[38;5;124;43m\"\u001b[39;49m\u001b[38;5;124;43mPlease enter your name: \u001b[39;49m\u001b[38;5;124;43m\"\u001b[39;49m\u001b[43m)\u001b[49m\n\u001b[0;32m     13\u001b[0m \u001b[38;5;28mprint\u001b[39m(\u001b[38;5;124m\"\u001b[39m\u001b[38;5;124mHello, \u001b[39m\u001b[38;5;124m\"\u001b[39m \u001b[38;5;241m+\u001b[39m user_name \u001b[38;5;241m+\u001b[39m \u001b[38;5;124m\"\u001b[39m\u001b[38;5;124m!\u001b[39m\u001b[38;5;124m\"\u001b[39m)\n\u001b[0;32m     15\u001b[0m \u001b[38;5;66;03m# Asking for numeric input\u001b[39;00m\n",
      "File \u001b[1;32mC:\\ProgramData\\Anaconda3\\lib\\site-packages\\ipykernel\\kernelbase.py:1072\u001b[0m, in \u001b[0;36mKernel.raw_input\u001b[1;34m(self, prompt)\u001b[0m\n\u001b[0;32m   1065\u001b[0m \u001b[38;5;124;03m\"\"\"Forward raw_input to frontends\u001b[39;00m\n\u001b[0;32m   1066\u001b[0m \n\u001b[0;32m   1067\u001b[0m \u001b[38;5;124;03mRaises\u001b[39;00m\n\u001b[0;32m   1068\u001b[0m \u001b[38;5;124;03m------\u001b[39;00m\n\u001b[0;32m   1069\u001b[0m \u001b[38;5;124;03mStdinNotImplementedError if active frontend doesn't support stdin.\u001b[39;00m\n\u001b[0;32m   1070\u001b[0m \u001b[38;5;124;03m\"\"\"\u001b[39;00m\n\u001b[0;32m   1071\u001b[0m \u001b[38;5;28;01mif\u001b[39;00m \u001b[38;5;129;01mnot\u001b[39;00m \u001b[38;5;28mself\u001b[39m\u001b[38;5;241m.\u001b[39m_allow_stdin:\n\u001b[1;32m-> 1072\u001b[0m     \u001b[38;5;28;01mraise\u001b[39;00m StdinNotImplementedError(\n\u001b[0;32m   1073\u001b[0m         \u001b[38;5;124m\"\u001b[39m\u001b[38;5;124mraw_input was called, but this frontend does not support input requests.\u001b[39m\u001b[38;5;124m\"\u001b[39m\n\u001b[0;32m   1074\u001b[0m     )\n\u001b[0;32m   1075\u001b[0m \u001b[38;5;28;01mreturn\u001b[39;00m \u001b[38;5;28mself\u001b[39m\u001b[38;5;241m.\u001b[39m_input_request(\n\u001b[0;32m   1076\u001b[0m     \u001b[38;5;28mstr\u001b[39m(prompt),\n\u001b[0;32m   1077\u001b[0m     \u001b[38;5;28mself\u001b[39m\u001b[38;5;241m.\u001b[39m_parent_ident[\u001b[38;5;124m\"\u001b[39m\u001b[38;5;124mshell\u001b[39m\u001b[38;5;124m\"\u001b[39m],\n\u001b[0;32m   1078\u001b[0m     \u001b[38;5;28mself\u001b[39m\u001b[38;5;241m.\u001b[39mget_parent(\u001b[38;5;124m\"\u001b[39m\u001b[38;5;124mshell\u001b[39m\u001b[38;5;124m\"\u001b[39m),\n\u001b[0;32m   1079\u001b[0m     password\u001b[38;5;241m=\u001b[39m\u001b[38;5;28;01mFalse\u001b[39;00m,\n\u001b[0;32m   1080\u001b[0m )\n",
      "\u001b[1;31mStdinNotImplementedError\u001b[0m: raw_input was called, but this frontend does not support input requests."
     ]
    }
   ],
   "source": [
    "\n",
    "print('Hello Artificial Intelligence !')  # This will be executed first\n",
    "print(5 + 10)\n",
    "y = 20 * 5\n",
    "z = 20 / 5\n",
    "\n",
    "# Printing the result\n",
    "print(y)\n",
    "print(z)\n",
    "print(\"Total:\", y+z)\n",
    "\n",
    "# Asking for user input\n",
    "user_name = input(\"Please enter your name: \")\n",
    "print(\"Hello, \" + user_name + \"!\")\n",
    "\n",
    "# Asking for numeric input\n",
    "user_age = input(\"Please enter your age: \")\n",
    "user_age = int(user_age)  # Convert string input to an integer\n",
    "print(\"You are \" + str(user_age) + \" years old!\")\n",
    "\n",
    "# Asking for multiple inputs\n",
    "user_name = input(\"Please enter your name: \")\n",
    "favorite_color = input(\"What is your favorite color? \")\n",
    "user_age = input(\"Please enter your age: \")\n",
    "user_age = int(user_age)  # Convert string input to an integer\n",
    "\n",
    "print(f\"Your name is {user_name}, Your favorite color is {favorite_color}, and you are {user_age} years old!\")\n"
   ]
  },
  {
   "cell_type": "markdown",
   "metadata": {},
   "source": [
    "# Variables"
   ]
  },
  {
   "cell_type": "code",
   "execution_count": null,
   "metadata": {},
   "outputs": [],
   "source": [
    "# Integer variable (whole number)\n",
    "age = 25\n",
    "print(\"Age:\", age)  \n",
    "\n",
    "# Float variable (decimal number)\n",
    "height = 5.9\n",
    "print(\"Height:\", height)  \n",
    "\n",
    "# String variable (text)\n",
    "name = \"Alice\"\n",
    "print(\"Name:\", name) \n",
    "\n",
    "# Boolean variable (True or False)\n",
    "is_student = True\n",
    "print(\"Is Student:\", is_student)  \n",
    "\n",
    "# List variable (ordered, mutable collection)\n",
    "fruits = [\"apple\", \"banana\", \"cherry\"]\n",
    "print(\"Fruits:\", fruits)  \n",
    "\n",
    "# Tuple variable (ordered, immutable collection)\n",
    "coordinates = (10.0, 20.0)\n",
    "print(\"Coordinates:\", coordinates)  \n",
    "\n",
    "# Dictionary variable (key-value pairs)\n",
    "person = {\"name\": \"Alice\", \"age\": 25, \"is_student\": False}\n",
    "print(\"Person Info:\", person)  \n",
    "\n",
    "# Modifying variables\n",
    "age += 1  \n",
    "fruits.append(\"orange\")  \n",
    "\n",
    "print(\"Updated Age:\", age)  # Output: 26\n",
    "print(\"Updated Fruits:\", fruits) \n",
    "\n",
    "# Accessing dictionary values\n",
    "print(\"\\nPerson's Name:\", person[\"name\"])  \n",
    "\n",
    "# Combining different types of variables in a string\n",
    "greeting = f\"Hello, my name is {name}. I am {age} years old and I am {height} feet tall.\"\n",
    "print(\"\\nGreeting:\", greeting)\n"
   ]
  },
  {
   "cell_type": "markdown",
   "metadata": {},
   "source": [
    "# Conditions"
   ]
  },
  {
   "cell_type": "code",
   "execution_count": null,
   "metadata": {},
   "outputs": [],
   "source": [
    "x = 7\n",
    "\n",
    "# Check if x is equal to 7\n",
    "if x == 7:\n",
    "    print(\"x is equal to 7\")\n",
    "else:\n",
    "    # This block executes if the above condition (x == 7) is false\n",
    "    print(\"x is not equal to 7\")\n",
    "\n",
    "# Check if x is not equal to 10\n",
    "if x != 10:\n",
    "    print(\"x is not equal to 10\")\n",
    "else:\n",
    "    # This block executes if the above condition (x != 10) is false\n",
    "    print(\"x is equal to 10\")\n",
    "\n",
    "# Check if x is between 5 and 10\n",
    "if 5 < x < 10:  # Simplified condition\n",
    "    print(\"x is greater than 5 and less than 10\")\n",
    "else:\n",
    "    # This block executes if the above condition (5 < x < 10) is false\n",
    "    print(\"x is not between 5 and 10\")\n",
    "\n",
    "# Logical OR with elif\n",
    "if x <= 5:\n",
    "    # This block executes if x is less than or equal to 5\n",
    "    print(\"x is less than or equal to 5\")\n",
    "elif x >= 8:\n",
    "    # This block executes if the first condition (x <= 5) is false\n",
    "    # and this condition (x >= 8) is true\n",
    "    print(\"x is greater than or equal to 8\")\n",
    "else:\n",
    "    # This block executes if both the previous conditions are false\n",
    "    print(\"x is between 6 and 7\")\n",
    "\n",
    "# Check if x is not equal to 10\n",
    "if not x == 10:\n",
    "    print(\"x is not equal to 10\")\n",
    "else:\n",
    "    print(\"x is equal to 10\")\n",
    "\n"
   ]
  },
  {
   "cell_type": "markdown",
   "metadata": {},
   "source": [
    "# Loop -> for"
   ]
  },
  {
   "cell_type": "code",
   "execution_count": null,
   "metadata": {},
   "outputs": [],
   "source": [
    "# Basic for loop\n",
    "numbers = [1, 2, 3, 4, 5]\n",
    "for num in numbers:\n",
    "    print(num)"
   ]
  },
  {
   "cell_type": "code",
   "execution_count": null,
   "metadata": {},
   "outputs": [],
   "source": [
    "# Using range()\n",
    "for i in range(5):  # Iterates from 0 to 4\n",
    "    print(\"Iteration:\", i)"
   ]
  },
  {
   "cell_type": "code",
   "execution_count": null,
   "metadata": {},
   "outputs": [],
   "source": [
    "# Multiplication table\n",
    "for i in range(1, 6):  # Outer loop for rows\n",
    "    for j in range(1, 6):  # Inner loop for columns\n",
    "        print(i * j, end=\"\\t\")  # Print product with a tab space\n",
    "    print()  # New line after each row"
   ]
  },
  {
   "cell_type": "code",
   "execution_count": null,
   "metadata": {},
   "outputs": [],
   "source": [
    "# For loop with break and continue\n",
    "for i in range(10):\n",
    "    if i == 5:\n",
    "        continue  # Skip 5\n",
    "    if i == 8:\n",
    "        break  # Exit the loop\n",
    "    print(i)"
   ]
  },
  {
   "cell_type": "markdown",
   "metadata": {},
   "source": [
    "# Loop -> while"
   ]
  },
  {
   "cell_type": "code",
   "execution_count": null,
   "metadata": {},
   "outputs": [],
   "source": [
    "# Basic while loop\n",
    "count = 5\n",
    "while count > 0:\n",
    "    print(count)\n",
    "    count -= 1  # Decrement count by 1\n",
    "print(\"Blast off!\")"
   ]
  },
  {
   "cell_type": "code",
   "execution_count": null,
   "metadata": {},
   "outputs": [],
   "source": [
    "# User input until valid input\n",
    "user_input = \"\"\n",
    "while user_input.lower() != \"exit\":\n",
    "    user_input = input(\"Type 'exit' to quit: \")\n",
    "    print(\"You entered:\", user_input)"
   ]
  },
  {
   "cell_type": "code",
   "execution_count": null,
   "metadata": {},
   "outputs": [],
   "source": [
    "balance = 1000\n",
    "\n",
    "while True:\n",
    "    choice = input(\"\\n1. Check Balance\\n2. Deposit\\n3. Withdraw\\n4. Exit\\nChoose (1-4): \")\n",
    "\n",
    "    if choice == '1':\n",
    "        print(f\"Balance: ${balance}\")\n",
    "    elif choice == '2':\n",
    "        balance += max(0, float(input(\"Deposit amount: \")))\n",
    "    elif choice == '3':\n",
    "        balance -= min(balance, max(0, float(input(\"Withdraw amount: \"))))\n",
    "    elif choice == '4':\n",
    "        break\n",
    "    else:\n",
    "        print(\"Invalid choice!\")\n"
   ]
  },
  {
   "cell_type": "code",
   "execution_count": null,
   "metadata": {},
   "outputs": [],
   "source": [
    "# Initialize the quiz running state\n",
    "running = True\n",
    "score = 0\n",
    "\n",
    "# Predefined number pairs for the quiz\n",
    "number_pairs = [(1, 2), (3, 4), (5, 6), (7, 8), (9, 10)]\n",
    "\n",
    "# Start the quiz\n",
    "while running:\n",
    "    print(\"\\nWelcome to the Arithmetic Quiz!\")\n",
    "    print(\"Choose the operation:\")\n",
    "    print(\"1. Addition\")\n",
    "    print(\"2. Subtraction\")\n",
    "    print(\"3. Multiplication\")\n",
    "    print(\"4. Exit the quiz\")\n",
    "\n",
    "\n",
    "    # Get user choice for operation\n",
    "    choice = input(\"Enter your choice (1-4): \")\n",
    "\n",
    "    # Check for exit condition\n",
    "    if choice == '4':\n",
    "        print(\"Thank you for participating!\")\n",
    "        break  # Exit the quiz\n",
    "    \n",
    "    #if choice == '4':\n",
    "     #   print(\"Thank you for participating!\")\n",
    "        #running = False  # Set running to False to exit the quiz\n",
    "        #continue  # Exit the current loop iteration\n",
    "\n",
    "    # Validate input for operation choice\n",
    "    if choice not in ['1', '2', '3']:\n",
    "        print(\"Invalid choice. Please select a valid option.\")\n",
    "        continue  # Restart the loop for a valid choice\n",
    "\n",
    "    # Ask the user how many questions they want\n",
    "    num_questions = input(\"How many questions do you want to answer? \")\n",
    "\n",
    "    try:\n",
    "        num_questions = int(num_questions)  # Convert input to an integer\n",
    "    except ValueError:\n",
    "        print(\"Please enter a valid number for questions.\")\n",
    "        continue  # Restart the loop\n",
    "\n",
    "    # Ensure the number of questions does not exceed available pairs\n",
    "    if num_questions > len(number_pairs):\n",
    "        print(f\"Sorry, you can only answer up to {len(number_pairs)} questions.\")\n",
    "        continue\n",
    "\n",
    "    # Generate questions based on the user's choice\n",
    "    for i in range(num_questions):\n",
    "        num1, num2 = number_pairs[i]  # Get predefined pairs\n",
    "        \n",
    "        if choice == '1':\n",
    "            correct_answer = num1 + num2\n",
    "            user_answer = int(input(f\"What is {num1} + {num2}? \"))\n",
    "        elif choice == '2':\n",
    "            correct_answer = num1 - num2\n",
    "            user_answer = int(input(f\"What is {num1} - {num2}? \"))\n",
    "        elif choice == '3':\n",
    "            correct_answer = num1 * num2\n",
    "            user_answer = int(input(f\"What is {num1} * {num2}? \"))\n",
    "\n",
    "        # Check user's answer\n",
    "        if user_answer == correct_answer:\n",
    "            print(\"Correct!\")\n",
    "            score += 1  # Increment score for a correct answer\n",
    "        else:\n",
    "            print(f\"Wrong! The correct answer is {correct_answer}.\")\n",
    "\n",
    "    print(f\"Your current score is: {score} out of {num_questions}.\")  # Show score after each round"
   ]
  },
  {
   "cell_type": "markdown",
   "metadata": {},
   "source": [
    "# Libraries\n",
    "\n",
    "<span style=\"color: gray; font-size: 20px;\"> Standard libraries</span>\n",
    "\n",
    "<span style=\"color: green; font-size: 17px;\"> Python documentation</span>  \n",
    "- https://docs.python.org/3/\n",
    "\n",
    "<span style=\"color: gray; font-size: 20px;\"> Third-Party libraries</span>\n",
    "\n",
    "<span style=\"color: green; font-size: 17px;\"> Installing libraries</span>  \n",
    "\n",
    "- Open cmd and go to your environment:   <span style=\"color: orange; font-size: 15px;\"> cd C:\\path\\to\\your\\directory</span>\n",
    "- Active your environment: <span style=\"color: orange; font-size: 15px;\">  myenv\\Scripts\\activate   </span>\n",
    "- Installing intended libraries: <span style=\"color: orange; font-size: 15px;\">  pip install \"library_name\"   </span> \n",
    "\n"
   ]
  },
  {
   "cell_type": "code",
   "execution_count": null,
   "metadata": {},
   "outputs": [],
   "source": [
    "\n",
    "import math\n",
    "\n",
    "# Calculate the square root of 16\n",
    "result = math.sqrt(16)\n",
    "print(\"The square root of 16 is:\", result)\n",
    "\n",
    "import random\n",
    "\n",
    "# Generate a random integer between 1 and 10\n",
    "random_number = random.randint(1, 10)\n",
    "print(\"Random number between 1 and 10:\", random_number)\n",
    "\n",
    "import numpy as np\n",
    "\n",
    "# Create a NumPy array\n",
    "array = np.array([1, 2, 3, 4, 5])\n",
    "\n",
    "# Calculate the mean\n",
    "mean_value = np.mean(array)\n",
    "print(\"Mean value of the array:\", mean_value)"
   ]
  }
 ],
 "metadata": {
  "kernelspec": {
   "display_name": "base",
   "language": "python",
   "name": "python3"
  },
  "language_info": {
   "codemirror_mode": {
    "name": "ipython",
    "version": 3
   },
   "file_extension": ".py",
   "mimetype": "text/x-python",
   "name": "python",
   "nbconvert_exporter": "python",
   "pygments_lexer": "ipython3",
   "version": "3.9.12"
  }
 },
 "nbformat": 4,
 "nbformat_minor": 2
}