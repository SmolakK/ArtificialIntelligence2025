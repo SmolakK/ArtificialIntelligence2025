{
 "cells": [
  {
   "cell_type": "markdown",
   "id": "0eda6489",
   "metadata": {},
   "source": [
    "# Lecture 5: Pracitcal approach to using machine learning with Python\n"
   ]
  },
  {
   "cell_type": "markdown",
   "id": "86dbece3",
   "metadata": {},
   "source": [
    "## Let's focus on the practical use of machine learning tools with Python (and without)\n",
    "\n",
    "<b>First, we will try to see how to understand probability with simple calculations</b>\n",
    "\n",
    "### Probability of event based on the available data\n",
    "\n",
    "We are given a data, where some numbers were drawn from a basket. These are the following drawing results:"
   ]
  },
  {
   "cell_type": "code",
   "execution_count": 2,
   "id": "3d1dba67",
   "metadata": {},
   "outputs": [
    {
     "data": {
      "text/plain": [
       "array([9, 3, 7, 4, 3, 8, 2, 5, 7, 8, 3, 4, 9, 2, 1, 6, 8, 6, 8, 5, 4, 7,\n",
       "       3, 1, 3, 5, 7, 9, 8, 6, 3, 6, 7, 8, 9, 6, 3, 1, 4, 3, 8, 8, 4, 7,\n",
       "       2, 3, 4, 9, 8, 3, 8, 4, 2, 6, 1, 4, 1, 5, 7, 6, 9, 4, 6, 1, 1, 4,\n",
       "       2, 9, 7, 7, 7, 3, 6, 5, 2, 2, 7, 2, 9, 4, 8, 5, 3, 3, 7, 3, 4, 5,\n",
       "       9, 1, 1, 1, 4, 5, 6, 7, 2, 7, 9, 3])"
      ]
     },
     "execution_count": 2,
     "metadata": {},
     "output_type": "execute_result"
    }
   ],
   "source": [
    "import numpy as np\n",
    "drawing = np.random.randint(1,10,100)\n",
    "drawing"
   ]
  },
  {
   "cell_type": "markdown",
   "id": "fb5c250a",
   "metadata": {},
   "source": [
    "Let's calculate probability of drawing 9:"
   ]
  },
  {
   "cell_type": "code",
   "execution_count": null,
   "id": "0f2aa38e",
   "metadata": {},
   "outputs": [],
   "source": []
  },
  {
   "cell_type": "markdown",
   "id": "36a6e146",
   "metadata": {},
   "source": [
    "We can do it simpler with NumPy:"
   ]
  },
  {
   "cell_type": "code",
   "execution_count": null,
   "id": "44f909ad",
   "metadata": {},
   "outputs": [],
   "source": []
  },
  {
   "cell_type": "markdown",
   "id": "2f61b292",
   "metadata": {},
   "source": [
    "Now let's see on a more complex example using pandas.\n",
    "We have lottery drawings from few weeks:"
   ]
  },
  {
   "cell_type": "code",
   "execution_count": 7,
   "id": "d6df2a5c",
   "metadata": {},
   "outputs": [],
   "source": [
    "import pandas as pd\n",
    "import random"
   ]
  },
  {
   "cell_type": "code",
   "execution_count": 26,
   "id": "a829f80f",
   "metadata": {},
   "outputs": [
    {
     "data": {
      "text/html": [
       "<div>\n",
       "<style scoped>\n",
       "    .dataframe tbody tr th:only-of-type {\n",
       "        vertical-align: middle;\n",
       "    }\n",
       "\n",
       "    .dataframe tbody tr th {\n",
       "        vertical-align: top;\n",
       "    }\n",
       "\n",
       "    .dataframe thead th {\n",
       "        text-align: right;\n",
       "    }\n",
       "</style>\n",
       "<table border=\"1\" class=\"dataframe\">\n",
       "  <thead>\n",
       "    <tr style=\"text-align: right;\">\n",
       "      <th></th>\n",
       "      <th>Number_1</th>\n",
       "      <th>Number_2</th>\n",
       "      <th>Number_3</th>\n",
       "      <th>Number_4</th>\n",
       "      <th>Number_5</th>\n",
       "      <th>Number_6</th>\n",
       "    </tr>\n",
       "  </thead>\n",
       "  <tbody>\n",
       "    <tr>\n",
       "      <th>0</th>\n",
       "      <td>2</td>\n",
       "      <td>3</td>\n",
       "      <td>9</td>\n",
       "      <td>10</td>\n",
       "      <td>16</td>\n",
       "      <td>25</td>\n",
       "    </tr>\n",
       "    <tr>\n",
       "      <th>1</th>\n",
       "      <td>6</td>\n",
       "      <td>26</td>\n",
       "      <td>29</td>\n",
       "      <td>30</td>\n",
       "      <td>34</td>\n",
       "      <td>49</td>\n",
       "    </tr>\n",
       "    <tr>\n",
       "      <th>2</th>\n",
       "      <td>4</td>\n",
       "      <td>15</td>\n",
       "      <td>19</td>\n",
       "      <td>21</td>\n",
       "      <td>24</td>\n",
       "      <td>38</td>\n",
       "    </tr>\n",
       "    <tr>\n",
       "      <th>3</th>\n",
       "      <td>22</td>\n",
       "      <td>23</td>\n",
       "      <td>25</td>\n",
       "      <td>27</td>\n",
       "      <td>42</td>\n",
       "      <td>45</td>\n",
       "    </tr>\n",
       "    <tr>\n",
       "      <th>4</th>\n",
       "      <td>6</td>\n",
       "      <td>7</td>\n",
       "      <td>14</td>\n",
       "      <td>38</td>\n",
       "      <td>43</td>\n",
       "      <td>48</td>\n",
       "    </tr>\n",
       "    <tr>\n",
       "      <th>...</th>\n",
       "      <td>...</td>\n",
       "      <td>...</td>\n",
       "      <td>...</td>\n",
       "      <td>...</td>\n",
       "      <td>...</td>\n",
       "      <td>...</td>\n",
       "    </tr>\n",
       "    <tr>\n",
       "      <th>95</th>\n",
       "      <td>9</td>\n",
       "      <td>20</td>\n",
       "      <td>31</td>\n",
       "      <td>32</td>\n",
       "      <td>37</td>\n",
       "      <td>47</td>\n",
       "    </tr>\n",
       "    <tr>\n",
       "      <th>96</th>\n",
       "      <td>1</td>\n",
       "      <td>8</td>\n",
       "      <td>11</td>\n",
       "      <td>20</td>\n",
       "      <td>41</td>\n",
       "      <td>47</td>\n",
       "    </tr>\n",
       "    <tr>\n",
       "      <th>97</th>\n",
       "      <td>1</td>\n",
       "      <td>2</td>\n",
       "      <td>10</td>\n",
       "      <td>29</td>\n",
       "      <td>30</td>\n",
       "      <td>41</td>\n",
       "    </tr>\n",
       "    <tr>\n",
       "      <th>98</th>\n",
       "      <td>1</td>\n",
       "      <td>8</td>\n",
       "      <td>22</td>\n",
       "      <td>23</td>\n",
       "      <td>24</td>\n",
       "      <td>26</td>\n",
       "    </tr>\n",
       "    <tr>\n",
       "      <th>99</th>\n",
       "      <td>3</td>\n",
       "      <td>6</td>\n",
       "      <td>18</td>\n",
       "      <td>33</td>\n",
       "      <td>39</td>\n",
       "      <td>40</td>\n",
       "    </tr>\n",
       "  </tbody>\n",
       "</table>\n",
       "<p>100 rows × 6 columns</p>\n",
       "</div>"
      ],
      "text/plain": [
       "    Number_1  Number_2  Number_3  Number_4  Number_5  Number_6\n",
       "0          2         3         9        10        16        25\n",
       "1          6        26        29        30        34        49\n",
       "2          4        15        19        21        24        38\n",
       "3         22        23        25        27        42        45\n",
       "4          6         7        14        38        43        48\n",
       "..       ...       ...       ...       ...       ...       ...\n",
       "95         9        20        31        32        37        47\n",
       "96         1         8        11        20        41        47\n",
       "97         1         2        10        29        30        41\n",
       "98         1         8        22        23        24        26\n",
       "99         3         6        18        33        39        40\n",
       "\n",
       "[100 rows x 6 columns]"
      ]
     },
     "execution_count": 26,
     "metadata": {},
     "output_type": "execute_result"
    }
   ],
   "source": [
    "num_drawings = 100\n",
    "lottery_drawings = []\n",
    "\n",
    "for _ in range(num_drawings):\n",
    "    drawing = sorted(random.sample(range(1, 50), 6))  # Draw 6 unique numbers\n",
    "    lottery_drawings.append(drawing)\n",
    "df = pd.DataFrame(lottery_drawings, columns=[f\"Number_{i+1}\" for i in range(6)])\n",
    "df"
   ]
  },
  {
   "cell_type": "markdown",
   "id": "d9e67d4d",
   "metadata": {},
   "source": [
    "Let's calculate probability of drawing each number and visualize it:"
   ]
  },
  {
   "cell_type": "code",
   "execution_count": 27,
   "id": "2e80238f",
   "metadata": {},
   "outputs": [],
   "source": [
    "# calculte"
   ]
  },
  {
   "cell_type": "code",
   "execution_count": 28,
   "id": "a6e691a2",
   "metadata": {},
   "outputs": [],
   "source": [
    "# import matplotlib"
   ]
  },
  {
   "cell_type": "code",
   "execution_count": 30,
   "id": "7d011c5b",
   "metadata": {},
   "outputs": [],
   "source": [
    "# plot here"
   ]
  },
  {
   "cell_type": "markdown",
   "id": "8ff4bebb",
   "metadata": {},
   "source": [
    "### Let's use Python to make a simulation of some event\n",
    "\n",
    "This way we can simulate even very complex situations with Python and calculate probability of occurences.\n",
    "\n",
    "Let's start with coin toss:"
   ]
  },
  {
   "cell_type": "code",
   "execution_count": null,
   "id": "d8900735",
   "metadata": {},
   "outputs": [],
   "source": []
  },
  {
   "cell_type": "markdown",
   "id": "31e39c71",
   "metadata": {},
   "source": [
    "Now, let's calculate probability of winning in roulette while always betting on black.\n",
    "\n",
    "There are 37 slots, 18 of which are black."
   ]
  },
  {
   "cell_type": "code",
   "execution_count": null,
   "id": "c0628e25",
   "metadata": {},
   "outputs": [],
   "source": []
  },
  {
   "cell_type": "markdown",
   "id": "19442ae7",
   "metadata": {},
   "source": [
    "Let's simulate our winnings over time:"
   ]
  },
  {
   "cell_type": "code",
   "execution_count": null,
   "id": "803807c4",
   "metadata": {},
   "outputs": [],
   "source": []
  },
  {
   "cell_type": "markdown",
   "id": "3e783e38",
   "metadata": {},
   "source": [
    "## I hope that using Python to calculate probabilities is clear now. \n",
    "\n",
    "### Let's move to how to use Linear Regression and scikit-learn library in Python\n",
    "\n",
    "First we start with importing the library"
   ]
  },
  {
   "cell_type": "code",
   "execution_count": null,
   "id": "9da48851",
   "metadata": {},
   "outputs": [],
   "source": []
  },
  {
   "cell_type": "markdown",
   "id": "5991537f",
   "metadata": {},
   "source": [
    "Let's define some exemplary data"
   ]
  },
  {
   "cell_type": "code",
   "execution_count": 33,
   "id": "d0aa778f",
   "metadata": {},
   "outputs": [],
   "source": [
    "data = {'X': [1, 2, 3, 4, 5], 'Y': [1.5, 1.7, 3.1, 4.5, 5.2]}\n",
    "df = pd.DataFrame(data)"
   ]
  },
  {
   "cell_type": "code",
   "execution_count": null,
   "id": "08dc437e",
   "metadata": {},
   "outputs": [],
   "source": []
  },
  {
   "cell_type": "markdown",
   "id": "ed1aee4c",
   "metadata": {},
   "source": [
    "Now we can fit the model:"
   ]
  },
  {
   "cell_type": "code",
   "execution_count": null,
   "id": "f3d0ed28",
   "metadata": {},
   "outputs": [],
   "source": []
  },
  {
   "cell_type": "markdown",
   "id": "ce33eb73",
   "metadata": {},
   "source": [
    "Let's plot the model"
   ]
  },
  {
   "cell_type": "code",
   "execution_count": null,
   "id": "434ee3ac",
   "metadata": {},
   "outputs": [],
   "source": []
  },
  {
   "cell_type": "markdown",
   "id": "cc6e926f",
   "metadata": {},
   "source": [
    "Let's make predictions using the model!"
   ]
  },
  {
   "cell_type": "code",
   "execution_count": null,
   "id": "c13ac908",
   "metadata": {},
   "outputs": [],
   "source": []
  },
  {
   "cell_type": "markdown",
   "id": "e135e621",
   "metadata": {},
   "source": [
    "Also, we can asses our model on its performance using one of the metrics:"
   ]
  },
  {
   "cell_type": "code",
   "execution_count": null,
   "id": "6843871d",
   "metadata": {},
   "outputs": [],
   "source": []
  },
  {
   "cell_type": "markdown",
   "id": "940c0ed2",
   "metadata": {},
   "source": [
    "### Now let's do a bit more complex model for multiple linear regression"
   ]
  },
  {
   "cell_type": "code",
   "execution_count": 34,
   "id": "116c7434",
   "metadata": {},
   "outputs": [],
   "source": [
    "# Sample dataset\n",
    "data = {\n",
    "    'Bedrooms': [2, 3, 3, 4, 5, 3, 4, 4, 5, 2],\n",
    "    'SquareFootage': [850, 900, 1200, 1500, 2000, 1100, 1600, 1800, 2100, 800],\n",
    "    'Age': [10, 5, 20, 15, 8, 30, 5, 12, 3, 25],\n",
    "    'Price': [150000, 200000, 230000, 250000, 300000, 220000, 275000, 280000, 320000, 140000]\n",
    "}\n",
    "\n",
    "# Convert to DataFrame\n",
    "df = pd.DataFrame(data)"
   ]
  },
  {
   "cell_type": "code",
   "execution_count": null,
   "id": "51015a8c",
   "metadata": {},
   "outputs": [],
   "source": []
  },
  {
   "cell_type": "markdown",
   "id": "48e9246f",
   "metadata": {},
   "source": [
    "But actually we should split our data into the <b> training and testing </b> sets.\n",
    "\n",
    "Why is that?"
   ]
  },
  {
   "cell_type": "code",
   "execution_count": null,
   "id": "6346e09d",
   "metadata": {},
   "outputs": [],
   "source": []
  },
  {
   "cell_type": "markdown",
   "id": "96e7229c",
   "metadata": {},
   "source": [
    "Using that data we can now evaluate our model better"
   ]
  },
  {
   "cell_type": "code",
   "execution_count": null,
   "id": "fcb41889",
   "metadata": {},
   "outputs": [],
   "source": []
  },
  {
   "cell_type": "markdown",
   "id": "967e79ad",
   "metadata": {},
   "source": [
    "### Let's do even more complex example with a larger dataset of California House Market Prices"
   ]
  },
  {
   "cell_type": "code",
   "execution_count": 35,
   "id": "e9f0ad80",
   "metadata": {},
   "outputs": [],
   "source": [
    "import pandas as pd\n",
    "import numpy as np\n",
    "from sklearn.datasets import fetch_california_housing\n",
    "from sklearn.model_selection import train_test_split\n",
    "from sklearn.linear_model import LinearRegression\n",
    "from sklearn.metrics import mean_squared_error, r2_score\n",
    "\n",
    "# Load the California Housing dataset\n",
    "california = fetch_california_housing()\n",
    "# Convert to DataFrame for easier handling\n",
    "df = pd.DataFrame(california.data, columns=california.feature_names)\n",
    "df['MedHouseVal'] = california.target  # Target variable (median house value)\n"
   ]
  },
  {
   "cell_type": "markdown",
   "id": "7b2df80f",
   "metadata": {},
   "source": [
    "Let's explore the dataset first"
   ]
  },
  {
   "cell_type": "code",
   "execution_count": null,
   "id": "16a6ed8b",
   "metadata": {},
   "outputs": [],
   "source": []
  },
  {
   "cell_type": "markdown",
   "id": "bcf01f91",
   "metadata": {},
   "source": [
    "First we have to define what is the target and what are the features"
   ]
  },
  {
   "cell_type": "code",
   "execution_count": null,
   "id": "3b2defbe",
   "metadata": {},
   "outputs": [],
   "source": []
  },
  {
   "cell_type": "markdown",
   "id": "9ef848f3",
   "metadata": {},
   "source": [
    "Then - split the data"
   ]
  },
  {
   "cell_type": "code",
   "execution_count": null,
   "id": "c583a89b",
   "metadata": {},
   "outputs": [],
   "source": []
  },
  {
   "cell_type": "markdown",
   "id": "a4fe647d",
   "metadata": {},
   "source": [
    "Then, we can analyse data to try understanding it - and using the statistical measures to describe our data."
   ]
  },
  {
   "cell_type": "code",
   "execution_count": null,
   "id": "1fb8f682",
   "metadata": {},
   "outputs": [],
   "source": []
  },
  {
   "cell_type": "markdown",
   "id": "0c5d3210",
   "metadata": {},
   "source": [
    "Finally, we develop, train and evaluate our model:"
   ]
  },
  {
   "cell_type": "code",
   "execution_count": null,
   "id": "1fe80a68",
   "metadata": {},
   "outputs": [],
   "source": []
  },
  {
   "cell_type": "markdown",
   "id": "23e4dd5e",
   "metadata": {},
   "source": [
    "In tasks like this, we also should try to <b> interpret </b> our results. It is very imporant!"
   ]
  },
  {
   "cell_type": "code",
   "execution_count": null,
   "id": "76eea5b6",
   "metadata": {},
   "outputs": [],
   "source": []
  },
  {
   "cell_type": "markdown",
   "id": "618b6039",
   "metadata": {},
   "source": [
    "## Can I use machine learning without knowing Python?\n",
    "\n",
    "<b> Yes! </b> Altough less flexible, there ae many *no-code* platform where you can use ML algorithms without the knowledge of any programming language.\n",
    "\n",
    "These include:\n",
    "\n",
    "AutoML Platforms\n",
    "\n",
    "    Google AutoML, DataRobot, and Microsoft Azure ML offer automated machine learning. You simply upload data, choose the task (like prediction or classification), and let the platform handle the complex model-building process.\n",
    "    \n",
    "No-Code/Low-Code ML Platforms\n",
    "\n",
    "    Teachable Machine by Google and Lobe enable users to train image or audio recognition models without writing code. Just upload examples, and the tool manages the rest.\n",
    "    \n",
    "ML in Business Intelligence Tools\n",
    "\n",
    "    Microsoft Power BI and Tableau now integrate ML for tasks like forecasting and anomaly detection. Users can apply ML insights directly to data within the BI platform through intuitive menu options and settings.\n",
    "    \n",
    "Graphical ML Software\n",
    "\n",
    "    Tools like KNIME, RapidMiner, and Orange use drag-and-drop interfaces where each component represents an ML task (data input, model training, etc.). Connect components to design workflows, explore data, and build models visually.\n",
    "    \n",
    "    \n",
    "<b> However, important is to understand how machine learning works - and this course aims at providing you with this knowledge </b> Without this, using no-code platforms is just blind experimentation."
   ]
  }
 ],
 "metadata": {
  "kernelspec": {
   "display_name": "Python 3 (ipykernel)",
   "language": "python",
   "name": "python3"
  },
  "language_info": {
   "codemirror_mode": {
    "name": "ipython",
    "version": 3
   },
   "file_extension": ".py",
   "mimetype": "text/x-python",
   "name": "python",
   "nbconvert_exporter": "python",
   "pygments_lexer": "ipython3",
   "version": "3.9.12"
  }
 },
 "nbformat": 4,
 "nbformat_minor": 5
}
