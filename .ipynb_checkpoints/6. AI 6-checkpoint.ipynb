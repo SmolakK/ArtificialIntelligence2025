{
 "cells": [
  {
   "cell_type": "markdown",
   "id": "162f64b1",
   "metadata": {},
   "source": [
    "# Lecture 6: Advanced regression in Python and Ethics in Machine Learning\n",
    "\n",
    "# Advanced regression: Practical approach in Python\n",
    "\n",
    "First, let's start with practical approach to doing advanced regression in Python.\n",
    "\n",
    "First, we will start with a Polynomial Regression method:\n",
    "\n",
    "## Polynomial regression\n",
    "\n",
    "*What It Is*: Polynomial regression extends linear regression by adding combinations of the original features. For example, instead of just fitting a line, it might fit a curve by adding squared terms (e.g., X2) or even higher powers.\n",
    "\n",
    "*How It Works*: In polynomial regression, we create new “features” by raising the original feature values to higher powers. These new features allow the model to bend and fit data that follows a non-linear trend.\n",
    "\n",
    "*Example*: Imagine predicting the height of a plant over time. Initially, growth might be slow, then accelerate, and eventually level off. Linear regression might not fit this data well, but polynomial regression can create a curve that better matches the plant’s growth pattern."
   ]
  },
  {
   "cell_type": "code",
   "execution_count": 1,
   "id": "9f97926c",
   "metadata": {},
   "outputs": [
    {
     "name": "stdout",
     "output_type": "stream",
     "text": [
      "Mean Squared Error (MSE): 0.309\n",
      "R² Score: 0.285\n"
     ]
    },
    {
     "data": {
      "text/plain": [
       "<matplotlib.legend.Legend at 0x214762a6eb0>"
      ]
     },
     "execution_count": 1,
     "metadata": {},
     "output_type": "execute_result"
    },
    {
     "data": {
      "image/png": "[encoded data removed]",
      "text/plain": [
       "<Figure size 720x432 with 1 Axes>"
      ]
     },
     "metadata": {
      "needs_background": "light"
     },
     "output_type": "display_data"
    }
   ],
   "source": [
    "# Import necessary libraries\n",
    "import numpy as np\n",
    "import matplotlib.pyplot as plt\n",
    "from sklearn.linear_model import LinearRegression\n",
    "from sklearn.preprocessing import PolynomialFeatures\n",
    "from sklearn.metrics import mean_squared_error, r2_score\n",
    "\n",
    "# Generate synthetic data with a non-linear relationship\n",
    "np.random.seed(42)\n",
    "X = np.sort(np.random.rand(50, 1) * 1, axis=0)  # Feature values between 0 and 10\n",
    "y = np.sin(5.3 * X.squeeze() + 1.95 * X.squeeze() ** 2) + np.random.normal(0, 0.04, X.shape[0])  # Quadratic relationship with noise\n",
    "\n",
    "\n",
    "# Polynomial transformation\n",
    "degree = 1  # Degree of the polynomial (e.g., quadratic)\n",
    "poly_features = PolynomialFeatures(degree=degree)\n",
    "X_poly = poly_features.fit_transform(X)\n",
    "\n",
    "# Fit linear regression on the transformed polynomial features\n",
    "model = LinearRegression()\n",
    "model.fit(X_poly, y)\n",
    "y_pred = model.predict(X_poly)\n",
    "\n",
    "# Calculate performance metrics\n",
    "mse = mean_squared_error(y, y_pred)\n",
    "r2 = r2_score(y, y_pred)\n",
    "print(f\"Mean Squared Error (MSE): {mse:.3f}\")\n",
    "print(f\"R² Score: {r2:.3f}\")\n",
    "\n",
    "# Visualize the polynomial regression fit\n",
    "plt.figure(figsize=(10, 6))\n",
    "plt.scatter(X, y, color='blue', label=\"Data points\")\n",
    "plt.plot(X, y_pred, color='red', linewidth=2, label=f\"Polynomial Regression (Degree {degree})\")\n",
    "plt.title(f\"Polynomial Regression Fit (Degree {degree})\")\n",
    "plt.xlabel(\"Feature (X)\")\n",
    "plt.ylabel(\"Target (y)\")\n",
    "plt.legend()\n"
   ]
  },
  {
   "cell_type": "markdown",
   "id": "7c393a4d",
   "metadata": {},
   "source": [
    "So, let's code this in practice, from the scratch.\n",
    "\n",
    "First, let's see our data:"
   ]
  },
  {
   "cell_type": "code",
   "execution_count": 3,
   "id": "bff5df7d",
   "metadata": {},
   "outputs": [],
   "source": [
    "np.random.seed(42)\n",
    "X = np.sort(np.random.rand(50, 1) * 1, axis=0)  # Feature values between 0 and 10\n",
    "y = np.sin(5.3 * X.squeeze() + 1.95 * X.squeeze() ** 2) + np.random.normal(0, 0.04, X.shape[0])  # Quadratic relationship with noise"
   ]
  },
  {
   "cell_type": "markdown",
   "id": "58c9c8fe",
   "metadata": {},
   "source": [
    "Let's plot it:"
   ]
  },
  {
   "cell_type": "code",
   "execution_count": null,
   "id": "f85effad",
   "metadata": {},
   "outputs": [],
   "source": []
  },
  {
   "cell_type": "markdown",
   "id": "5168b370",
   "metadata": {},
   "source": [
    "There is a trick to get PolynomialRegression:"
   ]
  },
  {
   "cell_type": "code",
   "execution_count": null,
   "id": "2cd040b7",
   "metadata": {},
   "outputs": [],
   "source": []
  },
  {
   "cell_type": "markdown",
   "id": "9ad5f721",
   "metadata": {},
   "source": [
    "After that, we proceed as we would like proceed with a standard Linear Regression."
   ]
  },
  {
   "cell_type": "code",
   "execution_count": null,
   "id": "83c6275a",
   "metadata": {},
   "outputs": [],
   "source": []
  },
  {
   "cell_type": "markdown",
   "id": "cdafb1fa",
   "metadata": {},
   "source": [
    "## Advanced models\n",
    "\n",
    "Let's now get familiar with some advanced regression models.\n",
    "\n",
    "We'll do a little experiment, applying these models on the California Housing dataset and trying to find the best algorithm to do that task for us.\n",
    "\n",
    "First, let's apply Polynomial Regression to this dataset.\n",
    "\n",
    "We got our dataset:"
   ]
  },
  {
   "cell_type": "code",
   "execution_count": 4,
   "id": "04ac0285",
   "metadata": {},
   "outputs": [],
   "source": [
    "import pandas as pd # pandas\n",
    "import numpy as np # numpy\n",
    "from sklearn.datasets import fetch_california_housing\n",
    "from sklearn.model_selection import train_test_split\n",
    "from sklearn.linear_model import LinearRegression\n",
    "from sklearn.metrics import mean_squared_error, r2_score\n",
    "\n",
    "# Load the California Housing dataset\n",
    "california = fetch_california_housing()\n",
    "# Convert to DataFrame for easier handling\n",
    "df = pd.DataFrame(california.data, columns=california.feature_names)\n",
    "df['MedHouseVal'] = california.target  # Target variable (median house value)\n"
   ]
  },
  {
   "cell_type": "markdown",
   "id": "bf0de0a2",
   "metadata": {},
   "source": [
    "Now, let's implement the model"
   ]
  },
  {
   "cell_type": "code",
   "execution_count": null,
   "id": "683d0700",
   "metadata": {},
   "outputs": [],
   "source": []
  },
  {
   "cell_type": "markdown",
   "id": "2351a954",
   "metadata": {},
   "source": [
    "## Okay, now let's go with advanced models!\n",
    "\n",
    "### Support Vector Regression (SVR)\n",
    "\n",
    "Support Vector Regression (SVR) is an algorithm based on the principles of Support Vector Machines (SVM), used for regression. The goal of SVR is to find a line, curve, or surface that best maps the relationship between the input and output variables. Here are the key aspects of how SVR works:\n",
    "\n",
    "Support vectors refer to the use of the \"most important\" points to fit the model.\n",
    "\n",
    "#### Epsilon-Tube Principle\n",
    "\n",
    "SVR does not try to exactly fit the model to every data point. Instead, it defines a certain margin of error, called epsilon (ε), within which the model tolerates differences between the predicted and actual values.\n",
    "\n",
    "    If a data point lies within this margin, it is considered \"well fitted\" and does not affect the final solution.\n",
    "    Points outside the margin (lying outside the epsilon-tube) contribute to the error and are penalized in the cost function.\n",
    "\n",
    "#### Optimization and Margins\n",
    "\n",
    "The goal of SVR is to find a line/curve/surface that:\n",
    "\n",
    "    Minimizes deviation from the data while allowing for ε tolerance.\n",
    "    Maximizes the flatness of the function, which means regularization.\n",
    "\n",
    "The optimization formula in SVR takes into account two aspects:\n",
    "\n",
    "    Minimizing ||w||² (restricting the model to be simple).\n",
    "    Minimizing errors for points outside the epsilon-tube (difficult-to-predict points are penalized proportionally to their distance from the margin).\n",
    "\n",
    "#### Penalty for Deviations - Parameter C\n",
    "\n",
    "The parameter C controls the trade-off between fitting the model to the data and its overall complexity:\n",
    "\n",
    "    Low C: The model is more flexible, allowing for larger errors, which may result in underfitting.\n",
    "    High C: The model tries harder to fit the training data, which may lead to overfitting.\n",
    "\n",
    "#### Kernel and Feature Space\n",
    "\n",
    "SVR can work with nonlinear data thanks to the so-called kernel tricks:\n",
    "\n",
    "    A kernel transforms the data into a higher-dimensional space where a linear hyperplane (e.g., a regression line) can be more easily found.\n",
    "\n",
    "#### Popular kernels include:\n",
    "\n",
    "    Linear (simple linear regression)\n",
    "    Polynomial (polynomial model)\n",
    "    RBF (nonlinear model with a radial basis function, suitable for complex data)\n",
    "\n",
    "#### Epsilon and Cost Function\n",
    "\n",
    "The parameter ε (epsilon) defines the width of the tolerance margin:\n",
    "\n",
    "    Smaller epsilon: The model strives to fit the data more closely, which may result in overfitting.\n",
    "    Larger epsilon: The model is more tolerant of errors and ignores minor deviations."
   ]
  },
  {
   "cell_type": "code",
   "execution_count": 5,
   "id": "0a44641c",
   "metadata": {},
   "outputs": [
    {
     "data": {
      "application/vnd.jupyter.widget-view+json": {
       "model_id": "2ef09abc675c4e0097b449c6e8b87ac1",
       "version_major": 2,
       "version_minor": 0
      },
      "text/plain": [
       "interactive(children=(FloatSlider(value=1.0, description='C', min=0.1), FloatSlider(value=0.1, description='ep…"
      ]
     },
     "metadata": {},
     "output_type": "display_data"
    },
    {
     "data": {
      "text/plain": [
       "<function __main__.plot_svr(C=1.0, epsilon=0.1, kernel='rbf')>"
      ]
     },
     "execution_count": 5,
     "metadata": {},
     "output_type": "execute_result"
    }
   ],
   "source": [
    "import numpy as np\n",
    "import matplotlib.pyplot as plt\n",
    "from sklearn.svm import SVR\n",
    "from ipywidgets import interact\n",
    "\n",
    "# Generate synthetic data\n",
    "np.random.seed(42)\n",
    "X = np.sort(5 * np.random.rand(50, 1), axis=0)\n",
    "y = X.ravel() + 4 * (0.5 - np.random.rand(50))\n",
    "\n",
    "# Function to plot SVR with interactive controls\n",
    "def plot_svr(C=1.0, epsilon=0.1, kernel='rbf'):\n",
    "    # Train SVR model\n",
    "    svr = SVR(kernel=kernel, C=C, epsilon=epsilon)\n",
    "    svr.fit(X, y)\n",
    "    \n",
    "    # Generate predictions\n",
    "    X_fit = np.linspace(0, 5, 500).reshape(-1, 1)\n",
    "    y_fit = svr.predict(X_fit)\n",
    "    \n",
    "    # Plot data and SVR predictions\n",
    "    plt.figure(figsize=(10, 6))\n",
    "    plt.scatter(X, y, color='red', label='Data points')\n",
    "    plt.plot(X_fit, y_fit, color='blue', label='SVR prediction')\n",
    "    plt.fill_between(\n",
    "        X_fit.ravel(),\n",
    "        y_fit - epsilon,\n",
    "        y_fit + epsilon,\n",
    "        color='blue',\n",
    "        alpha=0.2,\n",
    "        label=f\"Epsilon-tube (ε={epsilon})\"\n",
    "    )\n",
    "    plt.title(f\"Support Vector Regression (Kernel: {kernel}, C={C}, ε={epsilon})\")\n",
    "    plt.xlabel(\"X\")\n",
    "    plt.ylabel(\"y\")\n",
    "    plt.legend()\n",
    "    plt.show()\n",
    "\n",
    "# Create interactive widget\n",
    "interact(\n",
    "    plot_svr,\n",
    "    C=(0.1, 100.0, 0.1),\n",
    "    epsilon=(0.01, 1.0, 0.01),\n",
    "    kernel=['linear', 'poly', 'rbf']\n",
    ")\n"
   ]
  },
  {
   "cell_type": "code",
   "execution_count": 6,
   "id": "d41b8fa8",
   "metadata": {},
   "outputs": [
    {
     "data": {
      "application/vnd.jupyter.widget-view+json": {
       "model_id": "ace9c532c99f4d8bb1f90b25126b2c2c",
       "version_major": 2,
       "version_minor": 0
      },
      "text/plain": [
       "interactive(children=(FloatSlider(value=1.0, description='C', max=10000.0, min=0.1), FloatSlider(value=0.1, de…"
      ]
     },
     "metadata": {},
     "output_type": "display_data"
    },
    {
     "data": {
      "text/plain": [
       "<function __main__.plot_svr(C=1.0, epsilon=0.1, kernel='rbf')>"
      ]
     },
     "execution_count": 6,
     "metadata": {},
     "output_type": "execute_result"
    }
   ],
   "source": [
    "import numpy as np\n",
    "import matplotlib.pyplot as plt\n",
    "from sklearn.svm import SVR\n",
    "from ipywidgets import interact\n",
    "\n",
    "# Generate synthetic data\n",
    "np.random.seed(42)\n",
    "X = np.sort(5 * np.random.rand(50, 1), axis=0)\n",
    "y = np.sin(X).ravel() + 0.3 * (0.5 - np.random.rand(50))\n",
    "\n",
    "# Function to plot SVR with interactive controls\n",
    "def plot_svr(C=1.0, epsilon=0.1, kernel='rbf'):\n",
    "    # Train SVR model\n",
    "    svr = SVR(kernel=kernel, C=C, epsilon=epsilon)\n",
    "    svr.fit(X, y)\n",
    "    \n",
    "    # Generate predictions\n",
    "    X_fit = np.linspace(0, 5, 500).reshape(-1, 1)\n",
    "    y_fit = svr.predict(X_fit)\n",
    "    \n",
    "    # Plot data and SVR predictions\n",
    "    plt.figure(figsize=(10, 6))\n",
    "    plt.scatter(X, y, color='red', label='Data points')\n",
    "    plt.plot(X_fit, y_fit, color='blue', label='SVR prediction')\n",
    "    plt.fill_between(\n",
    "        X_fit.ravel(),\n",
    "        y_fit - epsilon,\n",
    "        y_fit + epsilon,\n",
    "        color='blue',\n",
    "        alpha=0.2,\n",
    "        label=f\"Epsilon-tube (ε={epsilon})\"\n",
    "    )\n",
    "    plt.title(f\"Support Vector Regression (Kernel: {kernel}, C={C}, ε={epsilon})\")\n",
    "    plt.xlabel(\"X\")\n",
    "    plt.ylabel(\"y\")\n",
    "    plt.legend()\n",
    "    plt.show()\n",
    "\n",
    "# Create interactive widget\n",
    "interact(\n",
    "    plot_svr,\n",
    "    C=(0.1, 10000.0, 0.1),\n",
    "    epsilon=(0.01, 10.0, 0.01),\n",
    "    kernel=['linear', 'poly', 'rbf']\n",
    ")\n"
   ]
  },
  {
   "cell_type": "code",
   "execution_count": null,
   "id": "c28144ae",
   "metadata": {},
   "outputs": [],
   "source": []
  },
  {
   "cell_type": "markdown",
   "id": "d90ab962",
   "metadata": {},
   "source": [
    "# **k-Nearest Neighbors Regression (k-NN Regression)**\n",
    "\n",
    "k-Nearest Neighbors Regression (k-NN Regression) is a simple yet powerful machine learning algorithm that uses distances between data points to predict continuous values. It is a non-parametric method, meaning it does not assume a specific form of the relationship between features and target values.\n",
    "\n",
    "---\n",
    "\n",
    "## **How Does k-NN Work in Regression?**\n",
    "\n",
    "1. **Training Data Collection**:\n",
    "   - The algorithm memorizes all the training data and does not build any preliminary model.\n",
    "\n",
    "2. **For a New Sample (Test Point)**:\n",
    "   - **Step 1**: Compute the distances between the new sample and all points in the training set.\n",
    "     - Commonly used distance metrics are:\n",
    "       - **Euclidean Distance**:\n",
    "         $$\n",
    "         d(x, x') = \\sqrt{\\sum_{i=1}^n (x_i - x'_i)^2}\n",
    "         $$\n",
    "       - **Manhattan Distance**:\n",
    "         $$\n",
    "         d(x, x') = \\sum_{i=1}^n |x_i - x'_i|\n",
    "         $$\n",
    "   - **Step 2**: Select the \\( k \\) nearest neighbors (smallest distances) to the test point.\n",
    "\n",
    "3. **Predicting the Target Value**:\n",
    "   - The predicted value for the test point is the **mean target value \\( y \\)** of the nearest neighbors:\n",
    "     $$\n",
    "     \\hat{y} = \\frac{1}{k} \\sum_{i=1}^k y_i\n",
    "     $$\n",
    "   - Weighted averages can also be used, where closer neighbors have a larger influence on the result:\n",
    "     $$\n",
    "     \\hat{y} = \\frac{\\sum_{i=1}^k w_i \\cdot y_i}{\\sum_{i=1}^k w_i}\n",
    "     $$\n",
    "     where \\( w_i \\) is the inverse of the distance to the neighbor \\( w_i = \\frac{1}{d(x, x'_i) + \\epsilon} \\), and \\( \\epsilon \\) is a small value to avoid division by zero.\n",
    "\n",
    "4. **Repeat for All Test Points**:\n",
    "   - The algorithm performs the above steps for each sample in the test set.\n",
    "\n",
    "---\n",
    "\n",
    "## **k-NN Hyperparameters**\n",
    "\n",
    "1. **Number of Neighbors \\( k \\)**:\n",
    "   - **Small \\( k \\)**:\n",
    "     - The model is more sensitive to noise in the data (prone to overfitting).\n",
    "   - **Large \\( k \\)**:\n",
    "     - The model averages values over a broader range, which may lead to underfitting.\n",
    "\n",
    "2. **Distance Metric**:\n",
    "   - The most commonly used metric is Euclidean distance, but others like Manhattan, Minkowski, or specialized metrics can be applied.\n",
    "\n",
    "3. **Neighbor Weights**:\n",
    "   - By default, all neighbors have equal weights.\n",
    "   - Distance-based weights can be used so that closer neighbors have a greater influence.\n",
    "\n",
    "---\n",
    "\n",
    "## **Advantages of k-NN Regression**\n",
    "\n",
    "1. **Simplicity**:\n",
    "   - The algorithm is easy to understand and implement.\n",
    "\n",
    "2. **Flexibility**:\n",
    "   - Works well with data having complex and non-linear relationships.\n",
    "\n",
    "3. **No Assumptions**:\n",
    "   - Does not require any prior assumptions about the data distribution.\n",
    "\n",
    "---\n",
    "\n",
    "## **Disadvantages of k-NN Regression**\n",
    "\n",
    "1. **Computational Cost**:\n",
    "   - The algorithm requires distance computations for all points in the training set for each test sample, which can be expensive for large datasets.\n",
    "\n",
    "2. **Sensitivity to Data**:\n",
    "   - Sensitive to noise and outliers, especially for small \\( k \\).\n",
    "\n",
    "3. **Scaling Issues**:\n",
    "   - The algorithm is sensitive to differences in the scale of features, so standardization or normalization of data is usually necessary.\n"
   ]
  },
  {
   "cell_type": "code",
   "execution_count": 7,
   "id": "f0550eb4",
   "metadata": {},
   "outputs": [
    {
     "data": {
      "application/vnd.jupyter.widget-view+json": {
       "model_id": "1f20b4b7fb9d4d4682e741f66acc1779",
       "version_major": 2,
       "version_minor": 0
      },
      "text/plain": [
       "interactive(children=(IntSlider(value=3, description='k (Neighbors)', max=20, min=1), RadioButtons(description…"
      ]
     },
     "metadata": {},
     "output_type": "display_data"
    },
    {
     "data": {
      "text/plain": [
       "<function __main__.interactive_knn(n_neighbors=3, weights='uniform')>"
      ]
     },
     "execution_count": 7,
     "metadata": {},
     "output_type": "execute_result"
    }
   ],
   "source": [
    "import numpy as np\n",
    "import matplotlib.pyplot as plt\n",
    "from sklearn.datasets import make_regression\n",
    "from sklearn.neighbors import KNeighborsRegressor\n",
    "from sklearn.metrics import mean_squared_error\n",
    "import ipywidgets as widgets\n",
    "from ipywidgets import interact\n",
    "\n",
    "# Generate synthetic dataset\n",
    "X, y = make_regression(n_samples=200, n_features=1, noise=20, random_state=42)\n",
    "X_train, X_test = X[:160], X[160:]\n",
    "y_train, y_test = y[:160], y[160:]\n",
    "\n",
    "# Interactive function for k-NN\n",
    "def interactive_knn(n_neighbors=3, weights='uniform'):\n",
    "    # Train k-NN regressor\n",
    "    knn = KNeighborsRegressor(n_neighbors=n_neighbors, weights=weights, p=1)\n",
    "    knn.fit(X_train, y_train)\n",
    "    \n",
    "    # Predict on test set\n",
    "    y_pred = knn.predict(X_test)\n",
    "    \n",
    "    # Calculate MSE\n",
    "    mse = mean_squared_error(y_test, y_pred)\n",
    "    \n",
    "    # Plot training data, test data, and predictions\n",
    "    plt.figure(figsize=(12, 6))\n",
    "    \n",
    "    # Scatter plot of training and test data\n",
    "    plt.scatter(X_train, y_train, label=\"Training Data\", color='blue', alpha=0.7)\n",
    "    plt.scatter(X_test, y_test, label=\"Test Data\", color='orange', alpha=0.7)\n",
    "    \n",
    "    # Line plot of predictions\n",
    "    X_range = np.linspace(X.min(), X.max(), 500).reshape(-1, 1)\n",
    "    y_pred_range = knn.predict(X_range)\n",
    "    plt.plot(X_range, y_pred_range, color='red', label=\"k-NN Predictions\", linewidth=2)\n",
    "    \n",
    "    # Titles and labels\n",
    "    plt.title(f\"k-NN Regression (k={n_neighbors}, weights='{weights}')\\nMSE: {mse:.2f}\")\n",
    "    plt.xlabel(\"Feature\")\n",
    "    plt.ylabel(\"Target\")\n",
    "    plt.legend()\n",
    "    plt.grid(True)\n",
    "    plt.show()\n",
    "\n",
    "# Interactive widgets for k and weights\n",
    "interact(\n",
    "    interactive_knn,\n",
    "    n_neighbors=widgets.IntSlider(min=1, max=20, step=1, value=3, description='k (Neighbors)'),\n",
    "    weights=widgets.RadioButtons(\n",
    "        options=['uniform', 'distance'],\n",
    "        value='uniform',\n",
    "        description='Weights:'\n",
    "    )\n",
    ")\n"
   ]
  },
  {
   "cell_type": "markdown",
   "id": "de9a472a",
   "metadata": {},
   "source": [
    "# **Decision Trees**\n",
    "\n",
    "Decision trees are a popular machine learning algorithm that can be used for both classification and regression tasks. For regression, decision trees are employed to predict continuous values, making them a powerful tool for modeling data with nonlinear and complex relationships.\n",
    "\n",
    "---\n",
    "\n",
    "## **Structure of a Decision Tree**\n",
    "\n",
    "A decision tree is a diagram-like structure where data is split based on logical conditions, forming nodes and branches.\n",
    "\n",
    "- **Root Node**: The starting point, containing all input data.\n",
    "- **Decision Nodes**: Points where the data is split based on a specific condition (e.g., the feature that best explains the data at that point).\n",
    "- **Leaves**: Terminal nodes representing the predicted value in the case of regression.\n",
    "\n",
    "---\n",
    "\n",
    "## **Regression Using Decision Trees**\n",
    "\n",
    "### Data Splitting - The Learning Process\n",
    "\n",
    "The tree iteratively splits the input data into subsets based on a chosen feature and condition that minimizes prediction error.\n",
    "\n",
    "- For example: \"Apartment area > 50m² → yes or no\" divides the data into two subsets, each with a specific predicted value.\n",
    "\n",
    "Metrics such as Mean Squared Error (MSE) or Mean Absolute Error (MAE) are used to determine the best split.\n",
    "\n",
    "- **Splitting Criterion**: The difference between the actual value and the mean value in the resulting subgroup.\n",
    "\n",
    "The algorithm continues splitting until it reaches a stopping criterion, such as:\n",
    "\n",
    "- Minimum number of samples in a leaf,\n",
    "- Maximum depth of the tree,\n",
    "- No further improvement in error.\n",
    "\n",
    "---\n",
    "\n",
    "### Prediction\n",
    "\n",
    "The predicted value at a leaf node is the mean of the target values in that data subset.\n",
    "\n",
    "---\n",
    "\n",
    "## **Advantages**\n",
    "\n",
    "- Trees are very simple to use and intuitive.\n",
    "- They handle highly nonlinear relationships effectively.\n",
    "- No need for data scaling.\n",
    "\n",
    "---\n",
    "\n",
    "## **Disadvantages**\n",
    "\n",
    "- Trees are prone to overfitting.\n",
    "- Predictions are averages, leading to step-like outputs.\n",
    "\n",
    "---\n",
    "\n",
    "## **When to Use Decision Trees**\n",
    "\n",
    "- When the data is highly nonlinear.\n",
    "- When model interpretability is crucial.\n",
    "- When there are complex interactions between features that are difficult to model with methods like polynomial regression.\n"
   ]
  },
  {
   "cell_type": "code",
   "execution_count": 8,
   "id": "47d61c8e",
   "metadata": {},
   "outputs": [
    {
     "data": {
      "application/vnd.jupyter.widget-view+json": {
       "model_id": "96a08415d3bd48cca2efb6ef03ae6a04",
       "version_major": 2,
       "version_minor": 0
      },
      "text/plain": [
       "interactive(children=(IntSlider(value=3, description='Max Depth', max=10, min=1), IntSlider(value=2, descripti…"
      ]
     },
     "metadata": {},
     "output_type": "display_data"
    },
    {
     "data": {
      "text/plain": [
       "<function __main__.interactive_tree_with_plot(max_depth=3, min_samples_split=2, min_samples_leaf=1)>"
      ]
     },
     "execution_count": 8,
     "metadata": {},
     "output_type": "execute_result"
    }
   ],
   "source": [
    "from sklearn.tree import DecisionTreeRegressor\n",
    "from sklearn.model_selection import train_test_split\n",
    "\n",
    "# Import additional library for tree visualization\n",
    "from sklearn.tree import plot_tree\n",
    "\n",
    "# Adjust interactive function to include tree visualization\n",
    "def interactive_tree_with_plot(max_depth=3, min_samples_split=2, min_samples_leaf=1):\n",
    "    # Train the Decision Tree Regressor with selected hyperparameters\n",
    "    regressor = DecisionTreeRegressor(\n",
    "        max_depth=max_depth, \n",
    "        min_samples_split=min_samples_split, \n",
    "        min_samples_leaf=min_samples_leaf,\n",
    "        random_state=42\n",
    "    )\n",
    "    regressor.fit(X_train, y_train)\n",
    "    \n",
    "    # Predict on the training and test set\n",
    "    y_pred_train = regressor.predict(X_train)\n",
    "    y_pred_test = regressor.predict(X_test)\n",
    "    \n",
    "    # Calculate Mean Squared Error\n",
    "    train_mse = mean_squared_error(y_train, y_pred_train)\n",
    "    test_mse = mean_squared_error(y_test, y_pred_test)\n",
    "    \n",
    "    # Create subplots for predictions and tree structure\n",
    "    fig, axs = plt.subplots(2, 1, figsize=(15, 10))\n",
    "    \n",
    "    # Plot the data and the regression tree predictions\n",
    "    X_range = np.linspace(X.min(), X.max(), 500).reshape(-1, 1)\n",
    "    y_pred_range = regressor.predict(X_range)\n",
    "    \n",
    "    axs[0].scatter(X_train, y_train, color='blue', label='Training Data', alpha=0.6)\n",
    "    axs[0].scatter(X_test, y_test, color='orange', label='Test Data', alpha=0.6)\n",
    "    axs[0].plot(X_range, y_pred_range, color='red', label='Tree Prediction', linewidth=2)\n",
    "    axs[0].set_title(f\"Decision Tree Regressor\\nTrain MSE: {train_mse:.2f}, Test MSE: {test_mse:.2f}\")\n",
    "    axs[0].set_xlabel(\"Feature\")\n",
    "    axs[0].set_ylabel(\"Target\")\n",
    "    axs[0].legend()\n",
    "    axs[0].grid(True)\n",
    "    \n",
    "    # Visualize the decision tree structure\n",
    "    plot_tree(regressor, filled=True, feature_names=[\"Feature\"], ax=axs[1])\n",
    "    axs[1].set_title(\"Decision Tree Structure\")\n",
    "    \n",
    "    plt.tight_layout()\n",
    "    plt.show()\n",
    "\n",
    "# Interactive widgets for hyperparameters\n",
    "interact(\n",
    "    interactive_tree_with_plot,\n",
    "    max_depth=widgets.IntSlider(min=1, max=10, step=1, value=3, description='Max Depth'),\n",
    "    min_samples_split=widgets.IntSlider(min=2, max=20, step=1, value=2, description='Min Samples Split'),\n",
    "    min_samples_leaf=widgets.IntSlider(min=1, max=10, step=1, value=1, description='Min Samples Leaf')\n",
    ")\n"
   ]
  },
  {
   "cell_type": "code",
   "execution_count": 9,
   "id": "268fec17",
   "metadata": {},
   "outputs": [
    {
     "data": {
      "application/vnd.jupyter.widget-view+json": {
       "model_id": "0266ff5b19a04664bb088f4b39690154",
       "version_major": 2,
       "version_minor": 0
      },
      "text/plain": [
       "interactive(children=(IntSlider(value=3, description='Max Depth', max=10, min=1), IntSlider(value=2, descripti…"
      ]
     },
     "metadata": {},
     "output_type": "display_data"
    },
    {
     "data": {
      "text/plain": [
       "<function __main__.interactive_tree_with_plot_nonlinear(max_depth=3, min_samples_split=2, min_samples_leaf=1)>"
      ]
     },
     "execution_count": 9,
     "metadata": {},
     "output_type": "execute_result"
    }
   ],
   "source": [
    "# Generate a more non-linear dataset\n",
    "np.random.seed(42)\n",
    "X_nl = np.sort(np.random.rand(200, 1) * 10, axis=0)  # Random values between 0 and 10\n",
    "y_nl = np.sin(X_nl).ravel() + np.random.normal(0, 0.2, X_nl.shape[0])  # Sinusoidal with noise\n",
    "\n",
    "# Split into training and testing sets\n",
    "X_train_nl, X_test_nl, y_train_nl, y_test_nl = train_test_split(X_nl, y_nl, test_size=0.2, random_state=42)\n",
    "\n",
    "# Interactive function for non-linear example\n",
    "def interactive_tree_with_plot_nonlinear(max_depth=3, min_samples_split=2, min_samples_leaf=1):\n",
    "    # Train the Decision Tree Regressor with selected hyperparameters\n",
    "    regressor = DecisionTreeRegressor(\n",
    "        max_depth=max_depth, \n",
    "        min_samples_split=min_samples_split, \n",
    "        min_samples_leaf=min_samples_leaf,\n",
    "        random_state=42\n",
    "    )\n",
    "    regressor.fit(X_train_nl, y_train_nl)\n",
    "    \n",
    "    # Predict on the training and test set\n",
    "    y_pred_train_nl = regressor.predict(X_train_nl)\n",
    "    y_pred_test_nl = regressor.predict(X_test_nl)\n",
    "    \n",
    "    # Calculate Mean Squared Error\n",
    "    train_mse = mean_squared_error(y_train_nl, y_pred_train_nl)\n",
    "    test_mse = mean_squared_error(y_test_nl, y_pred_test_nl)\n",
    "    \n",
    "    # Create subplots for predictions and tree structure\n",
    "    fig, axs = plt.subplots(2, 1, figsize=(18, 16))\n",
    "    \n",
    "    # Plot the data and the regression tree predictions\n",
    "    X_range = np.linspace(X_nl.min(), X_nl.max(), 500).reshape(-1, 1)\n",
    "    y_pred_range = regressor.predict(X_range)\n",
    "    \n",
    "    axs[0].scatter(X_train_nl, y_train_nl, color='blue', label='Training Data', alpha=0.6)\n",
    "    axs[0].scatter(X_test_nl, y_test_nl, color='orange', label='Test Data', alpha=0.6)\n",
    "    axs[0].plot(X_range, y_pred_range, color='red', label='Tree Prediction', linewidth=2)\n",
    "    axs[0].set_title(f\"Decision Tree Regressor (Non-Linear Example)\\nTrain MSE: {train_mse:.2f}, Test MSE: {test_mse:.2f}\")\n",
    "    axs[0].set_xlabel(\"Feature\")\n",
    "    axs[0].set_ylabel(\"Target\")\n",
    "    axs[0].legend()\n",
    "    axs[0].grid(True)\n",
    "    \n",
    "    # Visualize the decision tree structure\n",
    "    plot_tree(regressor, filled=True, feature_names=[\"Feature\"], ax=axs[1])\n",
    "    axs[1].set_title(\"Decision Tree Structure\")\n",
    "    \n",
    "    plt.tight_layout()\n",
    "    plt.show()\n",
    "\n",
    "# Interactive widgets for hyperparameters\n",
    "interact(\n",
    "    interactive_tree_with_plot_nonlinear,\n",
    "    max_depth=widgets.IntSlider(min=1, max=10, step=1, value=3, description='Max Depth'),\n",
    "    min_samples_split=widgets.IntSlider(min=2, max=20, step=1, value=2, description='Min Samples Split'),\n",
    "    min_samples_leaf=widgets.IntSlider(min=1, max=10, step=1, value=1, description='Min Samples Leaf')\n",
    ")\n"
   ]
  },
  {
   "cell_type": "markdown",
   "id": "9bae00f1",
   "metadata": {},
   "source": [
    "## Let's compare how these models perform on our California Housing dataset!"
   ]
  },
  {
   "cell_type": "code",
   "execution_count": null,
   "id": "5d82b1b4",
   "metadata": {},
   "outputs": [],
   "source": []
  }
 ],
 "metadata": {
  "kernelspec": {
   "display_name": "Python 3 (ipykernel)",
   "language": "python",
   "name": "python3"
  },
  "language_info": {
   "codemirror_mode": {
    "name": "ipython",
    "version": 3
   },
   "file_extension": ".py",
   "mimetype": "text/x-python",
   "name": "python",
   "nbconvert_exporter": "python",
   "pygments_lexer": "ipython3",
   "version": "3.9.12"
  }
 },
 "nbformat": 4,
 "nbformat_minor": 5
}
